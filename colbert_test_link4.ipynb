{
  "cells": [
    {
      "cell_type": "markdown",
      "metadata": {
        "id": "view-in-github",
        "colab_type": "text"
      },
      "source": [
        "<a href=\"https://colab.research.google.com/github/NickVoulg02/Information-Retrieval/blob/main/colbert_test_link4.ipynb\" target=\"_parent\"><img src=\"https://colab.research.google.com/assets/colab-badge.svg\" alt=\"Open In Colab\"/></a>"
      ]
    },
    {
      "cell_type": "markdown",
      "metadata": {
        "id": "vTwpDNBnorUT"
      },
      "source": [
        "# ColBERTv2: Indexing & Search Notebook\n",
        "First, we'll import the relevant classes. Note that `Indexer` and `Searcher` are the key actors here. Next, we'll download the necessary dependencies."
      ]
    },
    {
      "cell_type": "code",
      "execution_count": 1,
      "metadata": {
        "colab": {
          "base_uri": "https://localhost:8080/"
        },
        "id": "nl_YBBPTo5AZ",
        "outputId": "60e79bf2-55fb-4419-96e3-a0485110a8c4"
      },
      "outputs": [
        {
          "output_type": "stream",
          "name": "stdout",
          "text": [
            "fatal: cannot change to 'ColBERT/': No such file or directory\n",
            "Cloning into 'ColBERT'...\n",
            "remote: Enumerating objects: 2576, done.\u001b[K\n",
            "remote: Counting objects: 100% (1089/1089), done.\u001b[K\n",
            "remote: Compressing objects: 100% (332/332), done.\u001b[K\n",
            "remote: Total 2576 (delta 853), reused 801 (delta 757), pack-reused 1487\u001b[K\n",
            "Receiving objects: 100% (2576/2576), 2.01 MiB | 14.42 MiB/s, done.\n",
            "Resolving deltas: 100% (1606/1606), done.\n"
          ]
        }
      ],
      "source": [
        "!git -C ColBERT/ pull || git clone https://github.com/stanford-futuredata/ColBERT.git\n",
        "import sys; sys.path.insert(0, 'ColBERT/')\n"
      ]
    },
    {
      "cell_type": "code",
      "execution_count": 2,
      "metadata": {
        "colab": {
          "base_uri": "https://localhost:8080/"
        },
        "id": "FmBi2UT5pxb3",
        "outputId": "0286e6b8-cc13-4f0c-c667-ce4894b5a754"
      },
      "outputs": [
        {
          "output_type": "stream",
          "name": "stdout",
          "text": [
            "Requirement already satisfied: pip in /usr/local/lib/python3.10/dist-packages (23.1.2)\n",
            "Collecting pip\n",
            "  Downloading pip-23.3.2-py3-none-any.whl (2.1 MB)\n",
            "\u001b[2K     \u001b[90m━━━━━━━━━━━━━━━━━━━━━━━━━━━━━━━━━━━━━━━━\u001b[0m \u001b[32m2.1/2.1 MB\u001b[0m \u001b[31m8.8 MB/s\u001b[0m eta \u001b[36m0:00:00\u001b[0m\n",
            "\u001b[?25hInstalling collected packages: pip\n",
            "  Attempting uninstall: pip\n",
            "    Found existing installation: pip 23.1.2\n",
            "    Uninstalling pip-23.1.2:\n",
            "      Successfully uninstalled pip-23.1.2\n",
            "Successfully installed pip-23.3.2\n",
            "Obtaining file:///content/ColBERT\n",
            "  Preparing metadata (setup.py) ... \u001b[?25l\u001b[?25hdone\n",
            "Collecting bitarray (from colbert-ai==0.2.17)\n",
            "  Downloading bitarray-2.9.2-cp310-cp310-manylinux_2_17_x86_64.manylinux2014_x86_64.whl.metadata (34 kB)\n",
            "Collecting datasets (from colbert-ai==0.2.17)\n",
            "  Downloading datasets-2.16.1-py3-none-any.whl.metadata (20 kB)\n",
            "Requirement already satisfied: flask in /usr/local/lib/python3.10/dist-packages (from colbert-ai==0.2.17) (2.2.5)\n",
            "Collecting git-python (from colbert-ai==0.2.17)\n",
            "  Downloading git_python-1.0.3-py2.py3-none-any.whl (1.9 kB)\n",
            "Collecting python-dotenv (from colbert-ai==0.2.17)\n",
            "  Downloading python_dotenv-1.0.0-py3-none-any.whl (19 kB)\n",
            "Collecting ninja (from colbert-ai==0.2.17)\n",
            "  Downloading ninja-1.11.1.1-py2.py3-none-manylinux1_x86_64.manylinux_2_5_x86_64.whl.metadata (5.3 kB)\n",
            "Requirement already satisfied: scipy in /usr/local/lib/python3.10/dist-packages (from colbert-ai==0.2.17) (1.11.4)\n",
            "Requirement already satisfied: spacy in /usr/local/lib/python3.10/dist-packages (from colbert-ai==0.2.17) (3.6.1)\n",
            "Requirement already satisfied: tqdm in /usr/local/lib/python3.10/dist-packages (from colbert-ai==0.2.17) (4.66.1)\n",
            "Requirement already satisfied: transformers in /usr/local/lib/python3.10/dist-packages (from colbert-ai==0.2.17) (4.35.2)\n",
            "Collecting ujson (from colbert-ai==0.2.17)\n",
            "  Downloading ujson-5.9.0-cp310-cp310-manylinux_2_17_x86_64.manylinux2014_x86_64.whl.metadata (8.7 kB)\n",
            "Collecting faiss-gpu>=1.7.0 (from colbert-ai==0.2.17)\n",
            "  Downloading faiss_gpu-1.7.2-cp310-cp310-manylinux_2_17_x86_64.manylinux2014_x86_64.whl (85.5 MB)\n",
            "\u001b[2K     \u001b[90m━━━━━━━━━━━━━━━━━━━━━━━━━━━━━━━━━━━━━━━━\u001b[0m \u001b[32m85.5/85.5 MB\u001b[0m \u001b[31m9.9 MB/s\u001b[0m eta \u001b[36m0:00:00\u001b[0m\n",
            "\u001b[?25hCollecting torch==1.13.1 (from colbert-ai==0.2.17)\n",
            "  Downloading torch-1.13.1-cp310-cp310-manylinux1_x86_64.whl (887.5 MB)\n",
            "\u001b[2K     \u001b[90m━━━━━━━━━━━━━━━━━━━━━━━━━━━━━━━━━━━━━━━━\u001b[0m \u001b[32m887.5/887.5 MB\u001b[0m \u001b[31m2.2 MB/s\u001b[0m eta \u001b[36m0:00:00\u001b[0m\n",
            "\u001b[?25hRequirement already satisfied: typing-extensions in /usr/local/lib/python3.10/dist-packages (from torch==1.13.1->colbert-ai==0.2.17) (4.5.0)\n",
            "Collecting nvidia-cuda-runtime-cu11==11.7.99 (from torch==1.13.1->colbert-ai==0.2.17)\n",
            "  Downloading nvidia_cuda_runtime_cu11-11.7.99-py3-none-manylinux1_x86_64.whl (849 kB)\n",
            "\u001b[2K     \u001b[90m━━━━━━━━━━━━━━━━━━━━━━━━━━━━━━━━━━━━━━━━\u001b[0m \u001b[32m849.3/849.3 kB\u001b[0m \u001b[31m52.3 MB/s\u001b[0m eta \u001b[36m0:00:00\u001b[0m\n",
            "\u001b[?25hCollecting nvidia-cudnn-cu11==8.5.0.96 (from torch==1.13.1->colbert-ai==0.2.17)\n",
            "  Downloading nvidia_cudnn_cu11-8.5.0.96-2-py3-none-manylinux1_x86_64.whl (557.1 MB)\n",
            "\u001b[2K     \u001b[90m━━━━━━━━━━━━━━━━━━━━━━━━━━━━━━━━━━━━━━━━\u001b[0m \u001b[32m557.1/557.1 MB\u001b[0m \u001b[31m3.1 MB/s\u001b[0m eta \u001b[36m0:00:00\u001b[0m\n",
            "\u001b[?25hCollecting nvidia-cublas-cu11==11.10.3.66 (from torch==1.13.1->colbert-ai==0.2.17)\n",
            "  Downloading nvidia_cublas_cu11-11.10.3.66-py3-none-manylinux1_x86_64.whl (317.1 MB)\n",
            "\u001b[2K     \u001b[90m━━━━━━━━━━━━━━━━━━━━━━━━━━━━━━━━━━━━━━━━\u001b[0m \u001b[32m317.1/317.1 MB\u001b[0m \u001b[31m4.5 MB/s\u001b[0m eta \u001b[36m0:00:00\u001b[0m\n",
            "\u001b[?25hCollecting nvidia-cuda-nvrtc-cu11==11.7.99 (from torch==1.13.1->colbert-ai==0.2.17)\n",
            "  Downloading nvidia_cuda_nvrtc_cu11-11.7.99-2-py3-none-manylinux1_x86_64.whl (21.0 MB)\n",
            "\u001b[2K     \u001b[90m━━━━━━━━━━━━━━━━━━━━━━━━━━━━━━━━━━━━━━━━\u001b[0m \u001b[32m21.0/21.0 MB\u001b[0m \u001b[31m86.5 MB/s\u001b[0m eta \u001b[36m0:00:00\u001b[0m\n",
            "\u001b[?25hRequirement already satisfied: setuptools in /usr/local/lib/python3.10/dist-packages (from nvidia-cublas-cu11==11.10.3.66->torch==1.13.1->colbert-ai==0.2.17) (67.7.2)\n",
            "Requirement already satisfied: wheel in /usr/local/lib/python3.10/dist-packages (from nvidia-cublas-cu11==11.10.3.66->torch==1.13.1->colbert-ai==0.2.17) (0.42.0)\n",
            "Requirement already satisfied: filelock in /usr/local/lib/python3.10/dist-packages (from datasets->colbert-ai==0.2.17) (3.13.1)\n",
            "Requirement already satisfied: numpy>=1.17 in /usr/local/lib/python3.10/dist-packages (from datasets->colbert-ai==0.2.17) (1.23.5)\n",
            "Requirement already satisfied: pyarrow>=8.0.0 in /usr/local/lib/python3.10/dist-packages (from datasets->colbert-ai==0.2.17) (10.0.1)\n",
            "Requirement already satisfied: pyarrow-hotfix in /usr/local/lib/python3.10/dist-packages (from datasets->colbert-ai==0.2.17) (0.6)\n",
            "Collecting dill<0.3.8,>=0.3.0 (from datasets->colbert-ai==0.2.17)\n",
            "  Downloading dill-0.3.7-py3-none-any.whl.metadata (9.9 kB)\n",
            "Requirement already satisfied: pandas in /usr/local/lib/python3.10/dist-packages (from datasets->colbert-ai==0.2.17) (1.5.3)\n",
            "Requirement already satisfied: requests>=2.19.0 in /usr/local/lib/python3.10/dist-packages (from datasets->colbert-ai==0.2.17) (2.31.0)\n",
            "Requirement already satisfied: xxhash in /usr/local/lib/python3.10/dist-packages (from datasets->colbert-ai==0.2.17) (3.4.1)\n",
            "Collecting multiprocess (from datasets->colbert-ai==0.2.17)\n",
            "  Downloading multiprocess-0.70.15-py310-none-any.whl.metadata (7.2 kB)\n",
            "Requirement already satisfied: fsspec<=2023.10.0,>=2023.1.0 in /usr/local/lib/python3.10/dist-packages (from fsspec[http]<=2023.10.0,>=2023.1.0->datasets->colbert-ai==0.2.17) (2023.6.0)\n",
            "Requirement already satisfied: aiohttp in /usr/local/lib/python3.10/dist-packages (from datasets->colbert-ai==0.2.17) (3.9.1)\n",
            "Requirement already satisfied: huggingface-hub>=0.19.4 in /usr/local/lib/python3.10/dist-packages (from datasets->colbert-ai==0.2.17) (0.20.2)\n",
            "Requirement already satisfied: packaging in /usr/local/lib/python3.10/dist-packages (from datasets->colbert-ai==0.2.17) (23.2)\n",
            "Requirement already satisfied: pyyaml>=5.1 in /usr/local/lib/python3.10/dist-packages (from datasets->colbert-ai==0.2.17) (6.0.1)\n",
            "Requirement already satisfied: Werkzeug>=2.2.2 in /usr/local/lib/python3.10/dist-packages (from flask->colbert-ai==0.2.17) (3.0.1)\n",
            "Requirement already satisfied: Jinja2>=3.0 in /usr/local/lib/python3.10/dist-packages (from flask->colbert-ai==0.2.17) (3.1.3)\n",
            "Requirement already satisfied: itsdangerous>=2.0 in /usr/local/lib/python3.10/dist-packages (from flask->colbert-ai==0.2.17) (2.1.2)\n",
            "Requirement already satisfied: click>=8.0 in /usr/local/lib/python3.10/dist-packages (from flask->colbert-ai==0.2.17) (8.1.7)\n",
            "Collecting gitpython (from git-python->colbert-ai==0.2.17)\n",
            "  Downloading GitPython-3.1.41-py3-none-any.whl.metadata (14 kB)\n",
            "Requirement already satisfied: spacy-legacy<3.1.0,>=3.0.11 in /usr/local/lib/python3.10/dist-packages (from spacy->colbert-ai==0.2.17) (3.0.12)\n",
            "Requirement already satisfied: spacy-loggers<2.0.0,>=1.0.0 in /usr/local/lib/python3.10/dist-packages (from spacy->colbert-ai==0.2.17) (1.0.5)\n",
            "Requirement already satisfied: murmurhash<1.1.0,>=0.28.0 in /usr/local/lib/python3.10/dist-packages (from spacy->colbert-ai==0.2.17) (1.0.10)\n",
            "Requirement already satisfied: cymem<2.1.0,>=2.0.2 in /usr/local/lib/python3.10/dist-packages (from spacy->colbert-ai==0.2.17) (2.0.8)\n",
            "Requirement already satisfied: preshed<3.1.0,>=3.0.2 in /usr/local/lib/python3.10/dist-packages (from spacy->colbert-ai==0.2.17) (3.0.9)\n",
            "Requirement already satisfied: thinc<8.2.0,>=8.1.8 in /usr/local/lib/python3.10/dist-packages (from spacy->colbert-ai==0.2.17) (8.1.12)\n",
            "Requirement already satisfied: wasabi<1.2.0,>=0.9.1 in /usr/local/lib/python3.10/dist-packages (from spacy->colbert-ai==0.2.17) (1.1.2)\n",
            "Requirement already satisfied: srsly<3.0.0,>=2.4.3 in /usr/local/lib/python3.10/dist-packages (from spacy->colbert-ai==0.2.17) (2.4.8)\n",
            "Requirement already satisfied: catalogue<2.1.0,>=2.0.6 in /usr/local/lib/python3.10/dist-packages (from spacy->colbert-ai==0.2.17) (2.0.10)\n",
            "Requirement already satisfied: typer<0.10.0,>=0.3.0 in /usr/local/lib/python3.10/dist-packages (from spacy->colbert-ai==0.2.17) (0.9.0)\n",
            "Requirement already satisfied: pathy>=0.10.0 in /usr/local/lib/python3.10/dist-packages (from spacy->colbert-ai==0.2.17) (0.11.0)\n",
            "Requirement already satisfied: smart-open<7.0.0,>=5.2.1 in /usr/local/lib/python3.10/dist-packages (from spacy->colbert-ai==0.2.17) (6.4.0)\n",
            "Requirement already satisfied: pydantic!=1.8,!=1.8.1,<3.0.0,>=1.7.4 in /usr/local/lib/python3.10/dist-packages (from spacy->colbert-ai==0.2.17) (1.10.13)\n",
            "Requirement already satisfied: langcodes<4.0.0,>=3.2.0 in /usr/local/lib/python3.10/dist-packages (from spacy->colbert-ai==0.2.17) (3.3.0)\n",
            "Requirement already satisfied: regex!=2019.12.17 in /usr/local/lib/python3.10/dist-packages (from transformers->colbert-ai==0.2.17) (2023.6.3)\n",
            "Requirement already satisfied: tokenizers<0.19,>=0.14 in /usr/local/lib/python3.10/dist-packages (from transformers->colbert-ai==0.2.17) (0.15.0)\n",
            "Requirement already satisfied: safetensors>=0.3.1 in /usr/local/lib/python3.10/dist-packages (from transformers->colbert-ai==0.2.17) (0.4.1)\n",
            "Requirement already satisfied: attrs>=17.3.0 in /usr/local/lib/python3.10/dist-packages (from aiohttp->datasets->colbert-ai==0.2.17) (23.2.0)\n",
            "Requirement already satisfied: multidict<7.0,>=4.5 in /usr/local/lib/python3.10/dist-packages (from aiohttp->datasets->colbert-ai==0.2.17) (6.0.4)\n",
            "Requirement already satisfied: yarl<2.0,>=1.0 in /usr/local/lib/python3.10/dist-packages (from aiohttp->datasets->colbert-ai==0.2.17) (1.9.4)\n",
            "Requirement already satisfied: frozenlist>=1.1.1 in /usr/local/lib/python3.10/dist-packages (from aiohttp->datasets->colbert-ai==0.2.17) (1.4.1)\n",
            "Requirement already satisfied: aiosignal>=1.1.2 in /usr/local/lib/python3.10/dist-packages (from aiohttp->datasets->colbert-ai==0.2.17) (1.3.1)\n",
            "Requirement already satisfied: async-timeout<5.0,>=4.0 in /usr/local/lib/python3.10/dist-packages (from aiohttp->datasets->colbert-ai==0.2.17) (4.0.3)\n",
            "Requirement already satisfied: MarkupSafe>=2.0 in /usr/local/lib/python3.10/dist-packages (from Jinja2>=3.0->flask->colbert-ai==0.2.17) (2.1.3)\n",
            "Requirement already satisfied: pathlib-abc==0.1.1 in /usr/local/lib/python3.10/dist-packages (from pathy>=0.10.0->spacy->colbert-ai==0.2.17) (0.1.1)\n",
            "Requirement already satisfied: charset-normalizer<4,>=2 in /usr/local/lib/python3.10/dist-packages (from requests>=2.19.0->datasets->colbert-ai==0.2.17) (3.3.2)\n",
            "Requirement already satisfied: idna<4,>=2.5 in /usr/local/lib/python3.10/dist-packages (from requests>=2.19.0->datasets->colbert-ai==0.2.17) (3.6)\n",
            "Requirement already satisfied: urllib3<3,>=1.21.1 in /usr/local/lib/python3.10/dist-packages (from requests>=2.19.0->datasets->colbert-ai==0.2.17) (2.0.7)\n",
            "Requirement already satisfied: certifi>=2017.4.17 in /usr/local/lib/python3.10/dist-packages (from requests>=2.19.0->datasets->colbert-ai==0.2.17) (2023.11.17)\n",
            "Requirement already satisfied: blis<0.8.0,>=0.7.8 in /usr/local/lib/python3.10/dist-packages (from thinc<8.2.0,>=8.1.8->spacy->colbert-ai==0.2.17) (0.7.11)\n",
            "Requirement already satisfied: confection<1.0.0,>=0.0.1 in /usr/local/lib/python3.10/dist-packages (from thinc<8.2.0,>=8.1.8->spacy->colbert-ai==0.2.17) (0.1.4)\n",
            "Collecting gitdb<5,>=4.0.1 (from gitpython->git-python->colbert-ai==0.2.17)\n",
            "  Downloading gitdb-4.0.11-py3-none-any.whl.metadata (1.2 kB)\n",
            "Requirement already satisfied: python-dateutil>=2.8.1 in /usr/local/lib/python3.10/dist-packages (from pandas->datasets->colbert-ai==0.2.17) (2.8.2)\n",
            "Requirement already satisfied: pytz>=2020.1 in /usr/local/lib/python3.10/dist-packages (from pandas->datasets->colbert-ai==0.2.17) (2023.3.post1)\n",
            "Collecting smmap<6,>=3.0.1 (from gitdb<5,>=4.0.1->gitpython->git-python->colbert-ai==0.2.17)\n",
            "  Downloading smmap-5.0.1-py3-none-any.whl.metadata (4.3 kB)\n",
            "Requirement already satisfied: six>=1.5 in /usr/local/lib/python3.10/dist-packages (from python-dateutil>=2.8.1->pandas->datasets->colbert-ai==0.2.17) (1.16.0)\n",
            "Downloading bitarray-2.9.2-cp310-cp310-manylinux_2_17_x86_64.manylinux2014_x86_64.whl (288 kB)\n",
            "\u001b[2K   \u001b[90m━━━━━━━━━━━━━━━━━━━━━━━━━━━━━━━━━━━━━━━━\u001b[0m \u001b[32m288.3/288.3 kB\u001b[0m \u001b[31m21.4 MB/s\u001b[0m eta \u001b[36m0:00:00\u001b[0m\n",
            "\u001b[?25hDownloading datasets-2.16.1-py3-none-any.whl (507 kB)\n",
            "\u001b[2K   \u001b[90m━━━━━━━━━━━━━━━━━━━━━━━━━━━━━━━━━━━━━━━━\u001b[0m \u001b[32m507.1/507.1 kB\u001b[0m \u001b[31m32.3 MB/s\u001b[0m eta \u001b[36m0:00:00\u001b[0m\n",
            "\u001b[?25hDownloading ninja-1.11.1.1-py2.py3-none-manylinux1_x86_64.manylinux_2_5_x86_64.whl (307 kB)\n",
            "\u001b[2K   \u001b[90m━━━━━━━━━━━━━━━━━━━━━━━━━━━━━━━━━━━━━━━━\u001b[0m \u001b[32m307.2/307.2 kB\u001b[0m \u001b[31m20.8 MB/s\u001b[0m eta \u001b[36m0:00:00\u001b[0m\n",
            "\u001b[?25hDownloading ujson-5.9.0-cp310-cp310-manylinux_2_17_x86_64.manylinux2014_x86_64.whl (53 kB)\n",
            "\u001b[2K   \u001b[90m━━━━━━━━━━━━━━━━━━━━━━━━━━━━━━━━━━━━━━━━\u001b[0m \u001b[32m53.2/53.2 kB\u001b[0m \u001b[31m4.2 MB/s\u001b[0m eta \u001b[36m0:00:00\u001b[0m\n",
            "\u001b[?25hDownloading dill-0.3.7-py3-none-any.whl (115 kB)\n",
            "\u001b[2K   \u001b[90m━━━━━━━━━━━━━━━━━━━━━━━━━━━━━━━━━━━━━━━━\u001b[0m \u001b[32m115.3/115.3 kB\u001b[0m \u001b[31m9.9 MB/s\u001b[0m eta \u001b[36m0:00:00\u001b[0m\n",
            "\u001b[?25hDownloading GitPython-3.1.41-py3-none-any.whl (196 kB)\n",
            "\u001b[2K   \u001b[90m━━━━━━━━━━━━━━━━━━━━━━━━━━━━━━━━━━━━━━━━\u001b[0m \u001b[32m196.4/196.4 kB\u001b[0m \u001b[31m13.4 MB/s\u001b[0m eta \u001b[36m0:00:00\u001b[0m\n",
            "\u001b[?25hDownloading multiprocess-0.70.15-py310-none-any.whl (134 kB)\n",
            "\u001b[2K   \u001b[90m━━━━━━━━━━━━━━━━━━━━━━━━━━━━━━━━━━━━━━━━\u001b[0m \u001b[32m134.8/134.8 kB\u001b[0m \u001b[31m11.2 MB/s\u001b[0m eta \u001b[36m0:00:00\u001b[0m\n",
            "\u001b[?25hDownloading gitdb-4.0.11-py3-none-any.whl (62 kB)\n",
            "\u001b[2K   \u001b[90m━━━━━━━━━━━━━━━━━━━━━━━━━━━━━━━━━━━━━━━━\u001b[0m \u001b[32m62.7/62.7 kB\u001b[0m \u001b[31m5.0 MB/s\u001b[0m eta \u001b[36m0:00:00\u001b[0m\n",
            "\u001b[?25hDownloading smmap-5.0.1-py3-none-any.whl (24 kB)\n",
            "Installing collected packages: ninja, faiss-gpu, bitarray, ujson, smmap, python-dotenv, nvidia-cuda-runtime-cu11, nvidia-cuda-nvrtc-cu11, nvidia-cublas-cu11, dill, nvidia-cudnn-cu11, multiprocess, gitdb, torch, gitpython, git-python, datasets, colbert-ai\n",
            "  Attempting uninstall: torch\n",
            "    Found existing installation: torch 2.1.0+cu121\n",
            "    Uninstalling torch-2.1.0+cu121:\n",
            "      Successfully uninstalled torch-2.1.0+cu121\n",
            "  Running setup.py develop for colbert-ai\n",
            "\u001b[31mERROR: pip's dependency resolver does not currently take into account all the packages that are installed. This behaviour is the source of the following dependency conflicts.\n",
            "torchaudio 2.1.0+cu121 requires torch==2.1.0, but you have torch 1.13.1 which is incompatible.\n",
            "torchdata 0.7.0 requires torch==2.1.0, but you have torch 1.13.1 which is incompatible.\n",
            "torchtext 0.16.0 requires torch==2.1.0, but you have torch 1.13.1 which is incompatible.\n",
            "torchvision 0.16.0+cu121 requires torch==2.1.0, but you have torch 1.13.1 which is incompatible.\u001b[0m\u001b[31m\n",
            "\u001b[0mSuccessfully installed bitarray-2.9.2 colbert-ai-0.2.17 datasets-2.16.1 dill-0.3.7 faiss-gpu-1.7.2 git-python-1.0.3 gitdb-4.0.11 gitpython-3.1.41 multiprocess-0.70.15 ninja-1.11.1.1 nvidia-cublas-cu11-11.10.3.66 nvidia-cuda-nvrtc-cu11-11.7.99 nvidia-cuda-runtime-cu11-11.7.99 nvidia-cudnn-cu11-8.5.0.96 python-dotenv-1.0.0 smmap-5.0.1 torch-1.13.1 ujson-5.9.0\n",
            "\u001b[33mWARNING: Running pip as the 'root' user can result in broken permissions and conflicting behaviour with the system package manager. It is recommended to use a virtual environment instead: https://pip.pypa.io/warnings/venv\u001b[0m\u001b[33m\n",
            "\u001b[0m"
          ]
        }
      ],
      "source": [
        "try: # When on google Colab, let's install all dependencies with pip.\n",
        "    import google.colab\n",
        "    !pip install -U pip\n",
        "    !pip install -e ColBERT/['faiss-gpu','torch']\n",
        "except Exception:\n",
        "  import sys; sys.path.insert(0, 'ColBERT/')\n",
        "  try:\n",
        "    from colbert import Indexer, Searcher\n",
        "  except Exception:\n",
        "    print(\"If you're running outside Colab, please make sure you install ColBERT in conda following the instructions in our README. You can also install (as above) with pip but it may install slower or less stable faiss or torch dependencies. Conda is recommended.\")\n",
        "    assert False"
      ]
    },
    {
      "cell_type": "code",
      "execution_count": 3,
      "metadata": {
        "id": "N0jxbVar4kln"
      },
      "outputs": [],
      "source": [
        "import colbert"
      ]
    },
    {
      "cell_type": "code",
      "execution_count": 4,
      "metadata": {
        "id": "xQg9A-dtp1nB"
      },
      "outputs": [],
      "source": [
        "from colbert import Indexer, Searcher\n",
        "from colbert.infra import Run, RunConfig, ColBERTConfig\n",
        "from colbert.data import Queries, Collection"
      ]
    },
    {
      "cell_type": "markdown",
      "metadata": {
        "id": "TLWjmlkVq9r0"
      },
      "source": [
        "We will use the docs files and the Queries_20 file."
      ]
    },
    {
      "cell_type": "code",
      "execution_count": 5,
      "metadata": {
        "colab": {
          "base_uri": "https://localhost:8080/",
          "height": 160
        },
        "id": "rF7lv8jvq-ut",
        "outputId": "2f60bc9e-05b1-4a86-f00b-5c2a477543e9"
      },
      "outputs": [
        {
          "output_type": "stream",
          "name": "stdout",
          "text": [
            "Cloning into 'Information-Retrieval'...\n",
            "remote: Enumerating objects: 87, done.\u001b[K\n",
            "remote: Counting objects: 100% (28/28), done.\u001b[K\n",
            "remote: Compressing objects: 100% (13/13), done.\u001b[K\n",
            "remote: Total 87 (delta 23), reused 15 (delta 15), pack-reused 59\u001b[K\n",
            "Receiving objects: 100% (87/87), 525.94 KiB | 14.21 MiB/s, done.\n",
            "Resolving deltas: 100% (32/32), done.\n"
          ]
        },
        {
          "output_type": "execute_result",
          "data": {
            "text/plain": [
              "'Loaded 20 queries and 1,209 passages'"
            ],
            "application/vnd.google.colaboratory.intrinsic+json": {
              "type": "string"
            }
          },
          "metadata": {},
          "execution_count": 5
        }
      ],
      "source": [
        "#importing tsv files from personal github repository and creating docs and queries dataset\n",
        "!git clone https://github.com/NickVoulg02/Information-Retrieval.git\n",
        "import pandas as pd\n",
        "from datasets import Dataset\n",
        "dataset = 'test'\n",
        "df1 = pd.read_csv(\"Information-Retrieval/colbert_test/doc_col.tsv\", delimiter = '\\t', index_col=0)\n",
        "df2 =  pd.read_csv(\"Information-Retrieval/colbert_test/queries_20.tsv\", delimiter = '\\t', index_col=0)\n",
        "collection = Dataset.from_pandas(df1, preserve_index=True)\n",
        "query = Dataset.from_pandas(df2, preserve_index=True)\n",
        "f'Loaded {len(query)} queries and {len(collection):,} passages'"
      ]
    },
    {
      "cell_type": "code",
      "source": [
        "print(query[0])\n",
        "print(collection[0])"
      ],
      "metadata": {
        "colab": {
          "base_uri": "https://localhost:8080/"
        },
        "id": "nNP0p8oWxN0Y",
        "outputId": "466be5b4-5281-4dd3-9500-fcd6ef292002"
      },
      "execution_count": 6,
      "outputs": [
        {
          "output_type": "stream",
          "name": "stdout",
          "text": [
            "{'query': 'WHAT ARE THE EFFECTS OF CALCIUM ON THE PHYSICAL PROPERTIES OF MUCUS FROM CF PATIENTS', 'query_id': 0}\n",
            "{'doc': 'PSEUDOMONAS AERUGINOSA INFECTION IN CYSTIC FIBROSIS OCCURRENCE OF PRECIPITATING ANTIBODIES AGAINST PSEUDOMONAS AERUGINOSA IN RELATION TO THE CONCENTRATION OF SIXTEEN SERUM PROTEINS AND THE CLINICAL AND RADIOGRAPHICAL STATUS OF THE LUNGS THE SIGNIFICANCE OF PSEUDOMONAS AERUGINOSA INFECTION IN THE RESPIRATORY TRACT OF 9 CYSTIC FIBROSIS PATIENTS HAVE BEEN STUDIED BY MEANS OF IMMUNOELECTROPHORETICAL ANALYSIS OF PATIENTS SERA FOR THE NUMBER OF PRECIPITINS AGAINST PSEUDOMONAS AERUGINOSA AND THE CONCENTRATIONS OF 16 SERUM PROTEINS IN ADDITION THE CLINICAL AND RADIOGRAPHICAL STATUS OF THE LUNGS HAVE BEEN EVALUATED USING 2 SCORING SYSTEMS PRECIPITINS AGAINST PSEUDOMONAS AERUGINOSA WERE DEMONSTRATED IN ALL SERA THE MAXIMUM NUMBER IN ONE SERUM WAS 22 THE CONCENTRATIONS OF 12 OF THE SERUM PROTEINS WERE SIGNIFICANTLY CHANGED COMPARED WITH MATCHED CONTROL PERSONS NOTABLY IGG AND IGA WERE ELEVATED AND THE ACUTE PHASE PROTEINS WERE CHANGED THE LATTER SUGGESTING ACTIVE TISSUE DAMAGE THE CONCENTRATIONS OF 3 OF THE ACUTE PHASE PROTEINS NOTABLY HAPTOGLOBIN WERE CORRELATED TO THE NUMBER OF PRECIPITINS SUGGESTING THAT THE RESPIRATORY TRACT INFECTION IN PATIENTS WITH MANY PRECIPITINS IS ACCOMPANIED BY MORE TISSUE DAMAGE THAN THE INFECTION IN PATIENTS WITH FEW PRECIPITINS THE RESULTS INDICATE NO PROTECTIVE VALUE OF THE MANY PRECIPITINS ON THE TISSUE OF THE RESPIRATORY TRACT', 'doc_id': 1}\n"
          ]
        }
      ]
    },
    {
      "cell_type": "markdown",
      "metadata": {
        "id": "RKJdAAbDu7PZ"
      },
      "source": [
        "## Indexing\n",
        "\n",
        "For an efficient search, we can pre-compute the ColBERT representation of each passage and index them.\n",
        "\n",
        "Below, the `Indexer` take a model checkpoint and writes a (compressed) index to disk. We then prepare a `Searcher` for retrieval from this index."
      ]
    },
    {
      "cell_type": "code",
      "execution_count": 7,
      "metadata": {
        "id": "vKAdVN5MvDKD"
      },
      "outputs": [],
      "source": [
        "nbits = 2   # encode each dimension with 2 bits\n",
        "doc_maxlen = 300 # truncate passages at 300 tokens\n",
        "\n",
        "index_name = f'{dataset}.{nbits}bits'"
      ]
    },
    {
      "cell_type": "markdown",
      "metadata": {
        "id": "orKfQRmQv46u"
      },
      "source": [
        "Now run the `Indexer` on the collection subset. Assuming the use of only one GPU, this cell should take about six minutes to finish running."
      ]
    },
    {
      "cell_type": "code",
      "execution_count": 8,
      "metadata": {
        "colab": {
          "base_uri": "https://localhost:8080/",
          "height": 301,
          "referenced_widgets": [
            "f6003653bb54457994085b6fe4998e6d",
            "604634411ee5448ea0fe9fa6a4079bb6",
            "5cec9d818e4f4727bbb6ef13d0868c41",
            "f5a3d4e539ed41b497686c00eeaf9813",
            "2af1d4bd9cb84312a53390d05b553065",
            "62c90c326c1b4853b9859372e92561af",
            "028ce13083de4b5782559799a378c151",
            "4736235747bb4ed5ba2e1dd97ecf1d81",
            "e52e8bb28d3c4a71b4083b788972cb60",
            "fb41ff046a934a5fb3491d23745f85b1",
            "84af08684ac34f24af18a6990c27c0e3"
          ]
        },
        "id": "JRiOnzxtwI0j",
        "outputId": "9d3d26bc-bbd6-43bf-a720-104a49946ce2"
      },
      "outputs": [
        {
          "output_type": "stream",
          "name": "stderr",
          "text": [
            "/usr/local/lib/python3.10/dist-packages/huggingface_hub/utils/_token.py:88: UserWarning: \n",
            "The secret `HF_TOKEN` does not exist in your Colab secrets.\n",
            "To authenticate with the Hugging Face Hub, create a token in your settings tab (https://huggingface.co/settings/tokens), set it as secret in your Google Colab and restart your session.\n",
            "You will be able to reuse this secret in all of your notebooks.\n",
            "Please note that authentication is recommended but still optional to access public models or datasets.\n",
            "  warnings.warn(\n"
          ]
        },
        {
          "output_type": "display_data",
          "data": {
            "text/plain": [
              "artifact.metadata:   0%|          | 0.00/1.63k [00:00<?, ?B/s]"
            ],
            "application/vnd.jupyter.widget-view+json": {
              "version_major": 2,
              "version_minor": 0,
              "model_id": "f6003653bb54457994085b6fe4998e6d"
            }
          },
          "metadata": {}
        },
        {
          "output_type": "stream",
          "name": "stdout",
          "text": [
            "\n",
            "\n",
            "[Jan 22, 15:42:23] #> Creating directory /content/experiments/notebook/indexes/test.2bits \n",
            "\n",
            "\n",
            "#> Starting...\n",
            "#> Joined...\n"
          ]
        }
      ],
      "source": [
        "checkpoint = 'colbert-ir/colbertv2.0'\n",
        "\n",
        "with Run().context(RunConfig(nranks=1, experiment='notebook')):  # nranks specifies the number of GPUs to use\n",
        "    config = ColBERTConfig(doc_maxlen=doc_maxlen, nbits=nbits, kmeans_niters=4) # kmeans_niters specifies the number of iterations of k-means clustering; 4 is a good and fast default.\n",
        "                                                                                # Consider larger numbers for small datasets.\n",
        "\n",
        "    indexer = Indexer(checkpoint=checkpoint, config=config)\n",
        "    indexer.index(name=index_name, collection=collection[\"doc\"], overwrite=True)\n"
      ]
    },
    {
      "cell_type": "code",
      "execution_count": 9,
      "metadata": {
        "colab": {
          "base_uri": "https://localhost:8080/",
          "height": 35
        },
        "id": "CTbP2LS1xHVZ",
        "outputId": "321d8283-6ba1-4182-b870-0c034aff9dda"
      },
      "outputs": [
        {
          "output_type": "execute_result",
          "data": {
            "text/plain": [
              "'/content/experiments/notebook/indexes/test.2bits'"
            ],
            "application/vnd.google.colaboratory.intrinsic+json": {
              "type": "string"
            }
          },
          "metadata": {},
          "execution_count": 9
        }
      ],
      "source": [
        "indexer.get_index() # You can get the absolute path of the index, if needed."
      ]
    },
    {
      "cell_type": "markdown",
      "metadata": {
        "id": "IY6_D523yBFB"
      },
      "source": [
        "## Search\n",
        "\n",
        "Having built the index and prepared our `searcher`, we can search for individual query strings."
      ]
    },
    {
      "cell_type": "code",
      "execution_count": 10,
      "metadata": {
        "colab": {
          "base_uri": "https://localhost:8080/"
        },
        "id": "j3x_FnVnyB0n",
        "outputId": "822e77f4-b94a-455d-eb29-9755f46c9f53"
      },
      "outputs": [
        {
          "output_type": "stream",
          "name": "stdout",
          "text": [
            "[Jan 22, 15:46:08] #> Loading codec...\n",
            "[Jan 22, 15:46:08] Loading decompress_residuals_cpp extension (set COLBERT_LOAD_TORCH_EXTENSION_VERBOSE=True for more info)...\n",
            "[Jan 22, 15:46:08] Loading packbits_cpp extension (set COLBERT_LOAD_TORCH_EXTENSION_VERBOSE=True for more info)...\n",
            "[Jan 22, 15:46:08] #> Loading IVF...\n",
            "[Jan 22, 15:46:08] #> Loading doclens...\n"
          ]
        },
        {
          "output_type": "stream",
          "name": "stderr",
          "text": [
            "100%|██████████| 1/1 [00:00<00:00, 3457.79it/s]"
          ]
        },
        {
          "output_type": "stream",
          "name": "stdout",
          "text": [
            "[Jan 22, 15:46:08] #> Loading codes and residuals...\n"
          ]
        },
        {
          "output_type": "stream",
          "name": "stderr",
          "text": [
            "\n",
            "100%|██████████| 1/1 [00:00<00:00, 146.49it/s]\n"
          ]
        }
      ],
      "source": [
        "# To create the searcher using its relative name (i.e., not a full path), set\n",
        "# experiment=value_used_for_indexing in the RunConfig.\n",
        "with Run().context(RunConfig(experiment='notebook')):\n",
        "    searcher = Searcher(index=index_name, collection=collection[\"doc\"])"
      ]
    },
    {
      "cell_type": "code",
      "execution_count": 60,
      "metadata": {
        "colab": {
          "base_uri": "https://localhost:8080/"
        },
        "id": "3JYA0N22yIeS",
        "outputId": "a124a83e-fd3d-429e-e27d-a37b4c143116"
      },
      "outputs": [
        {
          "output_type": "stream",
          "name": "stdout",
          "text": [
            "[Jan 22, 17:29:51] #> Loading the queries from Information-Retrieval/queries_201.tsv ...\n",
            "[Jan 22, 17:29:51] #> Got 20 queries. All QIDs are unique.\n",
            "\n",
            "#> <colbert.data.queries.Queries object at 0x7aae98f2f910>\n",
            "([516, 431, 934, 473, 721, 807, 491, 937, 1171, 427, 734, 1156, 485, 1081, 136, 487, 546, 51, 144, 550, 847, 383, 1139, 722, 1117, 441, 944, 855, 470, 240, 259, 952, 510, 186, 148, 617, 197, 639, 927, 482, 541, 295, 1177, 1147, 692, 444, 509, 10, 1002, 830, 503, 505, 578, 756, 429, 965, 671, 1145, 1207, 875, 294, 946, 1143, 657, 881, 84, 377, 1170, 858, 770, 455, 107, 1141, 451, 735, 959, 992, 388, 995, 420, 306, 425, 891, 674, 745, 1159, 574, 746, 281, 373, 1051, 260, 54, 523, 544, 201, 571, 904, 39, 453, 1094, 840, 629, 774, 187, 549, 1173, 525, 731, 163, 950, 738, 170, 134, 577, 484, 488, 62, 169, 520], [1, 2, 3, 4, 5, 6, 7, 8, 9, 10, 11, 12, 13, 14, 15, 16, 17, 18, 19, 20, 21, 22, 23, 24, 25, 26, 27, 28, 29, 30, 31, 32, 33, 34, 35, 36, 37, 38, 39, 40, 41, 42, 43, 44, 45, 46, 47, 48, 49, 50, 51, 52, 53, 54, 55, 56, 57, 58, 59, 60, 61, 62, 63, 64, 65, 66, 67, 68, 69, 70, 71, 72, 73, 74, 75, 76, 77, 78, 79, 80, 81, 82, 83, 84, 85, 86, 87, 88, 89, 90, 91, 92, 93, 94, 95, 96, 97, 98, 99, 100, 101, 102, 103, 104, 105, 106, 107, 108, 109, 110, 111, 112, 113, 114, 115, 116, 117, 118, 119, 120], [23.03125, 20.40625, 19.453125, 19.234375, 18.578125, 18.46875, 17.921875, 17.8125, 17.703125, 17.421875, 17.109375, 17.109375, 17.046875, 16.953125, 16.90625, 16.78125, 16.78125, 16.640625, 16.625, 16.421875, 16.40625, 16.296875, 16.171875, 16.15625, 16.140625, 16.078125, 16.078125, 15.9375, 15.875, 15.84375, 15.8046875, 15.7578125, 15.6484375, 15.578125, 15.5546875, 15.46875, 15.4453125, 15.2578125, 15.21875, 15.1875, 15.1796875, 15.15625, 15.09375, 15.03125, 15.015625, 14.9375, 14.9296875, 14.9296875, 14.890625, 14.8203125, 14.78125, 14.78125, 14.75, 14.7109375, 14.6484375, 14.5546875, 14.515625, 14.5078125, 14.4609375, 14.4609375, 14.453125, 14.3125, 14.2890625, 14.2890625, 14.2265625, 14.1953125, 14.15625, 14.1328125, 14.109375, 14.09375, 14.0625, 14.0390625, 14.03125, 14.015625, 13.96875, 13.9609375, 13.9609375, 13.9375, 13.9140625, 13.8671875, 13.859375, 13.8515625, 13.84375, 13.8359375, 13.828125, 13.796875, 13.78125, 13.765625, 13.7578125, 13.75, 13.71875, 13.7109375, 13.7109375, 13.6953125, 13.6875, 13.6640625, 13.6328125, 13.609375, 13.609375, 13.59375, 13.5703125, 13.546875, 13.5234375, 13.515625, 13.5, 13.4921875, 13.4921875, 13.484375, 13.484375, 13.484375, 13.4375, 13.4140625, 13.390625, 13.3515625, 13.34375, 13.3359375, 13.328125, 13.3046875, 13.296875, 13.28125])\n",
            "Rank\tScore\tId\tPassage\n",
            "[1] \t23.0 \t533 \tEFFECTS OF CALCIUM ON INTESTINAL MUCIN IMPLICATIONS FOR CYSTIC FIBROSIS A MAJOR FEATURE OF THE DISEASE CYSTIC FIBROSIS IS THE EXCESSIVE CONCENTRATION OF MUCUS WITHIN DUCTS AND GLANDS OF MUCOUSPRODUCING ORGANS SOME MUCOUS SECRETIONS ALSO SHOW AN ELEVATION IN CALCIUM CONCENTRATION USING PURIFIED RAT INTESTINAL GOBLET CELL MUCIN AS A MODEL MUCIN WE HAVE INVESTIGATED THE EFFECT OF MILLIMOLAR ADDITIONS 125 MM OF CACL2 ON THE PHYSICAL PROPERTIES OF THE MUCIN ISOTONICITY OF INCUBATION MEDIA WAS PRESERVED IN ORDER TO MIMIC IN VIVO CONDITIONS CACL2 815MM CAUSED A 1533 DECREASE IN VISCOSITY NO CHANGE IN ELECTROPHORETIC MOBILITY IN ACRYLAMIDE GELS AND A 2030 DECREASE IN SOLUBILITY OF THE MUCIN SOLUBILITY CHANGES WERE REVERSED BY THE ADDITION OF EDTA 20 MM TO INCUBATIONS INSOLUBILITY WAS ALSO PRODUCED IN INCUBATIONS OF MUCIN WITH A MIXTURE OF SOLUBLE INTESTINAL CONTENTS NACL WASHINGS THESE FINDINGS STRONGLY SUGGEST THAT THE MUCIN BECAME SMALLER AND MORE DENSE AS CALCIUM WAS ADDED A PROCESS MOST PROBABLY ACHIEVED BY LOSS OF INTRAMOLECULAR WATER\n",
            "[2] \t20.4 \t441 \tWATER AND ELECTROLYTES OF EXOCRINE SECRETIONS PP 17991 IT HAS BEEN RECOGNIZED THAT THE LEVELS OF WATER AND ELECTROLYTES ARE DERANGED IN MANY IF NOT ALL OF THE EXOCRINE SECRETIONS OF CYSTIC FIBROSIS PATIENTS THE SODIUM AND CHLORIDE LEVELS IN SEROUS SECRETIONS FROM CF PATIENTS ARE ELEVATED IN CONTRAST THE MORE PROTEINRICH OR MUCOID ISOTONIC SECRETIONS VIZ FROM THE PANCREAS AND TRACHEOBRONCHIAL MUCUS GLANDS ARE FOUND TO HAVE SODIUM CONCENTRATIONS NEAR NORMAL OR EVEN SOMEWHAT DECREASED HOWEVER THESE SECRETIONS HAVE SIGNIFICANTLY REDUCED WATER CONTENT THE ABNORMALITIES IN HYPOTONIC SECRETIONS APPEAR TO RISE FROM A DECREASED NA REABSORPTION IN THE DUCTS THE LOW WATER CONTENT OF THE ISOTONIC SECRETIONS OF CF PATIENTS APPEARS TO RESULT FROM DECREASED SECRETION OF WATER AND ELECTROLYTES EARLY STUDIES ON TRACHEOBRONCHIAL SECRETIONS FROM CF PATIENTS LED INVESTIGATORS TO SUGGEST THAT THE PRIMARY DEFECT MAY BE A DECREASE IN THE LEVELS OF WATER AND MONOVALENT IONS IN AN ATTEMPT TO PROVIDE A UNIFYING HYPOTHESIS IT HAS BEEN SUGGESTED THAT AN INCREASED CALCIUM CONCENTRATION IN THE VARIOUS EXOCRINE SECRETIONS LEADS TO A HYPERPERMEABILITY OF THE MUCUS LININGS AND THUS TO AN EXCESSIVE LOSS OF WATER AND SMALL IONS THE CONCENTRATION OF CALCIUM IN EXOCRINE SECRETIONS APPEARS TO FOLLOW THE CONCENTRATION OF PROTEINS AND ESPECIALLY THE MUCOUS GLYCOPROTEINS IT WAS SUGGESTED THAT CALCIUM MAY BE AN IMPORTANT FACTOR IN THE INCREASED VISCOSITY AND INSOLUBILITY OF CF MUCUS ORGANIC IONS ARE ALSO POTENTIAL PERTURBANTS OF MACROMOLECULAR STRUCTURE IN ADDITION TO A POSSIBLE PERTURBANT ROLE POLYAMINES HAVE A POTENTIAL ROLE IN WATER AND ELECTROLYTE TRANSPORT\n",
            "[3] \t19.5 \t957 \tTHE BIOLOGIC ACTIVITIES OF CYSTIC FIBROSIS SERUM II ULTRASTRUCTURAL ASPECTS OF THE EFFECT OF CYSTIC FIBROSIS SERA AND CALCIUM IONOPHORE A23187 ON RABBIT TRACHEAL EXPLANTS ULTRASTRUCTURAL AND CYTOCHEMICAL OBSERVATIONS INDICATE THAT BOTH CYSTIC FIBROSIS CF SERA AND CALCIUM IONOPHORE A23187 INDUCE A SWELLING OR AN INCREASE IN THE SIZE AND POSSIBLY THE NUMBER OF SECONDARY LYSOSOMES AND AN INCREASE IN MUCUS SECRETION IN EPITHELIUM OF THE RABBIT TRACHEAL BIOASSAY SYSTEM EXTENDED INCUBATION OF THE RABBIT TRACHEAL EXPLANTS WITH EITHER CF OR CONTROL SERA PRODUCES A CYTOTOXIC EFFECT ON THE TRACHEAL EPITHELIUM BUT ONLY AFTER THE TERMINATION OF THE NORMAL BIOASSAY TIME PERIOD COMPARATIVE ULTRASTRUCTURAL STUDY OF THE EFFECT OF BOTH CF SERA AND CALCIUM IONOPHORE A23187 ON THE RABBIT TRACHEAL BIOASSAY SYSTEM INDICATES THAT INCREASED MEMBRANE PERMEABILITY TO CALCIUM MAY BE IMPORTANT IN THE PRODUCTION OF THE CILIARY DYSKINESIA RESPONSE BY CF SERUM FACTORS IN THE RABBIT TRACHEAL BIOASSAY SYSTEM\n",
            "[4] \t19.2 \t484 \tCALCIUM FLUX AND CYSTIC FIBROSIS LETTER IN AN EFFORT TO DETERMINE WHETHER INCREASED PERMEABILITY TO CALCIUM IONS COULD EXPLAIN THE CYSTIC FIBROSISSERUM CILIARY DYSKENSIA FACTOR RESPONSE IN THE TRACHEAL TEST SYSTEM WE SELECTIVELY INCREASED THE MEMBRANE PERMEABILITY OF THE TRACHEAL EPITHELIUM TO CALCIUM IONS BY ADDING CALCIUM IONOPHORE A23187 TO THE TRACHEAL CULTURE MEDIUM THESE STUDIES DETERMINED THAT CALCIUM IONOPHORE A23187 IN CULTURE MEDIUM PRODUCED A CHANGE IN MUCOCILIARY FUNCTION IN THE TRACHEAL TEST SYSTEM INDISTINGUISHABLE FROM THAT PROMOTED BY CF SERA THESE INVESTIGATIONS WHICH ARE NOW BEING EXTENDED TO INCLUDE THE ULTRASTRUCTURAL ALTERATIONS INDUCED IN THE EPITHELIUM OF THE RABBIT TRACHEAL BIOASSAY SYSTEM POINT TO AN IMPORTANT ROLE FOR CALCIUM AS A COFACTOR IN THE PRODUCTION OF THE CDF RESPONSE GENERATED BY THE CF SERA THE CF SERUM SUBSTANCE SEEMS TO ACT AT THE CELLULARMEMBRANE LEVEL PROMOTING MEMBRANEPERMEABILITY CHANGES AT LEAST WITH RESPECT TO CALCIUM IN THE RABBIT TRACHEAL TEST SYSTEM SUCH A MECHANISM WOULD NOT NECESSARILY RESULT IN A NET PHYSIOLOGICAL IMBALANCE OF CALCIUM IN THE RABBIT TRACHEAL SYSTEM BUT ONLY LOCAL CHANGES IN CALCIUM CONCENTRATION THAT WOULD SUBSEQUENTLY ALTER SECRETION AND MICROTUBULAR FUNCTION SINCE CF SERUM LIKE SWEAT AND SALIVA FROM THESE SAME PATIENTS CAN PROMOTE IONIC FLUXES PERHAPS THERE IS A COMMON FACTOR IN ALL THESE BODYFLUIDS WHICH IS RELATED TO THE BASIC DEFECT IN CF IT IS TEMPTING TO SPECULATE THAT SUCH A FACTOR PRODUCES A MEMBRANEASSOCIATED PHENOMENON THAT MAY BE GENERALLY REPRESENTATIVE OF THE INVIVO CF DISORDER AND AS SUCH MAY REFLECT THE NATURE OF THE CELLULAR AND GLANDULAR ABNORMALITIES OF THE DISEASE\n",
            "[5] \t18.6 \t741 \tTHE BIOLOGIC ACTIVITIES OF CYSTIC FIBROSIS SERUM I THE EFFECTS OF CYSTIC FIBROSIS SERA AND CALCIUM IONOPHORE A 23187 ON RABBIT TRACHEAL EXPLANTS AN IONOPHORE A23187INDUCED INCREASE IN MEMBRANE PERMEABILITY TO CALCIUM IONS IN CULTURE MEDIUM PRODUCED A RABBIT TRACHEAL MUCOCILIARY RESPONSE INDISTINGUISHABLE FROM THAT CAUSED BY CYSTIC FIBROSIS CF SERA ON THREE DIFFERENT OCCASIONS SPECIFIC CHELATION OF CALCIUM IONS WITH EGTA IN THE BASAL MEDIUM EAGLE BME MEDIA WITH NO ADDITIVE OR IN NATIVE CF SERA ABOLISHED THE MUCOCILIARY DISTURBANCES IN ALL CASES INCREASED MEMBRANE PERMEABILITY TO CALCIUM MAY BE IMPORTANT IN THE PRODUCTION OF THE MUCOCILIARY RESPONSE BY CF SERUM FACTORS IN THE TRACHEAL ASSAY SYSTEM\n",
            "[6] \t18.5 \t827 \tTHE INFLUENCE OF CYSTIC FIBROSIS SERUM AND CALCIUM ON SECRETION IN THE RABBIT TRACHEAL MUCOCILIARY APPARATUS CYSTIC FIBROSIS SERUM OR ITS ISOLATED COMPONENT IGG FRACTION AND CALCIUM IONOPHORE A23187 ALL PRODUCED A QUANTITATIVELY GREATER INCREASE OF MUCUS GLYCOPROTEIN SECRETION IN THE RABBIT TRACHEAL EPITHELIUM THAN DID CONTROL SERUM OR ITS ISOLATED COMPONENT IGG FRACTION THESE VALUES WERE DETERMINED BY DRY WEIGHT SECRETION PER GRAM OF TISSUE AND ON SUBSEQUENT SIALIC ACID CONTENT OF SECRETIONS THIS DEMONSTRABLE INCREASE IN MUCUS PRODUCTION REPRESENTS A MEASURABLE DIFFERENCE IN THE FUNCTIONING OF THE CULTURED MUCOCILIARY APPARATUS DUE TO THE INFLUENCE OF CYSTIC FIBROSIS SERUM\n",
            "[7] \t17.9 \t505 \tRESEARCH IN CYSTIC FIBROSIS THIRD OF THREE PARTS RECENT AUTONOMIC NERVOUS SYSTEM STUDIES IN CYSTIC FIBROSIS ARE OUTLINED MISCELLANEOUS OBSERVATIONS REGARDING SALIVARY AND TEAR GLANDS CALCIUM THE KALLIKREINKININ SYSTEM PROTEASE INHIBITOR ALPHAFETOPROTEIN AND ENDOCRINE GLANDS ARE DISCUSSED BECAUSE MORE THAN 90 PER CENT OF PATIENTS WITH CYSTIC FIBROSIS DIE OF PROGRESSIVE PULMONARY INVOLVEMENT COMPLICATED BY INFECTION WITH STAPHYLOCOCCUS AUREUS OR PSEUDOMONAS AERUGINOSA OR BOTH THE QUESTION OF IMMUNOLOGIC DEFICIT IS FREQUENTLY RAISED EXTENSIVE INVESTIGATIONS HAVE SHOWN THE IMMUNE SYSTEM IN CYSTIC FIBROSIS TO BE INTACT STUDIES REGARDING PULMONARY CILIARY CLEARANCE AND BACTERIOLOGY ARE ALSO OUTLINED DESPITE EXTENSIVE INVESTIGATIONS THE BASIC DEFECT OF CYSTIC FIBROSIS IS STILL UNKNOWN WHAT THEN IS THE EXPLANATION OF THE TWO DEFECTS IN HOMOZYGOTES THAT LEAD TO MOST CLINICAL MANIFESTATIONS  THE SWEAT ELECTROLYTE DEFECT AND THE ABNORMALITY IN PHYSIOCHEMICAL BEHAVIOR OF MUCOUS SECRETIONS THE FORMER IS SATISFACTORILY EXPLAINED BY A SODIUMREABSORPTIONINHIBITORY FACTOR PRESENT IN SWEAT AND SALIVA OF PATIENTS AS FOR THE MUCOUSSECRETION ABNORMALITY THE EFFECT OF THE INCREASING CALCIUM CONCENTRATION IN DECREASING THE SOLUBILITY OF GLYCOPROTEINS SUGGESTS THAT THIS MECHANISM MIGHT BE RESPONSIBLE FOR THE PRECIPITATION AND OBSTRUCTION OF ORGAN PASSAGES WHICH GIVES RISE TO MOST SYMPTOMS IN CYSTIC FIBROSIS ALTHOUGH THERE IS AN EXCELLENT DIAGNOSTIC TEST FOR HOMOZYGOTES SWEAT TEST ONE CANNOT RELY ON ANY OF THE PRESENT BIOLOGIC ASSAYS FOR DETERMINATION OF HETEROZYGOSITY OR ANTENATAL DIAGNOSIS\n",
            "[8] \t17.8 \t960 \tCALCIUM AND SODIUM TRANSPORT PROCESSES IN PATIENTS WITH CYSTIC FIBROSIS I A SPECIFIC DECREASE IN MG2DEPENDENT CA2ADENOSINE TRIPHOSPHATASE ACTIVITY IN ERYTHROCYTE MEMBRANES FROM CYSTIC FIBROSIS PATIENTS CALCIUMATPASE ACTIVITY MG2DEPENDENT CA2ATPASE ATP PHOSPHOHYDROLASE EC 3613 IN ERYTHROCYTE MEMBRANE PREPARATIONS FROM CYSTIC FIBROSIS CF PATIENTS WAS GREATLY REDUCED COMPARED TO ERYTHROCYTE MEMBRANES FROM CONTROL SUBJECTS THE KM FOR CALCIUM WAS FOUND TO BE SIMILAR IN THE TWO GROUPS HOWEVER THE VMAX THE MAXIMAL RATE OF ACTIVATION OF THE CA2ATPASE IS REDUCED BY 50 IN THE ERYTHROCYTE MEMBRANE PREPARATIONS OF THE CF PATIENTS P LESS THAN 0001 IN CONTRAST THE MG2ATPASE ACTIVITY OF ERYTHROCYTE MEMBRANES FROM CF PATIENTS WAS UNCHANGED COMPARED TO THE CONTROL SUBJECTS NO DIFFERENCE IN THE NAKATPASE ACTIVITY IN ERYTHROCYTE MEMBRANES FROM CF PATIENTS COMPARED TO CONTROL PATIENTS COULD BE OBSERVED THIS INDICATES THAT THE CA2ATPASE ACTIVITY NOTED IN CF ERYTHROCYTES IS NOT PART OF A GENERALIZED MEMBRANE OR MEMBRANEBOUND ENZYME ALTERATION IT REMAINS TO BE DETERMINED WHETHER THIS ALTERATION IN CA2ATPASE ACTIVITY IS DIRECTLY RELATED TO A DEFECT IN CALCIUM TRANSPORT IN THESE CELLS AND IS A GENERALIZED PHENOMENON IN CF PRESENT IN CELL TYPES MORE DIRECTLY INVOLVED IN SECRETION\n",
            "[9] \t17.7 \t1201 \tALTERED INTRACELLULAR CALCIUM IN FIBROBLASTS FROM PATIENTS WITH CYSTIC FIBROSIS AND HETEROZYGOTES THE IMPORTANCE OF INTRACELLULAR CALCIUM CA IN SECRETION AND TRANSMEMBRANE ION MOVEMENT LED US TO STUDY CA IN CELLS FROM PATIENTS WITH CYSTIC FIBROSIS CF WHICH IS A LETHAL GENETIC EXOCRINOPATHY SKIN FIBROBLASTS FROM PATIENTS WITH CF OBLIGATE HETEROZYGOTES HZ AND AGE AND SEXMATCHED CONTROLS C WERE USED IN MATCHED PAIR EXPERIMENTS MEASURING 45CA EXCHANGE INTO AND EFFLUX FROM THE CELLS OVER TIME CF CELL LINES AND HZ CELL LINES EXHIBIT INCREASED 45CA EXCHANGE WHEN COMPARED WITH THEIR RESPECTIVE CONTROLS P LESS THAN 0005 THE MAGNITUDE OF THIS DIFFERENCE APPROXIMATELY 30 IS NOT REDUCED WHEN CELLS ARE WASHED WITH LANTHANUM CHLORIDE AFTER THE EXCHANGE PERIOD THIS DIFFERENCE IS LIKELY ATTRIBUTABLE TO AN ALTERED CAPACITY OF ONE OR MORE OF THE INTRACELLULAR CA SEQUESTERING ORGANELLES FURTHER EVIDENCE FOR THIS EXPLANATION WAS SEEN IN 45CA EFFLUX EXPERIMENTS IN WHICH CF CELLS RETAINED A HIGHER PERCENT OF THEIR INITIAL 0TIME 45CA THAN DID C CELLS LATE IN THE EFFLUX PERIOD P LESS THAN 005 THE FINDING OF AN ALTERED CA POOL SIZE IN BOTH CF AND PARTICULARLY HZ CELLS SUGGESTS THAT ALTERED CA METABOLISM IS RELATED TO THE BASIC GENE DEFECT IN CF\n",
            "[10] \t17.4 \t437 \tPULMONARY ASPECTS OF CYSTIC FIBROSIS PP 324 DEFECTIVE MUCOCILIARY TRANSPORT HAS BEEN IMPLICATED IN THE PATHOGENESIS OF THE LUNG DISEASE IN CYSTIC FIBROSIS BASED ON SEVERAL OBSERVATIONS FIRST PATIENTS WITH THE DISEASE SECRETE MORE MUCUS THAN NORMAL SUBJECTS AS INDICATED BY GLAND HYPERTROPHY AND FREQUENTLY RETAIN IT IN THE LUNG SECOND THE MUCUS IS SAID TO HAVE ALTERED BIOCHEMICAL AND RHEOLOGICAL PROPERTIES HOWEVER ALTHOUGH THE PHYSIOCHEMICAL PROPERTIES OF MUCUS ARE ALTERED IN ALL LUNG DISEASES LITTLE HISTOCHEMICAL OR RHEOLOGICAL DIFFERENCE HAS BEEN FOUND IN MUCUS FROM PATIENTS WITH CF AND OTHER HYPERSECRETORY CONDITIONS SUCH AS CHRONIC BRONCHITIS AND BRONCHIECTASIS THIRD A FACTOR IN THE SERUM OF CF PATIENTS INHIBITS NORMAL CILIARY ACTIVITY IN EXPLAIN GLANDS OF CILIATED EPITHELIUM AND INFECTION WHICH DAMAGES HUMAN CILIATED EPITHELIUM IN CULTURE COULD FURTHER REDUCE MUCOCILIARY TRANSPORT MEASUREMENT OF PULMONARY FUNCTION IN CYSTIC FIBROSIS PHYSICAL FITNESS AND RESPONSE TO EXERCISE IN CYSTIC FIBROSIS CONTROL OF BREATHING IN PATIENTS WITH CYSTIC FIBROSIS REGIONAL LUNG FUNCTION IN CYSTIC FIBROSIS AND THERAPY OF CYSTIC FIBROSIS ARE DISCUSSED\n",
            "[11] \t17.1 \t754 \tEFFECTS OF GRAVITY ON TRACHEAL MUCUS TRANSPORT RATES IN NORMAL SUBJECTS AND IN PATIENTS WITH CYSTIC FIBROSIS A NONINVASIVE RADIONUCLIDE IMAGING TECHNIQUE FOR MEASURING THE RATE OF MUCUS CLEARANCE IN THE TRACHEA RT WAS USED TO STUDY GRAVITATIONAL EFFECTS ON MUCUS CLEARANCE IN 13 PATIENTS WITH CYSTIC FIBROSIS CF AVERAGE AGE 17 YEARS 7 NORMAL NONSMOKING ADULTS AVERAGE AGE 26 YEARS AND A NORMAL SUBJECT WHO WAS RECOVERING FROM AN ACUTE UPPER RESPIRATORY TRACT INFECTION URTI IN THE UPRIGHT POSITION NINE OF THE CF PATIENTS AND THE SUBJECT WITH URTI DEMONSTRATED ABNORMAL TRACHEAL MUCUS CLEARANCE WHICH APPROACHED NORMAL WHEN THEY WERE PLACED IN 25 DEGREES HEADDOWN POSITION THE NORMAL SUBJECTS AND TWO OF THE CF PATIENTS SHOWED NO SIGNIFICANT DIFFERENCE IN THE RT MEASURED IN THE TWO POSITIONS THE RESULTS OF THE STUDY INDICATE THAT THE FORCE OF GRAVITY CAN BE A MAJOR INFLUENCE ON TRACHEAL MUCUS CLEARANCE IN CF AND URTI SUBJECTS THIS CONCLUSION SUPPORTS THE USE OF POSTURAL DRAINAGE AS AN EFFECTIVE FORM OF THERAPY IN PATIENTS WITH CYSTIC FIBROSIS\n",
            "[12] \t17.1 \t1185 \tMITOCHONDRIAL CALCIUM UPTAKE AND OXYGEN CONSUMPTION IN CYSTIC FIBROSIS REPORTS OF EXOCRINE GLAND SECRETORY ANOMALIES IN CYSTIC FIBROSIS AND INCREASED CALCIUM ION CONCENTRATIONS IN SOME CF SECRETIONS AND THE IMPORTANCE OF CELLULAR CA TO STIMULUSSECRETION COUPLING LED US TO STUDY CELLULAR CA IN CF WE REPORT DATA ON CA UPTAKE STUDIES WITH MITOCHONDRIAL AND MICROSOMAL FRACTIONS ISOLATED FROM SKIN FIBROBLASTS OF SUBJECTS WITH CF AND AGE SEX AND PASSAGE NUMBERMATCHED CONTROLS IN WHICH MITOCHONDRIA FROM CF CELLS ACCUMULATED MORE CA THAN THOSE FROM CONTROL CELLS WE ALSO DESCRIBE SUBSEQUENT STUDIES WHICH SHOW INCREASED MITOCHONDRIAL ELECTRON TRANSPORT ACTIVITY MEASURED AS OXYGEN UPTAKE BY WHOLE CELLS IN CELLS FROM SUBJECTS WITH CF AND OBLIGATE HETEROZYGOTES ONE CAN HYPOTHESISE A MECHANISM TO LINK THE ALTERED MITOCHONDRIAL CA IN CF FIBROBLASTS AND THE MAJOR SIGNS ASSOCIATED WITH THE DISEASE DATA SUGGEST THAT THE ELECTRON TRANSPORT SYSTEM IN CF AND OBLIGATE HETEROZYGOTE FIBROBLASTS IS MORE ACTIVE THAN THAT IN RESPECTIVE CONTROLS IN THE CONDITIONS OF THIS STUDY THE APPARENT CENTRAL ROLE OF CA IN SEVERAL PATHOGENETIC PATHWAYS IN CF AND THE DATA REPORTED HERE IN WHICH BOTH MITOCHONDRIAL CA CAPACITY AND OXYGEN CONSUMPTION ARE INCREASED IN CF SUGGEST THAT THIS ORGANELLE IS A SUITABLE FOCUS FOR CF INVESTIGATIONS\n",
            "[13] \t17.0 \t499 \tPATHOPHYSIOLOGY OF MUCUS SECRETION IN CYSTIC FIBROSIS ABNORMALITY OF MUCUS SECRETION EITHER BIOCHEMICAL OR PHYSICAL HAS LONG BEEN CLAIMED TO BE THE PRIMARY CAUSE OF PULMONARY COMPLICATIONS  OBSTRUCTION AND INFECTION  IN PATIENTS SUFFERING FROM CYSTIC FIBROSIS CF THIS REVIEW WILL DRAW IN LARGE MEASURE ON THE EXPERIENCE OF PROF L REID AND HER RESEARCH TEAM WHO OVER THE LAST 15 YEARS HAVE STUDIED MUCUSSECRETING STRUCTURES AND THEIR SECRETIONS IN THE NORMAL AND DISEASED LUNG FROM VARIOUS ANGLES DEVELOPMENT STRUCTURE AND ULTRASTRUCTURE HISTOCHEMISTRY ORGAN CULTURE BIOCHEMICAL ANALYSIS AND RHEOLOGICAL CHARACTERIZATION\n",
            "[14] \t17.0 \t1107 \tREDUCED SERUM 25HYDROXYVITAMIN D CONCENTRATION AND DISORDERED MINERAL METABOLISM IN PATIENTS WITH CYSTIC FIBROSIS VITAMIN D AND MINERAL METABOLISM WERE STUDIED IN 21 ADOLESCENTS AND YOUNG ADULTS WITH CYSTIC FIBROSIS AND THE RESULTS WERE COMPARED TO THOSE IN 21 MATCHED CONTROLS ALL CF PATIENTS HAD BEEN MAINTAINED ON STANDARD MULTIVITAMIN SUPPLEMENTS IN COMBINATION WITH PANCREATIC ENZYME REPLACEMENT DESPITE THIS SUPPLEMENTATION RELATIVE TO CONTROL SUBJECTS THE CF PATIENTS HAD A 36 REDUCTION IN SERUM 25 HYDROXYVITAMIN D CONCENTRATION A SLIGHT BUT SIGNIFICANT REDUCTION IN SERUM CALCIUM CONCENTRATION EVIDENCE OF CALCIUM MALABSORPTION WITH SECONDARY HYPERPARATHYROIDISM AND A 14 DECREASE IN BONE MASS MEASURED BY THE PHOTON ABSORPTION TECHNIQUE CURRENTLY ACCEPTED MODES OF PANCREATIC ENZYME REPLACEMENT AND VITAMIN D SUPPLEMENTATION ARE OFTEN INADEQUATE TO MAINTAIN NORMAL MINERAL HOMEOSTASIS IN CF PATIENTS ADDITIONAL MEASUREMENTS MAY BE REQUIRED TO REDUCE THE RISK OF CLINICALLY SIGNIFICANT OSTEOPENIA CONCOMITANT WITH PROLONGED SURVIVAL IN CF\n",
            "[15] \t16.9 \t139 \tPURIFICATION AND PROPERTIES OF THE CALCIUMPRECIPITABLE PROTEIN IN SUBMAXILLARY SALIVA OF NORMAL AND CYSTIC FIBROSIS SUBJECTS A CALCIUMPRECIPITABLE PROTEIN CAPP PREVIOUSLY SHOWN TO CAUSE TURBIDITY OF SUBMAXILLIARY SALIVA SMS IN PATIENTS WITH CYSTIC FIBROSIS CF WAS PURIFIED FROM NORMAL AND CFSMS BY NH42SO4 PRECIPITATION GEL FILTRATION AND PREPARATIVE POLYACRYLAMIDE GEL ELECTROPHORESIS THIS PROTEIN HAS A MOLECULAR WEIGHT OF 12000 IT CONTAINS LARGE NUMBERS OF SERINE GLYCINE AND GLUTAMIC ACID RESIDUES 085 PHOSPHORUS AS PHOSPHATE MONOESTER AND SMALL AMOUNTS OF CARBOHYDRATE PRECIPITATION AGGREGATION OF CAPP OCCURS AT BASIC PH VALUES IN THE PRESENCE OF IONIC CALCIUM AND IS ENHANCED BY INCREASING CALCIUM CONCENTRATION CAPP CONCENTRATION OR PH AGGREGATED CAPP BINDS CALCIUM IN MOLAR QUANTITIES EQUAL TO THE NUMBER OF PHOSPHATE PROSTHETIC GROUPS ALKALINE PHOSPHATASE REMOVES ALL PHOSPHATE FROM CAPP AND ELIMINATES CALCIUMINDUCED PRECIPITATION STUDIES OF CAPP FROM CF SALIVA HAVE DEMONSTRATED NO ELECTROPHORETIC OR COMPOSITIONAL DIFFERENCES FROM NORMAL CAPP HIGHER THAN NORMAL PH VALUES OR ELEVATED CAPP CONCENTRATIONS ARE NOT PRESENT IN SMS OF PATIENTS WITH CF AND DO NOT CONTRIBUTE TO THE FORMATION OF TURBID SMS AGGREGATION AND PRECIPITATION OF CAPP IN SALIVA OF PATIENTS WITH CF SEEMS TO BE INDUCED PRIMARILY BY ELEVATED LEVELS OF CALCIUM IN SALIVA THIS PRECIPITATION MAY BE ENTIRELY OR IN PART RESPONSIBLE FOR FOCAL OBSTRUCTION OF SUBMAXILLARY GLAND DUCTS IN PATIENTS WITH CF HOWEVER LITTLE OR NO CAPP IS SECRETED IN THE LOWER GASTROINTESTINAL OR TRACHEOBRONCHIAL TRACTS THEREFORE CAPP DOES NOT PLAY A MORE GENERAL ROLE IN THE OBSTRUCTIVE PROCESSES WHICH CHARACTERIZE CF\n",
            "[16] \t16.8 \t501 \tIMPAIRMENT OF MUCOCILIARY TRANSPORT IN CYSTIC FIBROSIS OVER THE PAST FEW YEARS STUDIES FROM VARIOUS LABORATORIES HAVE SUGGESTED THE PRESENCE OF A FACTORS IN CYSTIC FIBROSIS SERUM CAUSING WIDESPREAD IN VITRO ABNORMALITIES OF COMPONENTS OF THE LUNG DEFENCE MECHANISM PARTICULARLY WITH RESPECT TO MACROPHAGE DYSFUNCTION QUANTITATIVE AND QUALITATIVE ALTERATIONS IN MUCUS AND CILIARY MOTILITY THE POSSIBLE IN VIVO ROLE OF CILIARY DYSFUNCTION IN THE PATHOGENESIS OF THE DISEASE IS OF PARTICULAR CLINICAL INTEREST SINCE AN IN VITRO CILIARY DYSKINESIA FACTOR HAD BEEN PREVIOUSLY DEMONSTRATED AND PULMONARY COMPLICATIONS ARE THE HALLMARK OF CF YET CLEARANCE IN MOST OF OUR CLINICALLY STABLE CF SUBJECTS WAS RELATIVELY WELL MAINTAINED THIS SUGGESTED TO US THAT A MUCOCILIARY TRANSPORT ABNORMALITY MIGHT BE PRESENT INTERMITTENTLY IN ORDER TO EXPLORE THIS FURTHER WE DESIGNED NASAL MUCOCILIARY CLEARANCE STUDIES TO DETERMINE WHETHER CF SERUM MIGHT EXHIBIT MCT INHIBITION IN VIVO FROM THESE STUDIES WE CONCLUDED THAT THERE WAS A SUBSTANCES IN CF SERUM WHICH HAD THE CAPACITY TO SLOW MCT WHETHER THIS EFFECT IS ON THE CILIA THEMSELVES OR VIA OVERPRODUCTION OF NORMAL OR ABNORMAL MUCUS IS NOT KNOWN\n",
            "[17] \t16.8 \t564 \tEFFECTS OF CYSTIC FIBROSIS SERUM CILIARY INHIBITOR ON OYSTER GILL ULTRASTRUCTURE ANALYSIS BY SCANNING AND TRANSMISSION ELECTRON MICROSCOPY ULTRASTRUCTURAL ANALYSIS INCLUDING SCANNING AND TRANSMISSION ELECTRON MICROSCOPIC STUDIES SEM AND TEM WERE CARRIED OUT ON OYSTER GILL TISSUE AFTER EXPOSURE EITHER TO SERUM FRACTIONS FROM INDIVIDUALS HOMOZYGOUS OR HETEROZYGOUS FOR CYSTIC FIBROSIS CF TO COMPARABLE SERUM FRACTIONS FROM NORMAL INDIVIDUALS OR TO SEA WATER IN 4 OF THE EXPERIMENTS EXAMINED TOPOLOGICALLY SEM THE CF SERA EITHER HETEROZYGOUS OR HOMOZYGOUS STIMULATED THE PRODUCTION OF MUCUS THAT WAS FOUND IN CLOSE ASSOCIATION WITH THE CILIA THE ASSOCIATION OF EXCESSIVE MUCUS WITH THE CELL SURFACE COULD BE RESPONSIBLE IN PART FOR THE WELLKNOWN INHIBITION OF CILIARY ACTIVITY BY A FACTOR IN CF SERUM IN 3 ADDITIONAL SEM EXPERIMENTS INVOLVING SHORTER TREATMENT TIMES VERY LITTLE DIFFERENCE COULD BE OBSERVED BETWEEN HOMOZYGOUS CF HETEROZYGOUS CF AND NORMAL SERUMFRACTIONTREATED OYSTER TISSUES IN PARALLEL EXPERIMENTS ULTRATHIN SECTIONS OF GILL TISSUE WERE EXAMINED BY MEANS OF TEM THOSE SAMPLES THAT WERE RESPONSIVE AS DETERMINED BY TEM DISPLAYED SEVERAL CHARACTERISTIC FEATURES INCLUDING ENLARGED AND PARTIALLY EXUDED GOBLET CELLS ALTERED MUCUS STRUCTURE ALONG WITH TWISTED AND MATTED CILIA AN OVERALL SWELLING OF THE GILL FILAMENT WAS ALSO OBSERVED IN THE RESPONSIVE TISSUES FROM TEM ANALYSIS NO DETECTABLE ALTERATION IN FINE STRUCTURE WAS APPARENT IN GILL TISSUES THAT WERE TREATED WITH SERA FROM HETEROZYGOUS OR NORMAL INDIVIDUALS\n",
            "[18] \t16.6 \t52 \tERYTHROCYTE MEMBRANE PROPERTIES IN CYSTIC FIBROSIS THE BIOCHEMICAL PROPERTIES OF THE ERYTHROCYTE MEMBRANE HAVE BEEN STUDIED IN CYSTIC FIBROSIS PATIENTS AND IN AGEMATCHED CONTROLS NO SIGNIFICANT DIFFERENCES COULD BE OBSERVED IN EITHER THE CONCENTRATION OR COMPOSITION OF THE PRINCIPAL MEMBRANE CONSTITUENTS CONTRARY TO PREVIOUS REPORTS WE FOUND NORMAL LEVELS OF THE MG2DEPENDENT AND CA2  MG2DEPENDENT ATPASE ACTIVITIES IN CF PREPARATIONS HOWEVER A QUALITATIVE DIFFERENCE WAS OBSERVED IN THE CA2DEPENDENT ATPASE SINCE THE ENZYME HAD RELATIVELY GREATER ACTIVITY AT LOWER CALCIUM CONCENTRATIONS IN THE CYSTIC PREPARATIONS THIS EFFECT ON THE MEMBRANEBOUND CA2ATPASE IS UNLIKELY TO REPRESENT A GENETIC DEFECT IN THE ENZYME ITSELF BUT IT MAY BE CONNECTED WITH THE MECHANISM OF PATHOGENESIS IN CYSTIC FIBROSIS\n",
            "[19] \t16.6 \t147 \tLETTER RATES AND CALCIUM CONCENTRATIONS OF SWEAT IN RELATION TO CYSTIC FIBROSIS THE AUTHORS OF THE RECENT ARTICLE WHICH FAILED TO SHOW A SIGNIFICANT DIFFERENCE BETWEEN SWEAT CALCIUM CONCENTRATIONS OF CF PATIENTS AND CONTROL SUBJECTS SUGGEST THAT THE FINDINGS REFUTE OUR HYPERPERMEABILITY HYPOTHESIS THEY FOUND SWEAT CA OF 032 TO 167 MEQLITER IN 26 CONTROL SUBJECTS AND 042 TO 203 MEQLITER IN 16 CF PATIENTS WITH THESE TREMENDOUS RANGES MANY MORE SUBJECTS WOULD BE REQUIRED TO PROVE OR DISPROVE A DIFFERENCE A DIFFERENCE UNDETECTABLE IN A MODERATE NUMBER OF SUBJECTS IS PROBABLY NOT OF PATHOPHYSIOLOGIC SIGNIFICANCE IF THE CA REALLY VARIES UNPREDICTABLY SWEAT CA HOWEVER IS GENERALLY BELIEVED TO VARY WITH THE RATE OF SWEATING BEING MUCH HIGHER AT LOWER RATES AND MEASUREMENTS MADE AT COMPARABLE RATES MIGHT WELL SHOW SIGNIFICANT DIFFERENCES THE AUTHORS DID ATTEMPT TO CONTROL RATE BUT IN A VERY INAPPROPRIATE MANNER THEY MEASURED NO CONSTANT RATE BUT TOOK THE AVERAGE RATE DURING THE 30 MINUTES IMMEDIATELY AFTER IONTOPHORESIS THIS GIVES LITTLE INFORMATION CONCERNING THE RATE AT WHICH THE SWEAT WAS ACTUALLY PRODUCED\n",
            "[20] \t16.4 \t568 \tCULTURED CELLS IN CYSTIC FIBROSIS RESEARCH A REVIEW CYSTIC FIBROSIS CF IS A COMMON INHERITED DISORDER WHICH IS CHARACTERIZED BY THE PRODUCTION OF EXOCRINE SECRETIONS WITH ELEVATED ION CONTENT AND ABNORMALLY VISCOUS MUCUS OVER THE LAST FEW YEARS CELLS OBTAINED FROM THE PERIPHERAL BLOOD OR CULTURED FROM TISSUES OF CYSTIC FIBROSIS PATIENTS HAVE BEEN USED INCREASINGLY IN THE STUDY OF THE DISEASE INVESTIGATIONS OF THE FOLLOWING PROPERTIES OF CYSTIC FIBROSIS CELLS ARE REVIEWED MORPHOLOGY ULTRASTRUCTURE GROWTH KINETICS CELLULAR METACHROMASIA THE PRODUCTION OF CILIARY INHIBITORS CELLULAR COMPOSITION PLASMA MEMBRANE COMPOSITION THE TRANSPORT OF INORGANIC IONS AND SMALL ORGANIC MOLECULES LYSOSOMAL ENZYME CONTENT AND RNA METHYLATION STUDIES OF THE EFFECTS ON CULTURED CELLS AND ERYTHROCYTE MEMBRANES OF FACTORS IN CF CELL CULTURE MEDIUM AND BIOLOGICAL FLUIDS FROM CF PATIENTS ARE DISCUSSED\n",
            "[21] \t16.4 \t867 \tRECTAL MUCOSA IN CYSTIC FIBROSIS MORPHOLOGICAL FEATURES BEFORE AND AFTER SHORT TERM ORGAN CULTURE HISTOLOGICAL CHANGES OBSERVED IN THE LARGE INTESTINAL MUCOSA OF CYSTIC FIBROSIS CF PATIENTS INCLUDING CRYPT ENLARGEMENT AS WELL AS INTRACELLULAR AND EXTRACELLULAR ACCUMULATION OF MUCUS HAVE BEEN CONSIDERED BY SOME TO BE USEFUL DIAGNOSTIC SIGNS OF THIS DISEASE THE EXTENT OF THESE CHANGES HOWEVER HAS NOT BEEN EVALUATED QUANTITATIVELY IN THIS STUDY QUANTITATIVE STEREOLOGICAL METHODS WERE APPLIED TO BIOPSIES OF RECTAL MUCOSA FROM 5 CF PATIENTS 5 SIBLING CONTROLS AND 2 NORMAL ADULTS TO MEASURE GOBLET CELL NUMBERS CRYPT LUMINAL VOLUME AND VOLUME OF INTRACELLULAR MUCUS IT WAS FOUND THAT CF CRYPT LUMINA WERE VARIABLY DILATED BUT THAT THE AVERAGE RELATIVE VOLUME OF INTRACELLULAR MUCUS AND THE NUMBERS OF GOBLET CELLS IN CF MUCOSAE WERE COMPARABLE TO THOSE OF SIBLING AND ADULT CONTROLS IN CF BIOPSIES HOWEVER SURFACE COLUMNAR ABSORPTIVE CELLS CONSISTENTLY CONTAINED PUTATIVE LIPID DROPLETS AND RAPIDLY ACCUMULATED ADDITIONAL LARGE LIPID DROPLETS DURING SHORT TERM ORGAN CULTURE LIPID DROPLETS WERE NOT OBSERVED IN THE SAME CELL TYPES OF CONTROL BIOPSIES BEFORE OR AFTER SHORT TERM ORGAN CULTURE\n",
            "[22] \t16.3 \t392 \tRECENT ADVANCES IN CYSTIC FIBROSIS RESEARCH CYSTIC FIBROSIS AT ONE TIME WAS CONSIDERED TO BE A LETHAL CONDITION WITH DEATH OCCURRING AT BIRTH OR WITHIN THE FIRST YEAR OF LIFE WITH THE ADVENT OF ANTIBIOTIC THERAPY PANCREATIC ENZYME REPLACEMENT EXTENSIVE PHYSICAL THERAPY AND GENERALLY IMPROVED MEDICAL TREATMENT MANY PATIENTS NOW SURVIVE TO ADULTHOOD CLINICAL MANIFESTATIONS IN CF VARY FROM PATIENT TO PATIENT AND MAY INCLUDE PULMONARY DISEASE MALNUTRITION PANCREATIC INSUFFICIENCY AND DEFECTIVE ION TRANSPORT THE MOST RELIABLE LABORATORY METHOD FOR DIAGNOSIS OF CF IS TESTING FOR ELEVATED SWEAT ELECTROLYTE LEVELS ESTIMATES OF THE INCIDENCE OF CF VARY FROM 1 IN 2000 TO 1 IN 3500 AMONG WHITE POPULATIONS OF MIDEUROPEAN HERITAGE THE DISEASE IS RARE IN BLACK POPULATIONS AND ALMOST NONEXISTENT IN ORIENTALS SINCE 1967 THERE HAS BEEN AN INTENSIVE SEARCH FOR A CIRCULATING FACTOR OR FACTORS WHICH MAY BE DIRECTLY OR INDIRECTLY RESPONSIBLE FOR THE MALFUNCTIONS MANIFEST IN THIS DISEASE SWEAT FACTORS SERUM FACTORS METACHROMASIA BIOASSAY VARIATIONS AND PROPERTIES OF THE CILIARY INHIBITOR ARE DISCUSSED SEVERAL GROUPS WORKING IN CF RESEARCH HAVE CENTERED THEIR ATTENTION ON THE SERUM COMPLEMENT SYSTEM AGGLUTINATION AND MUCUS FACTORS TRANSPORT STUDIES ENZYME STUDIES AND PRENATAL DIAGNOSIS ARE ALSO EXAMINED\n",
            "[23] \t16.2 \t1167 \tTHE EFFECT OF CYSTIC FIBROSIS AND NONCYSTIC FIBROSIS PLASMA ON ELECTROPHYSIOLOGICAL RESPONSES IN ISOLATED FROG GASTRIC MUCOSA AN ALTERNATIVE METHOD FOR ASSAYING THE CYSTIC FIBROSIS FACTOR COULD BE ON THE ELECTROPHYSIOLOGICAL RESPONSES OF ISOLATED LIVING TISSUES THE ABILITY OF THE FROGS GASTRIC MUCOSA TO SECRETE HYDROCHLORIC ACID AND MAINTAIN A NEGATIVE POTENTIAL DIFFERENCE IS WELL KNOWN THIS POTENTIAL DIFFERENCE ACROSS THE SECRETORY MUCOSA TO THE NUTRIENT SEROSA SIDE COUPLED WITH ITS PROPERTY OF TRANSPORTING CHLORIDE AND HYDROGEN IONS AGAINST AN ELECTROCHEMICAL GRADIENT COULD THEREFORE SERVE AS A USEFUL MODEL FOR INVESTIGATING ANY INDUCED CHANGES IN THE PRESENCE OF CF AND NONCF PLASMA FROM THE RESULTS OBTAINED THE SHORT CIRCUIT CURRENT AND H SECRETION RESPONSES IN THE PRESENCE OF CF WHOLE PLASMA SHOW SIGNIFICANT INCREASES COMPARED TO THE CONTROL THESE FINDINGS SHOW THAT IN THE PRESENCE OF CF PLASMA WHOLE OR PLASMA FRACTION B THERE IS A MARKED INCREASE IN THE ACTIVELY TRANSPORTED CL AND H THE EFFECT OF CF PLASMA IN INCREASING NET CL FLUX IS IMPORTANT CONSIDERING THE ELEVATION OF THIS ELECTROLYTE IN THE SWEAT OF CF PATIENTS AND DESERVED FURTHER INVESTIGATION\n",
            "[24] \t16.2 \t742 \tTHE CHRONICALLY RESERPINIZED RAT AS A POSSIBLE MODEL FOR CYSTIC FIBROSIS VI SYNERGISTIC EFFECTS OF ISOPROTERENOL ON CA AND PROTEIN IN THE SUBMAXILLARY GLAND ELEVATED CALCIUM AND PROTEIN CONCENTRATION ARE A CONSISTENT ABNORMALITY IN SUBMAXILLARY SALIVA FROM PATIENTS WITH CYSTIC FIBROSIS CF AND FROM EXPERIMENTAL ANIMAL MODELS DEVELOPED BY THE CHRONIC ADMINISTRATION OF EITHER ISOPROTERENOL IPR OR RESERPINE THE POSSIBILITY THAT THE EFFECTS OF THE TWO DRUGS MAY BE ADDITIVE WAS INVESTIGATED BY ASSESSING THEIR COMBINED EFFECTS ON GLANDULAR AND SALIVARY C AND PROTEIN IN THE RAT SUBMAXILLARY GLAND INDIVIDUALLY THEIR EFFECTS WERE ALSO ASSESSED IN RELATION TO THE DOSE USED RESULTS INDICATE THAT 1 TREATMENT FOR 7 DAYS WITH 005 050 AND 50 MGKG DAILY DOSE OF RESERPINE CAUSED RESPECTIVELY A 45 95 AND 120 INCREASE IN GLANDULAR CA AND A 93 165 AND 374 INCREASE IN GLANDULAR PROTEIN 2 TREATMENT FOR 7 DAYS WITH A 50 MGKG DAILY DOSE OF ISOPROTERENOL CAUSED A 138 INCREASE IN GLAND CA AND A 1238 INCREASE IN GLAND PROTEIN TREATMENT WITH A 50 MGRAT DAILY DOSE OF THIS DRUG CAUSED INCREASES OF 166 AND 103 IN GLAND CA AND PROTEIN 3 IN EXPERIMENTS INVOLVING A COMBINATION OF THE TWO DRUGS ISOPROTERENOL WAS ADMINISTERED IN A 50 MGKG DAILY DOSE FROM DAYS 17 AND RESERPINE IN A 05 MGKG DAILY DOSE FROM DAYS 410 OF THE TREATMENT SCHEDULE THIS PROCEDURE RESULTED IN A A 217 INCREASE IN GLAND CA AND A 257 INCREASE IN GLAND PROTEIN B A MARKED ACCUMULATION OF A GRANULAR BASOPHILIC MATERIAL IN ACINAR CELLS AND THE DEVELOPMENT OF INTRADUCTAL PRECIPITATES C THE SECRETION OF TURBID SALIVA WITH HIGH CA AND PROTEIN CONCENTRATIONS AFTER A SECRETORY DOSE OF ISOPROTERENOL THIS TYPE OF STIMULATION ALSO REDUCED THE GLAND CA 50 AND PROTEIN 20 CONTENTS AND PRODUCED VACUOLIZATION IN THE ACINAR CELLS D THE SECRETION OF SALIVA WITH ELEVATED CA AND PROTEIN IN RESPONSE TO PILOCARPINE THESE ELEVATED CONCENTRATIONS WERE HOWEVER ONEFIFTH OF THOSE OBTAINED AFTER ISOPROTERENOL STIMULATION E THE SECRETION OF SMALLER VOLUME OF SALIVA AFTER BOTH TYPES OF STIMULATION THESE FINDINGS INDICATE THAT BOTH IPR AND RESERPINE HAVE A DOSERELATED AND SIGNIFICANT EFFECT ON SUBMAXILLARY GLAND CA AND PROTEIN AND THAT THEIR INDIVIDUAL EFFECTS ARE SYNERGISTIC THE IMPLICATIONS OF THIS SYNERGISM FOR THE PHYSIOLOGIC STATE OF THE SUBMAXILLARY GLAND AND FOR THE SECRETORY ABNORMALITY OF CYSTIC FIBROSIS ARE DISCUSSED\n",
            "[25] \t16.1 \t1145 \tPATHOGENESIS OF CYSTIC FIBROSIS POSSIBLE IMPORTANCE OF ALTERATION IN EPITHELIAL SURFACE TOPOGRAPHY AS THE PATHOGENESIS IN CYSTIC FIBROSIS CF HAS BEEN CONSIDERED TO LIE IN A DISTURBANCE IN THE BEHAVIOR OF SECRETIONS PARTICULARLY MUCINS FROM EXOCRINE GLANDS IT HAS BEEN PROPOSED THAT AN ALTERATION IN SURFACE TOPOGRAPHY FORM NUMBER OR DISTRIBUTION OF MICROVILLI OR BLEBS OF EPITHELIAL CELLS LINING DUCTS COULD IMPAIR DISTRIBUTION LEADING TO RETENTION OF MUCUS LEADING TO THE CLINICAL PHENOTYPE SCANNING ELECTRONMICROSCOPY OF HUMAN EPITHELIAL SUSPENSION CULTURES NOW OFFERS AN OPPORTUNITY TO EVALUATE THE ROLE OF PLASMALEMMA TOPOGRAPHY IN CF\n",
            "[26] \t16.1 \t451 \tANTIBIOTIC THERAPY AND CYSTIC FIBROSIS INCREASED RESISTANCE OF MUCOID PSEUDOMONAS AERUGINOSA TO CARBENICILLIN THE PRESENT COMMUNICATION REPORTS THE EFFECT OF THE BACTERIAL MUCUS ON THE ACTIVITY OF ANTIBODIES ON STRAINS OF P AERUGINOSA MUCOID VARIANTS OF P AERUGINOSA OBTAINED FROM THE NONMUCOID STRAINS PAO 381 AND PAT 404 BY SELECTION FOR PHENOTYPIC RESISTANCE TO THE VIRULENT PHAGE E 79 WERE MORE RESISTANT TO CARBENICILLIN THAN THE NONMUCOID PARENT STRAINS MUCOID P AERUGINOSA STRAINS ISOLATED FROM TWO CF PATIENTS WERE MORE RESISTANT TO CARBENICILLIN THAN NONMUCOID STRAINS ISOLATED FROM THE SAME SAMPLES OF SPUTUM WHEN THE EXPERIMENTS ALREADY DESCRIBED WERE REPEATED WITH OXYTETRACYCLINE IN CONTRAST TO OUR EXPERIENCE WITH CARBENICILLIN MUCOID STRAINS WERE FOUND TO BE MORE SENSITIVE THAN NONMUCOID STRAINS TO PROVE THE HYPOTHESIS THAT MUCOID STRAINS CAN BE SELECTED IN VIVO BY CARBENICILLIN THERAPY IT WILL BE NECESSARY TO SHOW THAT THE LEVEL OF CARBENICILLIN IN CF SECRETIONS IS LESS THAN THE MINIMUM INHIBITORY CONCENTRATIONS OF MUCOID STRAINS BUT GREATER THAN THAT OF NONMUCOID STRAINS WE ARE NOW INVESTIGATING ADDITIONAL CF ISOLATES IN CONJUNCTION WITH THE RANGE OF ANTIBIOTICS USED IN CHEMOTHERAPY OF CF PATIENTS\n",
            "[27] \t16.1 \t967 \tCALCIUM AND SODIUM TRANSPORT PROCESSES IN PATIENTS WITH CYSTIC FIBROSIS 2 MG2 DEPENDENT CA2 ATPASE ACTIVITY IN FIBROBLAST MEMBRANE PREPARATIONS FROM CYSTIC FIBROSIS PATIENTS AND CONTROLS MG2DEPENDENT CA2ATPASE ACTIVITY WAS DETERMINED IN MEMBRANE PREPARATIONS OF FIBROBLASTS GROWN FROM SKIN BIOPSIES OF CYSTIC FIBROSIS PATIENTS AND AGEMATCHED CONTROLS THIS ENZYME WAS STIMULATED BY INCREASING FREE CALCIUM CONCENTRATIONS WITH AN APPARENT KDISS FOR CALCIUM OF APPROXIMATELY 45 MICRON ALTHOUGH THERE WAS A GREAT DEAL OF VARIATION IN CA2ATPASE ACTIVITY OBSERVED BETWEEN INDIVIDUAL STRAINS THERE WAS A SIGNIFICANT DECREASE IN THE MAXIMAL ACTIVATION OF THE CA2ATPASE IN MEMBRANE PREPARATIONS OF FIBROBLASTS OBTAINED FROM CYSTIC FIBROSIS PATIENTS COMPARED TO THE CONTROLS P LESS THAN 005 THIS OBSERVATION INDICATES THAT DECREASED CA2 ATPASE ACTIVITY IS A GENERALIZED PHENOMENON IN CYSTIC FIBROSIS FOUND IN MORE THAN ONE CELLTYPE THIS DECREASE IN CA2ATPASE ACTIVITY MAY HAVE A NUMBER OF IMPLICATIONS THAT MAY EXPLAIN SOME OF THE MANIFESTATIONS OF THE DISEASE\n",
            "[28] \t15.9 \t875 \tMUCOUS GLYCOPROTEINS IN CYSTIC FIBROSIS PP 10821 CYSTIC FIBROSIS THE MOST COMMON LETHAL GENETIC TRAIT OF CAUCASIANS CAUSES MUCH OF THE CHRONIC PROGRESSIVE LUNG DISEASE IN CHILDREN AND YOUNG ADULTS IT IS ALSO RESPONSIBLE FOR INTESTINAL OBSTRUCTION AT BIRTH MECONIUM ILEUS PANCREATIC INSUFFICIENCY WITH MALDIGESTION AND FAILURE TO GROW AND OBSTRUCTIVE LIVER DISEASE IN THIS AGE GROUP FURTHERMORE OBLITERATION OF THE VAS DEFERENS CAUSES ASPERMIA AND INFERTILITY IN MOST MALES WITH CF INDIVIDUALS WITH CF SECRETE SWEAT WHICH CONTAINS EXCESSIVE AMOUNTS OF CHLORIDE AND SODIUM DIAGNOSTIC CRITERIA INCLUDE DETECTION OF ELEVATED CHLORIDE LEVELS IN SWEAT OF INDIVIDUALS WITH TYPICAL PULMONARY GASTROINTESTINAL OR GENITAL MANIFESTATIONS OF THE DISEASE THERE ARE SEVERAL WELL DOCUMENTED ALTERATIONS IN THE MUCOUS SECRETIONS OF INDIVIDUALS WITH CYSTIC FIBROSIS ANY OF WHICH ALONE OR IN COMBINATION MAY INTERFERE WITH MUCOUS CLEARANCE FROM THE LUNG OR FROM PASSAGEWAYS OF OTHER ORGANS IT SEEMS CLEAR THAT ADDITIONAL STUDIES TO DEFINE BASIC ASPECTS OF NORMAL MUCOUS BIOCHEMISTRY PHYSIOLOGY AND PHARMACOLOGY MUST PRECEDE OR PARALLEL STUDIES OF CF MUCOUS SECRETIONS IF DATA PERTINENT TO CF PATHOPHYSIOLOGY ARE TO BE GENERATED PARTICULAR NEEDS INCLUDE AN UNDERSTANDING OF THE CHEMICAL DETERMINANTS OF PHYSICAL AND RHEOLOGICAL PROPERTIES OF THESE SECRETIONS AND ELUCIDATION OF MECHANISMS FOR CONTROL OF SULFATED GLYCOPROTEIN BIOSYNTHESIS\n",
            "[29] \t15.9 \t481 \tCYSTIC FIBROSIS EFFECTS OF SERUM FACTORS ON MUCUS SECRETION THE EFFECTS OF SERUM FROM CHILDREN WITH CYSTIC FIBROSIS AND FROM NORMAL CHILDREN ON THE MUCUSSECRETING CILIATED EPITHELIUM HAVE BEEN INVESTIGATED IN VITRO USING EXPLANTED TISSUE FROM RABBIT LUNG BY OPTICAL AND SCANNING ELECTRON MICROSCOPY A SEQUENCE OF STRUCTURAL CHANGES IS OBSERVED AFTER INCUBATION WITH CYSTIC FIBROSIS SERUM THIS SEQUENCE DOES NOT OCCUR WITH NORMAL SERUM THE EARLIEST CHANGES INVOLVE SWELLING OF THE GOBLET CELLS WITH SUBSEQUENT DISCHARGE OF MUCUS ONTO THE EPITHELIAL SURFACE THIS IS FOLLOWED BY DISRUPTION OF THE NORMALLY RAPID AND SYNCHRONIZED CILIARY ACTIVITY MUCUS GRADUALLY EXTENDS OVER THE SURFACE ENTANGLING CILIA FINALLY SOME SHEDDING OF CILIATED CELLS OCCURS FROM THE EPITHELIUM THESE FINDINGS SUGGEST THAT FACTORS IN CYSTIC FIBROSIS SERUM CAUSE DISCHARGE OF MUCUS LEADING TO A DISTURBANCE OF THE NORMAL CILIARY ACTIVITY IN THE RABBIT LUNG IT IS POSTULATED THAT SUCH CHANGES RESULT IN DYSFUNCTION OF THE MUCOCILIARY CLEARANCE MECHANISM AND THAT THIS DYSFUNCTION MAY BE A CONTRIBUTORY FACTOR TO THE PATHOGENESIS OF LUNG DISEASE\n",
            "[30] \t15.8 \t246 \tEXCRETION OF TRYPSINLIKE ACTIVITY ELECTROLYTES AND PROTEIN IN MIXED AND PAROTID SALIVA OF PATIENTS WITH CYSTIC FIBROSIS OF THE PANCREAS THE ESTEROLYTIC ACTIVITY OF MIXED AND PAROTID SALIVA IN CYSTIC FIBROSIS CF PATIENTS AND NORMAL SUBJECTS WAS DETERMINED USING BAEE ALPHABENZOYL1ARGININEETHYLESTER AS THE SUBSTRATE USING SOYBEAN TRYPSININHIBITOR THE TRYPSINLIKE ACTIVITY TLA WAS MEASURED AND PLOTTED AS A FUNCTION OF PAROTID FLOW RATE IN ADDITION CALCIUM PROTEIN AND PH WERE DETERMINED TRYPSINLIKE ACTIVITY IN MIXED AND PAROTID SALIVA SHOWED LARGE INDIVIDUAL VARIATIONS IN CF AND NORMAL CHILDREN IN PAROTID SALIVA WE COULD NOT FIND ANY SIGNIFICANT DIFFERENCE WHEREAS A REDUCTION OF TLA IN MIXED SALIVA OF CF PATIENTS WAS OBSERVED THE FACT THAT OUR NORMAL VALUES FELL WITHIN THE RANGE OF HETEROZYGOTES REPORTED BY RAO ET AL 19 MAKES THEIR HYPOTHESIS OF A CLOSE RELATIONSHIP BETWEEN REDUCED TLA AND THE GENETIC DEFECT VERY DOUBTFUL PROTEIN CALCIUM AND PH INCREASED WITH AUGMENTED SALIVATION AND NO DIFFERENCE BETWEEN CF PATIENTS AND NORMAL AGE MATCHED CHILDREN COULD BE FOUND EXCEPT FOR THE PH AT A FLOW RATE ABOVE 075 MLMIN PER M2 BODY SURFACE WHERE SIGNIFICANTLY LOWER PH VALUES RESULTED THE RELEVANCE OF REDUCED TLA TO THE PATHOGENESIS OF CYSTIC FIBROSIS IS DISCUSSED\n",
            "[31] \t15.8 \t265 \tMUCOID STRAINS OF PSEUDOMONAS AERUGINOSA THE INFLUENCE OF CULTURE MEDIUM ON THE STABILITY OF MUCUS PRODUCTION MUCOID STRAINS OF PSEUDOMONAS AERUGINOSA ISOLATED FROM THE RESPIRATORY TRACT OF PATIENTS WITH CYSTIC FIBROSIS CF THOSE OBTAINED FROM NONCF PATIENTS AND THOSE OBTAINED IN VITRO BY THE ACTION OF PHAGE WERE FOUND TO BE STABLE IN THEIR MUCOID COLONIAL FORM WHEN SERIALLY SUBCULTURED ON DEOXYCHOLATECITRATE AGAR THE ABILITY OF ANIONIC CATIONIC AND NEUTRAL SURFACTANTS TO STABILISE MUCUS PRODUCTION IS DESCRIBED THE POSSIBLE IMPORTANCE OF DIPALMITOYL LECITHIN AS A STABILISING AGENT FOR MUCUS PRODUCTION IN VIVO IS CONSIDERED WITH PARTICULAR REFERENCE TO THE ROLE OF MUCOID P AERUGINOSA IN CF DISEASE\n",
            "[32] \t15.8 \t975 \tTHE BIOCHEMICAL BASIS OF CYSTIC FIBROSIS AN HYPOTHESIS BASED UPON THE POLYELECTROLYTES OF MUCUS THE EVIDENCE SHOWS THAT THE PATHOLOGY OF CYSTIC FIBROSIS CF IS RELATED TO MUCOID SECRETIONS CONSEQUENTLY THE QUESTION OF WHAT GOVERNS THE VISCOSITY OF MUCUS IS EXAMINED IN DETAIL IT IS GENERALLY AGREED THAT THE MUCIN GEL CONSISTS OF POLYANIONIC GLYCOPROTEINS AND A HITHERTO UNIDENTIFIED POLY CATIONIC CROSSLINKING PROTEIN IT IS PROPOSED THAT LARGER AMOUNTS OF POLYCATIONS INCREASE VISCOSITY AND IN EXCESS CAUSE MUCUS TO BECOME A POLYCATION AS THESE COMPOUNDS ARE KNOWN TO INHIBIT THE DUCTAL REABSORPTION OF SODIUM THE TWO PRINCIPAL ASPECTS OF THE PATHOLOGY OF CF CAN BE RELATED TO THE SAME MECHANISM THE MUCUS GLOBULE MEMBRANE MGM HAS BEEN PROPOSED AS THE CROSS LINKING PROTEIN\n",
            "[33] \t15.6 \t527 \tCOLLOID AND CRYSTAL FORMATION IN PAROTID SALIVA OF CYSTIC FIBROSIS PATIENTS AND NONCYSTIC FIBROSIS SUBJECTS I PHYSICOCHEMISTRY TWO TYPES OF TURBIDITY WERE FOUND IN PAROTID SALIVA FROM BOTH CYSTIC FIBROSIS CF PATIENTS AND NONCF SUBJECTS ON COOLING SALIVA A RAPIDLY FORMING REVERSIBLE COLDDEPENDENT TURBIDITY APPEARED IN INCREASING AMOUNTS WITH DECREASING TEMPERATURE AND INCREASING PROTEIN CONCENTRATION AT 37 DEGREES A SLOWLY FORMING STABLE TURBIDITY APPEARED IN INCREASED AMOUNTS IN PAROTID SALIVA SAMPLES CONTAINING INCREASED AMOUNTS OF CALCIUM THE 2 DEGREE CENTRIFUGED PELLET CONSISTED PREDOMINANTLY OF PROTEIN WHEREAS THE 37 DEGREE PELLET CONTAINED CALCIUM INORGANIC PHOSPHATE AND PROTEIN THE COLD DEPENDENT TURBIDITY AT 2 DEGREES WAS NOT INHIBITED BY EDTA BUT 37 DEGREES TURBIDITY WAS DRAMATICALLY INHIBITED UREA AND GUANIDINE HYDROCHLORIDE REDUCED 2 DEGREE TURBIDITY AND TO A LESSER EXTENT INHIBITED 37 DEGREE TURBIDITY THE TENDENCY TOWARDS HIGHER LEVELS OF PROTEIN AMYLASE AND CALCIUM IN CF COMPARED WITH CHILD CONTROL PAROTID SALIVA 4 6 CAUSES A GREATER INCIDENCE AND DEGREE OF TURBIDITY FORMATION IN SALIVA OF CF PATIENTS IN THIS PAPER ONLY THE NATURE OF THE TURBIDITY HAS BEEN INVESTIGATED NOT ITS RELATIVE OCCURRENCE IN EACH GROUP OF SUBJECTS\n",
            "[34] \t15.6 \t189 \tFAMILY ADJUSTMENT TO CYSTIC FIBROSIS A NURSE AND MOTHER DESCRIBES THE CLINICAL EFFECTS OF CYSTIC FIBROSIS ON PATIENTS AND THE LONGTERM DEMANDS THE DISEASE PLACES ON HER OWN AND OTHER CHILDREN AND FAMILIES DIAGNOSIS IS MAINLY ACCOMPLISHED WITH AN ANALYSIS OF SWEAT FOR SODIUM AND CHLORIDE IONS CF IS TRANSMITTED AS A MENDELIAN RECESSIVE TRAIT IT IS A GENERALIZED DYSFUNCTION OF THE ENDOCRINE GLANDS THE ABNORMALITIES SEEMINGLY UNRELATED APPEAR AS LOSS OF ELECTROLYTES THROUGH THE SWEAT AND SALIVARY GLANDS AND AS UNUSUALLY THICK STICKY MUCUS SECRETIONS THAT OBSTRUCT AND DAMAGE THE PATIENTS PANCREAS LUNGS GALLBLADDER INTESTINES AND LIVER THE OBJECTIVE OF PULMONARY THERAPY ARE TO DECREASE VISCOSITY OF THE PULMONARY SECRETIONS AND TO IMPROVE AND MAINTAIN PULMONARY HYGIENE FINANCIAL COST IS ONLY ONE OF MANY BURDENS ON THE FAMILY\n",
            "[35] \t15.6 \t151 \tTHE ELECTRON MICROSCOPIC APPEARANCE OF PRESECRETED GASTRIC MUCUS IN CYSTIC FIBROSIS GASTRIC MUCOSAL BIOPSIES FROM EIGHT NEW UNTREATED PATIENTS WITH CYSTIC FIBROSIS CF AND TWO NORMAL SUBJECTS WERE STUDIED BY QUANTITATIVE TECHNIQUES OF ELECTRON MICROSCOPY EM TO DETERMINE WHETHER PRESECRETED GASTRIC MUCUS WAS MORE COMPACT VISCID THAN NORMAL ANALYSIS OF VARIANCE TECHNIQUES SHOW NO DIFFERENCES BETWEEN MEANS OF ALL GROUPS STUDIED THESE OBSERVATIONS SUGGEST THAT MUCUS MAY NOT BE VISCID PRIOR TO SECRETION ELECTRON MICROSCOPY OF GASTRIC MUCUS DOES NOT APPEAR TO BE OF DIAGNOSTIC VALUE IN CF\n",
            "[36] \t15.5 \t636 \tCYSTIC FIBROSIS THE EFFECT OF MEDIUM FROM CULTURED CYSTIC FIBROSIS FIBROBLASTS ON ATPASE ACTIVITY CULTURE MEDIUM FROM FIBROBLASTS OF CYSTIC FIBROSIS PATIENTS AND CONTROLS WAS EXAMINED FOR THE ABILITY TO INHIBIT CALCIUM PLUS MAGNESIUMACTIVATED ATPASE AND SODIUM PLUS POTASSIUMACTIVATED ATPASE THE ATPASE SYSTEMS USED WERE BOTH A SOLUBILISED PREPARATION FROM DOGFISH AND A MEMBRANE ASSOCIATED PREPARATION FROM HUMAN ERYTHROCYES CONTRARY TO OTHER REPORTS THE MEDIUM FROM CYSTIC FIBROSIS FIBROBLASTS DID NOT INHIBIT ATPASE ACTIVITY\n",
            "[37] \t15.4 \t201 \tCILIARY INHIBITION AND AXONEMAL MICROTUBULE ALTERATIONS IN FRESHWATER MUSSELS A PHENOMENON ASSOCIATED WITH THE GENETIC DISEASE OF CYSTIC FIBROSIS CF IS THE PRESENCE OF A SERUM FACTOR THAT STOPS OR DISCOORDINATES CILIARY BEATING THIS EFFECT HAS BEEN DEMONSTRATED BY EXPOSING FRESHWATER MUSSEL OR OYSTER GILL CILIA OR RABBIT TRACHEAL CILIA TO SERA FROM HOMOZYGOUS OR HETEROZYGOUS CYSTIC FIBROSIS SUBJECTS ASSAY REPRODUCIBILITY IS UNSATISFACTORY HOWEVER AND THE MECHANISM OF THE EFFECT IS NOT UNDERSTOOD NOR DO WE KNOW WHY THERE MAY BE CONSIDERABLE DIFFERENCES BETWEEN THE ACTIVITY OF TESTED HETEROZYGOTES AND OF HOMOZYGOTES BECAUSE THE CILIARY ASSAY IS CAPRICIOUS THERE IS A NEED TO UNDERSTAND HOW CILIARY BEATING IS DISTURBED OR STOPPED SINCE MICROTUBULES ARE IMPORTANT IN THE MECHANISM OF CILIARY MOTION THEY COULD CONCEIVABLY SHOW ALTERATIONS DURING THE RESPONSE TO INHIBITORY SUBSTANCES THERE HAS BEEN NO ULTRASTRUCTURAL STUDY HOWEVER OF THE EFFECTS OF CILIARY INHIBITION ON THE AXONEMAL COMPONENTS THEREFORE THIS STUDY WAS DESIGNED TO EXAMINE CILIARY STRUCTURE DURING THE DIFFERENT STAGES OF CILIARY INHIBITION RAPID MICROTUBULAR DISAPPEARANCE AND REAPPEARANCE OCCURS IN THE TERMINAL CILIA OF THE FRESHWATER MUSSEL UNIO WHEN EXPOSURE TO CF SERUM CAUSES A SHOCKSTOP REACTION AND RETURN TO WATER ALLOWS RESUMPTION OF NORMAL CILIARY BEATING IN CONTRAST A SLOWSTOP REACTION CAUSES DISTORTION OF CILIA ASYNCHRONOUS BEATING AND EJECTION OF CELLS FROM THE DISTAL GILL FILAMENT BUT CILIARY AXONEMAL STRUCTURE IS PRESERVED SLOWSTOPPED CILIA DO NOT RESUME THEIR BEATING IN WATER SALIVA FROM RESERPINETREATED RATS CAUSES CILIARY INHIBITION SIMILAR TO THAT INDUCED BY CF SERUM\n",
            "[38] \t15.3 \t658 \tMINIMAL BILE ACID MALABSORPTION LETTER ROLLER AND KERN REPORT THAT BILE ACID MALABSORPTION IN PATIENTS WITH CYSTIC FIBROSIS CF AND ACQUIRED PANCREATIC INSUFFICIENCY IS MINIMAL THESE FINDINGS ARE AT VARIANCE WITH OTHER STUDIES AND DESERVE COMMENT IN THE ABSENCE OF FECAL BILE ACID VALUES IN CONTROLS THE AUTHORS CANNOT STATE THAT LEVELS IN CF ARE ONLY TWICE NORMAL VALUES ESPECIALLY SINCE THE PAPERS CITED ON NORMAL BILE ACID EXCRETION REFER TO MEASUREMENTS OBTAINED BY A DIFFERENT TECHNIQUE WE ALSO QUESTION THE VALIDITY OF THE BREATH TEST AS AN INDEX OF BILE ACID MALABSORPTION IN CF OUR RECENT REPORT SHOWS THAT IN 8 OLDER CF MEAN AGE 121 YEARS THE MAGNITUDE OF BILE ACID LOSS IN THE STOOLS WAS COMPARABLE TO THAT OF THE YOUNGER AGE GROUP MEAN AGE 39 YEARS AND THAT THERE WAS NO CORRELATION BETWEEN THE AGE AND THE DEGREE OF BILE ACID LOSS ON THE OTHER HAND WE MUST TAKE ISSUE WITH ROLLER AND KERN WHEN THEY SUGGEST THAT BILE ACID MALABSORPTION IN CF IS PROBABLY NOT CLINICALLY IMPORTANT OUR FINDINGS NOT ONLY BEAR RELEVANCE TO THE INTESTINAL MANIFESTATIONS OF CF AND TO THE INCREASED INCIDENCE OF CHOLELITHIASIS BUT PERHAPS ALSO TO THE EARLY DEPOSITION WITHIN THE INTRAHEPATIC DUCTS OF EOSINOPHILIC MUCUS CONCRETIONS PROPOSED AS THE CAUSE OF BILIARY CIRRHOSIS IN THIS DISEASE\n",
            "[39] \t15.2 \t950 \tCYSTIC FIBROSIS ISOLATION AND PHYSICAL PROPERTIES OF A SALIVARY CYSTIC FIBROSIS FACTOR A CILIOSTATIC FACTOR HAS BEEN ISOLATED FROM CYSTIC FIBROSIS CF SALIVA BY DIALYZING IT FROM PURIFIED ALPHAAMYLASE PREPARED BY A GLYCOGENCOMPLEX METHOD THIS METHOD OF ISOLATING THE CF FACTOR IS AN IMPROVEMENT OVER THE PREVIOUSLY EMPLOYED HEPARIN PROCEDURE THE ACTIVITY OF THE ISOLATED FACTOR IS PROPORTIONAL WITH CONCENTRATION USING THE OYSTER GILL CILIOSTATIC ASSAY AND IN ITS INHIBITION OF MAMMALIAN GLYCOGEN DEBRANCHING ENZYME THE CILIOSTATIC ACTION OF THE FACTOR CAN BE REVERSED BY HEPARIN UNDER CERTAIN CONDITIONS THE TYPE OF INHIBITION OF THE DEBRANCHING ENZYME BY THE ISOLATED CF FACTOR INDICATES THAT ITS CHEMICAL STRUCTURE IS SIMILAR TO THAT OBSERVED WITH HYDROXYALKYLAMINES AND POLYAMINE METABOLITES PHYSICAL PROPERTIES OF THE ISOLATED FACTOR INDICATE THAT IT IS OF LOW MOLECULAR WEIGHT AND IS LABILE AS A FUNCTION OF PH AND TEMPERATURE AT NEUTRAL PH THE CONDITIONS UNDER WHICH IT IS MAINTAINED HAVE A DIRECT EFFECT ON THE LENGTH OF TIME THAT IT IS STABLE\n",
            "[40] \t15.2 \t496 \tMUCINS FROM CYSTIC FIBROSIS SPUTUM A BIOCHEMICAL STUDY OF BRONCHIAL MUCINS IN SPUTUM FROM PATIENTS WITH CYSTIC FIBROSIS WAS UNDERTAKEN IN ORDER TO DETERMINE THEIR CHEMICAL FEATURES AND TO COMPARE THEM WITH BRONCHIAL MUCINS SECRETED IN OTHER PHYSIOLOGICAL OR PATHOLOGICAL CONDITIONS THE MUCINS STUDIED IN THE PRESENT WORK WERE OBTAINED FROM THE INSOLUBLE AND FIBRILLAR PART OF SPUTUM IF BRONCHIAL MUCINS ARE THE MAIN GLYCOPROTEINS IN THE FIBRILLAR MUCUS THESE DATA SUGGEST THAT THERE IS A HIGH PROPORTION OF ACIDIC MUCINS WITHIN THE BRONCHIAL SECRETIONS FROM CF PATIENTS THE PREDOMINANCE OF ACIDIC MUCINS MAY NOT BE A SPECIFIC FEATURE OF CF SINCE THE SPUTUM FROM THE 2 PATIENTS WITH OTHER DISEASES HAD A SIMILAR MUCIN DISTRIBUTION AS FAR AS CF IS CONCERNED IT IS PRESENTLY IMPOSSIBLE TO STATE WHETHER THE BRONCHIAL MUCINS REPRESENT NORMAL MUCINS OF THE CHILD OR STRUCTURALLY ABNORMAL MOLECULES\n",
            "[41] \t15.2 \t559 \tMANIFESTATIONS OF CYSTIC FIBROSIS IN ADULTS LETTER CYSTIC FIBROSIS CF IS A RECESSIVE AUTOSOMAL GENETIC DISEASE IN WHICH EXOCRINE GLANDS SECRETE HIGHLY VISCOUS MUCUS VARIABLE GENETIC PENETRANCE ORGAN SPARING RESULTS IN A BROAD SPECTRUM OF CLINICAL PRESENTATIONS THE DIAGNOSIS OF CF IS USUALLY ESTABLISHED BY THE PRESENCE OF CHRONIC OBSTRUCTIVE LUNG DISEASE ANDOR GASTROINTESTINAL DYSFUNCTION TOGETHER WITH ELEVATED LEVELS OF SWEAT ELECTROLYTES CHLORIDE  60 MEQLITER MARKEDLY DIMINISHED DUODENAL PANCREATIC ENZYME CONCENTRATIONS OR PATHOLOGIC CHANGES IN TISSUE FAMILY HISTORY MAY OCCASIONALLY BE HELPFUL THE METABOLIC BASIS OF CF IS UNKNOWN THE CLASSIC STEREOTYPE OF THE CF PATIENT IS AN INFANT WITH A CHRONIC COUGH DIARRHEA AND GROWTH FAILURE IMPROVED MEDICAL CARE IS ENABLING MANY OF THESE PATIENTS TO REACH ADULTHOOD AND INCREASED DIAGNOSTIC SUSPICION IS RESULTING IN IDENTIFICATION OF THE DISEASE IN MORE ADULTS BASED UPON ANALYSIS OF OVER 11000 CASES OF CF REPORTED DURING THE YEAR 1974 BY 119 CYSTIC FIBROSIS CENTERS THE NATIONAL CYSTIC FIBROSIS FOUNDATION ESTIMATED THAT THE PROBABILITY OF AN INDIVIDUAL WITH CF SURVIVING TO AGE 20 WAS APPROXIMATELY 39 ALTHOUGH MOST OF THESE ADULTS ARE CURRENTLY UNDER THE CARE OF PEDIATRICIANS THE DEVELOPMENT OF MEDICAL PSYCHIATRIC SURGICAL OR OBSTETRIC COMPLICATIONS MAY NECESSITATE THE INVOLVEMENT OF OTHER PROFESSIONALS A JOINT STUDY OF CYSTIC FIBROSIS IN ADULTS CONDUCTED BY DUKE MEDICAL CENTER AND THE NIH HAS SHOWN THAT THE MAJORITY OF AFFECTED ADULTS INCLUDING THOSE DIAGNOSED EARLY IN LIFE ARE MARRIED AND WORK FULL OR PARTTIME MANY MANIFEST FEW IF ANY SYMPTOMS UNTIL RELATIVELY LATE IN LIFE SINCE THIS STUDY WAS RETROSPECTIVE THE REPORTED FREQUENCIES OF THE CLINICAL FINDINGS TEND TO UNDERESTIMATE IN ALL INSTANCES THE ACTUAL INCIDENCE IN THE POPULATION STUDIED THE REPORTED INCIDENCE OF CF IN THE UNITED STATES HAS BEEN CONSERVATIVELY ESTIMATED AT 12000 LIVE BIRTHS IF ALL ADULTS WITH CLUBBING INFERTILITY AND OTHER SYMPTOMS WERE EVALUATED FOR CF THE TRUE INCIDENCE WOULD CERTAINLY BE HIGHER\n",
            "[42] \t15.2 \t303 \tINHIBITION OF OUABAINSENSITIVE ATPASE BY THE SALIVA OF PATIENTS WITH CYSTIC FIBROSIS OF THE PANCREAS A STUDY HAS BEEN MADE OF THE EFFECT OF SALIVA FROM CHILDREN WITH CYSTIC FIBROSIS OF THE PANCREAS CFP ON VARIOUS COMPONENTS OF THE ATP HYDROLYZING ENZYME SYSTEM THE OUABAINSENSITIVE ATPASE ACTIVITY OF ERYTHROCYTE MEMBRANES PREPARED FROM INTACT ERYTHROCYTES PREINCUBATED WITH CFP SALIVA WAS 35  4 NMOL PIMG FRY WT MEMBRANE SUSPENSIONHR COMPARED WITH 48  7 NMOL PIMG DRY WT MEMBRANE SUSPENSIONHR WHEN THE ERYTHROCYTES WERE PREINCUBATED WITH CONTROL SALIVA A CALCIUMACTIVATED COMPONENT OF ATPASE WAS DECREASED FROM 202  30 NMOL PIMG DRY WT MEMBRANE SUSPENSIONHR IN ERYTHROCYTES PREINCUBATED WITH CONTROL SALIVA TO 151  17 NMOL PIMG DRY WT MEMBRANE SUSPENSIONHR WHEN THE INCUBATION WAS CARRIED OUT WITH CFP SALIVA IN A SECOND SERIES OF EXPERIMENTS ULTRAFILTERED SALIVA WAS ADDED DIRECTLY TO AN ATPASE ASSAY THE SALIVA FROM CHILDREN WITH CFP BROUGHT ABOUT A MEAN DECREASE IN OUABAINSENSITIVE ATPASE OF 16 COMPARED WITH CONTROL SALIVA\n",
            "[43] \t15.1 \t1207 \tDEVELOPMENT OF AN IMPROVED TRACHEAL EXPLANT BIOASSAY FOR THE DETECTION OF THE CILIARY DYSKINESIA FACTOR IN CYSTIC FIBROSIS SERUM A TRACHEAL RING EXPLANT SYSTEM WHEN USED WITH 25 CYSTIC FIBROSIS CF SERUM DISPLAYED OBVIOUS CILIOSTASIS HAMSTER RABBIT AND GUINEA PIG EXPLANTS ALL HAD MEASURABLE DECREASES IN CILIARY ACTIVITY AFTER 24 HR OF INCUBATION IN THE SERUM THE DIFFERENTIAL RESPONSE TO CF SERUM RELATIVE TO NORMAL SERUM WAS GREATLY INCREASED BY USING EXPLANTS WHICH WERE MAINTAINED 2472 HR IN MINIMAL ESSENTIAL MEDIUM MEM WITH 10 HORSE SERUM AND WHICH WERE SELECTED ON THE BASIS OF OPTIMAL CILIARY ACTIVITY AND VIGOR WITH SUCH A BIOASSAY SYSTEM OF GUINEA PIG TRACHEAL EXPLANTS INCUBATION WITH 25 NORMAL SERUM WOULD PRODUCE ESSENTIALLY NO CHANGE IN RELATIVE CILIARY ACTIVITY SCORE OF 242 OF A POSSIBLE 300 WHEREAS CF SERUM RESULTED IN AN 86 DECREASE SCORE OF 33 SCANNING ELECTRON MICROSCOPIC OBSERVATION INDICATED THAT THE EXPLANTS DISPLAYING THE CFCILIOSTATIC EFFECT HAD SIGNIFICANT ACCUMULATIONS OF MUCOUS OVER THE CILIATED EPITHELIAL SURFACE A BIOCHEMICAL VIABILITY ASSAY DEHYDROGENASE ACTIVITY SHOWED NO CYTONECROSIS WHEN CF SERUMTREATED TISSUES WERE COMPARED TO STANDARD EXPLANTS 10 HORSE SERUM IN MEM OR CONTROL EXPLANTS 25 NORMAL HUMAN SERUM\n",
            "[44] \t15.0 \t1175 \tSULPHATED GLYCOPROTEINS IN THE PANCREAS SEVERAL REPORTS HAVE INDICATED THE PRESENCE OF ABNORMALLY HIGH AMOUNTS OF SULPHATE IN THE MUCOUS GLANDS OF PATIENTS WITH CYSTIC FIBROSIS BEARING THESE FACTS IN MIND WE SUSPECTED THAT ABNORMAL OVERSULPHATED AND STRONGLY ANIONIC GLYCOPROTEINS MIGHT BE INVOLVED IN THE PATHOGENESIS OF CF THE PRESENT STUDY WAS CARRIED OUT TO DETERMINE WHETHER SULPHATED BLOODGROUP SUBSTANCES OCCUR IN NORMAL PANCREATIC TISSUE THE DISTRIBUTION OF SULPHATE OVER THE EXOCRINE PART OF PANCREAS DOES COINCIDE WITH THE DISTRIBUTION OF BLOODGROUP SUBSTANCE PREVIOUSLY OBSERVED BY FLUORESCENT MICROSCOPY WE THEREFORE FIND IT VERY LIKELY THAT THE SULPHATE AND BLOODGROUP SUBSTANCE ARE ASSOCIATED WITH THE SAME GLYCOPROTEIN MOLECULE SINCE BLOODGROUP SUBSTANCE HAS BEEN DEMONSTRATED IN MANY SECRETIONS IN MAN AND SINCE HIGH AMOUNTS OF SULPHATE HAVE BEEN FOUND IN THE MUCOUS GLANDS IN CF SUCH A MECHANISM IS POSSIBLE IN MANY LOCATIONS AND MAY THUS OFFER AN EXPLANATION FOR THE MULTIORGAN INVOLVEMENT IN CF\n",
            "[45] \t15.0 \t711 \tFATTYACID COMPOSITION OF LECITHIN FRACTION OF MUCUS IN CYSTIC FIBROSIS LETTER WE HAVE STUDIED SEVEN PATIENTS WITH CF AND TEN NORMAL CHILDREN AND HAVE CONFIRMED THE LOW LEVELS OF EFA BOTH IN PLASMA AND IN REDCELL MEMBRANE IN THE CF GROUP WE WOULD LIKE TO REPORT HERE PRELIMINARY RESULTS ON THE FATTYACID PATTERN OF THE LECITHIN FRACTION OF BRONCHIAL MUCUS IN THE SAME GROUP OF PATIENTS AND CONTROLS CONTENT OF PALMITIC ACID WAS LOWER AND THAT OF OLEIC ACID WAS HIGHER IN THE CF PATIENTS THAN IN NORMAL CHILDREN THIS ABNORMALITY IN THE FATTYACID COMPOSITION OF THE LECITHIN OF THE MUCUS COULD BE AN IMPORTANT FINDING IN RELATION TO THE RESPIRATORY SYMPTOMS IN CF SOME EXPERIMENTAL WORK SUPPORTS THIS HYPOTHESIS\n",
            "[46] \t14.9 \t454 \tFORMATION OF CALCIUM PHOSPHATES IN SALIVA AND DENTAL PLAQUE THIS IS AN XRAY DIFFRACTION STUDY OF THE MINERAL PHASES IN SALIVA AND EARLY DENTAL PLAQUE THE SALIVAS STUDIED CAME FROM PATIENTS WITH CYSTIC FIBROSIS CF THOSE WITH ASTHMA AND HEAVY AND LIGHT CALCULUS FORMERS ONEWEEK OLD PLAQUE WAS STUDIED FROM INDIVIDUALS WHO ARE HEAVY MODERATE AND LIGHT CALCULUS FORMERS\n",
            "[47] \t14.9 \t526 \tPAROTID GLAND FUNCTION IN CHILDREN WITH CYSTIC FIBROSIS AND CHILD CONTROL SUBJECTS PAROTID SALIVA WAS COLLECTED FROM 22 CHILDREN WITH CYSTIC FIBROSIS CF AND 21 CONTROL CHILDREN STIMULATION WAS BY 01 ML 5 CITRIC ACID ON THE TONGUE EVERY 15 SEC OVER A PERIOD OF 10 MIN AND SAMPLES WERE COLLECTED FOR 2MIN INTERVALS STIMULATED SALIVA SHOWED A LAG PERIOD OF LOW AMYLASE RELEASE AND AN ACTIVATED PERIOD OF HIGHER AMYLASE RELEASE THE MAJOR DIFFERENCE BETWEEN CF AND CHILD CONTROL PAROTID SALIVA WAS IN THE ELEVATED CALCIUM CONCENTRATIONS IN CF SUBJECTS FLOW RATE AND AMYLASE ALTHOUGH HIGHER IN THE CF GROUP WERE NOT RAISED TO A STATISTICALLY SIGNIFICANT LEVEL THERE WERE HIGHER MEAN VALUES FOR SODIUM AND INORGANIC PHOSPHATE IN CF CHILDREN BUT STATISTICAL SIGNIFICANCE WAS MINIMAL POTASSIUM VALUES WERE ALMOST IDENTICAL IN CF AND CONTROL SALIVA IN THE ACTIVATED PAROTID SALIVA SAMPLES OF BOTH CONTROL AND CF SUBJECTS THERE WERE POSITIVE CORRELATIONS BETWEEN FLOW RATE AND CALCIUM FLOW RATE AND SODIUM ANYLASE AND CALCIUM AND SODIUM AND CALCIUM AND NEGATIVE CORRELATIONS BETWEEN SODIUM AND POTASSIUM THE PAROTID FUNCTION TEST HAS NO VALUE AS A DIAGNOSTIC TEST FOR CYSTIC FIBROSIS AS EVEN CALCIUM VALUES SHOW TOO MUCH OVERLAP WITH CONTROL SALIVA TO BE OF DIAGNOSTIC WORTH\n",
            "[48] \t14.9 \t11 \tCOEXISTENT RESPIRATORY ALLERGY AND CYSTIC FIBROSIS THE PREVALENCE OF RESPIRATORY ALLERGIES AND THEIR EFFECTS ON THE COURSE OF CYSTIC FIBROSIS CF WERE STUDIED IN 63 PATIENTS FIFTEEN PATIENTS 24 HAD RESPIRATORY ALLERGIES AS DEFINED BY HISTORY PHYSICAL EXAMINATION POSITIVE ALLERGY SKIN TESTS NASAL AND PERIPHERAL EOSINOPHILIA AND REVERSIBLE AIRWAY OBSTRUCTION SERUM IMMUNOGLOBULINS ON THESE 15 ALLERGIC CF AND 22 NONALLERGIC CF PATIENTS WERE ELEVATED WHEN COMPARED WITH THOSE IN NORMAL AGEMATCHED CONTROLS THE ALLERGIC CF PATIENTS HAD SIGNIFICANTLY HIGHER IGE LEVELS MEAN 598 INTERNATIONAL UNITS IU COMPARED TO 281 IU IGG IGM AND IGA LEVELS WERE SIMILAR IN THE TWO CF GROUPS THE CLINICAL CONDITION OF THE ALLERGIC CF PATIENTS SHWACHMAN SCORE WAS BETTER THAN THE NONALLERGIC SUGGESTING SOME MODULATING EFFECT OF RESPIRATORY ALLERGY ON THE SEVERITY OF THE DISEASE\n",
            "[49] \t14.9 \t1026 \tBIOLOGICAL ACTIVITIES OF CYSTIC FIBROSIS SERUM III CF SERUM INDUCED UPTAKE OF 45CA BY RABBIT TRACHEAL EXPLANTS CYSTIC FIBROSIS CF SERUM AND ITS ISOLATED COMPONENT IGG FRACTION PRODUCE AN INCREASED UPTAKE OF 45CA IN RABBIT TRACHEAL EXPLANTS WHEN COMPARED TO CONTROL SERUM AND ITS ISOLATED IGG FRACTION HETEROZYGOTE SERUM ALSO PRODUCED AN INCREASED UPTAKE OF 45CA BUT NOT TO THE SAME EXTENT AS CF SERUM THE CALCIUM CHANNEL BLOCKER D600 INHIBITED THE CF SERUM INDUCED UPTAKE OF 45CA INDICATING THAT CF SERUM MAY BE ACTING ON THE PLASMA MEMBRANE TO PRODUCE CHANGES IN CALCIUM PERMEABILITY IN RABBIT TRACHEAL EXPLANTS\n",
            "[50] \t14.8 \t850 \tDOUBLING TIME ALPHAAMINOISOBUTYRATE TRANSPORT AND CALCIUM EXCHANGE IN CULTURED FIBROBLASTS FROM CYSTIC FIBROSIS AND CONTROL SUBJECTS POPULATION DOUBLING TIME KINETICS OF TRANSPORT OF ALPHA AMINOISOBUTYRATE AIB AND CALCIUM CA EXCHANGE WERE STUDIED IN SKIN FIBROBLAST MONOLAYERS OBTAINED FROM 5 SUBJECTS WITH CYSTIC FIBROSIS CF AND 5 AGE AND SEXMATCHED CONTROLS POPULATION DOUBLING TIME AS ESTIMATED FROM CELL COUNT PROTEIN AND DNA WAS NO DIFFERENT IN THE TWO GROUPS KM VMAX MAXIMAL UPTAKE AND TIME OF HALF MAXIMAL UPTAKE OF AIB WERE NO DIFFERENT IN THE TWO GROUPS INTRACELLULAR CA POOL SIZE BASED ON EXCHANGE OF 45CA WITH UNLABELLED CA WAS SIGNIFICANTLY GREATER IN MONOLAYERS FROM CF SUBJECTS\n",
            "[51] \t14.8 \t520 \tCOLLOID AND CRYSTAL FORMATION IN PAROTID SALIVA OF CYSTIC FIBROSIS PATIENTS AND NONCYSTIC FIBROSIS SUBJECTS II ELECTRON MICROSCOPY AND ELECTROPHORESIS CENTRIFUGED PELLETS OF TURBID PAROTID SALIVA FROM CYSTIC FIBROSIS CF PATIENTS AND NONCF SUBJECTS OBTAINED FROM SALIVA KEPT AT 2 DEGREES FOR 10 MIN HAD THE ELECTRON MICROSCOPE APPEARANCE OF AMORPHOUS ROUND PARTICLES AND WERE THOUGHT TO BE COLLOIDAL AGGREGATES OF ORGANIC MATERIAL DROPS OF TURBID SALIVA FROM SAMPLES INCUBATED FOR 2 HR AT 2 DEGREES OR 37 DEGREES ADDITIONALLY CONTAINED DISCRETE ELECTRONDENSE CRYSTALS HAVING WELL DEFINED ANGULAR MORPHOLOGY USUALLY CUBIC RETANGULAR OR APPROXIMATELY HEXAGONAL THE INHIBITORS UREA GUANIDINE HYDROCHLORIDE AND EDTA RESULTED IN NO CRYSTALS BEING OBSERVED SELECTED AREA ELECTRON DIFFRACTION FROM INDIVIDUAL CRYSTALS SHOWED PREDOMINANTLY HEXAGONAL RECTANGULAR PATTERNS COULD BE INDEXED AS COMING FROM HYDROXYAPITITE A TRANSITION FROM THE HEXAGONAL TO THE RECTANGULAR PATTERN AND BACK TO THE HEXAGONAL PATTERN COULD BE OBTAINED FROM INDIVIDUAL CRYSTALS TILTED IN THE ELECTRON MICROSCOPE THE SQUARE DIFFRACTION PATTERN MAY BE FROM OCTACALCIUM OR BRUSHITE POLYACRYLAMIDE GEL DISC ELECTROPHORESIS OF THE PAROTID SALIVA INDICATED THAT THE SPARINGLY SOLUBLE PROTEINS IN THE 2 DEGREE AND 37 DEGREE PELLETS COMPRISED PROLINERICH PROTEINS AND A CALCIUMPRECIPITABLE TRICHLOROACETIC ACID TCAPRECIPITABLE PHOSPHOPROTEIN WHICH FLUORESCED WITH AMIDO SCHWARZ AND COOMASSIE BRILLIANT BLUE G250\n",
            "[52] \t14.8 \t522 \tTHE PANCREAS IN CYSTIC FIBROSIS CHEMICAL COMPOSITION AND COMPARATIVE MORPHOLOGY SECTIONS OF PANCREAS FROM 16 INDIVIDUALS WHO DIED WITH CYSTIC FIBROSIS CF WERE CLASSIFIED BY MORPHOMETRIC CRITERIA INTO FOUR CATEGORIES IN INCREASING ORDER OF PANCREATIC INVOLVEMENT THE CONCENTRATION OF ACINI ISLETS MAIN DUCTS LOBULAR DUCTS CONNECTIVE TISSUE AND FAT WAS COMPARED WITH CONTROL LEVELS THE RESULTS SHOW THAT IN THE LEAST INVOLVED PANCREASES FROM NEONATES WHO DIED UNDER 5 MONTHS OF AGE ACINI WERE REDUCED TO 33 OF CONTROL LEVELS AND THE FOLLOWING WERE INCREASED ISLETS TO 410 LOBULAR DUCTS TO 250 AND MAIN DUCTS TO 1700 OF CONTROLS WITH INCREASING SEVERITY OF THE PANCREATIC DISEASE THE ACINI WERE FURTHER REDUCED TO 5 AND LOBULAR DUCTS TO 37 OF CONTROL LEVELS RESPECTIVELY MAIN DUCTS INCREASED BY 19FOLD AND FATTY INFILTRATION ACCOUNTED FOR MORE THAN 25 OF THE FRESH WEIGHT OF THE PANCREAS IN 9 OF THE 16 SPECIMENS COMPARATIVE BIOCHEMICAL STUDIES OF 35 FIBROCYSTIC PANCREASES WERE QUANTITATIVELY RELATED TO THE SEVERITY OF THE PANCREATIC INVOLVEMENT AS FOLLOWS WATER AND VOLATILE MATTER NORMALLY ACCOUNTING FOR 80  OF THE WEIGHT OF THE FRESH PANCREAS WAS REDUCED TO LESS THAN 30 IN THE MOST AFFECTED ORGANS THE CONCENTRATION OF ZINC DIMINISHED FROM NEAR NORMAL MEAN LEVELS OF 193 MUGZNG DRY PANCREAS TO 10 OF THIS AMOUNT IN THE SEVERELY INVOLVED PANCREAS ELEVATED CONCENTRATIONS OF CALCIUM AMOUNTING TO OVER 10 TIMES CONTROL LEVEL WERE FOUND IN OBSTRUCTED DUCTAL STRUCTURES CALCIUM WAS DEPLETED FROM PANCREATIC SECTIONS ADJACENT TO THE OBSTRUCTIONS THE FOLLOWING BIOCHEMICAL INDICATORS WERE SIGNIFICANTLY DIFFERENT IN THEIR MEAN LEVELS IN THE 35 FIBROCYSTIC PANCREASES WHEN COMPARED WITH THE 17 CONTROLS P LESS THAN OR EQUAL TO 0001 FAT WATER ZINC CALCIUM COPPER MAGNESIUM POTASSIUM AND SODIUM P LESS THAN OR EQUAL TO 001\n",
            "[53] \t14.8 \t596 \tPEDIATRIC GASTROENTEROLOGY 1169123175 A REVIEW PART I HOLLOW VISCERA AND THE PANCREAS CUMULATIVE SURVIVAL IN CYSTIC FIBROSIS CF FOR THREE SUCCESSIVE 5YEAR PERIODS BETWEEN 1952 AND 1967 IS 35 64 AND 77 RESPECTIVELY OPERATIVE MORTALITY IN MECONIUM ILEUS IS NOT REDUCED TO 25 FROM 70 NACETYLCYSTEINE EFFECTIVELY CLEANSES THE BOWEL OF TENACIOUS MECONIUM PLUGS WHEN DIRECTLY INJECTED DURING LAPAROTOMY HOWEVER MUCOMIST ENEMA ALONE GENERALLY DOES NOT SUFFICE SELECTED CASES HAVE BEEN TREATED SUCCESSFULLY WITH HYPEROSMOLAR GASTROGRAFFIN ENEMA SEVERAL SCREENING TESTS BASED ON THE INCREASED ALBUMIN CONCENTRATIONS PRESENT IN THE MECONIUM ARE AVAILABLE FOR CF THE BOEHRINGERMANNHEIM TEST STRIP IS FAVORED AND YIELDED NO FALSE POSITIVES IN 69000 TESTS OF MECONIUM HOWEVER 4 OF 60 NEONATES WHO SUBSEQUENTLY PROVED TO HAVE CF HAD FALSE NEGATIVE TESTS A PATHOGNOMONIC ELEVATION OF SODIUM AND CHLORIDE CONCENTRATIONS IN THE SWEAT COLLECTED BY PILOCARPINE IONTOPHORESIS REMAINS THE DEFINITIVE DIAGNOSTIC TEST BILE ACID MALABSORPTION OCCURS IN CF BUT NOT IN CELIAC DISEASE THE AUTHORS POSTULATE THAT THE PRESENCE OF MALDIGESTED MATERIALS OR THE ABSENCE OF PANCREATIC ENZYMES INTERFERES WITH BILE ACID ABSORPTION THE DEFECT DISAPPEARS WITH PANCREATIC EXTRACTS SUBSTITUTION OF MEDIUMCHAIN TRIGLYCERIDES FOR DIETARY LONGCHAIN FATTY ACIDS REDUCES STEATORRHEA IN CF HOWEVER THE POSITIVE EFFECT OF MCT ON WEIGHT GAIN IS TRANSITORY GROWTH RETARDATION CORRELATES BETTER WITH THE DEGREE OF PULMONARY DISEASE THAN WITH PANCREATIC INSUFFICIENCY\n",
            "[54] \t14.7 \t776 \tCYSTIC FIBROSIS CYSTIC FIBROSIS CF IS A SERIOUS GENETIC DISORDER OCCURRING MAINLY AMONG THE WHITES AND STARTING IN EARLY CHILDHOOD OR EVEN AT BIRTH THE NAME IS A SHORTENING OF THE OLD TERM CYSTIC FIBROSIS OR FIBROCYSTIC DISEASE OF THE PANCREAS THIS COMES FROM THE HISTORICAL APPEARANCE AT POSTMORTEM FIRST DESCRIBED BY LANDSTEINER IN 1905 IT WAS ONLY IN 1938 THAT DOROTHEE ANDERSON AND FANCONI REALISED THAT THE DISEASE WAS A SEPARATE ENTITY AND NOT SIMPLY A MANIFESTATION OF OTHER ILLNESSES ANOTHER NAME IS MUCOVISCIDOSIS WHICH GIVES A CLUE AS TO ONE OF THE MOST IMPORTANT FEATURES OF THE DISEASE MUCUS FORMED IS THICKER AND STICKIER MORE VISCID THAN NORMAL AND TENDS TO CLOG UP THE BRONCHI AND DUCTS PARTICULARLY THE PANCREATIC DUCTS CHRONIC BRONCHITIS WITH RECURRENT SEVERE INFECTION AND MALABSORPTION ARE THE MAIN SYMPTOMS OF THE DISEASE THE OTHER IMPORTANT ABNORMALITY IS AN INCREASED AMOUNT OF SODIUM CHLORIDE SALT IN THE SWEAT THIS FACT USED IN THE DIAGNOSIS WAS FIRST REALISED DURING A HEAT WAVE IN NEW YORK IN 1953 WHEN IT WAS NOTICED THAT MOST OF THE CHILDREN WITH HEAT PROSTRATION SUFFERED FROM CF LITTLE IS KNOWN OF THE CAUSES OF THE ABNORMALITIES OF SWEAT AND MUCUS SOME GENERALISED CELL ABNORMALITY  ENZYMATIC SEEMS POSSIBLE THERE IS NO DOUBT THAT THE CONDITION IS GENETICALLY TRANSMITTED AND MOST EVIDENCE FAVOURS A RECESSIVE MODE OF INHERITANCE\n",
            "[55] \t14.6 \t439 \tMUCOUS GLYCOPROTEINS PP 16577 EARLY INVESTIGATORS EMPLOYED HISTOCHEMICAL CHEMICAL AND PHYSIOCHEMICAL TECHNIQUES IN AN ATTEMPT TO IDENTIFY DIFFERENCES BETWEEN CYSTIC FIBROSIS AND CONTROL MUCOUS SECRETIONS SEVERAL MUCOUS GLYCOPROTEIN ABNORMALITIES WERE SUGGESTED BY THEIR STUDIES IN RETROSPECT NONE OF THESE STUDIES ACHIEVED THEIR GOAL OF DESCRIBING A FUNDAMENTAL MUCOUS GLYCOPROTEIN ABNORMALITY PECULIAR TO CF IMPROVED METHODS HAVE BEEN DEVISED FOR THE COLLECTION OF MUCOUS GLYCOPROTEINS IN HUMAN RESPIRATORY TRACT SECRETIONS AND THE STUDY OF THEIR CHEMICAL AND PHYSICAL PROPERTIES THEREFORE IT IS NOW POSSIBLE TO MAKE PRELIMINARY COMPARISONS BETWEEN HUMAN TRACHEOBRONCHIAL MUCOUS GLYCOPROTEINS FROM CF AND NONCF SOURCES GENERAL PROPERTIES OF MUCOUS GLYCOPROTEINS HUMAN TRACHEOBRONCHIAL MUCOUS GLYCOPROTEINS COMPARISON OF CF AND NONCF TRACHEOBRONCHIAL MUCOUS GLYCOPROTEIN AND SUGGESTED DIRECTIONS FOR FUTURE STUDIES OF CF MUCOUS SECRETIONS ARE DISCUSSED\n",
            "[56] \t14.6 \t988 \tACTIVATED COMPLEMENT IN THE SPUTUM FROM PATIENTS WITH CYSTIC FIBROSIS 14 CYSTIC FIBROSIS CF PATIENTS CHRONICALLY INFECTED WITH MUCOID P AERUGINOSA AND PRESENTING MULTIPLE PRECIPITINS IN SERUM AGAINST THIS BACTERIUM CF  P AND 13 CF PATIENTS WITHOUT P AERUGINOSA INFECTION CFP HAD THEIR PLASMA AND SPUTUM SOL PHASE EXAMINED FOR ALBUMIN CLQ C3C3C C4 AND C5 BY MEANS OF ELECTROIMMUNOASSAYS THEIR SPUTUM SOL PHASE WAS EXAMINED ALSO FOR FACTOR B BY ROCKETIMMUNOELECTROPHORESIS C3C WAS DEMONSTRATED IN THE SPUTUM SOL PHASE BUT SIGNIFICANTLY MORE FREQUENT P LESS THAN 001 AMONG THE CF  P PATIENTS THAN AMONG THE CFP PATIENTS FACTOR B WAS ALSO DEMONSTRATED IN THE SPUTUM SOL PHASE BUT NO SIGNIFICANT DIFFERENCE IN FREQUENCY COULD BE DEMONSTRATED BETWEEN THE CF  P AND THE CFP PATIENTS NONE OF THE RESULTS INDICATED THAT A LOCAL PULMONARY PRODUCTION OF COMPLEMENT FACTORS TOOK PLACE COMPLEMENT ACTIVATION WAS SIGNIFICANTLY P LESS THAN 001 ASSOCIATED WITH INFLAMMATION EXPRESSED AS INCREASED FORMULA SEE TEXT THE RESULTS SHOW THE IMPORTANCE OF COMPLEMENT MEDIATED INFLAMMATION IN THE PATHOGENESIS OF PULMONARY TISSUE DAMAGE IN PATIENTS WITH CF AND SUPPORT THE CONCEPT OF CHRONIC P AERUGINOSA LUNG INFECTION AS AN IMMUNE COMPLEX DISEASE IN CF PATIENTS\n",
            "[57] \t14.5 \t690 \tPROLONGED OBSTRUCTIVE JAUNDICE AND GIANT CELL HEPATITIS IN AN INFANT WITH CYSTIC FIBROSIS LETTER HISTOLOGIC EVIDENCE OF LIVER INVOLVEMENT CONSISTING OF FOCAL BILIARY CIRRHOSIS ANDOR INTRAHEPATIC MUCUS IS A FREQUENT AUTOPSY FINDING IN INFANTS WITH CYSTIC FIBROSIS CF WE WISH TO REPORT AN INFANT WITH CF IN WHICH LIVER BIOPSY SHOWED FEATURES TYPICAL OF NEONATAL GIANT CELL HEPATITIS IN OUR PATIENT NONE OF THE PATHOLOGIC FEATURES USUALLY DESCRIBED IN CF WERE PRESENT IN EITHER OF THE BIOPSIES RATHER THE CHANGES WERE THOSE DESCRIBED IN NEONATAL HEPATITIS AND TO OUR KNOWLEDGE HAVE NOT BEEN REPORTED IN ASSOCIATION WITH CF IT IS LIKELY THAT THE GIANT CELL HEPATITIS WAS A COINCIDENTAL FINDING UNRELATED TO CF IT EMPHASIZES HOWEVER THAT ONE CANNOT ASSUME A UNIFORM ETIOLOGY FOR ALL INSTANCES OF OBSTRUCTIVE JAUNDICE SEEN IN INFANTS WITH CF\n",
            "[58] \t14.5 \t1173 \tPRECIPITATING ANTIBODIES AGAINST E COLI B FRAGILIS AND P AERUGINOSA IN CF PATIENTS AND NORMAL PERSONS DETERMINED BY MEANS OF CROSSED IMMUNOELECTROPHORESIS WALLWORK AND COWORKERS HAVE PROPOSED THAT INCREASED ABSORPTION OF ANTIGENS TAKES PLACE ACROSS THE MUCOSAL MEMBRANES OF THE GUT AND RESPIRATORY TRACT POSSIBLY DUE TO A TRANSIENT DEFECT IN THE PRODUCTION OF SECRETORY IGA AS A CONSEQUENCE OF THIS HYPOTHESIS ONE WOULD EXPECT CYSTIC FIBROSIS PATIENTS TO PRODUCE A PRONOUNCED ANTIBODY RESPONSE AGAINST THE INTESTINAL BACTERIAL FLORA THE PRESENT WORK WAS THEREFORE CARRIED OUT TO INVESTIGATE THE ANTIBODY RESPONSE IN CF PATIENTS AND IN NORMAL PERSONS AGAINST ESCHERICHIA COLI AND BACTEROIDES FRAGILIS WHICH ARE PRESENT IN THE GUT IN LARGE NUMBERS AND AGAINST THE RESPIRATORY PATHOGEN P AERUGINOSA A SIGNIFICANTLY HIGHER PREVALENCE OF PRECIPITINS AGAINST EACH OF THE 3 BACTERIAL SPECIES WAS FOUND IN CF PATIENTS COMPARED TO NORMAL PERSONS AND THE PREVALENCE OF PRECIPITINS AGAINST EACH OF THESE BACTERIA INCREASED SIGNIFICANTLY WITH AGE AS REGARDS P AERUGINOSA PRECIPITINS THE PREVALENCE AND NUMBER WAS SIGNIFICANTLY HIGHER IN CF PATIENTS WHO HAVE SUBSEQUENTLY SUCCUMBED COMPARED TO CF PATIENTS WHO ARE STILL ALIVE SUCH A CORRELATION BETWEEN THE ANTIBODY RESPONSE AND THE PROGNOSIS OF THE PATIENTS WAS NOT FOUND AS REGARDS E COLI OR B FRAGILIS CONSIDERING THE HYPOTHESIS OF WALLWORK AND COWORKERS CONCERNING INCREASED ABSORPTION OF ANTIGENS FROM THE GUT IT SEEMS MORE ATTRACTIVE TO SUPPOSE THAT INCREASED ABSORPTION OF ANTIGENS FROM THE GUT FLORA OCCURS PREDOMINANTLY IN CF PATIENTS WITH P AERUGINOSA LUNG INFECTION WITH A PRONOUNCED ANTIBODY RESPONSE AGAINST P AERUGINOSA\n",
            "[59] \t14.5 \t1238 \tDETECTION OF A LECTIN IN THE BLOOD OF CYSTIC FIBROSIS HOMOZYGOTES AND HETEROZYGOTES WE THEORIZE THAT CYSTIC FIBROSIS MAY BE A DISEASE IN WHICH A PLASMA FACTOR WITH LECTINLIKE ACTIVITY STIMULATES MUCUS SECRETION CAUSES PRECIPITATION OF MUCUS GLYCOPROTEINS AND INCIDENTALLY AFFECTS LYMPHOCYTES IN CULTURE TO CONFIRM OUR THEORY WE PLANNED TO SEARCH FOR ADDITIONAL LECTINLIKE ACTIVITIES IN CF SERUM OUR EXPERIMENTS SUGGEST THAT THE LECTINLIKE SUBSTANCE IN CF BLOOD REQUIRES IGM FOR ITS REDBLOODCELLAGGLUTINATION ACTIVITY THUS NO DIFFERENCE IN AGGLUTINATION TITER IS OBSERVED BETWEEN CF HOMOZYGOTES AND HETEROZYGOTES BECAUSE IGM IS THE LIMITING FACTOR AND IGM CONCENTRATIONS DO NOT DIFFER APPRECIABLY IN SUCH SUBJECTS WE SUSPECT THAT CF HOMOZYGOTES HAVE A LARGER POOL OF FREE LECTIN IN THEIR BLOOD THAN DO HETEROZYGOTES SO THAT QUANTITATION OF THIS FREE LECTIN POOL MAY DISTINGUISH BETWEEN THE TWO PHENOTYPES EXCESS FREE LECTIN MAY ACCOUNT FOR THE SIGNS AND SYMPTOMS OF CF WHEREAS LESSER AMOUNTS MAY THEORETICALLY BE ADVANTAGEOUS TO THE HETEROZYGOTE\n",
            "[60] \t14.5 \t895 \tACID MUCINS IN HUMAN INTESTINAL GOBLET CELLS ACID MUCINS IN GOBLET CELLS OF THE DUODENUM JEJUNUM AND ILEUM OF NEONATES AND INFANTS WITH CYSTIC FIBROSIS CF AND WITHOUT CF WERE MEASURED BY SCANNING MICRODENSITOMETRY AFTER ALCIAN BLUE STAINING ACCORDING TO THE PROTOCOL OF MCCARTHY AND REID 1963 WHICH CHARACTERISES FOUR GROUPS OF ACIDIC MUCINS IN CF INFANTS OVER 6 MTH OF AGE BUT NOT IN CONTROLS THERE WAS AN INCREASE ALONG THE GUT FROM DUODENUM TO ILEUM OF BOTH WEAKLY ACIDIC AND STRONGLY ACIDIC SULPHOMUCINS IN THE ILEUM THE INCREASE WAS IN TOTAL MUCINS FROM 6 MTH PREVIOUSLY IN THE SAME CF PATIENTS AND THIS DIFFERENCE COULD BE ACCOUNTED FOR BY AN INCREASE OF SIALIDASERESISTANT MUCINS THE INCREASE IN SULPHOMUCINS WAS MORE MARKED AT THE TIP THAN AT THE BASE OF THE VILLI IN CF NEONATES THERE WAS SIGNIFICANT DIFFERENCE IN THE QUANTITIES OF ACIDIC MUCINS THE QUESTION WHETHER THE MUCINS OF CF ARE CHEMICALLY ABNORMAL OR MERELY ACCUMULATED TO AN ABNORMAL EXTENT IS PROBABLY BEST INVESTIGATED BY ANALYSIS OF SIALIDASERESISTANT MUCINS AND SULPHOMUCINS OF THE ILEUM AND STRONGLY ACIDIC SULPHOMUCINS OF THE DUODENUM AND JEJUNUM IN CF INFANTS OVER 6 MTH OF AGE\n",
            "[61] \t14.5 \t302 \tA NEW ASSAY FOR CYSTIC FIBROSIS FACTOR EFFECTS OF SERA FROM PATIENTS WITH CYSTIC FIBROSIS IN THE IN VITRO ELECTRICAL PROPERTIES OF RAT JEJUNUM THE IN VITRO ELECTRICAL PROPERTIES OF RAT JEJUNUM WERE UTILIZED TO ASSAY A FACTOR OR FACTORS IN SERUM FROM PATIENTS WITH CYSTIC FIBROSIS CF SERA FROM PATIENTS WITH CF WERE FOUND TO DECREASE SHORT CIRCUIT CURRENT SCC AND THE SCC RESPONSE TO GLUCOSE AND TO INCREASE ELECTRICAL RESISTANCE THESE EFFECTS WERE PRESENT IN ALL 24 PATIENTS WITH CF AND 10 OF 14 PARENTS OF CF PATIENTS AND ABSENT FROM THE SERUM OF 21 CONTROL SUBJECTS THIS QUANTITATIVE TECHNIQUE PROVIDES AN ALTERNATIVE TO THE CILIOSTATIC ASSAYS FOR THE DETECTION OF THE CF FACTOR OR FACTORS\n",
            "[62] \t14.3 \t969 \tCYSTIC FIBROSIS COMPARED WITH THE IMMOTILECILIA SYNDROME A STUDY OF MUCOCILIARY CLEARANCE CILIARY ULTRASTRUCTURE CLINICAL PICTURE AND VENTILATORY FUNCTION PATIENTS WITH CYSTIC FIBROSIS CF WERE INVESTIGATED FOR MUCOCILIARY CLEARANCE WITH AND WITHOUT STIMULATION BY TERBUTALINE CLINICAL PICTURE VENTILATORY FUNCTION AND ULTRASTRUCTURE OF CILIA THE RESULTS WERE COMPARED WITH THOSE OF PATIENTS WITH CONGENITALLY IMMOTILE CILIA IMMOTILECILIA SYNDROME MUCOCILIARY CLEARANCE COULD BE DEMONSTRATED IN ALL THE SEVEN CF PATIENTS WHO SUCCEEDED IN INHALING THE TEST AEROSOL CILIARY ULTRASTRUCTURE FROM A DECEASED CF PATIENT WAS NORMAL PATIENTS WITH THE IMMOTILE CILIA SYNDROME HAD NO SUBSTANTIAL CLEARANCE AND DEFECTIVE CILIA THE CF PATIENTS COUGHED MORE DURING THE CLEARANCE MEASUREMENTS THAN ANY OTHER GROUP STUDIED EARLIER AND THEIR COUGHING WAS EFFECTIVE ONE PATIENT SUCCEEDED IN AVOIDING COUGHING IN BOTH MEASUREMENTS AND HAD FASTER CLEARANCE WHEN HE GOT TERBUTALINE THAN WHEN HE GOT THE VEHICLE ALTHOUGH YOUNGER THE CF PATIENTS TENDED TO BE MORE OBSTRUCTED IN THEIR LUNGS AND MORE HANDICAPPED THAN THE PATIENTS SUFFERING FROM THE IMMOTILECILIA SYNDROME THE LATTER PATIENTS HAD MORE DISCOMFORT FROM RHINITIS SINUSITIS AND OTITIS THAN HAD THE CF PATIENTS AN IMPAIRMENT OF THE MUCOCILIARY TRANSPORT RATE IS HENCE UNLIKELY TO BE A PRIMARY PATHOGENIC FACTOR FOR THE RESPIRATORY TRACT DISEASE IN CF PATIENTS\n",
            "[63] \t14.3 \t1171 \tCOMPLEMENT ACTIVATION AND PULMONARY INFLAMMATION IN CF PATIENTS THIS STUDY EXAMINED WHETHER BIOLOGIC ACTIVATION OF C3 WITH SUBSEQUENT PULMONARY INFLAMMATION TAKES PLACE IN THE LUNGS OF PATIENTS WITH CYSTIC FIBROSIS PLASMA COMPLEMENT C3 LEVELS WERE ALL NORMAL ELEVEN OF THE PATIENTS WITH THE C3 SPLIT PRODUCT C3C WERE FROM THE GROUP OF 14 PATIENTS SUFFERING FROM CHRONIC INFECTION WITH MUCOID STRAINS OF PSEUDOMONAS AERUGINOSA AND 2 WERE FROM THE GROUP OF 14 CF PATIENTS WITHOUT P AERUGINOSA INFECTION THIS DIFFERENCE WAS SIGNIFICANT P  0002 A COMPARISON OF ALBUMIN RATIOS BETWEEN THE 13 PATIENTS WITH THE C3 SPLIT PRODUCT C3C AND THE REMAINING OTHER 15 PATIENTS SHOWED A SIGNIFICANT HIGHER RATIO IN THE FORMER GROUP P  001 ON AN AVERAGE 41 VERSUS 14 PER CENT THE SIGNIFICANTLY HIGHER ALBUMIN RATIO DEMONSTRATED IN THE PATIENTS WITH C3C IN THEIR SPUTUM SOL PHASE SUPPORTS THE CONCEPT OF COMPLEMENTINDUCED INFLAMMATION WITH SUBSEQUENT TRANSUDATION OF PLASMA PROTEINS IN THESE PATIENTS THIS STUDY THUS SHOWS THAT COMPLEMENTMEDIATED INFLAMMATORY REACTIONS MAY PLAY AN IMPORTANT ROLE IN THE PATHOGENESIS OF PULMONARY TISSUE DAMAGE IN PATIENTS WITH CF EVEN WHEN THE PLASMA C3 LEVELS ARE NORMAL AND IT SUPPORTS THE CONCEPT OF CHRONIC P AERUGINOSA LUNG INFECTION AS AN IMMUNE COMPLEX DISEASE IN CF PATIENTS\n",
            "[64] \t14.3 \t676 \tTHE OCCURRENCE AND EFFECTS OF HUMAN VITAMIN E DEFICIENCY A STUDY IN PATIENTS WITH CYSTIC FIBROSIS THE ROLE OF VITAMIN E IN HUMAN NUTRITION WAS STUDIED BY INVESTIGATION OF PATIENTS WITH CYSTIC FIBROSIS CF AND ASSOCIATED PANCREATIC INSUFFICIENCY VITAMIN E STATUS WAS ASSESSED BY MEASUREMENT OF THE PLASMA CONCENTRATION OF THE PRINCIPAL CIRCULATING ISOMER ALPHATOCOPHEROL RESULTS OF SUCH DETERMINATIONS IN 52 CF PATIENTS WITH PANCREATOGENIC STEATORRHEA REVEALED THAT ALL WERE DEFICIENT IN THE VITAMIN THE EXTENT OF DECREASED PLASMA TOCOPHEROL VARIED MARKEDLY BUT CORRELATED WITH INDICES OF INTESTINAL MALABSORPTION SUCH AS THE SERUM CAROTENE CONCENTRATION AND PERCENTAGE OF DIETARY FAT ABSORBED SUPPLEMENTATION WITH 510 TIMES THE RECOMMENDED DAILY ALLOWANCE OF VITAMIN E IN A WATERMISCIBLE FORM INCREASED THE PLASMA ALPHATOCOPHEROL CONCENTRATIONS TO NORMAL IN ALL 19 CF PATIENTS SO EVALUATED STUDIES ON THE EFFECTS OF VITAMIN E DEFICIENCY FOCUSED ON POSSIBLE HEMATOLOGIC ALTERATIONS AN IMPROVED TECHNIQUE WAS DEVELOPED TO MEASURE ERYTHROCYTE HEMOLYSIS IN VITRO IN THE PRESENCE OF HYDROGEN PEROXIDE WHILE ERYTHROCYTE SUSPENSIONS FROM CONTROL SUBJECTS DEMONSTRATED RESISTANCE TO HEMOLYSIS DURING A 3H INCUBATION ALL SAMPLES FROM TOCOPHEROLDEFICIENT CF PATIENTS SHOWED ABNORMAL OXIDANT SUSCEPTIBILITY EVIDENCED BY GREATER THAN 5 HEMOGLOBIN RELEASE THE DEGREE OF PEROXIDEINDUCED HEMOLYSIS WAS RELATED TO THE PLASMA ALPHATOCOPHEROL CONCENTRATIONIN AN INVERSE SIGMOIDAL MANNER THE POSSIBILITY OF IN VIVO HEMOLYSIS WAS ASSESSED BY MEASURING THE SURVIVAL OF 51CRLABELED ERYTHROCYTES IN 19 VITAMINE DEFICIENT PATIENTS A MODERATE BUT STATISTICALLY SIGNIFICANT DECREASE IN THE MEAN 51CR ERYTHROCYTE HALFLIFE VALUE WAS FOUND IN THIS GROUP MEASUREMENT OF ERYTHROCYTE SURVIVAL BEFORE AND AFTER SUPPLEMENTATION OF 6 PATIENTS WITH VITAMIN E DEMONSTRATED THAT THE SHORTENED ERYTHROCYTE LIFESPAN COULD BE CORRECTED TO NORMAL WITH THIS TREATMENT OTHER HEMATOLOGIC INDICES IN DEFICIENT SUBJECTS HOWEVER WERE NORMAL AND DID NOT CHANGE UPON SUPPLEMENTATION WITH VITAMIN E IT IS CONCLUDED THAT CF IS INVARIABLY ASSOCIATED WITH VITAMIN E DEFICIENCY PROVIDED THAT THE PATIENT IN QUESTION HAS PANCREATIC ACHYLIA AND IS NOT TAKING SUPPLEMENTARY DOSES OF TOCOPHEROL CONCOMITANT HEMATOLOGIC EFFECTS CONSISTENT WITH MILD HEMOLYSIS BUT NOT ANEMIA OCCUR AND MAY BE REVERSED WITH VITAMIN E THERAPY PATIENTS WITH CF SHOULD BE GIVEN DAILY DOSES OF A WATERMISCIBLE FORM OF VITAMIN E TO CORRECT THE DEFICIENCY\n",
            "[65] \t14.2 \t901 \tDISACCHARIDASE ACTIVITIES IN SMALL INTESTINAL MUCOSA IN PATIENTS WITH CYSTIC FIBROSIS THE DISACCHARIDASE ACTIVITIES IN SMALL INTESTINAL BIOPSIES WERE RELATED TO THE MORPHOLOGY OF THE MUCOSA AND THE AGES OF 63 PATIENTS WITH CYSTIC FIBROSIS AND 177 HEALTHY CONTROL SUBJECTS OF CAUCASIAN ORIGIN IN PATIENTS WITH CF AND IN THE HEALTHY CONTROL SUBJECTS UNDER 5 YEARS OF AGE WITH NORMAL INTESTINAL MUCOSA NO LOW LACTASE ACTIVITY WAS FOUND IN THOSE PATIENTS WITH CF WHO WERE OVER 5 YEARS OF AGE ONE GROUP HAD HIGH AND ONE GROUP HAD LOW LACTASE ACTIVITY AS OCCURS IN HEALTHY CAUCASIAN CONTROL SUBJECTS OF THE SAME AGE THIS FINDING SUPPORTS THE VIEW THAT IN PATIENTS WITH CF LACTASE DEFICIENCY IS NOT RELATED TO THE DISEASE ENTITY IN PATIENTS WITH OR WITHOUT CF WHO HAD THE SAME DEGREE OF MUCOSAL ATROPHY THE DECREASE OF DISACCHARIDASE ACTIVITIES FOLLOWED THE SAME PATTERN INDICATING THAT ENZYME ACTIVITIES ARE AFFECTED TO THE SAME EXTENT BY THE DAMAGE OF THE MUCOSA IN PATIENTS WITH CF WITH PANCREATIC INSUFFICIENCY THE DISACCHARIDASE ACTIVITIES WERE SIGNIFICANTLY P LESS THAN 0001 HIGHER WHEN COMPARED TO THOSE IN CONTROL SUBJECTS OF THE SAME AGE AND ETHNIC GROUP ALTHOUGH THE INCREASE WAS NOT UNIFORM IN ALL PATIENTS WITH CYSTIC FIBROSIS\n",
            "[66] \t14.2 \t85 \tEFFECTS OF CYSTIC FIBROSIS SERA ON PROTEUS VULGARIS MOTILITY SUSPENSIONS OF PROTEUS VULGARIS WERE RAPIDLY AGGLUTINATED BY SERUM FROM CYSTIC FIBROSIS PATIENTS SERUM FROM OBLIGATE HETEROZYGOTES EXHIBITED A MEAN AGGLUTINATION TIME THAT WAS SIGNIFICANTLY LESS THAN THAT OBSERVED FOR 128 CONTROLS THE AGGLUTINATING PROPERTY WAS OBSERVED TO BE TRANSMITTED THROUGH SEVERAL GENERATIONS AND THROUGH BOTH MATERNAL AND PATERNAL BRANCHES OF THE PEDIGREES QUALITATIVE DIFFERENCES WERE NOTED WITH CF SERA INDUCING THE FORMATION OF CLUMPS THAT WERE TWO TO 10FOLD LARGER THAN THOSE OBSERVED IN HETEROZYGOTES THE SERUM FACTOR RESPONSIBLE FOR P VULGARIS AGGLUTINATION WAS HEAT SENSITIVE DESTROYED BY PRONASE AND NEUTRALIZED BY ANTIHUMAN WHOLE SERUM THE CF SERUM RETAINED AGGLUTINATING ACTIVITY FOLLOWING PREINCUBATION WITH ANTIHUMAN IGG IGA B1E AND B1AB1C\n",
            "[67] \t14.2 \t386 \tCYSTIC FIBROSIS A DILEMMA IN THE METABOLIC PATHOGENESIS OF GENETIC DISEASE THE FUNDAMENTAL PATHOLOGICAL OBSERVATIONS IN CYSTIC FIBROSIS CF WERE MADE OVER THREE DECADES AGO MORE RECENTLY PHYSIOLOGICAL FINDINGS HAVE DIRECTED INVESTIGATION TOWARD A PLETHORA OF HUMORAL SUBSTANCES AND THEIR POSSIBLE ROLE IN DISTURBANCES OF THE SECRETORY PROCESSES IN CF THE APPLICATION OF THE TECHNIQUES OF MOLECULAR BIOLOGY AND OF TISSUE CULTURE IS BEGINNING TO INCREASE OUR KNOWLEDGE ABOUT THE SOCALLED CF FACTORS AND THEIR DIVERSE EFFECTS ON EPITHELIAL AND CILIATED SURFACES EMPHASIS IN CURRENT RESEARCH IS ON THE CHEMICAL CHARACTERIZATION OF THE CF FACTORS THE METABOLISM OF CELLS CULTURED FROM PATIENTS WITH CF AND THE BIOCHEMICAL EVENTS CONTROLLING THE PROCESSES OF SECRETION SOME CURRENT THEORIES AS TO THE METABOLIC PATHOGENESIS OF CF ARE CONSIDERED IN THE CONTEXT OF EXISTING FINDINGS\n",
            "[68] \t14.1 \t1200 \tEVIDENCE AGAINST A SPECIFIC EFFECT OF SERUM FROM PATIENTS WITH CYSTIC FIBROSIS ON SODIUMDEPENDENT GLUCOSE TRANSPORT IN THE RAT JEJUNUM SERA FROM PATIENTS WITH CYSTIC FIBROSIS OF THE PANCREAS CF AND NORMAL HUMAN SERA WERE ASSAYED FOR THE ABILITY TO INHIBIT SODIUM DEPENDENT GLUCOSE TRANSPORT IN RAT BRUSHBORDER MEMBRANE VESICLES FRESH CF AND AGE AND SEXMATCHED CONTROL SERA WERE BOTH INHIBITORY WHEN COMPARED TO PHYSIOLOGIC SALINE THE INHIBITION BY CF SERUM WAS 44  13 MEAN  SD AT A FINAL SERUM CONCENTRATION OF 67 67  34 AT 10 SERUM AND 68  28 AT 20 SERUM THE RATIO OF THE INHIBITION OF CF SERA COMPARED TO THAT OF CONTROL SERA WAS 100 078 AND 093 AT 67 10 AND 20 SERUM CONCENTRATIONS RESPECTIVELY ALTHOUGH A SLIGHTLY GREATER INHIBITION BY CF SERUM WAS OBSERVED AT A CONCENTRATION OF 10 THIS IS PROBABLY NOT SIGNIFICANT BECAUSE NO DIFFERENCE COULD BE DETECTED AT A CONCENTRATION OF 20 SERUM GLUCOSE TRANSPORT IN THE PRESENCE OF SERUM WAS SENSITIVE TO PHLORIZIN INDICATING THAT THE RESIDUAL GLUCOSE TRANSPORT WAS PROCEEDING BY THE SODIUMDEPENDENT GLUCOSE TRANSPORT SYSTEM THESE FINDINGS SUGGEST THAT CF SERUM DOES NOT SPECIFICALLY INHIBIT THE SODIUMDEPENDENT GLUCOSE TRANSPORT SYSTEM THE INTRAVESICULAR SPACE ACCESSIBLE TO GLUCOSE WAS REDUCED IN THE PRESENCE OF CF OR CONTROL SERUM FRESH CF SERUM WAS 14 TIMES MORE EFFECTIVE THAN FRESH CONTROL SERUM P LESS THAN 001 THE PRESENCE OF SUBSTANTIAL VESICLE SHRINKING ACTIVITY IN CONTROL SERUM INDICATES THAT THIS ACTIVITY CANNOT BE CONSIDERED SPECIFIC FOR CF\n",
            "[69] \t14.1 \t878 \tTHE EFFECT OF SUPPLEMENTAL VITAMIN E ON VITAMIN A SERUM LEVELS IN CYSTIC FIBROSIS EFFECTS OF THE INGESTION OF VITAMIN E WITH VITAMIN A ON THE SERUM LEVELS OF THESE VITAMINS AND THE URINARY CREATINE TO CREATININE RATIOS OF 18 CHILDREN WITH CYSTIC FIBROSIS DISEASE OF THE PANCREAS CF WAS STUDIED AFTER THE DAILY INGESTION FOR TWO MONTHS OF A SPECIALLY PREPARED CAPSULE CONTAINING 5000 IU VITAMIN A PALMITATE AND 100 MG D ALPHATOCOPHEROL ACETATE IN AQUEOUS DISPERSIBLE FORM THERE WAS A SIGNIFICANT INCREASE IN VITAMIN A AS WELL AS VITAMIN E LEVELS OF SERUM TAKEN 3 12 HR POSTPRANDIALLY CREATINE TO CREATININE RATIOS IN SINGLE VOIDING OF URINE DECREASED\n",
            "[70] \t14.1 \t790 \tIMMUNE COMPLEXES IN THE SPUTUM OF PATIENTS WITH CYSTIC FIBROSIS SUFFERING FROM CHRONIC PSEUDOMONAS AERUGINOSA LUNG INFECTION 12 CYSTIC FIBROSIS CF PATIENTS CHRONICALLY INFECTED WITH MUCOID P AERUGINOSA AND PRESENTING MULTIPLE PRECIPITINS IN SERUM AGAINST THIS BACTERIUM AND 12 PATIENTS WITHOUT P AERUGINOSA INFECTION WERE EXAMINED FOR OCCURRENCE OF SOLUBLE IMMUNE COMPLEXES IN THEIR SPUTUM SOL PHASE BY A COMPLEMENT CONSUMPTION ASSAY AND A SOLID PHASE RHEUMATOID FACTOR BINDING ASSAY THE CORRELATION BETWEEN THE RESULTS OBTAINED IN THE TWO ASSAYS WAS SIGNIFICANT R  0625 P LESS THAN 001 THE PATIENTS CHRONICALLY INFECTED WITH P AERUGINOSA SHOWED A SIGNIFICANTLY P LESS THAN 001 HIGHER FREQUENCY OF IMMUNE COMPLEX ACTIVITY IN THEIR SPUTUM SOL PHASE AS COMPARED TO THE PATIENTS WITHOUT P AERUGINOSA LUNG INFECTION THESE FINDINGS POINT TO THE POSSIBILITY THAT CHRONIC LUNG INFECTION WITH MUCOID P AERUGINOSA IN CF MAY BE AN IMMUNE COMPLEX DISEASE\n",
            "[71] \t14.1 \t466 \tSMALL BOWEL MUCOSAL DYSFUNCTION IN PATIENTS WITH CYSTIC FIBROSIS JEJUNAL BIOPSIES WERE OBTAINED FROM 37 CHILDREN WITH CYSTIC FIBROSIS 16 WITH GLUTENINDUCED ENTEROPATHY AND 18 CONTROL SUBJECTS FOR THE FOLLOWING STUDIES 1 DISACCHARIDASE ACTIVITY 2 LALALPHE HYDROLASE ACTIVITY AND 3 INTESTINAL UPTAKE OF THREE 14CLABELED AMINO ACIDS VALUES WERE SIGNIFICANTLY REDUCED IN THE THREE DETERMINATIONS IN PATIENTS WITH GLUTENINDUCED ENTEROPATHY AS COMPARED TO CONTROL SUBJECTS LACTASE AND LALALPHE HYDROLASE ACTIVITIES WERE SIGNIFICANTLY REDUCED P LESS THAN 001 IN CF PATIENTS AS COMPARED TO CONTROL SUBJECTS DEFINITE HYPOLACTASIA WAS ALSO OBSERVED IN 23 OF THE CHILDREN WITH CF UPTAKE OF LYSINE WAS NORMAL IN CF PATIENTS WHEREAS THAT OF PHENYLALANINE AND CYCLOLEUCINE WAS REDUCED AS COMPARED TO CONTROL SUBJECTS THIS STUDY SUGGESTS AN INTESTINAL COMPONENT TO THE MALABSORPTION OF PATIENTS WITH CF\n",
            "[72] \t14.0 \t108 \tINCREASED UPTAKE OF 35SHEPARIN BY LYMPHOCYTES FROM PATIENTS WITH CYSTIC FIBROSIS PREVIOUS STUDIES ON CYSTIC FIBROSIS CF HAVE SHOWN INCREASED MUCOPOLYSACCHARIDE SYNTHESIS IN CF CELLS THE UPTAKE OF 35SHEPARIN SULPHONATE INTO PURIFIED LYMPHOCYTES WAS EXAMINED AFTER 3 DAYS CULTURE IN MEDIUM 199 SUPPLEMENTED WITH 20 AUTOCHTHONOUS PLASMA FOURTEEN CF HOMOZYGOTES SEVEN SIBLINGS AND NINE PARENTS ALL SHOWED SIGNIFICANTLY GREATER UPTAKE P  0001 OF 35SHEPARIN THAN CULTURES FROM TWENTYTHREE NORMAL CONTROLS THERE WAS PARTIAL OVERLAP IN HEPARINUPTAKE VALUES BETWEEN CF PATIENTS AND THEIR FAMILIES THIS PROCEDURE THUS DIFFERENTIATES CF FAMILIES FROM THE NORMAL POPULATION BUT DOES NOT DIFFERENTIATE CF HOMOZYGOTES FROM HETEROZYGOTES IT IS HOPED THAT EITHER VARIATIONS IN CULTURE METHODS OR A COMBINATION OF THIS PROCEDURE WITH OTHER MEASUREMENTS OF CF SUCH AS CILIARY DYSKINESIS OR CELLULAR METACHROMASIA WILL PERMIT UNEQUIVOCAL IDENTIFICATION OF CF CARRIERS\n",
            "[73] \t14.0 \t1169 \tBRONCHIAL PROVOCATION TESTS IN CYSTIC FIBROSIS PATIENTS WITH CYSTIC FIBROSIS HAVE A HIGHER INCIDENCE OF POSITIVE SKIN PRICK TESTS THAN NORMAL THIS MAY BE THE RESULT OF DEFECTIVE ANTIGEN HANDLING AT MUCOSAL SURFACES OUR AIM WAS TO INVESTIGATE BRONCHIAL ALLERGY IN A GROUP OF CHILDREN WITH CF AND POSITIVE SKIN TESTS WE STUDIED 15 CHILDREN AGED 7 TO 16 YEARS WITH MILD TO MODERATE RESPIRATORY DISEASE ONLY 1 CHILD GAVE A HISTORY OF WHEEZING NOT ASSOCIATED WITH CHEST INFECTIONS AND THIS STUDY SUPPORTS THE HYPOTHESIS THAT CLINICAL ASTHMA IS A PRODUCT OF BRONCHIAL ALLERGY AND BRONCHOLABILITY THE RESPONSES TO BRONCHIAL PROVOCATION WITH ASPERGILLUS SUGGEST THAT ALLERGY TO THIS ANTIGEN MAY PLAY A PART IN THE PATHOGENESIS OF LUNG DISEASE IN SOME PATIENTS WITH CF CT 1 DAVIS PB SEM RESPIR MED 6 261 985 2 DARGA LL PEDIATR PULMONOL 2 82 986\n",
            "[74] \t14.0 \t461 \tCOMPOSITION OF NASAL SECRETION IN PATIENTS WITH CYSTIC FIBROSIS QUANTITATIVE EXAMINATION OF NASAL SECRETION IN PATIENTS WITH CYSTIC FIBROSIS REVEALED A SIGNIFICANTLY GREATER THAN NORMAL CONCENTRATION OF CALCIUM A FINDING IN KEEPING WITH THE HYPOTHESIZED IMPORTANCE OF THIS ION IN THE PATHOPHYSIOLOGY OF THE DISEASE\n",
            "[75] \t14.0 \t755 \tMUCOSAL ENTEROKINASE ACTIVITY IN PANCREATIC INSUFFICIENCY AND CELIAC DISEASE JEJUNAL BIOPSY SPECIMENS WERE OBTAINED FROM CHILDREN WITH CYSTIC FIBROSIS CF CELIAC DISEASE CD OR CONGENITAL EXOCRINE PANCREATIC HYPOPLASIA CEPH AND FROM CONTROL SUBJECTS SECTIONS WERE EXAMINED HISTOLOGICALLY AND HOMOGENATES WERE USED FOR MEASUREMENT OF ENTEROKINASE AND SUCRASE ACTIVITIES THIS WORK WAS UNDERTAKEN BECAUSE ENTEROKINASE IS CONSIDERED A BRUSH BORDER ENZYME THE RELEASE OF WHICH INTO THE INTESTINAL LUMEN IS INFLUENCED BY PANCREATIC ENZYMES AND ALSO BECAUSE WE HAVE RECENTLY SHOWN A SMALL BOWEL MUCOSAL DYSFUNCTION IN PATIENTS WITH CF AS EXPECTED SUCRASE ACTIVITY WAS REDUCE P  05 IN CHILDREN WITH CD AS COMPARED TO THE OTHER THREE GROUPS ON THE OTHER HAND ENTEROKINASE ACTIVITY IN CHILDREN WITH PANCREATIC INSUFFICIENCY CF AND CEPH WAS HIGHER P  05 THAN THAT OF CONTROL SUBJECTS THE PRESENT STUDY HAS SHOWN THAT IN PATIENTS WITH CF AND CEPH MUCOSAL ENTEROKINASE ACTIVITY WAS INCREASED AS COMPARED TO CONTROL SUBJECTS IT SEEMS THAT THE PANCREATIC ENZYMES PLAY A LARGE ROLE IN THE TURNOVER OF ENZYMES IN THE BRUSH BORDER MEMBRANE AND THAT THE OBSERVED INCREASE OF MUCOSAL ENTEROKINASE ACTIVITY IS PROBABLY EXPLAINED BY A REDUCED DEGRADATION IN PATIENTS WITH EXOCRINE PANCREATIC INSUFFICIENCY\n",
            "[76] \t14.0 \t982 \tINFLAMMATORY MIDDLE EAR DISEASES IN PATIENTS WITH CYSTIC FIBROSIS 111 PATIENTS WITH CYSTIC FIBROSIS CF AGED 7 MONTHS TO 29 YEARS WERE EXAMINED TO DETECT INFLAMMATORY MIDDLE EAR DISEASES 35 HAD A HISTORY OF ONE OR MORE ATTACKS OF ACUTE OTITIS MEDIA AN INCIDENCE AT THE SAME LEVEL AS IN NONCF PATIENTS NONE HAD CHRONIC SUPPURATIVE OTITIS ONLY 4 OUT OF THE 88 PATIENTS ABLE TO COOPERATE IN AUDIOMETRY HAD A HEARING IMPAIRMENT IN 2 THE HEARING LOSS WAS PERCEPTIVE IN 3 VERY MILD AND IN THE FOURTH CASE MODERATELY SEVERE THE MIDDLE EAR PRESSURE WAS MEASURED IN 108 PATIENTS IN 86 OF WHOM IT PROVED NORMAL IN 15 PATIENTS THE MIDDLE EAR PRESSURE WAS LOWER THAN100 MMH2O INDICATING TUBAL OCCLUSION AND IN 7 PATIENTS THE IMPEDANCE MINIMUM WAS LACKING INDICATING AN ACCUMULATION OF MUCUS THESE 7 PATIENTS 6 HAD SECRETORY OTITIS MEDIA NASAL POLYPS WERE OR HAD BEEN PRESENT IN 32 THERE WAS NO CORRELATION BETWEEN NASAL POLYPS AND TUBAL OCCLUSION OR SECRETORY OTITIS THE INCIDENCE OF INFLAMMATORY MIDDLE EAR DISEASES IN CF PATIENTS WAS IN THE SAME RANGE AS IN NONCF PATIENTS A FINDING AT VARIANCE WITH SOME PREVIOUS INVESTIGATIONS SHOWING MIDDLE EAR PATHOLOGY IN 2548\n",
            "[77] \t14.0 \t1016 \tINTESTINAL BILE SALTS IN CYSTIC FIBROSIS STUDIES IN THE PATIENT AND EXPERIMENTAL ANIMAL THE QUANTITATIVE AND QUALITATIVE DISTRIBUTION OF BILE SALTS IN THE DUODENAL JUICE OF 13 PATIENTS WITH CYSTIC FIBROSIS CF WAS STUDIED AFTER A TEST MEAL THE EFFECTS OF TRIOLEIN TO BOVINE SERUM ALBUMIN BSA AND RICINOLEIC ACID RA ON THE ABSORPTION OF TAUROCHOLATE TCA IN THE DISTAL ILEUM OF THE RAT IN VIVO WAS ALSO STUDIED THE MEAN AND RANGES OF TOTAL BILE SALT CONCENTRATIONS GLYCINE TAURINE CONJUGATE RATIOS AND PERCENTAGE OF DIHYDROXY BILE SALTS IN THE PATIENTS WITH CF AND PANCREATIC INSUFFICIENCY WERE 35 1366 MMOLL 86 GREATER THAN 1031 AND 37 1060 COMPARED WITH CONTROL VALUES OF 74 30160 MMOLL 30 1345 AND 61 52 70 RESPECTIVELY THE DIFFERENCES BETWEEN THE CONTROL AND CF VALUES WERE STATISTICALLY SIGNIFICANT P LESS THAN 001P LESS THAN 0001 THREE OF THE 13 CF PATIENTS HAD TOTAL BILE SALT CONCENTRATIONS LESS THAN 2 MMOLL 8 HAD MUCH HIGHER GLYCINE TAURINE RATIOS AND 8 HAD A REDUCED PERCENTAGE OF DIHYDROXY BILE SALTS IN 2 PATIENTS WITH NORMAL PANCREATIC ENZYME ACTIVITIES DUODENAL BILE SALTS WERE BOTH QUANTITATIVELY AND QUALITATIVELY NORMAL TO 10 AND 30 MMOLL BSA 3 AND RA 5 MMOLL HAD NO INHIBITORY EFFECT ON THE ILEAL ABSORPTION OF TCA THESE RESULTS SHOW PRONOUNCED ABNORMALITIES OF DUODENAL JUICE BILE SALTS IN CF WITH PANCREATIC INSUFFICIENCY CONSISTENT WITH A BROKEN ENTEROHEPATIC CIRCULATION EHC SUCH ABNORMALITIES MAY CONTRIBUTE TO DEFECTIVE LIPID ABSORPTION IN CF THE DATA IN THE EXPERIMENTAL ANIMAL DO NOT SUPPORT THE SUGGESTION THAT UNHYDROLYSED DIETARY SUBSTRATES PLAY A ROLE IN THE PATHOPHYSIOLOGY OF THE BROKEN EHC\n",
            "[78] \t13.9 \t398 \tCYSTIC FIBROSIS PHYSIOLOGY GONE WRONG CYSTIC FIBROSIS CF LIKE SYPHILIS COULD ACCURATELY BE DESCRIBED AS THE GREAT IMITATOR MANY ORGAN SYSTEMS ARE INVOLVED AND A CLEAR UNDERSTANDING OF THE DISEASE AND ITS MANY COMPLICATIONS IS A USEFUL EXERCISE IN UNDERSTANDING HUMAN PHYSIOLOGY CF COULD BE CALLED THICKSECRETION DISEASE BECAUSE ALL EXOCRINE FLUIDS LIKE PANCREATIC JUICE ARE THICK OR IT COULD BE CALLED MULTIMYSTERY DISEASE BECAUSE THERE ARE SO MANY UNANSWERED QUESTIONS ABOUT IT MANY MANIFESTATIONS OF CF ARE UNDERSTANDABLE COMPLICATIONS OF MALABSORPTION MALNUTRITION AND THE PHYSICAL AND CHEMICAL EFFECTS OF ABNORMAL EXOCRINE SECRETION OTHERS INCLUDING THE SUSCEPTIBILITY TO RECURRENT NASAL POLYPS THE HYPERSALINIZED SWEAT LOW FEMALE FERTILITY AND MALE STERILITY GIVEN PRESENT KNOWLEDGE DO NOT MAKE PHYSIOLOGIC SENSE\n",
            "[79] \t13.9 \t1019 \tCYSTIC FIBROSIS AND HEARING LOSS THE MUCOSAL EPITHELIUM OF THE MIDDLE EAR AND EUSTACHIAN TUBE IS IN DIRECT CONTINUITY WITH THE UPPER RESPIRATORY TRACT SINCE THE OTOLARYNGOLOGICAL ASPECTS OF CYSTIC FIBROSIS CF ARE DOMINATED BY INVOLVEMENT OF THE PARANASAL SINUSES IT MIGHT BE ASSUMED THAT CHILDREN WITH CF WOULD BE EXPECTED TO HAVE A HIGHER THAN USUAL INCIDENCE OF MIDDLE EAR DISEASE EIGHTY PATIENTS WHO WERE AFFLICTED WITH CF HAD AUDIOLOGICAL EVALUATIONS WHICH CONSISTED OF HEARING THRESHOLD LEVELS 250 TO 8000 HZ AND SPEECH AND IMPEDANCE AUDIOMETRY WE FOUND NO GREATER INCIDENCE OF A CONDUCTIVE OR SENSORINEURAL HEARING LOSS IN PATIENTS WITH CF WHEN COMPARED WITH A NORMAL AGEADJUSTED POPULATION\n",
            "[80] \t13.9 \t430 \tBIOCHEMISTRY OF CYSTIC FIBROSIS AN OVERVIEW PP 15764 CYSTIC FIBROSIS HAS BEEN A DIFFICULT PROBLEM TO SOLVE ONE AMINO ACID IS NOT FOUND IN ELEVATED CONCENTRATIONS IN THE URINE ONE ABNORMAL SUGAR OR POLYSACCHARIDE IS NOT FOUND IN SECRETIONS OF THE BRONCHIAL TREE WHICH CAUSES PULMONARY DAMAGE AND A UNIQUE MATERIAL WHICH INHIBITS SODIUM TRANSPORT HAS NOT YET BEEN IDENTIFIED IN SWEAT INSTEAD OF VIEWING THE CURRENT STATE OF CF RESEARCH AS CHAOTIC PERHAPS WE SHOULD SAY IN A POSITIVE WAY THAT THE DIVERSITY OF IDEAS STIMULATES THINKING AND IN THE PROCESS OF SORTING OUT THE PRIMARY DEFECT A WIDE SPECTRUM OF PATHOPHYSIOLOGIC CHANGES WILL BE RECOGNIZED RECENTLY A POSITIVECHARGED POLYPEPTIDE ASSOCIATED WITH IMMUNOGLOBULIN G HAS BEEN IDENTIFIED WHICH MAY BE RESPONSIBLE FOR THE CILIARY DYSKINESIS EFFECT OF CF SERUM THIS MATERIAL SHOULD DEMONSTRATE THE SAME PROPERTIES WHEN BOUND TO IMMUNOGLOBULIN G FROM CONTROL SERA IT WOULD BE INTERESTING IF IT WERE IDENTICAL WITH THE BASIC PROTEIN RECENTLY FOUND ONLY IN THE SERUM AND IGG FRACTION OF CF PATIENTS AND CARRIERS FURTHER WORK MAY IDENTIFY HOW THE POLYPEPTIDE AFFECTS CELL MEMBRANE SURFACES AND WHETHER A DEFECTIVE PEPTIDASE PERHAPS AN ARGININE ESTERASE FAILS TO BREAK DOWN THE POLYPEPTIDE A UNIFYING HYPOTHESIS COULD THEN EMERGE AND TIE BIOCHEMICAL AND PHYSIOLOGICAL FINDINGS TOGETHER\n",
            "[81] \t13.9 \t314 \tRECURRENT ACUTE PANCREATITIS IN PATIENTS WITH CYSTIC FIBROSIS WITH NORMAL PANCREATIC ENZYMES TEN ADOLESCENT AND YOUNG ADULTS WITH CYSTIC FIBROSIS CF HAVE HAD WELLDOCUMENTED RECURRENT ATTACKS OF ACUTE PANCREATITIS THE DIAGNOSIS OF CF IN EACH PATIENT WAS DELAYED BECAUSE THEY DID NOT HAVE PANCREATIC INSUFFICIENCY THE DIAGNOSIS OF CF WAS DOCUMENTED BY THE TYPICAL PULMONARY INVOLVEMENT AND ELEVATED SWEAT SODIUM AND CHLORIDE LEVELS IN ALL CASES AND A POSITIVE FAMILY HISTORY IN SIX OF THE TEN PATIENTS TWO PATIENTS WERE DIAGNOSED AS HAVING ACUTE PANCREATITIS BEFORE THE DIAGNOSIS OF CF WAS MADE THUS INDICATING THAT ACUTE PANCREATITIS MAY BE THE PRESENTING COMPLAINT IN THE YOUNG ADULT WITH CF THE DIAGNOSIS OF ACUTE PANCREATITIS WAS BASED ON THE PRESENCE OF SEVERE ABDOMINAL PAIN USUALLY WITH VOMITING TENDERNESS IN THE MID EPIGASTRIUM ELEVATED SERUM AND URINARY AMYLASE AND SERUM LIPASE ATTACKS WERE PRECIPITATED BY FATTY MEALS ALCOHOL INGESTION POSTCHOLECYSTECTOMY AND TETRACYCLINE ADMINISTRATION IN SOME PATIENTS NO PRECIPITATING EVENT COULD BE ELICITED INTRAVENOUS SECRETIN PANCREOZYMIN STIMULATION TESTS REVEALED A DIMINISHED BICARBONATE SECRETION WITH LITTLE EFFECT ON THE SECRETION OF THE ZYMOGEN ENZYMES A MILD ATTACK OF PANCREATITIS OCCURRED AFTER SECRETINPANCREOZYMIN STIMULATION THE ENDOCRINE PANCREATIC FUNCTION TESTED IN FOUR PATIENTS WAS NORMAL AS REVEALED BY THE GLUCOSE TOLERANCE TESTS AND DETERMINATIONS OF SERUM INSULIN GROWTH HORMONE AND FREE FATTY ACID TRANSDUODENAL PANCREATOGRAMS WERE PERFORMED IN THREE PATIENTS ONE SHOWED A NORMAL PANCREATIC DUCT ONE SHOWED DUCT OBSTRUCTION AND IN THE THIRD PATIENT A BEADY TYPE OF NARROWING WAS FOUND THE SELENOMETHIONINE SE 75 UPTAKE OF THE PANCREAS WAS NOTED ONLY IN THE HEAD OF THE PANCREAS THIS SUGGESTS THAT LOSS OF FUNCTION OCCURS INITIALLY TO A GREATER EXTENT IN THE TAIL AND BODY OF THE PANCREAS THREE PATIENTS DIED AND SHOWED CHARACTERISTIC LESIONS OF CF\n",
            "[82] \t13.9 \t435 \tRELEVANCE OF CYCLIC NUCLEOTIDES AND CALCIUM TO CYSTIC FIBROSIS PP 24358 THE GENERAL AREA OF RESEARCH AT THE BIOCHEMICAL AND MOLECULAR LEVELS RELATED TO CYSTIC FIBROSIS HAS SUFFERED FROM THE LACK OF A SUITABLE ANIMAL MODEL ALTHOUGH SOME ANIMAL MODELS HAVE BEEN PROPOSED THESE HAVE NOT YET BEEN TESTED IN ATTEMPTS TO CIRCUMVENT THIS PROBLEM SEVERAL INVESTIGATORS HAVE TURNED TO CELL CULTURE TECHNIQUES TO STUDY VARIOUS ASPECTS OF CYSTIC FIBROSIS THESE STUDIES HAVE INCLUDED THE USE OF RED BLOOD CELLS LYMPHOCYTES SKIN FIBROBLASTS AND CULTURED NASAL POLYPS THERE ARE ENOUGH POSITIVE INDICATIONS FROM THIS APPROACH TO INDICATE THAT IT MIGHT BE FRUITFUL CONSEQUENTLY A FINAL ASPECT OF THIS ARTICLE WILL BE A CONSIDERATION OF THE USE OF CELL CULTURES FOR FUTURE INVESTIGATIONS INTO THE POSSIBLE METABOLIC LESIONS IN CYSTIC FIBROSIS CONTROL OF CYCLIC NUCLEOTIDE LEVELS IN PAROTID THE ROLE OF CALCIUM MICROFILAMENTS AND MICROTUBULES IN SECRETION AND THE USE OF CELL CULTURES AS AN APPROACH TO THE STUDY OF BIOCHEMICAL DEFECTS IN CYSTIC FIBROSIS ARE DISCUSSED\n",
            "[83] \t13.8 \t912 \tPSEUDOMONAS COLONIZATION IN CYSTIC FIBROSIS A STUDY OF 160 PATIENTS WE INVESTIGATED THE ROLE OF PSEUDOMONAS AERUGINOSA COLONIZATION IN THE RESPIRATORY TRACTS OF CYSTIC FIBROSIS CF PATIENTS TO RELATE THE EFFECT OF THIS COLONIZATION TO PROGRESSION OF BRONCHIAL AIRWAY PATHOLOGIC CONDITIONS AND TO THE PATIENTS CLINICAL PROGRESS AND TO IDENTIFY PREDISPOSING FACTORS TO PERSISTENCE OF P AERUGINOSA COLONIZATION AND BRONCHIAL TREE DAMAGE HALF OF 160 CF PATIENTS STUDIED HAD PERSISTENT P AERUGINOSA RESPIRATORY TRACT COLONIZATION THE OTHER HALF HAD NONE PSEUDOMONAS AERUGINOSA SEEMS TO HAVE AN EXCLUSIVE PROPENSITY FOR THE RESPIRATORY TRACT AND MAY APPEAR AT ANY AGE TREATMENT WITH ANTIBIOTICS INCLUDING AMINOGLYCOSIDES FAILED TO ERADICATE P AERUGINOSA THE CONTINUOUS USE OF ANTIBIOTICS SEEMED TO CONTRIBUTE TO THE PERSISTENCE OF P AERUGINOSA AND THE APPEARANCE OF MUCOID STRAINS OF P AERUGINOSA\n",
            "[84] \t13.8 \t693 \tPANCREATIC EXTRACTS IN THE MANAGEMENT OF CYSTIC FIBROSIS THE UNIVERSITY OF KANSAS GROUP HAVE ESTABLISHED THAT PANCREATIC EXTRACTS IN THE DOSES CURRENTLY USED IN THE MANAGEMENT OF PATIENTS WITH CYSTIC FIBROSIS CAUSE HYPERURICOSURIA WHICH MAY OCCASIONALLY BE SYMPTOMATIC THEY CORRECTLY WORRY ABOUT LONGTERM ILL EFFECTS OF SUCH THERAPY IN TREATED CF PATIENTS THE URICOSURIA RESULTS PRIMARILY FROM THE INCREASED DIETARY PURINE LOAD THOUGH THE ABNORMAL TRANSPORT PHYSIOLOGY IN CF MAY CONTRIBUTE EVEN THOUGH FINAL EVIDENCE ON RISK IS NOT AT HAND PRUDENCE WOULD SUGGEST HOLDING THE PURINE LOAD IN CF PATIENTS TO THE MINIMUM NEEDED TO ENSURE DIGESTION OF SUFFICIENT FOODSTUFFS WITHOUT NECESSARILY PERMITTING A NORMAL DIET SANS STEATORRHEA ALTERNATIVELY PURIFIED ENZYME PREPARATIONS FREE OF THE REMAINING SWEETBREAD COULD ELIMINATE THE EXCESS NUCLEIC ACID INTAKE AND BE ADMINISTERED IN A DOSAGE PERMITTING THE LUXURY OF REDUNDANT SAFETY\n",
            "[85] \t13.8 \t765 \tINCREASED DEXAMETHASONE RESISTANCE OF CYSTIC FIBROSIS FIBROBLASTS WE DEMONSTRATE PREVIOUSLY THAT FIBROBLASTS FROM CYSTIC FIBROSIS CF PATIENTS ARE SIGNIFICANTLY MORE RESISTANT TO THE TOXIC EFFECTS OF OUABAIN THAN NORMAL HUMAN FIBROBLASTS ARE OUABAIN IS GENERALLY ASSUMED TO ACT PRIMARILY AT THE LEVEL OF THE CELL MEMBRANE AND TO CAUSE KILLING OF CELLS BY INHIBITING ION TRANSPORT WE HAVE THEREFORE EXAMINED THE ABILITY OF NORMAL AND CF CELLS TO SURVIVE EXPOSURE TO ETHACRYNIC ACID ANOTHER INHIBITOR OF ION TRANSPORT AND TO SURVIVE COLCHICINE AND AMINOPTERIN RESISTANCE TO WHICH HAS BEEN ASSOCIATED WITH MEMBRANE ALTERATIONS IN OTHER CELLS THE EFFECT OF DEXAMETHASONE WHICH HAS A STEROL NUCLEUS SIMILAR TO THAT OF OUABAIN BUT IS THOUGHT TO HAVE A DIFFERENT SITE OF CELLULAR ACTION WAS ALSO TESTED EXPOSURE OF THE CELLS TO ETHACRYNIC ACID COLCHICINE OR AMINOPTERIN DID NOT REVEAL ANY DIFFERENCES IN SURVIVAL BETWEEN NORMAL AND CF FIBROBLASTS HOWEVER CF CELLS SURVIVED EXPOSURE TO DEXAMETHASONE SIGNIFICANTLY BETTER THAN NORMAL CELLS DID THESE RESULTS SUGGEST THAT NORMAL AND CF CELLS DO NOT DIFFER IN TERMS OF A GENERALIZED RESISTANCE TO ION TRANSPORT INHIBITORS OR TO DRUGS THAT MUST PASS THROUGH THE MEMBRANE TO BE ACTIVE INSTEAD THE RESULTS RAISE THE POSSIBILITY THAT CF CELLS HAVE AN ENHANCED RESISTANCE TO DRUGS THAT HAVE THE STEROL NUCLEUS FOUND IN OUABAIN AND DEXAMETHASONE\n",
            "[86] \t13.8 \t1188 \tPRONE IMMERSION PHYSICAL EXERCISE THERAPY IN THREE CHILDREN WITH CYSTIC FIBROSIS A PILOT STUDY PRONE IMMERSION PHYSICAL EXERCISE THERAPY HAS BEEN USED SUCCESSFULLY IN THE PHYSICAL REHABILITATION OF MIDDLEAGED ADULTS WITH MODERATE TO SEVERE CHRONIC OBSTRUCTIVE PULMONARY DISEASE THE PURPOSE OF THIS PILOT PROJECT WAS TO EVALUATE THE EFFECTS OF PIPE THERAPY IN CHILDREN WITH CYSTIC FIBROSIS THREE CHILDREN WITH CF TWO BOYS AGED 6 AND 14 YEARS AND ONE GIRL AGED 15 YEARS VOLUNTARILY PARTICIPATED IN THE EXPERIMENTAL TRAINING PROGRAM THE PATIENTS PERFORMED INDIVIDUALIZED GROUP EXERCISE THREE TIMES A WEEK ON ALTERNATE DAYS FOR 28 CONSECUTIVE WEEKS AT AN INTENSITY OF APPROXIMATELY 75 PERCENT AEROBIC CAPACITY DURATION OF EXERCISE GRADUALLY INCREASED FROM 15 3 X 5 MINUTES TO 60 3 X 20 MINUTES MINUTES WHILE THE REST PERIOD AFTER EACH EXERCISE WAS CONSTANT AT TWO MINUTES PIPE TRAINING RESULTED IN INCREASED PHYSICAL WORK CAPACITY AND MAXIMAL OXYGEN CONSUMPTION IN ALL THREE SUBJECTS CURIOUSLY THESE CHANGES WERE NOT ACCOMPANIED BY TRAINING BRADYCARDIA\n",
            "[87] \t13.8 \t592 \tTREATMENT OF MUCUS HYPERSECRETION IN HUMAN DISEASE TREATMENT OF MUCUS HYPERSECRETION IN HUMAN DISEASE SHOULD FIRST BE DIRECTED AT PREVENTION THE HYPERSECRETION OF MUCUS EVEN IN THE ABSENCE OF PUS IN THE SPUTUM OR OF OTHER SIGNS OF INFECTION IS OF ITSELF ASSOCIATED WITH SIGNIFICANTLY POOR LUNG FUNCTION INFECTION IS PROBABLY THE IMPORTANT STIMULUS IN CYSTIC FIBROSIS CERTAIN ANTIINFLAMMATORY AGENTS ARE NOW KNOWN TO CAUSE RETENTION OF MUCUS WITHIN THE SECRETORY CELLS ALTHOUGH THE RATE OF SYNTHESIS IS NOT RAISED IT MAY BE THAT THIS OFFERS A NEW WAY OF CONTROL ON THE OTHER HAND THE CELLS BECOME LARGER AND THIS MAY BE UNDESIRABLE I WOULD PREFER TO SEE A STUDY OF THE EFFECT OF DRUGS ON THE CELLULAR STAGES OF SYNTHESIS AND DISCHARGE RATHER THAN CONCENTRATION ON MUCOLYTIC AGENTS\n",
            "[88] \t13.8 \t766 \tINCREASED RESISTANCE OF CYSTIC FIBROSIS FIBROBLASTS TO OUABAIN TOXICITY DIPLOID SKIN FIBROBLASTS DERIVED FROM SEVERAL UNRELATED PATIENTS WITH CYSTIC FIBROSIS CF WERE TESTED FOR RESISTANCE TO THE CYTOTOXIC EFFECTS OF OUABAIN IN COMPARISON WITH CELLS FROM NORMAL INDIVIDUALS CELLS FROM CF AND NORMAL INDIVIDUALS WERE PLATED AT LOW DENSITY AND EXPOSED TO OUABAIN AT DIFFERENT CONCENTRATIONS FOR 24 HR DOSE RESPONSE CURVES SHOWED THAT CF CELLS SURVIVED SIGNIFICANTLY BETTER THAN DID NORMAL CELLS AT ALL OUABAIN CONCENTRATIONS FROM 01 NM TO 1 MICRONM IN POTASSIUMDEFICIENT MEDIUM IN MEDIUM CONTAINING THE USUAL AMOUNT OF POTASSIUM 625 MM SURVIVAL OF THE CF CELLS EXPOSED TO OUABAIN WAS DECREASED TO THAT OF THE NORMAL CELLS IF THE GLUCOSE CONCENTRATION OF THE POTASSIUMDEFICIENT MEDIUM WAS DECREASED TO 10 OF THE USUAL AMOUNT THE RESISTANCE OF THE CF CELLS TO OUABAIN DISAPPEARED AND THEIR SURVIVAL WAS IDENTICAL TO THAT OF THE NORMAL CELLS THESE FINDINGS MAY BE USEFUL IN UNDERSTANDING THE BIOCHEMICAL BASIS OF CG AND ITS CLINICAL MANIFESTATIONS\n",
            "[89] \t13.8 \t288 \tLETTER ESSENTIALFATTYACID METABOLISM IN CYSTIC FIBROSIS IN AN INVESTIGATION OF THE EFFECTS OF INTESTINAL MALABSORPTION ON PLASMALIPIDS WE COMPARED THE FATTYACID COMPOSITION OF THE SERUMLECITHIN OF 23 PATIENTS WITH MALABSORPTION FROM A VARIETY OF DIFFERENT CAUSES AND FOUND SIMILAR CHANGES IRRESPECTIVE OF THE UNDERLYING CAUSE OF THE MALABSORPTION THE ONLY EXCEPTION TO THIS WAS THAT CLASSICAL EFA DEFICIENCY WAS FOUND ONLY IN PATIENTS WHOSE MALABSORPTION WAS DUE TO MASSIVE SMALLBOWEL RESECTION ALL OTHER CAUSES OF MALABSORPTION GAVE RISE TO CHANGES IDENTICAL TO THOSE FOUND BY OTHER WORKERS IN CF THERE IS THUS NO REASON TO POSTULATE AN ADDITIONAL METABOLIC ABNORMALITY SPECIFIC TO CF THE RELATIVELY NORMAL AMOUNTS OF ARACHIDONIC ACID REPORTED IN SOME EFA DEFICIENT PATIENTS MAY NOT BE ENTIRELY DUE TO ARACHIDONIC ACID\n",
            "[90] \t13.8 \t382 \tASSOCIATION OF CYSTIC FIBROSIS WITH ALLERGY IMMEDIATE SKIN HYPERSENSITIVITY TO VARIOUS INHALANT ALLERGENS WAS PRESENT IN 59 OF 123 CHILDREN WITH CYSTIC FIBROSIS CF A MUCH HIGHER PERCENTAGE THAN IN THE GENERAL POPULATION THIS IS CONSISTENT WITH THE IDEA THAT ATOPY ARISES AS A RESULT OF IMPAIRED HANDLING OF ANTIGEN AT MUCOSAL SURFACES THE ALLERGIC CF CHILDREN HAD MORE CHEST INFECTIONS A WORSE CHEST XRAY APPEARANCE AND LOWER PEAK EXPIRATORY FLOW RATES ALLERGIC DISEASES WERE ALSO FREQUENT IN THE CF OBLIGATE HETEROZYGOTES 32 OF MOTHERS AND 26 OF FATHERS IT IS SUGGESTED THAT THE HETEROZYGOTES MAY ALSO HAVE A MUCOSAL ABNORMALITY RESULTING IN DEFECTIVE ANTIGEN HANDLING\n",
            "[91] \t13.7 \t1076 \tTHE EFFECT OF SERUM FROM PATIENTS WITH PANCREATIC DISEASE ON THE SHORT CIRCUIT CURRENT OF RAT JEJUNUM THE SHORT CIRCUIT CURRENT RAT JEJUNUM BIOASSAY FIRST EMPLOYED IN AN ATTEMPT TO DISCERN THE CYSTIC FIBROSIS CF SERUM FACTOR WAS EVALUATED USING SERA FROM PATIENTS WITH PANCREATIC DISEASE THE DATA SUGGEST OTHER PANCREATIC DISEASES SPECIFICALLY GENETIC DIABETES AND ALCOHOLIC PANCREATITIS ALSO PRESENT WITH A SERUM FACTOR OR FACTORS WHICH REDUCE THE SHORT CIRCUIT CURRENT OF RAT JEJUNUM AN EFFECT VERY SIMILAR TO THAT OF THE CF SERUM FACTOR A LARGE NUMBER OF SERA FROM PRESUMED NORMAL SUBJECTS ALSO EXHIBITED A SIGNIFICANT REDUCTION IN SHORT CIRCUIT CURRENT THESE FALSE POSITIVES REPRESENT A YET TO BE DEFINED MECHANISM HOWEVER THEY DO DECREASE THE LIKELIHOOD THAT THE OBSERVED EFFECT IS MERELY DUE TO PANCREATIC DESTRUCTION DETAILED PROCEDURE AND EQUIPMENT SPECIFICATIONS FOR THE BIOASSAY SYSTEM ARE INCLUDED\n",
            "[92] \t13.7 \t266 \tHEPATIC CHANGES IN YOUNG INFANTS WITH CYSTIC FIBROSIS POSSIBLE RELATION TO FOCAL BILIARY CIRRHOSIS FOCAL BILIARY CIRRHOSIS IS AN UNCOMMON FINDING IN INFANTS WITH CYSTIC FIBROSIS BUT IT IS PRESENT IN MORE THAN A FIFTH OF SURVIVING CHILDREN AND ADOLESCENTS IT WAS FOUND AT POSTMORTEM EXAMINATION IN ONLY FIVE OF 47 INFANTS WITH CF YOUNGER THAN 3 MONTHS IN FIVE OF 32 INFANTS FROM 3 TO 12 MONTHS AND IN 18 OF 67 CHILDREN OLDER THAN 1 YEAR IN INFANTS UNDER 3 MONTHS EXCESSIVE MUCUS IN INTRAHEPATIC BILE DUCTS WAS SEEN IN 11 NECROPSIES IN 15 OTHERS THERE WERE ONLY NONSPECIFIC PERIPORTAL CHANGES CHOLESTASIS WAS FOUND IN THE LIVERS OF 18 OF THE 26 INFANTS EXCESSIVE MUCUS IN THE BILIARY TREE WAS OCCASIONALLY ASSOCIATED WITH PERIPORTAL CHANGES AND CHOLESTASIS IN OLDER INFANTS THE PERIPORTAL CHANGES WHICH ARE REGARDED AS NONSPECIFIC WERE NEVER FOUND IN INFANTS MORE THAN 1 YEAR OF AGE\n",
            "[93] \t13.7 \t55 \tSOME ASPECTS OF IMMUNITY IN PATIENTS WITH CYSTIC FIBROSIS VARIOUS ASPECTS OF THE IMMUNE STATUS WERE EXAMINED IN PATIENTS WITH CYSTIC FIBROSIS CF AND THE FOLLOWING OBSERVATIONS WERE MADE TEN PER CENT OF THE CF PATIENTS HAD ELEVATED OR REDUCED SERUM IGG CONCENTRATIONS AND THERE SEEMS TO BE A TRANSIENT LOW SERUM IGA CONCENTRATION IN THE SAME NUMBER SERUM IGM CONCENTRATIONS WERE NORMAL IN CF PATIENTS NORMAL LEVELS OF THE THREE SERUM IMMUNOGLOBULINS IGG IGA AND IGM WERE DETECTED IN THE SIBLINGS AND HETEROZYGOTES SERUM IGE CONCENTRATIONS WERE ELEVATED IN 32 OF PATIENTS WITH CF BUT NORMAL CONCENTRATIONS WERE DETECTED IN HETEROZYGOTES AND SIBLINGS PRECIPITATING ANTIBODIES TO VARIOUS ANTIGENS AND ALLERGENS WERE DETECTED IN THE SPUTUM OF MOST PATIENTS WITH CF BUT THEIR SERA CONTAINED LOWER OR UNDETECTABLE TITRES OF THESE ANTIBODIES THE PRECIPITATING ANTIBODIES IN CF SPUTUM TO BACTERIA TO AGAR TO SEMINAL FLUID TO URINE AND TO HUMAN SERUM MAY BE RELATED TO A COMMON ANTIGENIC DETERMINANT OF THE GLYCOPROTEINS PRESENT IN ALL THESE FLUIDS THE TOTAL PROTEIN CONCENTRATION IN THE SPUTUM OF CF PATIENTS SEEMED TO REFLECT THE EXTENT OF LUNG DAMAGE THE THIRD COMPONENT C3 OF SERUM COMPLEMENT CONCENTRATION WAS NORMAL OR MODERATELY ELEVATED IN ALL CF PATIENTS TESTED SERUM TRANSFERRIN CONCENTRATIONS WERE NORMAL IN CF PATIENTS BUT THEIR PREALBUMIN LEVELS WERE DEPRESSED SUGGESTING MARGINAL UNDERNUTRITION PERIPHERAL BLOOD LYMPHOCYTE TRANSFORMATIONS WITH PHA AND PWM APPEAR TO BE NORMAL IN CF PATIENTS\n",
            "[94] \t13.7 \t541 \tTHE COEXISTENCE OF CYSTIC FIBROSIS AND CELIAC DISEASE TWO PATIENTS WITH CYSTIC FIBROSIS CF WHO SUBSEQUENTLY DEVELOPED CELIAC DISEASE CD ARE DESCRIBED SINCE ORGAN CULTURE OF INTESTINAL MUCOSA HAS BEEN USED TO ESTABLISH AN IN VITRO MODEL FOR THE STUDY OF CD WE UTILIZED THIS OPPORTUNITY TO DETERMINE WHETHER DUODENAL MUCOSA OBTAINED FROM EACH OF THESE TWO PATIENTS AND THEIR IMMEDIATE FAMILIES DIFFERED IN ITS ORGAN CULTURE BEHAVIOR FROM MUCOSA OBTAINED FROM PATIENTS WITH CD ALONE ADDITIONALLY AS SPECIFIC HLA TYPES ARE ASSOCIATED WITH CD WE USED HLA TYPING TO DETERMINE WHETHER THE TWO PATIENTS WITH CFCD DIFFERED GENETICALLY FROM PATIENTS WITH CD ALONE ONE OF OUR PATIENTS WAS HLA8 THE MOST COMMON TYPE ASSOCIATED WITH CD THE OTHER WAS HLA12 AS ARE MANY OF THE NONHLA8 CELIAC PATIENTS THE RESPONSE IN ORGAN CULTURE OF THE MUCOSA OF THESE TWO PATIENTS WAS THE SAME AS THE RESPONSE IN ORGAN CULTURE OF THE MUCOSA FROM PATIENTS WITH CD ALONE THESE AND OTHER DATA SUGGEST THAT CD OCCURRING IN PATIENTS WITH CF IS NO DIFFERENT THAN CD OCCURRING ALONE\n",
            "[95] \t13.7 \t562 \tPOLYAMINE METABOLISM IN CYSTIC FIBROSIS INCREASED BLOOD LEVELS OF SPERMIDINE AND AN INCREASED SPERMIDINESPERMINE RATIO IS DOCUMENTED IN 31 PATIENTS WITH CYSTIC FIBROSIS CF SOME 29 PERCENT OF CF PATIENTS OVERLAP WITH THE CONTROL GROUP AN ABNORMALITY OF URINARY FREE POLYAMINES OR THEIR METABOLIC DERIVATIVES RELATED TO ELECTROLYTE TRANSPORT SERUM CILIOSTATIC FACTORS AND THE AUTONOMIC NERVOUS SYSTEM ARE ELABORATED UPON\n",
            "[96] \t13.7 \t205 \tASPECTS OF BILE ACID METABOLISM IN CYSTIC FIBROSIS PREVIOUS REPORTS HAVE INDICATED THAT CYSTIC FIBROSIS CF PATIENTS WITH PANCREATIC ENZYME INSUFFICIENCY HAVE A RAISED FAECAL BILE ACID OUTPUT IN THIS STUDY 18 OUT OF 29 CF PATIENTS AND 2 OUT OF THE 4 NONCF PATIENTS WITH PANCREATIC ENZYME INSUFFICIENCY HAD RAISED FAECAL BILE ACID LEVELS IN THE CF PATIENTS NO CORRELATION WAS FOUND BETWEEN FAECAL BILE ACID AND FAECAL FAT EXCRETION BUT AN INVERSE RELATION WAS SHOWN BETWEEN FAECAL BILE ACID VALUES AND AGE THOSE CF PATIENTS WITH OVERT LIVER DISEASE TENDED TO HAVE THE LOWEST FAECAL BILE ACID VALUES DUODENAL SPIRATION IN 5 CF PATIENTS AND IN ONE NONCF PATIENT WITH PANCREATIC ENZYME INSUFFICIENCY SHWACHMANDIAMOND SYNDROME PRODUCED VERY SMALL FLUID VOLUMES DUODENAL FLUID MEAN TOTAL BILE ACID CONCENTRATIONS WERE WITHIN NORMAL LIMITS ESTIMATION OF SERUM BILE ACIDS IN THESE 6 PATIENTS SHOWED THAT 3 PATIENTS HAD RAISED SERUM BILE ACID VALUES IT IS SUGGESTED THAT EXCESSIVE FAECAL BILE ACID LOSS MAY PRODUCE A CONTRACTION OF THE BILE ACID POOL AND LEAD EVENTUALLY TO A REDUCTION OF INTRADUODENAL BILE ACID CONCENTRATIONS MEASURES WHICH CURTAIL FAECAL BILE ACID LOSS MAY HAVE A PARTICULAR SIGNIFICANCE IN THE MANAGEMENT OF CF\n",
            "[97] \t13.6 \t589 \tPSEUDOMONAS AERUGINOSA INFECTION IN CYSTIC FIBROSIS BACTERICIDAL EFFECT OF SERUM FROM NORMAL INDIVIDUALS AND PATIENTS WITH CYSTIC FIBROSIS ON P AERUGINOSA STRAINS FROM PATIENTS WITH CYSTIC FIBROSIS OR OTHER DISEASES P AERUGINOSA STRAINS ORIGINATING FROM THE RESPIRATORY TRACT OF PATIENTS WITH CYSTIC FIBROSIS CF AND PATIENTS WITH OTHER DISEASES NONCF WERE ANALYSED WITH REGARD TO THEIR SENSITIVITY TO THE BACTERICIDAL ACTIVITY OF HUMAN SERUM P AERUGINOSA STRAINS ISOLATED FROM CF PATIENTS WERE MORE SENSITIVE THAN STRAINS FROM NONCF PATIENTS TO THE BACTERICIDAL ACTIVITY OF NORMAL HUMAN SERUM THE BACTERICIDAL ACTIVITY WAS HEATLABILE AS REGARDS THE SENSITIVITY TO NORMAL HUMAN SERUM MUCOID AND NONMUCOID VARIANTS WERE NOT FOUND TO DIFFER STRAINS ORIGINATING FROM CHRONICALLY INFECTED CF PATIENTS WITH MANY PRECIPITINS AGAINST THESE BACTERIA DID NOT DIFFER WITH RESPECT TO SERUM SENSITIVITY FROM STRAINS ORIGINATING FROM INTERMITTENTLY COLONIZED CF PATIENTS WITHOUT P AERUGINOSA PRECIPITINS COMPARED WITH NORMAL SERA CF SERA SHOWED SIMILAR OR HIGHER BACTERICIDAL ACTIVITY AGAINST A PANEL OF P AERUGINOSA STRAINS IN THIS RESPECT ANY DIFFERENCE BETWEEN CF SERA WITH PRECIPITINS AND CF SERA WITHOUT PRECIPITINS AGAINST P AEURGINOSA WAS NOT FOUND SERA FROM THREE CF PATIENTS CHRONICALLY INFECTED WITH P AERUGINOSA AND WITH MANY PRECIPITINS AGAINST THESE BACTERIA SHOWED A SELECTIVE INABILITY IN BACTERICIDAL ACTIVITY AGAINST THE PATIENTS OWN P AERUGINOSA ISOLATE POSSIBLY REFLECTING THE PRESENCE OF BACTERICIDAL BLOCKING ANTIBODIES\n",
            "[98] \t13.6 \t925 \tLECTINS AND CYSTIC FIBROSIS LETTER DR FREED AND DR BUCKLEY HAVE SHOWN THAT A LECTIN CONCANAVALIN A CON A CAUSES SEVERE RHINITIS SINUSITIS AND INCREASED MUCUS SECRETION WHEN INHALED BY MAN OR SMALLINTESTINAL COLIC FOULSMELLING FLATUS AND MUCUSCOATED STOOLS IF INGESTED IT IS SOMEWHAT SURPRISING THAT THE AUTHORS SUGGEST THAT A SUITABLE INHALED OR INGESTED LECTIN MAY BE USEFUL IN TREATING PATIENTS WITH CYSTIC FIBROSIS SINCE THE VERY SYMPTOMS PRODUCED BY THE INGESTED LECTIN RESEMBLE THOSE ASSOCIATED WITH THE DISEASE A MORE ATTRACTIVE RECOMMENDATION WOULD BE FOR PATIENTS WITH CYSTIC FIBROSIS TO AVOID SUBSTANCES CONTAINING LECTINS SUCH AS CON A TO AVOID STIMULATING ADDITIONAL MUCUS RELEASE THE UNDERLYING PATHOGENETIC DEFECT IN CYSTIC FIBROSIS MAY BE INAPPROPRIATE EXCESSIVE STIMULI BY LECTINLIKE SUBSTANCES THESE OBSERVATIONS SUGGEST THAT THE INCREASE IN THE PROTEIN CONTENT OF LYMPHOCYTES IS STIMULATED BY A PLASMA FACTOR PRESENT IN PATIENTS WITH CYSTIC FIBROSIS AND IN CARRIERS OF THE CYSTIC FIBROSIS GENE THESE OBSERVATIONS PLUS THOSE OF FREED AND BUCKLEY MIGHT SUGGEST THAT CYSTIC FIBROSIS IS A DISEASE INVOLVING A PLASMA FACTOR WITH LECTIN OR CON ALIKE ACTIVITY WHICH STIMULATES THE SECRETION OF MUCUS AND INCREASES THE ENZYME CONTENT OF CIRCULATING OR CULTURED LYMPHOCYTES  PROFESSOR LIEBERMAN CONFUSES CAUSE WITH EFFECT IF THERE IS EXCESSIVE MUCUS PRODUCTION IN CYSTIC FIBROSIS WE SUGGEST THAT THIS IS BECAUSE THE SECRETION IS SO DIFFICULT TO REMOVE FROM THE MUCOSAL SURFACE GOBLET CELLS AND MUCUS GLANDS BECOME CLOGGED WITH HYPERVISCID MUCUS WHICH NOT BEING REMOVED STIMULATES FURTHER MUCUS PRODUCTION TO DEPRIVE THE PATIENT OF THE MUCOTRACTIVE VALUE OF HIS DIETARY LECTINS WOULD BE A THERAPEUTIC MISCHIEF EQUIVALENT TO PRESCRIBING A COUGHSUPPRESANT FOR A PRODUCTIVE COUGH\n",
            "[99] \t13.6 \t40 \tULTRASTRUCTURE OF THE IN VITRO FORMATION OF HYDROXYAPATITE IN SUBMANDIBULAR SALIVA OF CHILDREN WITH CYSTIC FIBROSIS CALCIUM PHOSPHATE WHICH PRECIPITATES IN SUBMANDIBULAR SALIVA OF PATIENTS WITH CYSTIC FIBROSIS BECAUSE OF ELEVATED CALCIUM CONCENTRATIONS WAS SHOWN BY ELECTRON MICROSCOPY TO TRANSFORM ON STANDING IN VITRO FROM AMORPHOUS CALCIUM PHOSPHATE GLOBULES TO STELLAR CLUSTERS OF HYDROXYAPATITE CRYSTALS AMORPHOUS GLOBULES APPEARED TO FORM AT REGULAR NUCLEATION POINTS ON A FINE NETWORK OF UNKNOWN NATURE HYDROXYAPATITE CRYSTAL FORMATION WAS CONFIRMED BY ELECTRON DIFFRACTION PATTERN AND CHEMICAL SOLUBILITY ZYMOGENGRANULE SPHERULES INCLUSION BODIES WHICH ARE PRESENT IN GREATLY INCREASED NUMBERS IN CYSTIC FIBROSIS SUBMANDIBULAR SALIVA DISINTEGRATED ON STANDING FROM A HOMOGENEOUS APPEARANCE TO BEADED HOLLOW SPHERES\n",
            "[100] \t13.6 \t463 \tINFLAMMATORY REACTION AND AIRWAY DAMAGE IN CYSTIC FIBROSIS IN CYSTIC FIBROSIS THERE IS CHRONIC INFECTION AND INFLAMMATORY REACTION IN THE AIRWAYS ACCOMPANIED BY DESTRUCTION AND SHEDDING OF AIRWAY EPITHELIUM LEUKOCYTES MIGRATE INTO THE AIRWAYS AND SOME DISINTEGRATE LIBERATING DEOXYRIBONUCLEOPROTEIN THAT IS INCORPORATED INTO THE GEL STRUCTURE OF THE BRONCHIAL MUCUS WE COMPARED THE STATUS OF THESE PROCESSES IN CYSTIC FIBROSIS WITH THAT IN CHRONIC BRONCHITIS AND BRONCHIECTASIS BY EXAMINING THE SPUTUM RAISED FROM THE LOWER AIRWAYS MEASUREMENTS ALSO WERE MADE ON SPUTUM INDUCED IN NORMAL SUBJECTS THE RESULTS INDICATE THAT MIGRATION OF LEUKOCYTES INTO THE AIRWAYS AND SHEDDING OF DAMAGED AIRWAY EPITHELIUM WERE MINIMAL IN THE NORMAL SUBJECTS THEY WERE SIGNIFICANT IN THE PATIENTS WITH CHRONIC BRONCHITIS HIGHER IN THOSE WITH BRONCHIECTASIS AND STILL HIGHER IN THOSE WITH CYSTIC FIBROSIS THE LARGE INCREASES FOUND IN THE TOTAL CONTENT OF DNA AND SOLIDS IN THE CYSTIC FIBROSIS SPUTUM WERE DUE TO INCREASES IN THE INSOLUBLE FRACTION CONTAINING THE WHOLE LEUKOCYTES AND PARTICULATE DEBRIS THAT REMAINED WHEN THE SPUTUM MUCUS GEL WAS SOLUBILIZED WITH MERCAPTOETHANOL DESPITE THE LARGE INCREASES IN THE TOTAL CONTENT OF DNA AND SOLIDS THE CONTENTS OF MUCUS GEL COMPONENTS AND OF DEOXYRIBONUCLEOPROTEIN FROM DISINTEGRATED LEUKOCYTES ACTUALLY PRESENT IN THE MUCUS GEL STRUCTURE OF THE CYSTIC FIBROSIS SPUTUM WERE NOT SIGNIFICANTLY HIGHER THAN IN THE SPUTUM FROM THE PATIENTS WITH CHRONIC BRONCHITIS OR BROCHIECTASIS\n",
            "[101] \t13.6 \t1120 \tTHE EFFECT OF HISTAMINE METIAMIDE AND CYSTIC FIBROSIS FACTOR ON THE ELECTROPHYSIOLOGICAL PROPERTIES OF THE FROGS GASTRIC MUCOSA PROCEEDINGS THE TOTAL ACTIVE TRANSPORT OF CL IONS ACROSS THE FROGS GASTRIC MUCOSA CAN BE CONSIDERED AS NET CL FLUX SEROSA TO MUCOSA  H  SSC SHORTCIRCUIT CURRENT ALL TERMS EXPRESSED AS MICROMOLE CM2 HR1 THE NET CHLORIDE FLUX HOGBEN 1955 DURBIN  HEINZ 1958 MAY BE DIVIDED INTO TWO FRACTIONS AN ACIDIC ONE WHICH IS EQUIVALENT TO THE ACID SECRETED AND AN ELECTROMOTIVE ONE WHICH ACCOUNTS FOR THE GASTRIC ELECTROMOTIVE FORCE THE CHANGES IN SCC CAN ACCORDINGLY BE USED AS A PARTIAL INDEX TO THE ACTIVITY OF THE CHLORIDE PUMP EXPERIMENTS WERE DESIGNED TO INVESTIGATE THE EFFECTS OF HISTAMINE METIAMIDE H2 RECEPTOR ANTAGONIST CYSTIC FIBROSIS CF AND NONCF PLASMA ON THE ABOVE PARAMETERS USING THE FROGS ISOLATED GASTRIC MUCOSA THE SCC AND THE RESISTANCE OF THE MUCOSAL PREPARATION IS MEASURED BY MEANS OF AN AUTOMATIC SCC APPARATUS DE JESUS 1977 THE H ION SECRETION IS MEASURED BY PH METER RESULTS OBTAINED EXPRESSED AS MEAN CHANGE DELTA PLUS OR MINUS SE OF MEAN FOR HISTAMINE 104 M N  10 SHOW AN INITIAL INCREASE OF THE SCC BY 3694 PLUS OR MINUS 295 MICROA CM2 AND A PARALLEL SMALL INCREASE IN H OUTPUT BY 0045 PLUS OR MINUS 0003 MICROMOLE CM2 HR1 THIS INITIAL INCREASE IN SCC IS FOLLOWED BY A DROP TO A STEADYSTATE LEVEL OF 2362 PLUS OR MINUS 223 MICROA CM2 AND ALSO BY A LARGE INCREASE IN H SECRETION 226 PLUS OR MINUS 022 MICROMOLE CM2 HR1 THESE RESULTS SUPPORT THE WORK OF REHM 1961 IN THAT HISTAMINE HAS AN EFFECT FIRST ON THE CL PUMP AND THEN ON THE H SECRETION METIAMIDE 104 M N  12 CAUSED A DROP IN THE SCC BY 2016 PLUS OR MINUS 232 MICROA CM2 AND ALSO REDUCED THE ACID SECRETION BY 221 PLUS OR MINUS 014 MICROMOLE CM2 HR1 THUS SUGGESTING AN EFFECT ON THE CL PUMP AS WELL AS ON THE H SECRETION SIGNIFICANT DIFFERENCES ARE SHOWN P  0001 BETWEEN CF AND NONCF PLASMA RESULTS THE CF PLASMA N  8 INCREASED THE SCC BY 1725 PLUS OR MINUS 294 MICROA CM2 AND H SECRETION BY 238 PLUS OR MINUS 043 MICROMOLE CM2 HR1 NONCF PLASMA CAUSED A SLIGHT INCREASE IN SCC BY 517 PLUS OR MINUS 11 MICROA CM2 AND HAD LITTLE EFFECT ON THE H SECRETION 034 PLUS OR MINUS 001 MICROMOLE CM2 HR1 N  8 THE EFFECT OF THE CF PLASMA ON THE CL AND H MECHANISM IS OF INTEREST SINCE IN CYSTIC FIBROSIS THERE IS AN ABNORMAL INCREASE OF CL AND NA IN THE SWEAT OF PATIENTS DI SANT AGNESE DARLING PERERA  SHE 1953\n",
            "[102] \t13.5 \t860 \tTHE PRECIPITINS AND HYPERSENSITIVITY REACTIONS IN CYSTIC FIBROSIS THE LARGE NUMBER AND WIDE VARIETY OF PRECIPITINS DETECTED IN THE SPUTUM OF CYSTIC FIBROSIS PATIENTS SUGGEST THAT THE PRECIPITINS MAY BE NONPROTECTIVE AND EVEN HARMFUL TO THE PATIENTS THESE SPUTUM PRECIPITINS WERE DIRECTED PRINCIPALLY AGAINST FOOD FUNGI BACTERIA AND HUMAN BODY TISSUE ON THE OTHER HAND PRECIPITINS TO STAPHYLOCOCCUS ALPHAHEMOLYSIN WAS THE MAIN TYPE OF IMMUNOPRECIPITIN DETECTED IN CF SERUM AND WAS FOUND IN 60 OF THE SERUM SPECIMENS EXAMINED IT SEEMS LIKELY THAT THE PRECIPITINS IN PATIENTS WITH CF MAY BE INVOLVED IN THE FORMATION OF IMMUNE COMPLEXES WHICH IN CONJUNCTION WITH COMPLEMENT MAY BE RESPONSIBLE FOR THE RESPIRATORY AND GASTROINTESTINAL LESIONS THAT ARE COMMON IN PATIENTS WITH CF THE IMMUNE COMPLEXES MAY BE THE RESULT OF EXCESS FOOD AND BACTERIAL ANTIGENS ESCAPING ACROSS THE GUT AND LUNGS AS A RESULT OF SOME ABNORMALITY OF THE SIGA SYSTEM OVER 80 OF THE SPUTUM SPECIMENS TESTED GAVE POSITIVE PRECIPITINS IN AGAR GEL AGAINST HUMAN SEMINAL FLUID AND COLOSTRUM SUGGESTING THAT SOME OF THE ANTIBODIES FORMED IN CF PATIENTS COULD BE DIRECTED AGAINST HOST TISSUE AND MAY ACCOUNT FOR AN AUTOIMMUNETYPE REACTION IN CF CROSSREACTION BETWEEN THE HIGHTITER ANTIBODY TO STAPHYLOCOCCUS AND BASEMENT MEMBRANE OF LUNGS AND PANCREAS WITH COMPLEMENT ACTIVATION MAY OCCUR IN CF AND REQUIRED FURTHER STUDY THE HIGH NUMBER OF BCELLS AS DETECTED BY ANTIBODY COATED COMPLEMENT ACTIVATED SHEEP ERYTHROCYTES AND EAC ROSETTES MAY BE PARTLY RESPONSIBLE FOR THE SYNTHESIS OF THE VARIETY OF ANTIBODIES DETECTED IN CF PATIENTS\n",
            "[103] \t13.5 \t648 \tDEPRESSION OF ERYTHROPOIESIS PHYSICAL GROWTH AND HAIR GROWTH BY CHLORAMPHENICOL IN A THREEYEAROLD CHILD WITH CYSTIC FIBROSIS IN PATIENTS WITH CYSTIC FIBROSIS CF OF THE PANCREAS OPTIC NEURITIS AND PERIPHERAL NEURITIS HAVE BEEN REPORTED TO FOLLOW TREATMENT WITH CHLORAMPHENICOL THIS TOXIC SEQUEL APPEARS TO BE RELATED TO THE DOSAGE AND DURATION OF THERAPY IN PATIENTS WITH OTHER DISEASES WHO ARE TREATED WITH CHLORAMPHENICOL THE RISK OF DEVASTATING BONE MARROW TOXICITY HAS BEEN ESTIMATED TO RANGE FROM 140000 TO 1100000 WE HAVE FOUND ONLY TWO REPORTS OF PATIENTS WITH CF WHO HAD HEMATOLOGIC COMPLICATIONS AFTER TREATMENT WITH CHLORAMPHENICOL WE HERE REPORT A 3YEAROLD GIRL WHO HAD SELECTIVE DEPRESSION OF THE ERYTHROID BONE MARROW ANOREXIA WEIGHT LOSS TEMPORARY HAIR LOSS AND RETARDATION OF GROWTH AFTER PROLONGED ADMINISTRATION OF CHLORAMPHENICOL\n",
            "[104] \t13.5 \t794 \tZINC STATUS AND VITAMIN A TRANSPORT IN CYSTIC FIBROSIS ZINC STATUS AND THE RETINOL TRANSPORT SYSTEM WERE EXAMINED IN 18 RETINOL SUPPLEMENTED CYSTIC FIBROSIS CF PATIENTS AND 40 AGEMATCHED CONTROLS PLASMA VITAMIN A WAS SIGNIFICANTLY LOWER IN THE CF GROUP AS COMPARED TO THE CONTROLS AND CORRELATED POSITIVELY WITH PLASMA RETINOLBINDING PROTEIN RBP IN BOTH THE CF AND CONTROL GROUPS PLASMA ZINC OF THE CF GROUP WAS NOT SIGNIFICANTLY LOWER THAN CONTROLS WHEREAS HAIR ZINC WAS PLASMA ZINC WAS POSITIVELY CORRELATED WITH PLASMA RBP VITAMIN A AND ALBUMIN IN THE CF GROUP BUT NOT IN THE CONTROLS PLASMA CONCENTRATIONS OF VITAMIN A RBP ALBUMIN AND ZINC DECREASED WITH AGE IN THE CF GROUP BUT NOT IN THE CONTROLS THE DATA SUPPORT PREVIOUS SUGGESTIONS THAT LOW PLASMA VITAMIN A LEVELS IN CF ARE DUE TO DEFECTS IN THE RETINOL TRANSPORT SYSTEM THE ZINC STATUS OF THE CF GROUPS AS A WHOLE WAS JUDGED TO BE LOWNORMAL HOWEVER A SUBGROUP OF CF PATIENTS WERE IN THE MARGINAL TO DEFICIENT CATEGORY THIS SUBGROUP ALSO HAD LOWER LEVELS OF PLASMA VITAMIN A AND RBP THE DATA SUGGEST THAT ZINC MAY BE A CONTRIBUTING FACTOR IN THE LOW PLASMA VITAMIN ARBP LEVELS OF CF PATIENTS WITH MARGINAL OR DEFICIENT ZINC STATUS\n",
            "[105] \t13.5 \t190 \tSTUDIES ON THE SYNTHESIS OF PLASMA MEMBRANE PROTEINS OF FIBROBLASTS FROM PATIENTS WITH CYSTIC FIBROSIS THE CHARACTERISTIC INCREASED SALINITY OF SWEAT AND OTHER ABNORMALITIES OF EXOCRINE SECRETIONS IN PATIENTS WITH CYSTIC FIBROSIS CF SUGGEST THE POSSIBILITY OF A DISTURBED FUNCTIONING OF THE PLASMA MEMBRANE IN THIS DISEASE SEVERAL LINES OF EVIDENCE INDICATE THAT FIBROBLASTS EXPRESS THE PRESENCE OF THE CF GENOTYPE THEREFORE THESE CELLS WERE USED IN AN IN VITRO STUDY DIRECTED AT DETERMINING WHETHER THE MANIFESTATIONS OF CF MIGHT BE RELATED TO AN ALTERATION OF ONE OR MORE OF THE PROTEIN COMPONENTS OF THE PLASMA MEMBRANE IN ORDER TO EVALUATE THE SYNTHESIS OF THESE COMPONENTS GROWING FIBROSBLASTS FROM PATIENTS WITH CF AND NORMAL SUBJECTS WERE BRIEFLY EXPOSED TO EITHER 14C OR 3HLEUCINE THEIR PLASMA MEMBRANES WERE THEN ISOLATED AND SUBJECTED TO ANALYSIS IN A NONDETERGENT ACRYLAMIDE GEL SYSTEM COELECTROPHORESIS OF DIFFERENTIALLY LABELED PREPARATIONS REVEALED THE ABSENCE OF A DETECTABLE ABNORMALITY IN THE SYNTHETIC RATES OF ANY OF THE MORE THAN 30 RESOLVED PROTEIN SPECIES\n",
            "[106] \t13.5 \t567 \tELECTRON MICROSCOPY AND MICROCHEMICAL ANALYSIS OF CYSTIC FIBROSIS DIPLOID FIBROBLASTS IN VITRO FIBROBLASTS DERIVED FROM CYSTIC FIBROSIS HOMOZYGOTES AND HETEROZYGOTES WERE COMPARED TO NORMAL FIBROBLASTS TOPOLOGICALLY ULTRASTRUCTURALLY AND MICROCHEMICALLY TOPOLOGICAL EXAMINATIONS BY MEANS OF SCANNING ELECTRON MICROSCOPY SEM REVEALED NO SIGNIFICANT DIFFERENCES BETWEEN THE 3 GENOTYPES SURVEYED THE CELLS WERE GENERALLY FLATTENED ANDOR FUSIFORM STRUCTURES THAT WERE MORE OR LESS DEVOID OF SURFACE DETAILS HOWEVER THE DIVIDING CELLS IN ALL OF THE POPULATIONS SURVEYED WERE FOUND TO HAVE A MORE OR LESS SPHERICAL CONFIGURATION INVOLVING A HIGHLY COMPLICATED SURFACE THE SURFACE MANIFESTATIONS INCLUDED BLEBS RIDGES AND MICROVILLI REPRESENTATIVE SAMPLES OF THE CELLS IN ALL STAGES OF GROWTH LAG PHASE EXPONENTIAL PHASE AND PLATEAU PHASE WERE SURVEYED IN THIS STUDY ULTRASTRUCTURALLY THE FIBROBLASTS OF THE 3 GENOTYPES WERE FOUND TO HAVE SIMILAR CYTOLOGICAL DETAIL HIGHLY INFOLDED NUCLEI DISTINCT ORGANELLE COMPONENTS AND SURFACE DETAILS ALSO SEEN IN THE SEM STUDY WERE OBSERVED NUMEROUS BUNDLES OF MICROFILAMENTS WERE NOTED WITHIN THE CYTOPLASM METACHROMATIC GRANULES WERE OBSERVED IN CELLS FROM ALL 3 GENOTYPES MICROCHEMICAL ANALYSIS BY MEANS OF ENERGY DISPERSIVE XRAY ANALYSIS DEMONSTRATED SLIGHT BUT RECOGNIZABLE DIFFERENCES IN THE ELEMENTAL COMPOSITION OF THE 3 GENOTYPES OF NOTABLE INTEREST WERE THE PEAK INTENSITIES OF CALCIUM AND SULFUR THE CF HOMOZYGOUS CELLS PRESENTED HIGHER VALUES FOR BOTH OF THE ELEMENTS WHEN COMPARED TO THE VALUES OBSERVED IN THE CF HETEROZYGOUS AND NORMAL CELL POPULATIONS ALTHOUGH CONSISTENT DIFFERENCES COULD BE OBSERVED IN THE CF GENOTYPES WHEN COMPARED TO THE NONCF CELLS NO ATTEMPT WAS MADE TO QUANTITATE THE CONCENTRATIONS OF EACH OF THE ELEMENTS WITHIN THE CELLS\n",
            "[107] \t13.5 \t1203 \tINHIBITORY EFFECT OF CYSTIC FIBROSIS SERUM ON PSEUDOMONAS PHAGOCYTOSIS BY RABBIT AND HUMAN ALVEOLAR MACROPHAGES THIS REPORT PRESENTS EXPERIMENTAL OBSERVATIONS INDICATING THE PRESENCE OF AN INHIBITORY ACTIVITY IN CYSTIC FIBROSIS CF SERUM WHICH IMPAIRS PHAGOCYTOSIS OF PSEUDOMONAS AERUGINOSA BY RABBIT AS WELL AS HUMAN ALVEOLAR MACROPHAGES OF THE 49 PATIENT SERUM SAMPLES STUDIED 40 CONSISTENTLY SHOWED GREATER THAN OR EQUAL TO 60 INHIBITION 3 SHOWED NO INHIBITION AND 6 WERE IN THE RANGE OF 2060 INHIBITION OF PSEUDOMONAS PHAGOCYTOSIS IN PARALLEL STUDIES THE PHAGOCYTOSIS OF S AUREUS AND S MARCESCENS WAS FOUND NOT TO BE INHIBITED BY CF SERUM MIXING OF CF SERUM WITH NORMAL SERUM COULD NOT OVERCOME THE INHIBITORY EFFECT INDICATING THE PRESENCE OF AN INHIBITORY FACTOR RATHER THAN THE LACK OF A NECESSARY COMPONENT THE INHIBITORY ACTIVITY IS NOT LOST UPON EXPOSURE OF SERUM TO GLASS UPON FREEZING THE SERUM ONCE OR UPON HEATING AT 56 DEGREES C FOR 30 MINUTES\n",
            "[108] \t13.5 \t543 \tTHE PARADOXICAL EFFECT OF ADRENERGIC AND METHYLXANTHINE DRUGS IN CYSTIC FIBROSIS THIS STUDY EXAMINED THE EFFECT OF AEROSOLIZED ISOPROTERENOL AND ORAL THEOPHYLLINE ON PULMONARY FUNCTION IN CYSTIC FIBROSIS CF TO DETERMINE HOW OFTEN THESE DRUGS ARE BENEFICIAL AND WHETHER THERE IS A CORRELATION BETWEEN RESPONSE TO ISOPROTERENOL AND RESPONSE TO ORAL THEOPHYLLINE AFTER OBTAINING BASELINE PULMONARY FUNCTION TESTS BEFORE AND AFTER ISOPROTERENOL AEROSOL 12 PATIENTS WITH CF WERE PUT ON A DOUBLEBLIND TRIAL OF HIGHDOSAGE THEOPHYLLINE 10 MGKG THREE TIMES PER DAY OR PLACEBO FOR FOUR WEEKS AND WERE THEN SWITCHED TO THE ALTERNATE REGIMEN FOR THE NEXT FOUR WEEKS PATIENTS HAD WEEKLY EVALUATIONS OF PULMONARY FUNCTION AND PLASMA THEOPHYLLINE DETERMINATIONS GASTROINTESTINAL SIDE EFFECTS WERE COMMON WITH THEOPHYLLINE THE RESPONSES TO AEROSOLIZED BRONCHODILATORS WERE INCONSISTENT FROM WEEK TO WEEK AFTER AEROSOLIZED BRONCHODILATOR FIVE OF 12 PATIENTS HAD AN AVERAGE INCREASE OF 10 OR MORE IN FEF45 55 AND FEF7080 WHILE TAKING ORAL THEOPHYLLINE FIVE PATIENTS HAD A 10 OR MORE DECREASE IN FEF 4555 AND SIX PATIENTS HAD A DECREASE IN FEF7080 WE CONCLUDE THAT THERE WAS NO CONCORDANCE BETWEEN RESPONSE TO ISOPROTERENOL AND THEOPHYLLINE AND THAT ADRENERGIC AND METHYLXANTHINE DRUGS MUST BE USED WITH CAUTION IN PATIENTS WITH CF\n",
            "[109] \t13.5 \t751 \tBLOOD VOLUME CHANGES IN PATIENTS WITH CYSTIC FIBROSIS SIMULTANEOUS RED BLOOD CELL RBC AND PLASMA VOLUME DETERMINATIONS WERE OBTAINED IN 16 PATIENTS WITH CYSTIC FIBROSIS CF AND MODERATELY SEVERE PULMONARY INVOLVEMENT HYPERVOLEMIA WITH AN INCREASE IN BOTH RBC AND PLASMA VOLUMES WAS OBSERVED CHANGES IN BLOOD VOLUME WERE MARKED WHEN VALUES WERE INDEXED BY WEIGHT BUT LESS SIGNIFICANT WHEN INDEXED BY HEIGHT DECREASING SYSTEMIC ARTERIAL OXYGEN SATURATION WAS ASSOCIATED WITH A PROGRESSIVE INCREASE IN RBC MASS HEMATOCRIT VALUE AND HEMOGLOBIN LEVEL AND A DECREASE IN MEAN CORPUSCULAR HEMOGLOBIN CONCENTRATION RBC AND TOTAL BLOOD VOLUMES WERE HIGHEST IN PATIENTS WITH COR PULMONALE AND CONGESTIVE HEART FAILURE HOWEVER THE COMPENSATORY POLYCYTHEMIC RESPONSE IN PATIENTS WITH CF WAS INADEQUATE WHEN COMPARED WITH THE RESPONSE TO HYPOXEMIA IN PATIENTS WITH CYANOTIC CONGENITAL HEART DISEASE THE INSUFFICIENT OXYGENCARRYING CAPACITY MAY COMPROMISE TISSUE OXYGEN DELIVERY AND NECESSITATE TREATMENT\n",
            "[110] \t13.5 \t166 \tHISTOCHEMICAL OBSERVATIONS ON THE PULMONARY MACROPHAGES IN CYSTIC FIBROSIS THE PULMONARY MACROPHAGES COLLECTED WITH BRONCHIAL MUCUS FROM PATIENTS WITH CYSTIC FIBROSIS AND OTHER CHRONIC LUNG DISEASES WERE INVESTIGATED HISTOCHEMICALLY FOR ACID PHOSPHATASE BETAGLUCURONIDASE AND BETAGLUCOSAMINIDASE ACTIVITY AND ALSO FOR MUCOPOLYSACCHARIDE CONTENT IN MACROPHAGES FROM PATIENTS WITH CYSTIC FIBROSIS DECREASED BETAGLUCURONIDASE ACTIVITY WAS OBSERVED TOGETHER WITH LARGE CYTOPLASMIC VACUOLES SUGGESTING STORAGE OF PARTIALLY DIGESTED MATERIAL IT THUS SEEMS VERY LIKELY THAT APART FROM THE INCREASED SYNTHESIS OF MUCOPOLYSACCHARIDES DESCRIBED IN CYSTIC FIBROSIS BY SEVERAL AUTHORS THE DEGRADATION OF MUCOSUBSTANCES PRODUCED CAN BE IMPAIRED\n",
            "[111] \t13.4 \t973 \tPLEIOTROPIC DRUG RESISTANCE IN CYSTIC FIBROSIS FIBROBLASTS INCREASED RESISTANCE TO CYCLIC AMP IN PREVIOUS STUDIES CYSTIC FIBROSIS CF FIBROBLASTS WERE DEMONSTRATED TO BE RESISTANT TO THE CYTOTOXIC EFFECTS OF OUABAIN DEXAMETHASONE AND THE SEX HORMONES DIHYDROTESTOSTERONE 17BETA ESTRADIOL AND PROGESTERONE WE NOW SHOW THAT CF FIBROBLASTS ALSO EXHIBIT GREATLY INCREASED RESISTANCE TO THE CYTOTOXIC EFFECTS OF EXOGENOUS DIBUTYRYL CYCLIC AMP CAMP AS WELL AS TO ISOPROTERENOL AND THEOPHYLLINE DRUGS WHICH ARE KNOWN TO INCREASE ENDOGENOUS LEVELS OF CAMP CF CELLS WERE ALSO SHOWN TO HAVE NORMAL AMOUNTS OF 3HCAMP BINDING TO PROTEIN KINASE AS WELL AS NORMAL AMOUNTS OF CAMP STIMULATED PROTEIN KINASE ACTIVITY PHOSPHODIESTERASE IN CF CELLS WAS ALSO FOUND TO BE STIMULATED BY CAMP TO THE SAME DEGREE AS IN NORMAL CELLS THESE FINDINGS SUGGEST THAT THERE IS NO DETECTABLE PROTEIN KINASE DEFICIENCY IN CF CELLS CF CELLS THUS APPEAR TO BE UNLIKE SOME CAMPRESISTANT MUTANTS DESCRIBED BY OTHERS WHICH ARE DEFECTIVE IN PROTEIN KINASE ACTIVITY AND CAMP REGULATION OF PHOSPHODIESTERASE LEVELS THE CROSSRESISTANCE OF CF FIBROBLASTS TO OUABAIN STEROID HORMONES AND CAMP MAY PROVIDE A UNIQUE OPPORTUNITY TO STUDY THE BIOCHEMICAL EVENTS INVOLVED IN THE METABOLISM OF THESE DRUGS AS WELL AS THE BASIC BIOCHEMICAL DEFECT IN A COMMON HUMAN GENETIC DISEASE\n",
            "[112] \t13.4 \t758 \tDIETARY ESSENTIAL FATTY ACIDS IN CYSTIC FIBROSIS ANALYSES OF SERUM LIPIDS OF CHILDREN WITH CYSTIC FIBROSIS CF HAVE INDICATED A DEFICIENCY IN ESSENTIAL FATTY ACIDS EFA IN VIEW OF A REPORT THAT INTRAVENOUS ADMINISTRATION OF SOYBEAN OIL EMULSIONS NORMALIZED SWEAT SODIUM VALUES IN CF CHILDREN WE STUDIED THE EFFECTS OF ORALLY ADMINISTERED ESSENTIAL FATTY ACIDS AS CORN OIL FOR ONE YEAR SOME IMPROVEMENT WAS NOTED IN ALL PATIENTS BUT NO ONE CONSISTENT FACTOR PREDOMINATED HOWEVER ARACHIDONIC ACID WHICH WAS FOUND ONLY IN TRACE AMOUNTS OR WAS ABSENT IN SERA OF ALL CHILDREN WITH CF BEFORE THE CLINICAL TRIAL WAS INCREASED SIGNIFICANTLY IN THE SERA AFTER THE ORAL ADMINISTRATION OF EFA FOR ONE YEAR OTHER FINDINGS INCLUDED A SIGNIFICANT DECREASE IN SWEAT SODIUM AND T3 IN MOST PATIENTS\n",
            "[113] \t13.4 \t173 \tLETTER MEASUREMENT OF ELECTRICAL POTENTIAL DIFFERENCE ACROSS COLONIC MUCOSA IN CYSTIC FIBROSIS PATIENTS BY MEASURING POTENTIAL DIFFERENCE BETWEEN RECTAL MUCOSA AND PERIANAL SKIN USING A REFERENCE ELECTRODE PLACED ON THE FOREARM WE DEMONSTRATED AN ALTERED POTENTIAL DIFFERENCE IN CYSTIC CHILDREN COMPARED WITH CONTROL ADULTS AND NORMAL CHILDREN WE SUGGESTED THIS MIGHT BE DUE TO AN ALTERATION IN THE RECTAL MUCOSA POTENTIAL OR ALTERED SKIN POTENTIAL OR BOTH IN CYSTIC FIBROSIS WE MEASURED SKIN AND RECTAL CHARGES DIRECTLY BY CONNECTING OUR REFERENCE ELECTRODE TO THE BLOOD STREAM THROUGH AN INTRAVENOUS LINE USING THIS TECHNIQUE WE SHOWED THAT THE CYSTIC FIBROSIS PATIENTS CF HAVE AN ABNORMAL PERIANAL SKIN POTENTIAL DIFFERENCE COMPARED WITH READINGS WE OBTAINED IN NORMAL CHILDREN THERE WAS LITTLE DIFFERENCE IN THE TRANSMURAL RECTAL POTENTIAL DIFFERENCE BETWEEN OUR CYSTIC PATIENTS AND PREVIOUSLY REPORTED VALUES IN NORMAL ADULTS THUS THE RECENT PAPER CONFIRMS OUR FINDINGS OF NORMAL POLARITY OF THE RECTAL MUCOSA SURFACE AND THE INCREASED SKIN POLARISATION IN CYSTIC FIBROSIS\n",
            "[114] \t13.4 \t137 \tSTANDARDIZED ASSAY FOR THE SODIUM REABSORPTION INHIBITORY EFFECT AND STUDIES OF ITS SALIVARY GLAND DISTRIBUTION IN PATIENTS WITH CYSTIC FIBROSIS THE RETROGRADE PERFUSION ASSAY OF MAGOS FOR THE SODIUM REABSORPTION INHIBITORY EFFECT IN SWEAT AND MIXED SALIVA FROM PATIENTS WITH CYSTIC FIBROSIS CF WAS MODIFIED BY 1 USING THE SECOND PAROTID GLAND OF THE RAT AS A CONTROL 2 CAREFULLY CONTROLLING THE QUANTITY OF SALIVA PERFUSED INTO THE RAT PAROTID GLAND SO THAT THE RATIO OF MILLILITERS PERFUSED TO GRAM DRY GLAND WEIGHT FELL BETWEEN 18 AND 28 AND 3 REPORTING THE INHIBITORY EFFECT AS PERCENTAGE OF INHIBITION OF THE RATE OF SODIUM REABSORPTION RNA IN THE PERFUSED GLAND CALCULATED FROM THE DIFFERENCE BETWEEN THE RNAS IN THE TWO GLANDS USING THIS MODIFIED ASSAY WE WERE ABLE TO CONFIRM THAT SIGNIFICANT DIFFERENCES EXIST IN THE PERCENTAGE OF INHIBITION OF RNA CAUSED BY CF AND NORMAL MIXED SALIVA 470 PLUS OR MINUS 248 AND 180 PLUS OR MINUS 83 MEAN PLUS OR MINUS SD IN ADDITION SIMILAR SIGNIFICANT DIFFERENCES IN THE PERCENTAGE OF INHIBITION OF RNA BY SUBMANDIBULAR GLAND SECRETIONS 397 PLUS OR MINUS 135 AND 160 PLUS OR MINUS 118 SUBLINGUAL GLAND SECRETIONS 395 PLUS OR MINUS 60 AND 197 PLUS OR MINUS 143 AND SUBMUCOSAL GLAND SECRETIONS 340 PLUS OR MINUS 117 AND 217 PLUS OR MINUS 127 BETWEEN CF AND NORMAL SUBJECTS WERE OBSERVED HOWEVER PAROTID GLAND SECRETIONS FROM CF SUBJECTS SHOWED NO INCREASED INHIBITORY EFFECT 125 PLUS OR MINUS 79 AND 125 PLUS OR MINUS 66 THESE FINDINGS DEMONSTRATE THAT THE SODIUM REABSORPTION INHIBITORY EFFECT IS PRODUCED BY THE SECRETIONS FROM SOME BUT NOT ALL SALIVARY GLANDS OF PATIENTS WITH CF\n",
            "[115] \t13.3 \t595 \tAN EVALUATION OF THE SENSORY INTEGRATIVE DEVELOPMENT OF YOUNG CHILDREN WITH CYSTIC FIBROSIS STUDIES HAVE SHOWN THAT CHILDREN WITH CHRONIC ILLNESSES ARE MORE PRONE TO DEVELOP SECONDARY HANDICAPS IN THE AREAS OF EDUCATIONAL ACHIEVEMENT BEHAVIOR AND PSYCHOLOGICAL MALADJUSTMENT THAN ARE NORMAL CHILDREN BESIDES HIS PHYSICAL SYMPTOMS THE CHILD WITH A CHRONIC ILLNESS MUST ENDURE PROLONGED HOSPITALIZATION PSYCHOLOGICAL STRESSES DECREASED ACTIVITY AND IS OFTEN DENIED OPPORTUNITY FOR SKILL PRACTICE AND PEER GROUP ACTIVITIES ALL THESE FACTORS RESULT IN AN OVERALL DECREASE IN SENSORY STIMULATION WHICH COULD IMPAIR PERCEPTUALMOTOR FUNCTIONING AS WELL AS THE CHILDS ABILITY TO SUCCESSFULLY ADAPT TO HIS DISEASE THEREFORE THE PURPOSE OF THIS RESEARCH WAS TO OBTAIN A GENERAL IDEA OF THE PERCEPTUALMOTOR OR SENSORY INTEGRATIVE DEVELOPMENT OF CHILDREN WITH CF TO DETERMINE IF THERE IS IN FACT A NEED FOR SENSORY INTEGRATIVE TREATMENT IN THE CARE OF THESE CHILDREN\n",
            "[116] \t13.3 \t498 \tBRONCHIAL MUCUS SECRETION IN CYSTIC FIBROSIS MUCUS IS THE PRIMARY AETIOLOGICAL FACTOR IN THE DEVELOPMENT OF PULMONARY DISEASE IN CYSTIC FIBROSIS BIOCHEMICAL STUDIES ON BRONCHIAL SECRETIONS HAVE NOT YET CONFIRMED ANY QUALITATIVE DIFFERENCE IN COMPOSITION OR IN THE NATURE OF THE GLYCOPROTEINS THE MAJOR COMPONENT OF SECRETION WITH THE LACK OF ANY CLEAR EVIDENCE OF A BASIC ABNORMALITY IN THE NATURE OF MUCUS ATTENTION HAS BEEN DIRECTED TO THE POSSIBLE DEFECT IN THE CONTROL OF MUCUS SECRETION THIS ENCOMPASSES ALTERATION IN THE NORMAL REGULATION OF THE AUTONOMIC NERVOUS SYSTEM OR TO ITS STIMULATION EITHER AT THE CELLULAR OR INTRACELLULAR CONTROL LEVEL IN RECENT YEARS ATTENTION HAS FOCUSED ON THE PRESENCE OF CILIOTOXIC FACTORS IN SERUM OF CHILDREN WITH CYSTIC FIBROSIS AND THEIR POSSIBLE ROLE IN THE PATHOPHYSIOLOGY OF CYSTIC FIBROSIS CONTROL OF MUCUS SECRETION SUBMUCOSAL GLANDS GOBLET CELLS EXPERIMENTAL MODELS OF LUNG DISEASE IN CYSTIC FIBROSIS THE ROLE OF SERUM FACTORS IN MUCUS SECRETION AND THE MUCUS BLANKET IN CHRONIC LUNG DISEASE ARE DISCUSSED\n",
            "[117] \t13.3 \t502 \tMUCOCILIARY CLEARANCE IN CYSTIC FIBROSIS IF WE ARE TO FULLY UNDERSTAND THE FACTORS WHICH CONTROL MUCOCILIARY CLEARANCE THROUGHOUT THE HUMAN LUNG AND THE INTERRELATIONSHIPS BETWEEN CLEARANCE AND DISEASE IT WILL BE NECESSARY TO MEASURE MUCOCILIARY CLEARANCE RATES IN AIRWAYS AT ALL LEVELS WITHIN THE LUNG DURING THE PAST FEW YEARS TECHNICAL MEANS HAVE BEEN SOUGHT WHEREBY THE RATES OF MUCUS CLEARANCE WITHIN INDIVIDUAL AIRWAYS CAN BE MEASURED IN THIS LABORATORY WE HAVE DEVELOPED A RELATIVELY NONINVASIVE TECHNIQUE FOR MEASURING MUCOCILIARY TRACHEAL TRANSPORT RATES WE MEASURED MTTRS IN 20 PATIENTS WITH CYSTIC FIBROSIS THE MTTRS DID NOT CORRELATE WELL WITH THE DEGREE OF PULMONARY DISEASE IN THESE PATIENTS THE MEASUREMENTS OF MTTR WOULD SUGGEST THAT A DERANGED MUCOCILIARY CLEARANCE MECHANISM IS NOT A NECESSARY CONDITION FOR PATIENTS WITH CF WE HAVE ALSO BEEN INTERESTED IN EVALUATING THE EFFECTIVENESS OF THE THERAPY USED IN THE TREATMENT OF CF\n",
            "[118] \t13.3 \t63 \tSERUM PROTEIN PAPER ELECTROPHORESIS IN CYSTIC FIBROSIS CORRELATED WITH CLINICAL AND RADIOLOGICAL FINDINGS FEW STUDIES OF SERUM PROTEINS BY MEANS OF PAPER ELECTROPHORESIS IN PATIENTS WITH CYSTIC FIBROSIS CF HAVE BEEN PUBLISHED IN THESE STUDIES ALTERATIONS OF THE SERUM PROTEIN FRACTIONS WERE FOUND SOME OF WHICH WERE SIGNIFICANTLY CORRELATED WITH THE CLINICAL AND RADIOLOGICAL SEVERITY OF THE DISEASE IN THE PRESENT STUDY SERUM PROTEINS DETERMINED BY PAPER ELECTROPHORESIS IN 95 PATIENTS WITH CF HAVE BEEN STUDIED AND CORRELATED WITH CLINICAL AND RADIOLOGICAL FINDINGS THE SERUM PROTEINS AND ELECTROPHORETIC PATTERNS IF 95 PATIENTS WITH CF WERE FOLLOWED FOR 1 TO 6 YEARS IN EACH PATIENT FOR CF PATIENTS AS A WHOLE TOTAL SERUM PROTEIN WAS UNCHANGED WHEREAS ALBUMIN AND ALBUMINGLOBULIN RATIO WERE DECREASED AND ALL GLOBULIN FRACTIONS INCREASED TOTAL SERUM PROTEIN WAS INCREASED IN PATIENTS WITH SEVERE PULMONARY DISEASE THE CHANGES IN TOTAL SERUM PROTEIN AND IN ALL PROTEIN FRACTIONS WERE SIGNIFICANTLY CORRELATED WITH CLINICAL AND RADIOLOGICAL SEVERITY OF THE LUNG DISEASE ALL TERMINAL PATIENTS HAD SEVERE CHANGES PATIENTS WITH COMPLICATING LIVER CIRRHOSIS HAD ELECTROPHORETIC PATTERNS THAT DID NOT DIFFER FROM THOSE OF OTHER CF PATIENTS IT IS CONCLUDED THAT THE MAIN CAUSE FOR SERUM PROTEIN ALTERATIONS IN CF IS THE LUNG AFFECTION WHEREAS LIVER INVOLVEMENT AND MALABSORPTION PROBABLY ARE OF MUCH LESS IMPORTANCE\n",
            "[119] \t13.3 \t172 \tELECTRICAL POLARIZATION OF RECTAL MUCOSA AND EXCRETION OF TETRAHYDROALDOSTERONE IN PATIENTS WITH CYSTIC FIBROSIS OF PANCREAS AND IN NORMAL SUBJECTS THE ELECTRICAL POTENTIAL DIFFERENCE PD ACROSS THE RECTAL WALL WAS MEASURED IN 26 PATIENTS WITH CYSTIC FIBROSIS OF PANCREAS CFP AND IN 18 HEALTHY SUBJECTS THE PDS OBTAINED IN NORMAL CHILDREN WERE IDENTICAL TO THOSE PREVIOUSLY OBTAINED IN NORMAL ADULTS A SIGNIFICANTLY GREATER DISPERSION OF THE VALUES WAS OBSERVED IN CFP WHEN THE PATIENTS WERE DIVIDED INTO GROUPS ACCORDING TO METACHROMASIA IN FIBROBLAST CULTURES THE MEAN PD WAS INCREASED ONLY IN THE AMETACHROMATIC GROUP TRUE ENOUGH THIS OBSERVATION SUGGESTS A DIFFERENCE BETWEEN VARIOUS FORMS OF CFP DISTINGUISHED BY METACHROMASIA AND THUS IS A FURTHER INDICATION OF THE HETEROGENEITY OF THE DISEASE THE GREATER ABNORMALITIES IN METACHROMASIA NEGATIVE PATIENTS MAY HOWEVER BE DUE SOLELY TO THE FACT THAT THESE PATIENTS ARE MORE SEVERELY AFFECTED BY THE DISEASE THE URINARY EXCRETION OF TETRAHYDROALDOSTERONE IN PATIENTS WAS WITHIN THE RANGES OBTAINED IN CONTROLS WHICH EXCLUDES THE POSSIBILITY OF SECONDARY HYPERALDOSTERONISM AS THE SOURCE OF INCREASED PD NO EVIDENCE WAS PROVIDED IN FAVOUR OF A BASIC DEFECT IN THE INTESTINAL TRANSPORT OF NA OR CL MINUS BUT K CONCENTRATIONS IN FAECAL FLUIDS OF PATIENTS WERE SIGNIFICANTLY LOWER THAN IN CONTROLS THE EQUILIBRIUM CONCENTRATION OF K COULD BE ACCOUNTED FOR BY SIMPLE PASSIVE DIFFUSION SUGGESTING THAT THE EPITHELIUM BEHAVED INERTLY WITH RESPECT TO THIS ION IN CFP\n",
            "[120] \t13.3 \t538 \tFATTY ACIDS PROSTAGLANDINS AND CYSTIC FIBROSIS THE PAPERS BY ELLIOTT AND BY CAMPBELL ET AL SUGGEST A NEW APPROACH TOWARD ETIOLOGY PATHOPHYSIOLOGY AND THERAPY IN PATIENTS WITH CYSTIC FIBROSIS AS IN ELLIOTTS ORIGINAL REPORT OF THE EFFECTS OF INTRAVENOUS FATTY ACID THERAPY FOR CF THE PATIENTS IN THE PRESENT REPORT FARED REMARKABLY WELL PARTICULARLY IN REGARD TO WEIGHT GAIN THE PAPER OF CAMPBELL ET AL SUGGESTS THAT OXYGEN DOES NOT SIMPLY DIFFUSE ACROSS MEMBRANES BUT THAT INSTEAD ITS TRANSPORT IS INFLUENCED BY THE FATTY ACID COMPOSITION OF THE MEMBRANE ELLIOTTS SUGGESTION THAT THE DISARRANGED FATTY ACID METABOLISM MAY BE RELATED TO ALTERED PROSTAGLANDIN PRODUCTION IS ATTRACTIVE THESE STUDIES DO NOT PROVE WHETHER FATTY ACID ANDOR PROSTAGLANDIN ALTERATIONS ARE SECONDARY TO INTESTINAL FAT MALABSORPTION OR ARE RELATED TO THE PRIMARY METABOLIC DEFECT IN CF\n"
          ]
        }
      ],
      "source": [
        "#question = query[\"query\"][1]\n",
        "question = Queries(\"Information-Retrieval/queries_201.tsv\")   # queries_20.tsv without the header\n",
        "print(f\"#> {question}\")\n",
        "\n",
        "# Find the top-10 passages for this query\n",
        "results = searcher.search(question[0], k=120)\n",
        "print(results)\n",
        "#full length search? check file\n",
        "\n",
        "passages_ranked = {}\n",
        "#Print out the top-k retrieved passages\n",
        "print(\"Rank\\tScore\\tId\\tPassage\")\n",
        "for passage_id, passage_rank, passage_score in zip(*results):\n",
        "     print(f\"[{passage_rank}] \\t{passage_score:.1f} \\t{collection['doc_id'][passage_id]} \\t{searcher.collection[passage_id]}\")\n",
        "     passages_ranked[passage_id] = passage_rank"
      ]
    },
    {
      "cell_type": "markdown",
      "source": [
        "Metrics\n"
      ],
      "metadata": {
        "id": "5-xjMCJC25rV"
      }
    },
    {
      "cell_type": "code",
      "source": [
        "f = open(\"Information-Retrieval/Relevant_20\", \"r\")\n",
        "file = f.read().splitlines()\n",
        "relevant_docs = []\n",
        "for line in file:\n",
        "    line=line.split()\n",
        "    list = []\n",
        "    for num in line:\n",
        "        num = int(num)\n",
        "        list.append('doc'+str(num))\n",
        "    relevant_docs.append(list)                  # relevant_docs list includes every line from Relevant_20"
      ],
      "metadata": {
        "id": "5L2ipsgy295T"
      },
      "execution_count": 61,
      "outputs": []
    },
    {
      "cell_type": "markdown",
      "source": [
        "Mean Average Precision"
      ],
      "metadata": {
        "id": "kru4zEeeQ7e3"
      }
    },
    {
      "cell_type": "code",
      "source": [
        "#avg_pr_list = []\n",
        "#i=0;\n",
        "for i in range(20):\n",
        "    results = searcher.search(question[i], k=400)\n",
        "    passages_ranked = {}\n",
        "    for passage_id, passage_rank, passage_score in zip(*results):\n",
        "      passages_ranked[passage_id] = passage_rank\n",
        "    precision_at_k = []\n",
        "    recall_at_k = []\n",
        "    true_positives = 0\n",
        "\n",
        "    for key, value in passages_ranked.items():\n",
        "      doc = \"doc\"+str(collection['doc_id'][key])\n",
        "      if(doc in relevant_docs[i]):\n",
        "        #print(doc)\n",
        "        true_positives+=1\n",
        "        #print(value)\n",
        "        precision_at_k.append(true_positives/value)\n",
        "        recall_at_k.append(true_positives/len(relevant_docs[i]))\n",
        "\n",
        "    average_precision = 0\n",
        "    for x in range(len(precision_at_k)):\n",
        "      value = precision_at_k[x]*recall_at_k[x]\n",
        "      average_precision += value\n",
        "\n",
        "    #print(average_precision)\n",
        "    average_precision = average_precision/len(relevant_docs[i])\n",
        "    print(average_precision)\n",
        "    #avg_pr_list.append(average_precision)\n",
        "\n",
        "# mean_average_precision = sum(avg_pr_list)/20\n",
        "# print(mean_average_precision)"
      ],
      "metadata": {
        "id": "q5aqzBjO3Fu_",
        "outputId": "7ca25ede-7a59-4910-c95a-8ec3cf3ee8e1",
        "colab": {
          "base_uri": "https://localhost:8080/"
        }
      },
      "execution_count": 67,
      "outputs": [
        {
          "output_type": "stream",
          "name": "stdout",
          "text": [
            "0.12064240604644527\n",
            "0.05778769841269841\n",
            "0.03727467579632158\n",
            "0.077378055351569\n",
            "0.029028859789991122\n",
            "0.0451372762945074\n",
            "0.015614722990647293\n",
            "0.018055090011407263\n",
            "0.10758473441452165\n",
            "0.06199334075503886\n",
            "0.22026992407388776\n",
            "0.029319945024747034\n",
            "0.019303477091204002\n",
            "0.04042878167057118\n",
            "0.023373417203075265\n",
            "0.04868709221683805\n",
            "0.018224388665211644\n",
            "0.031986484945198866\n",
            "0.02031230112695237\n",
            "0.15614637822938712\n"
          ]
        }
      ]
    },
    {
      "cell_type": "markdown",
      "source": [
        "Mean Reciprocal Rank"
      ],
      "metadata": {
        "id": "jLngkOhgQ_8e"
      }
    },
    {
      "cell_type": "code",
      "source": [
        "mean_rep_rank = 0\n",
        "for i in range(20):\n",
        "    results = searcher.search(question[i], k=400)\n",
        "    passages_ranked = {}\n",
        "    for passage_id, passage_rank, passage_score in zip(*results):\n",
        "      passages_ranked[passage_id] = passage_rank\n",
        "\n",
        "    for key, value in passages_ranked.items():\n",
        "      doc = \"doc\"+str(collection['doc_id'][key])\n",
        "      if(doc in relevant_docs[i]):\n",
        "            mean_rep_rank += 1/value\n",
        "            break\n",
        "\n",
        "mean_rep_rank = mean_rep_rank/20\n",
        "print(mean_rep_rank)\n",
        ""
      ],
      "metadata": {
        "id": "NkmKYEBxPpLc",
        "outputId": "f9e02385-b662-42f7-9b03-b08f1529aaec",
        "colab": {
          "base_uri": "https://localhost:8080/"
        }
      },
      "execution_count": 70,
      "outputs": [
        {
          "output_type": "stream",
          "name": "stdout",
          "text": [
            "0.7333333333333333\n"
          ]
        }
      ]
    }
  ],
  "metadata": {
    "accelerator": "GPU",
    "colab": {
      "gpuType": "T4",
      "provenance": [],
      "include_colab_link": true
    },
    "kernelspec": {
      "display_name": "Python 3",
      "name": "python3"
    },
    "language_info": {
      "codemirror_mode": {
        "name": "ipython",
        "version": 3
      },
      "file_extension": ".py",
      "mimetype": "text/x-python",
      "name": "python",
      "nbconvert_exporter": "python",
      "pygments_lexer": "ipython3",
      "version": "3.9.1"
    },
    "widgets": {
      "application/vnd.jupyter.widget-state+json": {
        "f6003653bb54457994085b6fe4998e6d": {
          "model_module": "@jupyter-widgets/controls",
          "model_name": "HBoxModel",
          "model_module_version": "1.5.0",
          "state": {
            "_dom_classes": [],
            "_model_module": "@jupyter-widgets/controls",
            "_model_module_version": "1.5.0",
            "_model_name": "HBoxModel",
            "_view_count": null,
            "_view_module": "@jupyter-widgets/controls",
            "_view_module_version": "1.5.0",
            "_view_name": "HBoxView",
            "box_style": "",
            "children": [
              "IPY_MODEL_604634411ee5448ea0fe9fa6a4079bb6",
              "IPY_MODEL_5cec9d818e4f4727bbb6ef13d0868c41",
              "IPY_MODEL_f5a3d4e539ed41b497686c00eeaf9813"
            ],
            "layout": "IPY_MODEL_2af1d4bd9cb84312a53390d05b553065"
          }
        },
        "604634411ee5448ea0fe9fa6a4079bb6": {
          "model_module": "@jupyter-widgets/controls",
          "model_name": "HTMLModel",
          "model_module_version": "1.5.0",
          "state": {
            "_dom_classes": [],
            "_model_module": "@jupyter-widgets/controls",
            "_model_module_version": "1.5.0",
            "_model_name": "HTMLModel",
            "_view_count": null,
            "_view_module": "@jupyter-widgets/controls",
            "_view_module_version": "1.5.0",
            "_view_name": "HTMLView",
            "description": "",
            "description_tooltip": null,
            "layout": "IPY_MODEL_62c90c326c1b4853b9859372e92561af",
            "placeholder": "​",
            "style": "IPY_MODEL_028ce13083de4b5782559799a378c151",
            "value": "artifact.metadata: 100%"
          }
        },
        "5cec9d818e4f4727bbb6ef13d0868c41": {
          "model_module": "@jupyter-widgets/controls",
          "model_name": "FloatProgressModel",
          "model_module_version": "1.5.0",
          "state": {
            "_dom_classes": [],
            "_model_module": "@jupyter-widgets/controls",
            "_model_module_version": "1.5.0",
            "_model_name": "FloatProgressModel",
            "_view_count": null,
            "_view_module": "@jupyter-widgets/controls",
            "_view_module_version": "1.5.0",
            "_view_name": "ProgressView",
            "bar_style": "success",
            "description": "",
            "description_tooltip": null,
            "layout": "IPY_MODEL_4736235747bb4ed5ba2e1dd97ecf1d81",
            "max": 1633,
            "min": 0,
            "orientation": "horizontal",
            "style": "IPY_MODEL_e52e8bb28d3c4a71b4083b788972cb60",
            "value": 1633
          }
        },
        "f5a3d4e539ed41b497686c00eeaf9813": {
          "model_module": "@jupyter-widgets/controls",
          "model_name": "HTMLModel",
          "model_module_version": "1.5.0",
          "state": {
            "_dom_classes": [],
            "_model_module": "@jupyter-widgets/controls",
            "_model_module_version": "1.5.0",
            "_model_name": "HTMLModel",
            "_view_count": null,
            "_view_module": "@jupyter-widgets/controls",
            "_view_module_version": "1.5.0",
            "_view_name": "HTMLView",
            "description": "",
            "description_tooltip": null,
            "layout": "IPY_MODEL_fb41ff046a934a5fb3491d23745f85b1",
            "placeholder": "​",
            "style": "IPY_MODEL_84af08684ac34f24af18a6990c27c0e3",
            "value": " 1.63k/1.63k [00:00&lt;00:00, 39.1kB/s]"
          }
        },
        "2af1d4bd9cb84312a53390d05b553065": {
          "model_module": "@jupyter-widgets/base",
          "model_name": "LayoutModel",
          "model_module_version": "1.2.0",
          "state": {
            "_model_module": "@jupyter-widgets/base",
            "_model_module_version": "1.2.0",
            "_model_name": "LayoutModel",
            "_view_count": null,
            "_view_module": "@jupyter-widgets/base",
            "_view_module_version": "1.2.0",
            "_view_name": "LayoutView",
            "align_content": null,
            "align_items": null,
            "align_self": null,
            "border": null,
            "bottom": null,
            "display": null,
            "flex": null,
            "flex_flow": null,
            "grid_area": null,
            "grid_auto_columns": null,
            "grid_auto_flow": null,
            "grid_auto_rows": null,
            "grid_column": null,
            "grid_gap": null,
            "grid_row": null,
            "grid_template_areas": null,
            "grid_template_columns": null,
            "grid_template_rows": null,
            "height": null,
            "justify_content": null,
            "justify_items": null,
            "left": null,
            "margin": null,
            "max_height": null,
            "max_width": null,
            "min_height": null,
            "min_width": null,
            "object_fit": null,
            "object_position": null,
            "order": null,
            "overflow": null,
            "overflow_x": null,
            "overflow_y": null,
            "padding": null,
            "right": null,
            "top": null,
            "visibility": null,
            "width": null
          }
        },
        "62c90c326c1b4853b9859372e92561af": {
          "model_module": "@jupyter-widgets/base",
          "model_name": "LayoutModel",
          "model_module_version": "1.2.0",
          "state": {
            "_model_module": "@jupyter-widgets/base",
            "_model_module_version": "1.2.0",
            "_model_name": "LayoutModel",
            "_view_count": null,
            "_view_module": "@jupyter-widgets/base",
            "_view_module_version": "1.2.0",
            "_view_name": "LayoutView",
            "align_content": null,
            "align_items": null,
            "align_self": null,
            "border": null,
            "bottom": null,
            "display": null,
            "flex": null,
            "flex_flow": null,
            "grid_area": null,
            "grid_auto_columns": null,
            "grid_auto_flow": null,
            "grid_auto_rows": null,
            "grid_column": null,
            "grid_gap": null,
            "grid_row": null,
            "grid_template_areas": null,
            "grid_template_columns": null,
            "grid_template_rows": null,
            "height": null,
            "justify_content": null,
            "justify_items": null,
            "left": null,
            "margin": null,
            "max_height": null,
            "max_width": null,
            "min_height": null,
            "min_width": null,
            "object_fit": null,
            "object_position": null,
            "order": null,
            "overflow": null,
            "overflow_x": null,
            "overflow_y": null,
            "padding": null,
            "right": null,
            "top": null,
            "visibility": null,
            "width": null
          }
        },
        "028ce13083de4b5782559799a378c151": {
          "model_module": "@jupyter-widgets/controls",
          "model_name": "DescriptionStyleModel",
          "model_module_version": "1.5.0",
          "state": {
            "_model_module": "@jupyter-widgets/controls",
            "_model_module_version": "1.5.0",
            "_model_name": "DescriptionStyleModel",
            "_view_count": null,
            "_view_module": "@jupyter-widgets/base",
            "_view_module_version": "1.2.0",
            "_view_name": "StyleView",
            "description_width": ""
          }
        },
        "4736235747bb4ed5ba2e1dd97ecf1d81": {
          "model_module": "@jupyter-widgets/base",
          "model_name": "LayoutModel",
          "model_module_version": "1.2.0",
          "state": {
            "_model_module": "@jupyter-widgets/base",
            "_model_module_version": "1.2.0",
            "_model_name": "LayoutModel",
            "_view_count": null,
            "_view_module": "@jupyter-widgets/base",
            "_view_module_version": "1.2.0",
            "_view_name": "LayoutView",
            "align_content": null,
            "align_items": null,
            "align_self": null,
            "border": null,
            "bottom": null,
            "display": null,
            "flex": null,
            "flex_flow": null,
            "grid_area": null,
            "grid_auto_columns": null,
            "grid_auto_flow": null,
            "grid_auto_rows": null,
            "grid_column": null,
            "grid_gap": null,
            "grid_row": null,
            "grid_template_areas": null,
            "grid_template_columns": null,
            "grid_template_rows": null,
            "height": null,
            "justify_content": null,
            "justify_items": null,
            "left": null,
            "margin": null,
            "max_height": null,
            "max_width": null,
            "min_height": null,
            "min_width": null,
            "object_fit": null,
            "object_position": null,
            "order": null,
            "overflow": null,
            "overflow_x": null,
            "overflow_y": null,
            "padding": null,
            "right": null,
            "top": null,
            "visibility": null,
            "width": null
          }
        },
        "e52e8bb28d3c4a71b4083b788972cb60": {
          "model_module": "@jupyter-widgets/controls",
          "model_name": "ProgressStyleModel",
          "model_module_version": "1.5.0",
          "state": {
            "_model_module": "@jupyter-widgets/controls",
            "_model_module_version": "1.5.0",
            "_model_name": "ProgressStyleModel",
            "_view_count": null,
            "_view_module": "@jupyter-widgets/base",
            "_view_module_version": "1.2.0",
            "_view_name": "StyleView",
            "bar_color": null,
            "description_width": ""
          }
        },
        "fb41ff046a934a5fb3491d23745f85b1": {
          "model_module": "@jupyter-widgets/base",
          "model_name": "LayoutModel",
          "model_module_version": "1.2.0",
          "state": {
            "_model_module": "@jupyter-widgets/base",
            "_model_module_version": "1.2.0",
            "_model_name": "LayoutModel",
            "_view_count": null,
            "_view_module": "@jupyter-widgets/base",
            "_view_module_version": "1.2.0",
            "_view_name": "LayoutView",
            "align_content": null,
            "align_items": null,
            "align_self": null,
            "border": null,
            "bottom": null,
            "display": null,
            "flex": null,
            "flex_flow": null,
            "grid_area": null,
            "grid_auto_columns": null,
            "grid_auto_flow": null,
            "grid_auto_rows": null,
            "grid_column": null,
            "grid_gap": null,
            "grid_row": null,
            "grid_template_areas": null,
            "grid_template_columns": null,
            "grid_template_rows": null,
            "height": null,
            "justify_content": null,
            "justify_items": null,
            "left": null,
            "margin": null,
            "max_height": null,
            "max_width": null,
            "min_height": null,
            "min_width": null,
            "object_fit": null,
            "object_position": null,
            "order": null,
            "overflow": null,
            "overflow_x": null,
            "overflow_y": null,
            "padding": null,
            "right": null,
            "top": null,
            "visibility": null,
            "width": null
          }
        },
        "84af08684ac34f24af18a6990c27c0e3": {
          "model_module": "@jupyter-widgets/controls",
          "model_name": "DescriptionStyleModel",
          "model_module_version": "1.5.0",
          "state": {
            "_model_module": "@jupyter-widgets/controls",
            "_model_module_version": "1.5.0",
            "_model_name": "DescriptionStyleModel",
            "_view_count": null,
            "_view_module": "@jupyter-widgets/base",
            "_view_module_version": "1.2.0",
            "_view_name": "StyleView",
            "description_width": ""
          }
        }
      }
    }
  },
  "nbformat": 4,
  "nbformat_minor": 0
}