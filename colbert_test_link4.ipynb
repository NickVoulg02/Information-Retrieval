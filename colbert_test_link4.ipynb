{
  "cells": [
    {
      "cell_type": "markdown",
      "metadata": {
        "id": "view-in-github",
        "colab_type": "text"
      },
      "source": [
        "<a href=\"https://colab.research.google.com/github/NickVoulg02/Information-Retrieval/blob/main/colbert_test_link4.ipynb\" target=\"_parent\"><img src=\"https://colab.research.google.com/assets/colab-badge.svg\" alt=\"Open In Colab\"/></a>"
      ]
    },
    {
      "cell_type": "markdown",
      "metadata": {
        "id": "vTwpDNBnorUT"
      },
      "source": [
        "# ColBERTv2: Indexing & Search Notebook\n",
        "First, we'll import the relevant classes. Note that `Indexer` and `Searcher` are the key actors here. Next, we'll download the necessary dependencies."
      ]
    },
    {
      "cell_type": "code",
      "execution_count": 1,
      "metadata": {
        "colab": {
          "base_uri": "https://localhost:8080/"
        },
        "id": "nl_YBBPTo5AZ",
        "outputId": "a291613f-3db8-45b4-a622-12b9d926c8fa"
      },
      "outputs": [
        {
          "output_type": "stream",
          "name": "stdout",
          "text": [
            "fatal: cannot change to 'ColBERT/': No such file or directory\n",
            "Cloning into 'ColBERT'...\n",
            "remote: Enumerating objects: 2576, done.\u001b[K\n",
            "remote: Counting objects: 100% (1089/1089), done.\u001b[K\n",
            "remote: Compressing objects: 100% (310/310), done.\u001b[K\n",
            "remote: Total 2576 (delta 856), reused 828 (delta 779), pack-reused 1487\u001b[K\n",
            "Receiving objects: 100% (2576/2576), 2.01 MiB | 12.57 MiB/s, done.\n",
            "Resolving deltas: 100% (1609/1609), done.\n"
          ]
        }
      ],
      "source": [
        "!git -C ColBERT/ pull || git clone https://github.com/stanford-futuredata/ColBERT.git\n",
        "import sys; sys.path.insert(0, 'ColBERT/')\n"
      ]
    },
    {
      "cell_type": "code",
      "execution_count": 2,
      "metadata": {
        "colab": {
          "base_uri": "https://localhost:8080/"
        },
        "id": "FmBi2UT5pxb3",
        "outputId": "8201418b-4edc-4469-b83d-11210a15794f"
      },
      "outputs": [
        {
          "output_type": "stream",
          "name": "stdout",
          "text": [
            "Requirement already satisfied: pip in /usr/local/lib/python3.10/dist-packages (23.1.2)\n",
            "Collecting pip\n",
            "  Downloading pip-23.3.2-py3-none-any.whl (2.1 MB)\n",
            "\u001b[2K     \u001b[90m━━━━━━━━━━━━━━━━━━━━━━━━━━━━━━━━━━━━━━━━\u001b[0m \u001b[32m2.1/2.1 MB\u001b[0m \u001b[31m6.6 MB/s\u001b[0m eta \u001b[36m0:00:00\u001b[0m\n",
            "\u001b[?25hInstalling collected packages: pip\n",
            "  Attempting uninstall: pip\n",
            "    Found existing installation: pip 23.1.2\n",
            "    Uninstalling pip-23.1.2:\n",
            "      Successfully uninstalled pip-23.1.2\n",
            "Successfully installed pip-23.3.2\n",
            "Obtaining file:///content/ColBERT\n",
            "  Preparing metadata (setup.py) ... \u001b[?25l\u001b[?25hdone\n",
            "Collecting bitarray (from colbert-ai==0.2.17)\n",
            "  Downloading bitarray-2.9.2-cp310-cp310-manylinux_2_17_x86_64.manylinux2014_x86_64.whl.metadata (34 kB)\n",
            "Collecting datasets (from colbert-ai==0.2.17)\n",
            "  Downloading datasets-2.16.1-py3-none-any.whl.metadata (20 kB)\n",
            "Requirement already satisfied: flask in /usr/local/lib/python3.10/dist-packages (from colbert-ai==0.2.17) (2.2.5)\n",
            "Collecting git-python (from colbert-ai==0.2.17)\n",
            "  Downloading git_python-1.0.3-py2.py3-none-any.whl (1.9 kB)\n",
            "Collecting python-dotenv (from colbert-ai==0.2.17)\n",
            "  Downloading python_dotenv-1.0.1-py3-none-any.whl.metadata (23 kB)\n",
            "Collecting ninja (from colbert-ai==0.2.17)\n",
            "  Downloading ninja-1.11.1.1-py2.py3-none-manylinux1_x86_64.manylinux_2_5_x86_64.whl.metadata (5.3 kB)\n",
            "Requirement already satisfied: scipy in /usr/local/lib/python3.10/dist-packages (from colbert-ai==0.2.17) (1.11.4)\n",
            "Requirement already satisfied: spacy in /usr/local/lib/python3.10/dist-packages (from colbert-ai==0.2.17) (3.6.1)\n",
            "Requirement already satisfied: tqdm in /usr/local/lib/python3.10/dist-packages (from colbert-ai==0.2.17) (4.66.1)\n",
            "Requirement already satisfied: transformers in /usr/local/lib/python3.10/dist-packages (from colbert-ai==0.2.17) (4.35.2)\n",
            "Collecting ujson (from colbert-ai==0.2.17)\n",
            "  Downloading ujson-5.9.0-cp310-cp310-manylinux_2_17_x86_64.manylinux2014_x86_64.whl.metadata (8.7 kB)\n",
            "Collecting faiss-gpu>=1.7.0 (from colbert-ai==0.2.17)\n",
            "  Downloading faiss_gpu-1.7.2-cp310-cp310-manylinux_2_17_x86_64.manylinux2014_x86_64.whl (85.5 MB)\n",
            "\u001b[2K     \u001b[90m━━━━━━━━━━━━━━━━━━━━━━━━━━━━━━━━━━━━━━━━\u001b[0m \u001b[32m85.5/85.5 MB\u001b[0m \u001b[31m9.5 MB/s\u001b[0m eta \u001b[36m0:00:00\u001b[0m\n",
            "\u001b[?25hCollecting torch==1.13.1 (from colbert-ai==0.2.17)\n",
            "  Downloading torch-1.13.1-cp310-cp310-manylinux1_x86_64.whl (887.5 MB)\n",
            "\u001b[2K     \u001b[90m━━━━━━━━━━━━━━━━━━━━━━━━━━━━━━━━━━━━━━━━\u001b[0m \u001b[32m887.5/887.5 MB\u001b[0m \u001b[31m2.3 MB/s\u001b[0m eta \u001b[36m0:00:00\u001b[0m\n",
            "\u001b[?25hRequirement already satisfied: typing-extensions in /usr/local/lib/python3.10/dist-packages (from torch==1.13.1->colbert-ai==0.2.17) (4.5.0)\n",
            "Collecting nvidia-cuda-runtime-cu11==11.7.99 (from torch==1.13.1->colbert-ai==0.2.17)\n",
            "  Downloading nvidia_cuda_runtime_cu11-11.7.99-py3-none-manylinux1_x86_64.whl (849 kB)\n",
            "\u001b[2K     \u001b[90m━━━━━━━━━━━━━━━━━━━━━━━━━━━━━━━━━━━━━━━━\u001b[0m \u001b[32m849.3/849.3 kB\u001b[0m \u001b[31m50.5 MB/s\u001b[0m eta \u001b[36m0:00:00\u001b[0m\n",
            "\u001b[?25hCollecting nvidia-cudnn-cu11==8.5.0.96 (from torch==1.13.1->colbert-ai==0.2.17)\n",
            "  Downloading nvidia_cudnn_cu11-8.5.0.96-2-py3-none-manylinux1_x86_64.whl (557.1 MB)\n",
            "\u001b[2K     \u001b[90m━━━━━━━━━━━━━━━━━━━━━━━━━━━━━━━━━━━━━━━━\u001b[0m \u001b[32m557.1/557.1 MB\u001b[0m \u001b[31m2.7 MB/s\u001b[0m eta \u001b[36m0:00:00\u001b[0m\n",
            "\u001b[?25hCollecting nvidia-cublas-cu11==11.10.3.66 (from torch==1.13.1->colbert-ai==0.2.17)\n",
            "  Downloading nvidia_cublas_cu11-11.10.3.66-py3-none-manylinux1_x86_64.whl (317.1 MB)\n",
            "\u001b[2K     \u001b[90m━━━━━━━━━━━━━━━━━━━━━━━━━━━━━━━━━━━━━━━━\u001b[0m \u001b[32m317.1/317.1 MB\u001b[0m \u001b[31m5.1 MB/s\u001b[0m eta \u001b[36m0:00:00\u001b[0m\n",
            "\u001b[?25hCollecting nvidia-cuda-nvrtc-cu11==11.7.99 (from torch==1.13.1->colbert-ai==0.2.17)\n",
            "  Downloading nvidia_cuda_nvrtc_cu11-11.7.99-2-py3-none-manylinux1_x86_64.whl (21.0 MB)\n",
            "\u001b[2K     \u001b[90m━━━━━━━━━━━━━━━━━━━━━━━━━━━━━━━━━━━━━━━━\u001b[0m \u001b[32m21.0/21.0 MB\u001b[0m \u001b[31m37.4 MB/s\u001b[0m eta \u001b[36m0:00:00\u001b[0m\n",
            "\u001b[?25hRequirement already satisfied: setuptools in /usr/local/lib/python3.10/dist-packages (from nvidia-cublas-cu11==11.10.3.66->torch==1.13.1->colbert-ai==0.2.17) (67.7.2)\n",
            "Requirement already satisfied: wheel in /usr/local/lib/python3.10/dist-packages (from nvidia-cublas-cu11==11.10.3.66->torch==1.13.1->colbert-ai==0.2.17) (0.42.0)\n",
            "Requirement already satisfied: filelock in /usr/local/lib/python3.10/dist-packages (from datasets->colbert-ai==0.2.17) (3.13.1)\n",
            "Requirement already satisfied: numpy>=1.17 in /usr/local/lib/python3.10/dist-packages (from datasets->colbert-ai==0.2.17) (1.23.5)\n",
            "Requirement already satisfied: pyarrow>=8.0.0 in /usr/local/lib/python3.10/dist-packages (from datasets->colbert-ai==0.2.17) (10.0.1)\n",
            "Requirement already satisfied: pyarrow-hotfix in /usr/local/lib/python3.10/dist-packages (from datasets->colbert-ai==0.2.17) (0.6)\n",
            "Collecting dill<0.3.8,>=0.3.0 (from datasets->colbert-ai==0.2.17)\n",
            "  Downloading dill-0.3.7-py3-none-any.whl.metadata (9.9 kB)\n",
            "Requirement already satisfied: pandas in /usr/local/lib/python3.10/dist-packages (from datasets->colbert-ai==0.2.17) (1.5.3)\n",
            "Requirement already satisfied: requests>=2.19.0 in /usr/local/lib/python3.10/dist-packages (from datasets->colbert-ai==0.2.17) (2.31.0)\n",
            "Requirement already satisfied: xxhash in /usr/local/lib/python3.10/dist-packages (from datasets->colbert-ai==0.2.17) (3.4.1)\n",
            "Collecting multiprocess (from datasets->colbert-ai==0.2.17)\n",
            "  Downloading multiprocess-0.70.15-py310-none-any.whl.metadata (7.2 kB)\n",
            "Requirement already satisfied: fsspec<=2023.10.0,>=2023.1.0 in /usr/local/lib/python3.10/dist-packages (from fsspec[http]<=2023.10.0,>=2023.1.0->datasets->colbert-ai==0.2.17) (2023.6.0)\n",
            "Requirement already satisfied: aiohttp in /usr/local/lib/python3.10/dist-packages (from datasets->colbert-ai==0.2.17) (3.9.1)\n",
            "Requirement already satisfied: huggingface-hub>=0.19.4 in /usr/local/lib/python3.10/dist-packages (from datasets->colbert-ai==0.2.17) (0.20.3)\n",
            "Requirement already satisfied: packaging in /usr/local/lib/python3.10/dist-packages (from datasets->colbert-ai==0.2.17) (23.2)\n",
            "Requirement already satisfied: pyyaml>=5.1 in /usr/local/lib/python3.10/dist-packages (from datasets->colbert-ai==0.2.17) (6.0.1)\n",
            "Requirement already satisfied: Werkzeug>=2.2.2 in /usr/local/lib/python3.10/dist-packages (from flask->colbert-ai==0.2.17) (3.0.1)\n",
            "Requirement already satisfied: Jinja2>=3.0 in /usr/local/lib/python3.10/dist-packages (from flask->colbert-ai==0.2.17) (3.1.3)\n",
            "Requirement already satisfied: itsdangerous>=2.0 in /usr/local/lib/python3.10/dist-packages (from flask->colbert-ai==0.2.17) (2.1.2)\n",
            "Requirement already satisfied: click>=8.0 in /usr/local/lib/python3.10/dist-packages (from flask->colbert-ai==0.2.17) (8.1.7)\n",
            "Collecting gitpython (from git-python->colbert-ai==0.2.17)\n",
            "  Downloading GitPython-3.1.41-py3-none-any.whl.metadata (14 kB)\n",
            "Requirement already satisfied: spacy-legacy<3.1.0,>=3.0.11 in /usr/local/lib/python3.10/dist-packages (from spacy->colbert-ai==0.2.17) (3.0.12)\n",
            "Requirement already satisfied: spacy-loggers<2.0.0,>=1.0.0 in /usr/local/lib/python3.10/dist-packages (from spacy->colbert-ai==0.2.17) (1.0.5)\n",
            "Requirement already satisfied: murmurhash<1.1.0,>=0.28.0 in /usr/local/lib/python3.10/dist-packages (from spacy->colbert-ai==0.2.17) (1.0.10)\n",
            "Requirement already satisfied: cymem<2.1.0,>=2.0.2 in /usr/local/lib/python3.10/dist-packages (from spacy->colbert-ai==0.2.17) (2.0.8)\n",
            "Requirement already satisfied: preshed<3.1.0,>=3.0.2 in /usr/local/lib/python3.10/dist-packages (from spacy->colbert-ai==0.2.17) (3.0.9)\n",
            "Requirement already satisfied: thinc<8.2.0,>=8.1.8 in /usr/local/lib/python3.10/dist-packages (from spacy->colbert-ai==0.2.17) (8.1.12)\n",
            "Requirement already satisfied: wasabi<1.2.0,>=0.9.1 in /usr/local/lib/python3.10/dist-packages (from spacy->colbert-ai==0.2.17) (1.1.2)\n",
            "Requirement already satisfied: srsly<3.0.0,>=2.4.3 in /usr/local/lib/python3.10/dist-packages (from spacy->colbert-ai==0.2.17) (2.4.8)\n",
            "Requirement already satisfied: catalogue<2.1.0,>=2.0.6 in /usr/local/lib/python3.10/dist-packages (from spacy->colbert-ai==0.2.17) (2.0.10)\n",
            "Requirement already satisfied: typer<0.10.0,>=0.3.0 in /usr/local/lib/python3.10/dist-packages (from spacy->colbert-ai==0.2.17) (0.9.0)\n",
            "Requirement already satisfied: pathy>=0.10.0 in /usr/local/lib/python3.10/dist-packages (from spacy->colbert-ai==0.2.17) (0.11.0)\n",
            "Requirement already satisfied: smart-open<7.0.0,>=5.2.1 in /usr/local/lib/python3.10/dist-packages (from spacy->colbert-ai==0.2.17) (6.4.0)\n",
            "Requirement already satisfied: pydantic!=1.8,!=1.8.1,<3.0.0,>=1.7.4 in /usr/local/lib/python3.10/dist-packages (from spacy->colbert-ai==0.2.17) (1.10.14)\n",
            "Requirement already satisfied: langcodes<4.0.0,>=3.2.0 in /usr/local/lib/python3.10/dist-packages (from spacy->colbert-ai==0.2.17) (3.3.0)\n",
            "Requirement already satisfied: regex!=2019.12.17 in /usr/local/lib/python3.10/dist-packages (from transformers->colbert-ai==0.2.17) (2023.6.3)\n",
            "Requirement already satisfied: tokenizers<0.19,>=0.14 in /usr/local/lib/python3.10/dist-packages (from transformers->colbert-ai==0.2.17) (0.15.1)\n",
            "Requirement already satisfied: safetensors>=0.3.1 in /usr/local/lib/python3.10/dist-packages (from transformers->colbert-ai==0.2.17) (0.4.1)\n",
            "Requirement already satisfied: attrs>=17.3.0 in /usr/local/lib/python3.10/dist-packages (from aiohttp->datasets->colbert-ai==0.2.17) (23.2.0)\n",
            "Requirement already satisfied: multidict<7.0,>=4.5 in /usr/local/lib/python3.10/dist-packages (from aiohttp->datasets->colbert-ai==0.2.17) (6.0.4)\n",
            "Requirement already satisfied: yarl<2.0,>=1.0 in /usr/local/lib/python3.10/dist-packages (from aiohttp->datasets->colbert-ai==0.2.17) (1.9.4)\n",
            "Requirement already satisfied: frozenlist>=1.1.1 in /usr/local/lib/python3.10/dist-packages (from aiohttp->datasets->colbert-ai==0.2.17) (1.4.1)\n",
            "Requirement already satisfied: aiosignal>=1.1.2 in /usr/local/lib/python3.10/dist-packages (from aiohttp->datasets->colbert-ai==0.2.17) (1.3.1)\n",
            "Requirement already satisfied: async-timeout<5.0,>=4.0 in /usr/local/lib/python3.10/dist-packages (from aiohttp->datasets->colbert-ai==0.2.17) (4.0.3)\n",
            "Requirement already satisfied: MarkupSafe>=2.0 in /usr/local/lib/python3.10/dist-packages (from Jinja2>=3.0->flask->colbert-ai==0.2.17) (2.1.4)\n",
            "Requirement already satisfied: pathlib-abc==0.1.1 in /usr/local/lib/python3.10/dist-packages (from pathy>=0.10.0->spacy->colbert-ai==0.2.17) (0.1.1)\n",
            "Requirement already satisfied: charset-normalizer<4,>=2 in /usr/local/lib/python3.10/dist-packages (from requests>=2.19.0->datasets->colbert-ai==0.2.17) (3.3.2)\n",
            "Requirement already satisfied: idna<4,>=2.5 in /usr/local/lib/python3.10/dist-packages (from requests>=2.19.0->datasets->colbert-ai==0.2.17) (3.6)\n",
            "Requirement already satisfied: urllib3<3,>=1.21.1 in /usr/local/lib/python3.10/dist-packages (from requests>=2.19.0->datasets->colbert-ai==0.2.17) (2.0.7)\n",
            "Requirement already satisfied: certifi>=2017.4.17 in /usr/local/lib/python3.10/dist-packages (from requests>=2.19.0->datasets->colbert-ai==0.2.17) (2023.11.17)\n",
            "Requirement already satisfied: blis<0.8.0,>=0.7.8 in /usr/local/lib/python3.10/dist-packages (from thinc<8.2.0,>=8.1.8->spacy->colbert-ai==0.2.17) (0.7.11)\n",
            "Requirement already satisfied: confection<1.0.0,>=0.0.1 in /usr/local/lib/python3.10/dist-packages (from thinc<8.2.0,>=8.1.8->spacy->colbert-ai==0.2.17) (0.1.4)\n",
            "Collecting gitdb<5,>=4.0.1 (from gitpython->git-python->colbert-ai==0.2.17)\n",
            "  Downloading gitdb-4.0.11-py3-none-any.whl.metadata (1.2 kB)\n",
            "Requirement already satisfied: python-dateutil>=2.8.1 in /usr/local/lib/python3.10/dist-packages (from pandas->datasets->colbert-ai==0.2.17) (2.8.2)\n",
            "Requirement already satisfied: pytz>=2020.1 in /usr/local/lib/python3.10/dist-packages (from pandas->datasets->colbert-ai==0.2.17) (2023.3.post1)\n",
            "Collecting smmap<6,>=3.0.1 (from gitdb<5,>=4.0.1->gitpython->git-python->colbert-ai==0.2.17)\n",
            "  Downloading smmap-5.0.1-py3-none-any.whl.metadata (4.3 kB)\n",
            "Requirement already satisfied: six>=1.5 in /usr/local/lib/python3.10/dist-packages (from python-dateutil>=2.8.1->pandas->datasets->colbert-ai==0.2.17) (1.16.0)\n",
            "Downloading bitarray-2.9.2-cp310-cp310-manylinux_2_17_x86_64.manylinux2014_x86_64.whl (288 kB)\n",
            "\u001b[2K   \u001b[90m━━━━━━━━━━━━━━━━━━━━━━━━━━━━━━━━━━━━━━━━\u001b[0m \u001b[32m288.3/288.3 kB\u001b[0m \u001b[31m24.0 MB/s\u001b[0m eta \u001b[36m0:00:00\u001b[0m\n",
            "\u001b[?25hDownloading datasets-2.16.1-py3-none-any.whl (507 kB)\n",
            "\u001b[2K   \u001b[90m━━━━━━━━━━━━━━━━━━━━━━━━━━━━━━━━━━━━━━━━\u001b[0m \u001b[32m507.1/507.1 kB\u001b[0m \u001b[31m32.3 MB/s\u001b[0m eta \u001b[36m0:00:00\u001b[0m\n",
            "\u001b[?25hDownloading ninja-1.11.1.1-py2.py3-none-manylinux1_x86_64.manylinux_2_5_x86_64.whl (307 kB)\n",
            "\u001b[2K   \u001b[90m━━━━━━━━━━━━━━━━━━━━━━━━━━━━━━━━━━━━━━━━\u001b[0m \u001b[32m307.2/307.2 kB\u001b[0m \u001b[31m23.7 MB/s\u001b[0m eta \u001b[36m0:00:00\u001b[0m\n",
            "\u001b[?25hDownloading python_dotenv-1.0.1-py3-none-any.whl (19 kB)\n",
            "Downloading ujson-5.9.0-cp310-cp310-manylinux_2_17_x86_64.manylinux2014_x86_64.whl (53 kB)\n",
            "\u001b[2K   \u001b[90m━━━━━━━━━━━━━━━━━━━━━━━━━━━━━━━━━━━━━━━━\u001b[0m \u001b[32m53.2/53.2 kB\u001b[0m \u001b[31m3.9 MB/s\u001b[0m eta \u001b[36m0:00:00\u001b[0m\n",
            "\u001b[?25hDownloading dill-0.3.7-py3-none-any.whl (115 kB)\n",
            "\u001b[2K   \u001b[90m━━━━━━━━━━━━━━━━━━━━━━━━━━━━━━━━━━━━━━━━\u001b[0m \u001b[32m115.3/115.3 kB\u001b[0m \u001b[31m11.4 MB/s\u001b[0m eta \u001b[36m0:00:00\u001b[0m\n",
            "\u001b[?25hDownloading GitPython-3.1.41-py3-none-any.whl (196 kB)\n",
            "\u001b[2K   \u001b[90m━━━━━━━━━━━━━━━━━━━━━━━━━━━━━━━━━━━━━━━━\u001b[0m \u001b[32m196.4/196.4 kB\u001b[0m \u001b[31m17.7 MB/s\u001b[0m eta \u001b[36m0:00:00\u001b[0m\n",
            "\u001b[?25hDownloading multiprocess-0.70.15-py310-none-any.whl (134 kB)\n",
            "\u001b[2K   \u001b[90m━━━━━━━━━━━━━━━━━━━━━━━━━━━━━━━━━━━━━━━━\u001b[0m \u001b[32m134.8/134.8 kB\u001b[0m \u001b[31m11.8 MB/s\u001b[0m eta \u001b[36m0:00:00\u001b[0m\n",
            "\u001b[?25hDownloading gitdb-4.0.11-py3-none-any.whl (62 kB)\n",
            "\u001b[2K   \u001b[90m━━━━━━━━━━━━━━━━━━━━━━━━━━━━━━━━━━━━━━━━\u001b[0m \u001b[32m62.7/62.7 kB\u001b[0m \u001b[31m5.7 MB/s\u001b[0m eta \u001b[36m0:00:00\u001b[0m\n",
            "\u001b[?25hDownloading smmap-5.0.1-py3-none-any.whl (24 kB)\n",
            "Installing collected packages: ninja, faiss-gpu, bitarray, ujson, smmap, python-dotenv, nvidia-cuda-runtime-cu11, nvidia-cuda-nvrtc-cu11, nvidia-cublas-cu11, dill, nvidia-cudnn-cu11, multiprocess, gitdb, torch, gitpython, git-python, datasets, colbert-ai\n",
            "  Attempting uninstall: torch\n",
            "    Found existing installation: torch 2.1.0+cu121\n",
            "    Uninstalling torch-2.1.0+cu121:\n",
            "      Successfully uninstalled torch-2.1.0+cu121\n",
            "  Running setup.py develop for colbert-ai\n",
            "\u001b[31mERROR: pip's dependency resolver does not currently take into account all the packages that are installed. This behaviour is the source of the following dependency conflicts.\n",
            "torchaudio 2.1.0+cu121 requires torch==2.1.0, but you have torch 1.13.1 which is incompatible.\n",
            "torchdata 0.7.0 requires torch==2.1.0, but you have torch 1.13.1 which is incompatible.\n",
            "torchtext 0.16.0 requires torch==2.1.0, but you have torch 1.13.1 which is incompatible.\n",
            "torchvision 0.16.0+cu121 requires torch==2.1.0, but you have torch 1.13.1 which is incompatible.\u001b[0m\u001b[31m\n",
            "\u001b[0mSuccessfully installed bitarray-2.9.2 colbert-ai-0.2.17 datasets-2.16.1 dill-0.3.7 faiss-gpu-1.7.2 git-python-1.0.3 gitdb-4.0.11 gitpython-3.1.41 multiprocess-0.70.15 ninja-1.11.1.1 nvidia-cublas-cu11-11.10.3.66 nvidia-cuda-nvrtc-cu11-11.7.99 nvidia-cuda-runtime-cu11-11.7.99 nvidia-cudnn-cu11-8.5.0.96 python-dotenv-1.0.1 smmap-5.0.1 torch-1.13.1 ujson-5.9.0\n",
            "\u001b[33mWARNING: Running pip as the 'root' user can result in broken permissions and conflicting behaviour with the system package manager. It is recommended to use a virtual environment instead: https://pip.pypa.io/warnings/venv\u001b[0m\u001b[33m\n",
            "\u001b[0m"
          ]
        }
      ],
      "source": [
        "try: # When on google Colab, let's install all dependencies with pip.\n",
        "    import google.colab\n",
        "    !pip install -U pip\n",
        "    !pip install -e ColBERT/['faiss-gpu','torch']\n",
        "except Exception:\n",
        "  import sys; sys.path.insert(0, 'ColBERT/')\n",
        "  try:\n",
        "    from colbert import Indexer, Searcher\n",
        "  except Exception:\n",
        "    print(\"If you're running outside Colab, please make sure you install ColBERT in conda following the instructions in our README. You can also install (as above) with pip but it may install slower or less stable faiss or torch dependencies. Conda is recommended.\")\n",
        "    assert False"
      ]
    },
    {
      "cell_type": "code",
      "execution_count": 3,
      "metadata": {
        "id": "N0jxbVar4kln"
      },
      "outputs": [],
      "source": [
        "import colbert"
      ]
    },
    {
      "cell_type": "code",
      "execution_count": 4,
      "metadata": {
        "id": "xQg9A-dtp1nB"
      },
      "outputs": [],
      "source": [
        "from colbert import Indexer, Searcher\n",
        "from colbert.infra import Run, RunConfig, ColBERTConfig\n",
        "from colbert.data import Queries, Collection"
      ]
    },
    {
      "cell_type": "markdown",
      "metadata": {
        "id": "TLWjmlkVq9r0"
      },
      "source": [
        "We will use the docs files and the Queries_20 file."
      ]
    },
    {
      "cell_type": "code",
      "execution_count": 47,
      "metadata": {
        "colab": {
          "base_uri": "https://localhost:8080/",
          "height": 214
        },
        "id": "rF7lv8jvq-ut",
        "outputId": "0b22f24d-fc4f-4ddc-e50a-6d4496e1f172"
      },
      "outputs": [
        {
          "output_type": "stream",
          "name": "stdout",
          "text": [
            "Cloning into 'Information-Retrieval'...\n",
            "remote: Enumerating objects: 105, done.\u001b[K\n",
            "remote: Counting objects: 100% (46/46), done.\u001b[K\n",
            "remote: Compressing objects: 100% (31/31), done.\u001b[K\n",
            "remote: Total 105 (delta 32), reused 15 (delta 15), pack-reused 59\u001b[K\n",
            "Receiving objects: 100% (105/105), 563.95 KiB | 4.86 MiB/s, done.\n",
            "Resolving deltas: 100% (41/41), done.\n",
            "[Jan 25, 11:47:47] #> Loading the queries from Information-Retrieval/colbert_test/queries_20.tsv ...\n",
            "[Jan 25, 11:47:47] #> Got 20 queries. All QIDs are unique.\n",
            "\n"
          ]
        },
        {
          "output_type": "execute_result",
          "data": {
            "text/plain": [
              "'Loaded 20 queries and 1,209 passages'"
            ],
            "application/vnd.google.colaboratory.intrinsic+json": {
              "type": "string"
            }
          },
          "metadata": {},
          "execution_count": 47
        }
      ],
      "source": [
        "#importing tsv files from personal github repository and creating docs dataset and queries\n",
        "!git clone https://github.com/NickVoulg02/Information-Retrieval.git\n",
        "import pandas as pd\n",
        "from datasets import Dataset\n",
        "dataset = 'test'\n",
        "df1 = pd.read_csv(\"Information-Retrieval/colbert_test/doc_col.tsv\", delimiter = '\\t', index_col=0)\n",
        "collection = Dataset.from_pandas(df1, preserve_index=True)\n",
        "query = Queries(\"Information-Retrieval/colbert_test/queries_20.tsv\")\n",
        "f'Loaded {len(query)} queries and {len(collection):,} passages'"
      ]
    },
    {
      "cell_type": "code",
      "source": [
        "print(query[0])\n",
        "print(collection[0])"
      ],
      "metadata": {
        "colab": {
          "base_uri": "https://localhost:8080/"
        },
        "id": "nNP0p8oWxN0Y",
        "outputId": "b92318b3-db93-483a-b8dd-6e6b5107c7ba"
      },
      "execution_count": 48,
      "outputs": [
        {
          "output_type": "stream",
          "name": "stdout",
          "text": [
            "WHAT ARE THE EFFECTS OF CALCIUM ON THE PHYSICAL PROPERTIES OF MUCUS FROM CF PATIENTS\n",
            "{'doc': 'PSEUDOMONAS AERUGINOSA INFECTION IN CYSTIC FIBROSIS OCCURRENCE OF PRECIPITATING ANTIBODIES AGAINST PSEUDOMONAS AERUGINOSA IN RELATION TO THE CONCENTRATION OF SIXTEEN SERUM PROTEINS AND THE CLINICAL AND RADIOGRAPHICAL STATUS OF THE LUNGS THE SIGNIFICANCE OF PSEUDOMONAS AERUGINOSA INFECTION IN THE RESPIRATORY TRACT OF 9 CYSTIC FIBROSIS PATIENTS HAVE BEEN STUDIED BY MEANS OF IMMUNOELECTROPHORETICAL ANALYSIS OF PATIENTS SERA FOR THE NUMBER OF PRECIPITINS AGAINST PSEUDOMONAS AERUGINOSA AND THE CONCENTRATIONS OF 16 SERUM PROTEINS IN ADDITION THE CLINICAL AND RADIOGRAPHICAL STATUS OF THE LUNGS HAVE BEEN EVALUATED USING 2 SCORING SYSTEMS PRECIPITINS AGAINST PSEUDOMONAS AERUGINOSA WERE DEMONSTRATED IN ALL SERA THE MAXIMUM NUMBER IN ONE SERUM WAS 22 THE CONCENTRATIONS OF 12 OF THE SERUM PROTEINS WERE SIGNIFICANTLY CHANGED COMPARED WITH MATCHED CONTROL PERSONS NOTABLY IGG AND IGA WERE ELEVATED AND THE ACUTE PHASE PROTEINS WERE CHANGED THE LATTER SUGGESTING ACTIVE TISSUE DAMAGE THE CONCENTRATIONS OF 3 OF THE ACUTE PHASE PROTEINS NOTABLY HAPTOGLOBIN WERE CORRELATED TO THE NUMBER OF PRECIPITINS SUGGESTING THAT THE RESPIRATORY TRACT INFECTION IN PATIENTS WITH MANY PRECIPITINS IS ACCOMPANIED BY MORE TISSUE DAMAGE THAN THE INFECTION IN PATIENTS WITH FEW PRECIPITINS THE RESULTS INDICATE NO PROTECTIVE VALUE OF THE MANY PRECIPITINS ON THE TISSUE OF THE RESPIRATORY TRACT', 'doc_id': 1}\n"
          ]
        }
      ]
    },
    {
      "cell_type": "markdown",
      "metadata": {
        "id": "RKJdAAbDu7PZ"
      },
      "source": [
        "## Indexing\n",
        "\n",
        "For an efficient search, we can pre-compute the ColBERT representation of each passage and index them.\n",
        "\n",
        "Below, the `Indexer` take a model checkpoint and writes a (compressed) index to disk. We then prepare a `Searcher` for retrieval from this index."
      ]
    },
    {
      "cell_type": "code",
      "execution_count": 49,
      "metadata": {
        "id": "vKAdVN5MvDKD"
      },
      "outputs": [],
      "source": [
        "nbits = 2   # encode each dimension with 2 bits\n",
        "doc_maxlen = 300 # truncate passages at 300 tokens\n",
        "\n",
        "index_name = f'{dataset}.{nbits}bits'"
      ]
    },
    {
      "cell_type": "markdown",
      "metadata": {
        "id": "orKfQRmQv46u"
      },
      "source": [
        "Now run the `Indexer` on the collection subset. Assuming the use of only one GPU, this cell should take about six minutes to finish running."
      ]
    },
    {
      "cell_type": "code",
      "execution_count": 50,
      "metadata": {
        "colab": {
          "base_uri": "https://localhost:8080/"
        },
        "id": "JRiOnzxtwI0j",
        "outputId": "325da864-3a3d-419c-d755-61e1a7b05ff4"
      },
      "outputs": [
        {
          "output_type": "stream",
          "name": "stdout",
          "text": [
            "\n",
            "\n",
            "[Jan 25, 11:47:57] #> Note: Output directory /content/experiments/notebook/indexes/test.2bits already exists\n",
            "\n",
            "\n",
            "[Jan 25, 11:47:57] #> Will delete 10 files already at /content/experiments/notebook/indexes/test.2bits in 20 seconds...\n",
            "#> Starting...\n",
            "#> Joined...\n"
          ]
        }
      ],
      "source": [
        "checkpoint = 'colbert-ir/colbertv2.0'\n",
        "\n",
        "with Run().context(RunConfig(nranks=1, experiment='notebook')):                   # nranks specifies the number of GPUs to use\n",
        "    config = ColBERTConfig(doc_maxlen=doc_maxlen, nbits=nbits, kmeans_niters=4)   # kmeans_niters specifies the number of iterations of k-means clustering; 4 is a good and fast default.\n",
        "                                                                                  # Consider larger numbers for small datasets.\n",
        "\n",
        "    indexer = Indexer(checkpoint=checkpoint, config=config)\n",
        "    indexer.index(name=index_name, collection=collection[\"doc\"], overwrite=True)\n"
      ]
    },
    {
      "cell_type": "code",
      "execution_count": 51,
      "metadata": {
        "colab": {
          "base_uri": "https://localhost:8080/",
          "height": 35
        },
        "id": "CTbP2LS1xHVZ",
        "outputId": "f6d5f8c5-751a-4690-fb81-c3a1d9ad4778"
      },
      "outputs": [
        {
          "output_type": "execute_result",
          "data": {
            "text/plain": [
              "'/content/experiments/notebook/indexes/test.2bits'"
            ],
            "application/vnd.google.colaboratory.intrinsic+json": {
              "type": "string"
            }
          },
          "metadata": {},
          "execution_count": 51
        }
      ],
      "source": [
        "indexer.get_index() # You can get the absolute path of the index, if needed."
      ]
    },
    {
      "cell_type": "markdown",
      "metadata": {
        "id": "IY6_D523yBFB"
      },
      "source": [
        "## Search\n",
        "\n",
        "Having built the index and prepared our `searcher`, we can search for individual query strings."
      ]
    },
    {
      "cell_type": "code",
      "execution_count": 52,
      "metadata": {
        "colab": {
          "base_uri": "https://localhost:8080/"
        },
        "id": "j3x_FnVnyB0n",
        "outputId": "8f79cac5-e9a1-4aa4-f7a3-91a1c252fae6"
      },
      "outputs": [
        {
          "output_type": "stream",
          "name": "stdout",
          "text": [
            "[Jan 25, 11:48:53] #> Loading codec...\n",
            "[Jan 25, 11:48:53] #> Loading IVF...\n",
            "[Jan 25, 11:48:53] #> Loading doclens...\n"
          ]
        },
        {
          "output_type": "stream",
          "name": "stderr",
          "text": [
            "100%|██████████| 1/1 [00:00<00:00, 653.83it/s]"
          ]
        },
        {
          "output_type": "stream",
          "name": "stdout",
          "text": [
            "[Jan 25, 11:48:53] #> Loading codes and residuals...\n"
          ]
        },
        {
          "output_type": "stream",
          "name": "stderr",
          "text": [
            "\n",
            "100%|██████████| 1/1 [00:00<00:00, 168.24it/s]\n"
          ]
        }
      ],
      "source": [
        "# To create the searcher using its relative name (i.e., not a full path), set\n",
        "# experiment=value_used_for_indexing in the RunConfig.\n",
        "with Run().context(RunConfig(experiment='notebook')):\n",
        "    searcher = Searcher(index=index_name, collection=collection[\"doc\"])"
      ]
    },
    {
      "cell_type": "code",
      "execution_count": 54,
      "metadata": {
        "colab": {
          "base_uri": "https://localhost:8080/"
        },
        "id": "3JYA0N22yIeS",
        "outputId": "6b3ee78a-fd50-43d1-aa76-08dac633aa4d"
      },
      "outputs": [
        {
          "output_type": "stream",
          "name": "stdout",
          "text": [
            "Rank\tScore\tId\tPassage\n",
            "[1] \t23.0 \t533 \tEFFECTS OF CALCIUM ON INTESTINAL MUCIN IMPLICATIONS FOR CYSTIC FIBROSIS A MAJOR FEATURE OF THE DISEASE CYSTIC FIBROSIS IS THE EXCESSIVE CONCENTRATION OF MUCUS WITHIN DUCTS AND GLANDS OF MUCOUSPRODUCING ORGANS SOME MUCOUS SECRETIONS ALSO SHOW AN ELEVATION IN CALCIUM CONCENTRATION USING PURIFIED RAT INTESTINAL GOBLET CELL MUCIN AS A MODEL MUCIN WE HAVE INVESTIGATED THE EFFECT OF MILLIMOLAR ADDITIONS 125 MM OF CACL2 ON THE PHYSICAL PROPERTIES OF THE MUCIN ISOTONICITY OF INCUBATION MEDIA WAS PRESERVED IN ORDER TO MIMIC IN VIVO CONDITIONS CACL2 815MM CAUSED A 1533 DECREASE IN VISCOSITY NO CHANGE IN ELECTROPHORETIC MOBILITY IN ACRYLAMIDE GELS AND A 2030 DECREASE IN SOLUBILITY OF THE MUCIN SOLUBILITY CHANGES WERE REVERSED BY THE ADDITION OF EDTA 20 MM TO INCUBATIONS INSOLUBILITY WAS ALSO PRODUCED IN INCUBATIONS OF MUCIN WITH A MIXTURE OF SOLUBLE INTESTINAL CONTENTS NACL WASHINGS THESE FINDINGS STRONGLY SUGGEST THAT THE MUCIN BECAME SMALLER AND MORE DENSE AS CALCIUM WAS ADDED A PROCESS MOST PROBABLY ACHIEVED BY LOSS OF INTRAMOLECULAR WATER\n",
            "[2] \t20.4 \t441 \tWATER AND ELECTROLYTES OF EXOCRINE SECRETIONS PP 17991 IT HAS BEEN RECOGNIZED THAT THE LEVELS OF WATER AND ELECTROLYTES ARE DERANGED IN MANY IF NOT ALL OF THE EXOCRINE SECRETIONS OF CYSTIC FIBROSIS PATIENTS THE SODIUM AND CHLORIDE LEVELS IN SEROUS SECRETIONS FROM CF PATIENTS ARE ELEVATED IN CONTRAST THE MORE PROTEINRICH OR MUCOID ISOTONIC SECRETIONS VIZ FROM THE PANCREAS AND TRACHEOBRONCHIAL MUCUS GLANDS ARE FOUND TO HAVE SODIUM CONCENTRATIONS NEAR NORMAL OR EVEN SOMEWHAT DECREASED HOWEVER THESE SECRETIONS HAVE SIGNIFICANTLY REDUCED WATER CONTENT THE ABNORMALITIES IN HYPOTONIC SECRETIONS APPEAR TO RISE FROM A DECREASED NA REABSORPTION IN THE DUCTS THE LOW WATER CONTENT OF THE ISOTONIC SECRETIONS OF CF PATIENTS APPEARS TO RESULT FROM DECREASED SECRETION OF WATER AND ELECTROLYTES EARLY STUDIES ON TRACHEOBRONCHIAL SECRETIONS FROM CF PATIENTS LED INVESTIGATORS TO SUGGEST THAT THE PRIMARY DEFECT MAY BE A DECREASE IN THE LEVELS OF WATER AND MONOVALENT IONS IN AN ATTEMPT TO PROVIDE A UNIFYING HYPOTHESIS IT HAS BEEN SUGGESTED THAT AN INCREASED CALCIUM CONCENTRATION IN THE VARIOUS EXOCRINE SECRETIONS LEADS TO A HYPERPERMEABILITY OF THE MUCUS LININGS AND THUS TO AN EXCESSIVE LOSS OF WATER AND SMALL IONS THE CONCENTRATION OF CALCIUM IN EXOCRINE SECRETIONS APPEARS TO FOLLOW THE CONCENTRATION OF PROTEINS AND ESPECIALLY THE MUCOUS GLYCOPROTEINS IT WAS SUGGESTED THAT CALCIUM MAY BE AN IMPORTANT FACTOR IN THE INCREASED VISCOSITY AND INSOLUBILITY OF CF MUCUS ORGANIC IONS ARE ALSO POTENTIAL PERTURBANTS OF MACROMOLECULAR STRUCTURE IN ADDITION TO A POSSIBLE PERTURBANT ROLE POLYAMINES HAVE A POTENTIAL ROLE IN WATER AND ELECTROLYTE TRANSPORT\n",
            "[3] \t19.5 \t957 \tTHE BIOLOGIC ACTIVITIES OF CYSTIC FIBROSIS SERUM II ULTRASTRUCTURAL ASPECTS OF THE EFFECT OF CYSTIC FIBROSIS SERA AND CALCIUM IONOPHORE A23187 ON RABBIT TRACHEAL EXPLANTS ULTRASTRUCTURAL AND CYTOCHEMICAL OBSERVATIONS INDICATE THAT BOTH CYSTIC FIBROSIS CF SERA AND CALCIUM IONOPHORE A23187 INDUCE A SWELLING OR AN INCREASE IN THE SIZE AND POSSIBLY THE NUMBER OF SECONDARY LYSOSOMES AND AN INCREASE IN MUCUS SECRETION IN EPITHELIUM OF THE RABBIT TRACHEAL BIOASSAY SYSTEM EXTENDED INCUBATION OF THE RABBIT TRACHEAL EXPLANTS WITH EITHER CF OR CONTROL SERA PRODUCES A CYTOTOXIC EFFECT ON THE TRACHEAL EPITHELIUM BUT ONLY AFTER THE TERMINATION OF THE NORMAL BIOASSAY TIME PERIOD COMPARATIVE ULTRASTRUCTURAL STUDY OF THE EFFECT OF BOTH CF SERA AND CALCIUM IONOPHORE A23187 ON THE RABBIT TRACHEAL BIOASSAY SYSTEM INDICATES THAT INCREASED MEMBRANE PERMEABILITY TO CALCIUM MAY BE IMPORTANT IN THE PRODUCTION OF THE CILIARY DYSKINESIA RESPONSE BY CF SERUM FACTORS IN THE RABBIT TRACHEAL BIOASSAY SYSTEM\n",
            "[4] \t19.2 \t484 \tCALCIUM FLUX AND CYSTIC FIBROSIS LETTER IN AN EFFORT TO DETERMINE WHETHER INCREASED PERMEABILITY TO CALCIUM IONS COULD EXPLAIN THE CYSTIC FIBROSISSERUM CILIARY DYSKENSIA FACTOR RESPONSE IN THE TRACHEAL TEST SYSTEM WE SELECTIVELY INCREASED THE MEMBRANE PERMEABILITY OF THE TRACHEAL EPITHELIUM TO CALCIUM IONS BY ADDING CALCIUM IONOPHORE A23187 TO THE TRACHEAL CULTURE MEDIUM THESE STUDIES DETERMINED THAT CALCIUM IONOPHORE A23187 IN CULTURE MEDIUM PRODUCED A CHANGE IN MUCOCILIARY FUNCTION IN THE TRACHEAL TEST SYSTEM INDISTINGUISHABLE FROM THAT PROMOTED BY CF SERA THESE INVESTIGATIONS WHICH ARE NOW BEING EXTENDED TO INCLUDE THE ULTRASTRUCTURAL ALTERATIONS INDUCED IN THE EPITHELIUM OF THE RABBIT TRACHEAL BIOASSAY SYSTEM POINT TO AN IMPORTANT ROLE FOR CALCIUM AS A COFACTOR IN THE PRODUCTION OF THE CDF RESPONSE GENERATED BY THE CF SERA THE CF SERUM SUBSTANCE SEEMS TO ACT AT THE CELLULARMEMBRANE LEVEL PROMOTING MEMBRANEPERMEABILITY CHANGES AT LEAST WITH RESPECT TO CALCIUM IN THE RABBIT TRACHEAL TEST SYSTEM SUCH A MECHANISM WOULD NOT NECESSARILY RESULT IN A NET PHYSIOLOGICAL IMBALANCE OF CALCIUM IN THE RABBIT TRACHEAL SYSTEM BUT ONLY LOCAL CHANGES IN CALCIUM CONCENTRATION THAT WOULD SUBSEQUENTLY ALTER SECRETION AND MICROTUBULAR FUNCTION SINCE CF SERUM LIKE SWEAT AND SALIVA FROM THESE SAME PATIENTS CAN PROMOTE IONIC FLUXES PERHAPS THERE IS A COMMON FACTOR IN ALL THESE BODYFLUIDS WHICH IS RELATED TO THE BASIC DEFECT IN CF IT IS TEMPTING TO SPECULATE THAT SUCH A FACTOR PRODUCES A MEMBRANEASSOCIATED PHENOMENON THAT MAY BE GENERALLY REPRESENTATIVE OF THE INVIVO CF DISORDER AND AS SUCH MAY REFLECT THE NATURE OF THE CELLULAR AND GLANDULAR ABNORMALITIES OF THE DISEASE\n",
            "[5] \t18.6 \t741 \tTHE BIOLOGIC ACTIVITIES OF CYSTIC FIBROSIS SERUM I THE EFFECTS OF CYSTIC FIBROSIS SERA AND CALCIUM IONOPHORE A 23187 ON RABBIT TRACHEAL EXPLANTS AN IONOPHORE A23187INDUCED INCREASE IN MEMBRANE PERMEABILITY TO CALCIUM IONS IN CULTURE MEDIUM PRODUCED A RABBIT TRACHEAL MUCOCILIARY RESPONSE INDISTINGUISHABLE FROM THAT CAUSED BY CYSTIC FIBROSIS CF SERA ON THREE DIFFERENT OCCASIONS SPECIFIC CHELATION OF CALCIUM IONS WITH EGTA IN THE BASAL MEDIUM EAGLE BME MEDIA WITH NO ADDITIVE OR IN NATIVE CF SERA ABOLISHED THE MUCOCILIARY DISTURBANCES IN ALL CASES INCREASED MEMBRANE PERMEABILITY TO CALCIUM MAY BE IMPORTANT IN THE PRODUCTION OF THE MUCOCILIARY RESPONSE BY CF SERUM FACTORS IN THE TRACHEAL ASSAY SYSTEM\n",
            "[6] \t18.5 \t827 \tTHE INFLUENCE OF CYSTIC FIBROSIS SERUM AND CALCIUM ON SECRETION IN THE RABBIT TRACHEAL MUCOCILIARY APPARATUS CYSTIC FIBROSIS SERUM OR ITS ISOLATED COMPONENT IGG FRACTION AND CALCIUM IONOPHORE A23187 ALL PRODUCED A QUANTITATIVELY GREATER INCREASE OF MUCUS GLYCOPROTEIN SECRETION IN THE RABBIT TRACHEAL EPITHELIUM THAN DID CONTROL SERUM OR ITS ISOLATED COMPONENT IGG FRACTION THESE VALUES WERE DETERMINED BY DRY WEIGHT SECRETION PER GRAM OF TISSUE AND ON SUBSEQUENT SIALIC ACID CONTENT OF SECRETIONS THIS DEMONSTRABLE INCREASE IN MUCUS PRODUCTION REPRESENTS A MEASURABLE DIFFERENCE IN THE FUNCTIONING OF THE CULTURED MUCOCILIARY APPARATUS DUE TO THE INFLUENCE OF CYSTIC FIBROSIS SERUM\n",
            "[7] \t17.9 \t505 \tRESEARCH IN CYSTIC FIBROSIS THIRD OF THREE PARTS RECENT AUTONOMIC NERVOUS SYSTEM STUDIES IN CYSTIC FIBROSIS ARE OUTLINED MISCELLANEOUS OBSERVATIONS REGARDING SALIVARY AND TEAR GLANDS CALCIUM THE KALLIKREINKININ SYSTEM PROTEASE INHIBITOR ALPHAFETOPROTEIN AND ENDOCRINE GLANDS ARE DISCUSSED BECAUSE MORE THAN 90 PER CENT OF PATIENTS WITH CYSTIC FIBROSIS DIE OF PROGRESSIVE PULMONARY INVOLVEMENT COMPLICATED BY INFECTION WITH STAPHYLOCOCCUS AUREUS OR PSEUDOMONAS AERUGINOSA OR BOTH THE QUESTION OF IMMUNOLOGIC DEFICIT IS FREQUENTLY RAISED EXTENSIVE INVESTIGATIONS HAVE SHOWN THE IMMUNE SYSTEM IN CYSTIC FIBROSIS TO BE INTACT STUDIES REGARDING PULMONARY CILIARY CLEARANCE AND BACTERIOLOGY ARE ALSO OUTLINED DESPITE EXTENSIVE INVESTIGATIONS THE BASIC DEFECT OF CYSTIC FIBROSIS IS STILL UNKNOWN WHAT THEN IS THE EXPLANATION OF THE TWO DEFECTS IN HOMOZYGOTES THAT LEAD TO MOST CLINICAL MANIFESTATIONS  THE SWEAT ELECTROLYTE DEFECT AND THE ABNORMALITY IN PHYSIOCHEMICAL BEHAVIOR OF MUCOUS SECRETIONS THE FORMER IS SATISFACTORILY EXPLAINED BY A SODIUMREABSORPTIONINHIBITORY FACTOR PRESENT IN SWEAT AND SALIVA OF PATIENTS AS FOR THE MUCOUSSECRETION ABNORMALITY THE EFFECT OF THE INCREASING CALCIUM CONCENTRATION IN DECREASING THE SOLUBILITY OF GLYCOPROTEINS SUGGESTS THAT THIS MECHANISM MIGHT BE RESPONSIBLE FOR THE PRECIPITATION AND OBSTRUCTION OF ORGAN PASSAGES WHICH GIVES RISE TO MOST SYMPTOMS IN CYSTIC FIBROSIS ALTHOUGH THERE IS AN EXCELLENT DIAGNOSTIC TEST FOR HOMOZYGOTES SWEAT TEST ONE CANNOT RELY ON ANY OF THE PRESENT BIOLOGIC ASSAYS FOR DETERMINATION OF HETEROZYGOSITY OR ANTENATAL DIAGNOSIS\n",
            "[8] \t17.8 \t960 \tCALCIUM AND SODIUM TRANSPORT PROCESSES IN PATIENTS WITH CYSTIC FIBROSIS I A SPECIFIC DECREASE IN MG2DEPENDENT CA2ADENOSINE TRIPHOSPHATASE ACTIVITY IN ERYTHROCYTE MEMBRANES FROM CYSTIC FIBROSIS PATIENTS CALCIUMATPASE ACTIVITY MG2DEPENDENT CA2ATPASE ATP PHOSPHOHYDROLASE EC 3613 IN ERYTHROCYTE MEMBRANE PREPARATIONS FROM CYSTIC FIBROSIS CF PATIENTS WAS GREATLY REDUCED COMPARED TO ERYTHROCYTE MEMBRANES FROM CONTROL SUBJECTS THE KM FOR CALCIUM WAS FOUND TO BE SIMILAR IN THE TWO GROUPS HOWEVER THE VMAX THE MAXIMAL RATE OF ACTIVATION OF THE CA2ATPASE IS REDUCED BY 50 IN THE ERYTHROCYTE MEMBRANE PREPARATIONS OF THE CF PATIENTS P LESS THAN 0001 IN CONTRAST THE MG2ATPASE ACTIVITY OF ERYTHROCYTE MEMBRANES FROM CF PATIENTS WAS UNCHANGED COMPARED TO THE CONTROL SUBJECTS NO DIFFERENCE IN THE NAKATPASE ACTIVITY IN ERYTHROCYTE MEMBRANES FROM CF PATIENTS COMPARED TO CONTROL PATIENTS COULD BE OBSERVED THIS INDICATES THAT THE CA2ATPASE ACTIVITY NOTED IN CF ERYTHROCYTES IS NOT PART OF A GENERALIZED MEMBRANE OR MEMBRANEBOUND ENZYME ALTERATION IT REMAINS TO BE DETERMINED WHETHER THIS ALTERATION IN CA2ATPASE ACTIVITY IS DIRECTLY RELATED TO A DEFECT IN CALCIUM TRANSPORT IN THESE CELLS AND IS A GENERALIZED PHENOMENON IN CF PRESENT IN CELL TYPES MORE DIRECTLY INVOLVED IN SECRETION\n",
            "[9] \t17.7 \t1201 \tALTERED INTRACELLULAR CALCIUM IN FIBROBLASTS FROM PATIENTS WITH CYSTIC FIBROSIS AND HETEROZYGOTES THE IMPORTANCE OF INTRACELLULAR CALCIUM CA IN SECRETION AND TRANSMEMBRANE ION MOVEMENT LED US TO STUDY CA IN CELLS FROM PATIENTS WITH CYSTIC FIBROSIS CF WHICH IS A LETHAL GENETIC EXOCRINOPATHY SKIN FIBROBLASTS FROM PATIENTS WITH CF OBLIGATE HETEROZYGOTES HZ AND AGE AND SEXMATCHED CONTROLS C WERE USED IN MATCHED PAIR EXPERIMENTS MEASURING 45CA EXCHANGE INTO AND EFFLUX FROM THE CELLS OVER TIME CF CELL LINES AND HZ CELL LINES EXHIBIT INCREASED 45CA EXCHANGE WHEN COMPARED WITH THEIR RESPECTIVE CONTROLS P LESS THAN 0005 THE MAGNITUDE OF THIS DIFFERENCE APPROXIMATELY 30 IS NOT REDUCED WHEN CELLS ARE WASHED WITH LANTHANUM CHLORIDE AFTER THE EXCHANGE PERIOD THIS DIFFERENCE IS LIKELY ATTRIBUTABLE TO AN ALTERED CAPACITY OF ONE OR MORE OF THE INTRACELLULAR CA SEQUESTERING ORGANELLES FURTHER EVIDENCE FOR THIS EXPLANATION WAS SEEN IN 45CA EFFLUX EXPERIMENTS IN WHICH CF CELLS RETAINED A HIGHER PERCENT OF THEIR INITIAL 0TIME 45CA THAN DID C CELLS LATE IN THE EFFLUX PERIOD P LESS THAN 005 THE FINDING OF AN ALTERED CA POOL SIZE IN BOTH CF AND PARTICULARLY HZ CELLS SUGGESTS THAT ALTERED CA METABOLISM IS RELATED TO THE BASIC GENE DEFECT IN CF\n",
            "[10] \t17.4 \t437 \tPULMONARY ASPECTS OF CYSTIC FIBROSIS PP 324 DEFECTIVE MUCOCILIARY TRANSPORT HAS BEEN IMPLICATED IN THE PATHOGENESIS OF THE LUNG DISEASE IN CYSTIC FIBROSIS BASED ON SEVERAL OBSERVATIONS FIRST PATIENTS WITH THE DISEASE SECRETE MORE MUCUS THAN NORMAL SUBJECTS AS INDICATED BY GLAND HYPERTROPHY AND FREQUENTLY RETAIN IT IN THE LUNG SECOND THE MUCUS IS SAID TO HAVE ALTERED BIOCHEMICAL AND RHEOLOGICAL PROPERTIES HOWEVER ALTHOUGH THE PHYSIOCHEMICAL PROPERTIES OF MUCUS ARE ALTERED IN ALL LUNG DISEASES LITTLE HISTOCHEMICAL OR RHEOLOGICAL DIFFERENCE HAS BEEN FOUND IN MUCUS FROM PATIENTS WITH CF AND OTHER HYPERSECRETORY CONDITIONS SUCH AS CHRONIC BRONCHITIS AND BRONCHIECTASIS THIRD A FACTOR IN THE SERUM OF CF PATIENTS INHIBITS NORMAL CILIARY ACTIVITY IN EXPLAIN GLANDS OF CILIATED EPITHELIUM AND INFECTION WHICH DAMAGES HUMAN CILIATED EPITHELIUM IN CULTURE COULD FURTHER REDUCE MUCOCILIARY TRANSPORT MEASUREMENT OF PULMONARY FUNCTION IN CYSTIC FIBROSIS PHYSICAL FITNESS AND RESPONSE TO EXERCISE IN CYSTIC FIBROSIS CONTROL OF BREATHING IN PATIENTS WITH CYSTIC FIBROSIS REGIONAL LUNG FUNCTION IN CYSTIC FIBROSIS AND THERAPY OF CYSTIC FIBROSIS ARE DISCUSSED\n",
            "[11] \t17.1 \t754 \tEFFECTS OF GRAVITY ON TRACHEAL MUCUS TRANSPORT RATES IN NORMAL SUBJECTS AND IN PATIENTS WITH CYSTIC FIBROSIS A NONINVASIVE RADIONUCLIDE IMAGING TECHNIQUE FOR MEASURING THE RATE OF MUCUS CLEARANCE IN THE TRACHEA RT WAS USED TO STUDY GRAVITATIONAL EFFECTS ON MUCUS CLEARANCE IN 13 PATIENTS WITH CYSTIC FIBROSIS CF AVERAGE AGE 17 YEARS 7 NORMAL NONSMOKING ADULTS AVERAGE AGE 26 YEARS AND A NORMAL SUBJECT WHO WAS RECOVERING FROM AN ACUTE UPPER RESPIRATORY TRACT INFECTION URTI IN THE UPRIGHT POSITION NINE OF THE CF PATIENTS AND THE SUBJECT WITH URTI DEMONSTRATED ABNORMAL TRACHEAL MUCUS CLEARANCE WHICH APPROACHED NORMAL WHEN THEY WERE PLACED IN 25 DEGREES HEADDOWN POSITION THE NORMAL SUBJECTS AND TWO OF THE CF PATIENTS SHOWED NO SIGNIFICANT DIFFERENCE IN THE RT MEASURED IN THE TWO POSITIONS THE RESULTS OF THE STUDY INDICATE THAT THE FORCE OF GRAVITY CAN BE A MAJOR INFLUENCE ON TRACHEAL MUCUS CLEARANCE IN CF AND URTI SUBJECTS THIS CONCLUSION SUPPORTS THE USE OF POSTURAL DRAINAGE AS AN EFFECTIVE FORM OF THERAPY IN PATIENTS WITH CYSTIC FIBROSIS\n",
            "[12] \t17.1 \t1185 \tMITOCHONDRIAL CALCIUM UPTAKE AND OXYGEN CONSUMPTION IN CYSTIC FIBROSIS REPORTS OF EXOCRINE GLAND SECRETORY ANOMALIES IN CYSTIC FIBROSIS AND INCREASED CALCIUM ION CONCENTRATIONS IN SOME CF SECRETIONS AND THE IMPORTANCE OF CELLULAR CA TO STIMULUSSECRETION COUPLING LED US TO STUDY CELLULAR CA IN CF WE REPORT DATA ON CA UPTAKE STUDIES WITH MITOCHONDRIAL AND MICROSOMAL FRACTIONS ISOLATED FROM SKIN FIBROBLASTS OF SUBJECTS WITH CF AND AGE SEX AND PASSAGE NUMBERMATCHED CONTROLS IN WHICH MITOCHONDRIA FROM CF CELLS ACCUMULATED MORE CA THAN THOSE FROM CONTROL CELLS WE ALSO DESCRIBE SUBSEQUENT STUDIES WHICH SHOW INCREASED MITOCHONDRIAL ELECTRON TRANSPORT ACTIVITY MEASURED AS OXYGEN UPTAKE BY WHOLE CELLS IN CELLS FROM SUBJECTS WITH CF AND OBLIGATE HETEROZYGOTES ONE CAN HYPOTHESISE A MECHANISM TO LINK THE ALTERED MITOCHONDRIAL CA IN CF FIBROBLASTS AND THE MAJOR SIGNS ASSOCIATED WITH THE DISEASE DATA SUGGEST THAT THE ELECTRON TRANSPORT SYSTEM IN CF AND OBLIGATE HETEROZYGOTE FIBROBLASTS IS MORE ACTIVE THAN THAT IN RESPECTIVE CONTROLS IN THE CONDITIONS OF THIS STUDY THE APPARENT CENTRAL ROLE OF CA IN SEVERAL PATHOGENETIC PATHWAYS IN CF AND THE DATA REPORTED HERE IN WHICH BOTH MITOCHONDRIAL CA CAPACITY AND OXYGEN CONSUMPTION ARE INCREASED IN CF SUGGEST THAT THIS ORGANELLE IS A SUITABLE FOCUS FOR CF INVESTIGATIONS\n",
            "[13] \t17.0 \t499 \tPATHOPHYSIOLOGY OF MUCUS SECRETION IN CYSTIC FIBROSIS ABNORMALITY OF MUCUS SECRETION EITHER BIOCHEMICAL OR PHYSICAL HAS LONG BEEN CLAIMED TO BE THE PRIMARY CAUSE OF PULMONARY COMPLICATIONS  OBSTRUCTION AND INFECTION  IN PATIENTS SUFFERING FROM CYSTIC FIBROSIS CF THIS REVIEW WILL DRAW IN LARGE MEASURE ON THE EXPERIENCE OF PROF L REID AND HER RESEARCH TEAM WHO OVER THE LAST 15 YEARS HAVE STUDIED MUCUSSECRETING STRUCTURES AND THEIR SECRETIONS IN THE NORMAL AND DISEASED LUNG FROM VARIOUS ANGLES DEVELOPMENT STRUCTURE AND ULTRASTRUCTURE HISTOCHEMISTRY ORGAN CULTURE BIOCHEMICAL ANALYSIS AND RHEOLOGICAL CHARACTERIZATION\n",
            "[14] \t17.0 \t1107 \tREDUCED SERUM 25HYDROXYVITAMIN D CONCENTRATION AND DISORDERED MINERAL METABOLISM IN PATIENTS WITH CYSTIC FIBROSIS VITAMIN D AND MINERAL METABOLISM WERE STUDIED IN 21 ADOLESCENTS AND YOUNG ADULTS WITH CYSTIC FIBROSIS AND THE RESULTS WERE COMPARED TO THOSE IN 21 MATCHED CONTROLS ALL CF PATIENTS HAD BEEN MAINTAINED ON STANDARD MULTIVITAMIN SUPPLEMENTS IN COMBINATION WITH PANCREATIC ENZYME REPLACEMENT DESPITE THIS SUPPLEMENTATION RELATIVE TO CONTROL SUBJECTS THE CF PATIENTS HAD A 36 REDUCTION IN SERUM 25 HYDROXYVITAMIN D CONCENTRATION A SLIGHT BUT SIGNIFICANT REDUCTION IN SERUM CALCIUM CONCENTRATION EVIDENCE OF CALCIUM MALABSORPTION WITH SECONDARY HYPERPARATHYROIDISM AND A 14 DECREASE IN BONE MASS MEASURED BY THE PHOTON ABSORPTION TECHNIQUE CURRENTLY ACCEPTED MODES OF PANCREATIC ENZYME REPLACEMENT AND VITAMIN D SUPPLEMENTATION ARE OFTEN INADEQUATE TO MAINTAIN NORMAL MINERAL HOMEOSTASIS IN CF PATIENTS ADDITIONAL MEASUREMENTS MAY BE REQUIRED TO REDUCE THE RISK OF CLINICALLY SIGNIFICANT OSTEOPENIA CONCOMITANT WITH PROLONGED SURVIVAL IN CF\n",
            "[15] \t16.9 \t139 \tPURIFICATION AND PROPERTIES OF THE CALCIUMPRECIPITABLE PROTEIN IN SUBMAXILLARY SALIVA OF NORMAL AND CYSTIC FIBROSIS SUBJECTS A CALCIUMPRECIPITABLE PROTEIN CAPP PREVIOUSLY SHOWN TO CAUSE TURBIDITY OF SUBMAXILLIARY SALIVA SMS IN PATIENTS WITH CYSTIC FIBROSIS CF WAS PURIFIED FROM NORMAL AND CFSMS BY NH42SO4 PRECIPITATION GEL FILTRATION AND PREPARATIVE POLYACRYLAMIDE GEL ELECTROPHORESIS THIS PROTEIN HAS A MOLECULAR WEIGHT OF 12000 IT CONTAINS LARGE NUMBERS OF SERINE GLYCINE AND GLUTAMIC ACID RESIDUES 085 PHOSPHORUS AS PHOSPHATE MONOESTER AND SMALL AMOUNTS OF CARBOHYDRATE PRECIPITATION AGGREGATION OF CAPP OCCURS AT BASIC PH VALUES IN THE PRESENCE OF IONIC CALCIUM AND IS ENHANCED BY INCREASING CALCIUM CONCENTRATION CAPP CONCENTRATION OR PH AGGREGATED CAPP BINDS CALCIUM IN MOLAR QUANTITIES EQUAL TO THE NUMBER OF PHOSPHATE PROSTHETIC GROUPS ALKALINE PHOSPHATASE REMOVES ALL PHOSPHATE FROM CAPP AND ELIMINATES CALCIUMINDUCED PRECIPITATION STUDIES OF CAPP FROM CF SALIVA HAVE DEMONSTRATED NO ELECTROPHORETIC OR COMPOSITIONAL DIFFERENCES FROM NORMAL CAPP HIGHER THAN NORMAL PH VALUES OR ELEVATED CAPP CONCENTRATIONS ARE NOT PRESENT IN SMS OF PATIENTS WITH CF AND DO NOT CONTRIBUTE TO THE FORMATION OF TURBID SMS AGGREGATION AND PRECIPITATION OF CAPP IN SALIVA OF PATIENTS WITH CF SEEMS TO BE INDUCED PRIMARILY BY ELEVATED LEVELS OF CALCIUM IN SALIVA THIS PRECIPITATION MAY BE ENTIRELY OR IN PART RESPONSIBLE FOR FOCAL OBSTRUCTION OF SUBMAXILLARY GLAND DUCTS IN PATIENTS WITH CF HOWEVER LITTLE OR NO CAPP IS SECRETED IN THE LOWER GASTROINTESTINAL OR TRACHEOBRONCHIAL TRACTS THEREFORE CAPP DOES NOT PLAY A MORE GENERAL ROLE IN THE OBSTRUCTIVE PROCESSES WHICH CHARACTERIZE CF\n",
            "[16] \t16.8 \t501 \tIMPAIRMENT OF MUCOCILIARY TRANSPORT IN CYSTIC FIBROSIS OVER THE PAST FEW YEARS STUDIES FROM VARIOUS LABORATORIES HAVE SUGGESTED THE PRESENCE OF A FACTORS IN CYSTIC FIBROSIS SERUM CAUSING WIDESPREAD IN VITRO ABNORMALITIES OF COMPONENTS OF THE LUNG DEFENCE MECHANISM PARTICULARLY WITH RESPECT TO MACROPHAGE DYSFUNCTION QUANTITATIVE AND QUALITATIVE ALTERATIONS IN MUCUS AND CILIARY MOTILITY THE POSSIBLE IN VIVO ROLE OF CILIARY DYSFUNCTION IN THE PATHOGENESIS OF THE DISEASE IS OF PARTICULAR CLINICAL INTEREST SINCE AN IN VITRO CILIARY DYSKINESIA FACTOR HAD BEEN PREVIOUSLY DEMONSTRATED AND PULMONARY COMPLICATIONS ARE THE HALLMARK OF CF YET CLEARANCE IN MOST OF OUR CLINICALLY STABLE CF SUBJECTS WAS RELATIVELY WELL MAINTAINED THIS SUGGESTED TO US THAT A MUCOCILIARY TRANSPORT ABNORMALITY MIGHT BE PRESENT INTERMITTENTLY IN ORDER TO EXPLORE THIS FURTHER WE DESIGNED NASAL MUCOCILIARY CLEARANCE STUDIES TO DETERMINE WHETHER CF SERUM MIGHT EXHIBIT MCT INHIBITION IN VIVO FROM THESE STUDIES WE CONCLUDED THAT THERE WAS A SUBSTANCES IN CF SERUM WHICH HAD THE CAPACITY TO SLOW MCT WHETHER THIS EFFECT IS ON THE CILIA THEMSELVES OR VIA OVERPRODUCTION OF NORMAL OR ABNORMAL MUCUS IS NOT KNOWN\n",
            "[17] \t16.8 \t564 \tEFFECTS OF CYSTIC FIBROSIS SERUM CILIARY INHIBITOR ON OYSTER GILL ULTRASTRUCTURE ANALYSIS BY SCANNING AND TRANSMISSION ELECTRON MICROSCOPY ULTRASTRUCTURAL ANALYSIS INCLUDING SCANNING AND TRANSMISSION ELECTRON MICROSCOPIC STUDIES SEM AND TEM WERE CARRIED OUT ON OYSTER GILL TISSUE AFTER EXPOSURE EITHER TO SERUM FRACTIONS FROM INDIVIDUALS HOMOZYGOUS OR HETEROZYGOUS FOR CYSTIC FIBROSIS CF TO COMPARABLE SERUM FRACTIONS FROM NORMAL INDIVIDUALS OR TO SEA WATER IN 4 OF THE EXPERIMENTS EXAMINED TOPOLOGICALLY SEM THE CF SERA EITHER HETEROZYGOUS OR HOMOZYGOUS STIMULATED THE PRODUCTION OF MUCUS THAT WAS FOUND IN CLOSE ASSOCIATION WITH THE CILIA THE ASSOCIATION OF EXCESSIVE MUCUS WITH THE CELL SURFACE COULD BE RESPONSIBLE IN PART FOR THE WELLKNOWN INHIBITION OF CILIARY ACTIVITY BY A FACTOR IN CF SERUM IN 3 ADDITIONAL SEM EXPERIMENTS INVOLVING SHORTER TREATMENT TIMES VERY LITTLE DIFFERENCE COULD BE OBSERVED BETWEEN HOMOZYGOUS CF HETEROZYGOUS CF AND NORMAL SERUMFRACTIONTREATED OYSTER TISSUES IN PARALLEL EXPERIMENTS ULTRATHIN SECTIONS OF GILL TISSUE WERE EXAMINED BY MEANS OF TEM THOSE SAMPLES THAT WERE RESPONSIVE AS DETERMINED BY TEM DISPLAYED SEVERAL CHARACTERISTIC FEATURES INCLUDING ENLARGED AND PARTIALLY EXUDED GOBLET CELLS ALTERED MUCUS STRUCTURE ALONG WITH TWISTED AND MATTED CILIA AN OVERALL SWELLING OF THE GILL FILAMENT WAS ALSO OBSERVED IN THE RESPONSIVE TISSUES FROM TEM ANALYSIS NO DETECTABLE ALTERATION IN FINE STRUCTURE WAS APPARENT IN GILL TISSUES THAT WERE TREATED WITH SERA FROM HETEROZYGOUS OR NORMAL INDIVIDUALS\n",
            "[18] \t16.6 \t52 \tERYTHROCYTE MEMBRANE PROPERTIES IN CYSTIC FIBROSIS THE BIOCHEMICAL PROPERTIES OF THE ERYTHROCYTE MEMBRANE HAVE BEEN STUDIED IN CYSTIC FIBROSIS PATIENTS AND IN AGEMATCHED CONTROLS NO SIGNIFICANT DIFFERENCES COULD BE OBSERVED IN EITHER THE CONCENTRATION OR COMPOSITION OF THE PRINCIPAL MEMBRANE CONSTITUENTS CONTRARY TO PREVIOUS REPORTS WE FOUND NORMAL LEVELS OF THE MG2DEPENDENT AND CA2  MG2DEPENDENT ATPASE ACTIVITIES IN CF PREPARATIONS HOWEVER A QUALITATIVE DIFFERENCE WAS OBSERVED IN THE CA2DEPENDENT ATPASE SINCE THE ENZYME HAD RELATIVELY GREATER ACTIVITY AT LOWER CALCIUM CONCENTRATIONS IN THE CYSTIC PREPARATIONS THIS EFFECT ON THE MEMBRANEBOUND CA2ATPASE IS UNLIKELY TO REPRESENT A GENETIC DEFECT IN THE ENZYME ITSELF BUT IT MAY BE CONNECTED WITH THE MECHANISM OF PATHOGENESIS IN CYSTIC FIBROSIS\n",
            "[19] \t16.6 \t147 \tLETTER RATES AND CALCIUM CONCENTRATIONS OF SWEAT IN RELATION TO CYSTIC FIBROSIS THE AUTHORS OF THE RECENT ARTICLE WHICH FAILED TO SHOW A SIGNIFICANT DIFFERENCE BETWEEN SWEAT CALCIUM CONCENTRATIONS OF CF PATIENTS AND CONTROL SUBJECTS SUGGEST THAT THE FINDINGS REFUTE OUR HYPERPERMEABILITY HYPOTHESIS THEY FOUND SWEAT CA OF 032 TO 167 MEQLITER IN 26 CONTROL SUBJECTS AND 042 TO 203 MEQLITER IN 16 CF PATIENTS WITH THESE TREMENDOUS RANGES MANY MORE SUBJECTS WOULD BE REQUIRED TO PROVE OR DISPROVE A DIFFERENCE A DIFFERENCE UNDETECTABLE IN A MODERATE NUMBER OF SUBJECTS IS PROBABLY NOT OF PATHOPHYSIOLOGIC SIGNIFICANCE IF THE CA REALLY VARIES UNPREDICTABLY SWEAT CA HOWEVER IS GENERALLY BELIEVED TO VARY WITH THE RATE OF SWEATING BEING MUCH HIGHER AT LOWER RATES AND MEASUREMENTS MADE AT COMPARABLE RATES MIGHT WELL SHOW SIGNIFICANT DIFFERENCES THE AUTHORS DID ATTEMPT TO CONTROL RATE BUT IN A VERY INAPPROPRIATE MANNER THEY MEASURED NO CONSTANT RATE BUT TOOK THE AVERAGE RATE DURING THE 30 MINUTES IMMEDIATELY AFTER IONTOPHORESIS THIS GIVES LITTLE INFORMATION CONCERNING THE RATE AT WHICH THE SWEAT WAS ACTUALLY PRODUCED\n",
            "[20] \t16.4 \t568 \tCULTURED CELLS IN CYSTIC FIBROSIS RESEARCH A REVIEW CYSTIC FIBROSIS CF IS A COMMON INHERITED DISORDER WHICH IS CHARACTERIZED BY THE PRODUCTION OF EXOCRINE SECRETIONS WITH ELEVATED ION CONTENT AND ABNORMALLY VISCOUS MUCUS OVER THE LAST FEW YEARS CELLS OBTAINED FROM THE PERIPHERAL BLOOD OR CULTURED FROM TISSUES OF CYSTIC FIBROSIS PATIENTS HAVE BEEN USED INCREASINGLY IN THE STUDY OF THE DISEASE INVESTIGATIONS OF THE FOLLOWING PROPERTIES OF CYSTIC FIBROSIS CELLS ARE REVIEWED MORPHOLOGY ULTRASTRUCTURE GROWTH KINETICS CELLULAR METACHROMASIA THE PRODUCTION OF CILIARY INHIBITORS CELLULAR COMPOSITION PLASMA MEMBRANE COMPOSITION THE TRANSPORT OF INORGANIC IONS AND SMALL ORGANIC MOLECULES LYSOSOMAL ENZYME CONTENT AND RNA METHYLATION STUDIES OF THE EFFECTS ON CULTURED CELLS AND ERYTHROCYTE MEMBRANES OF FACTORS IN CF CELL CULTURE MEDIUM AND BIOLOGICAL FLUIDS FROM CF PATIENTS ARE DISCUSSED\n"
          ]
        }
      ],
      "source": [
        "question = query[0]\n",
        "\n",
        "# Find the top-10 passages for this query\n",
        "results = searcher.search(question, k=20)\n",
        "#print(results)\n",
        "\n",
        "passages_ranked = {}\n",
        "#Print out the top-k retrieved passages\n",
        "print(\"Rank\\tScore\\tId\\tPassage\")\n",
        "for passage_id, passage_rank, passage_score in zip(*results):\n",
        "     print(f\"[{passage_rank}] \\t{passage_score:.1f} \\t{collection['doc_id'][passage_id]} \\t{searcher.collection[passage_id]}\")\n",
        "     passages_ranked[passage_id] = passage_rank"
      ]
    },
    {
      "cell_type": "markdown",
      "source": [
        "Metrics\n"
      ],
      "metadata": {
        "id": "5-xjMCJC25rV"
      }
    },
    {
      "cell_type": "code",
      "source": [
        "f = open(\"Information-Retrieval/Relevant_20\", \"r\")\n",
        "file = f.read().splitlines()\n",
        "relevant_docs = []\n",
        "for line in file:\n",
        "    line=line.split()\n",
        "    list = []\n",
        "    for num in line:\n",
        "        num = int(num)\n",
        "        list.append('doc'+str(num))\n",
        "    relevant_docs.append(list)                  # relevant_docs list includes every line from Relevant_20"
      ],
      "metadata": {
        "id": "5L2ipsgy295T"
      },
      "execution_count": 60,
      "outputs": []
    },
    {
      "cell_type": "markdown",
      "source": [
        "Mean Average Precision"
      ],
      "metadata": {
        "id": "kru4zEeeQ7e3"
      }
    },
    {
      "cell_type": "code",
      "source": [
        "avg_pr_list = []\n",
        "#i=0;\n",
        "for i in range(20):\n",
        "    results = searcher.search(query[i], k=400)\n",
        "    passages_ranked = {}\n",
        "    for passage_id, passage_rank, passage_score in zip(*results):\n",
        "      passages_ranked[passage_id] = passage_rank\n",
        "    precision_at_k = []\n",
        "    recall_at_k = []\n",
        "    true_positives = 0\n",
        "\n",
        "    for key, value in passages_ranked.items():\n",
        "      doc = \"doc\"+str(collection['doc_id'][key])\n",
        "      if(doc in relevant_docs[i]):\n",
        "        #print(doc)\n",
        "        true_positives+=1\n",
        "        #print(value)\n",
        "        precision_at_k.append(true_positives/value)\n",
        "\n",
        "    average_precision = 0\n",
        "    for x in range(len(precision_at_k)):\n",
        "      average_precision += precision_at_k[x]\n",
        "\n",
        "    #print(average_precision)\n",
        "    average_precision = average_precision/len(relevant_docs[i])\n",
        "    print(average_precision)\n",
        "    avg_pr_list.append(average_precision)\n",
        "\n",
        "mean_average_precision = sum(avg_pr_list)/20\n",
        "print(mean_average_precision)"
      ],
      "metadata": {
        "id": "q5aqzBjO3Fu_",
        "outputId": "2afb9144-d591-47a9-b266-0a5d407ce5a9",
        "colab": {
          "base_uri": "https://localhost:8080/"
        }
      },
      "execution_count": 63,
      "outputs": [
        {
          "output_type": "stream",
          "name": "stdout",
          "text": [
            "0.25025136218216215\n",
            "0.1275958667167708\n",
            "0.19042972362417085\n",
            "0.2904289240181963\n",
            "0.19663148346453152\n",
            "0.18654405298509594\n",
            "0.09508615757294149\n",
            "0.057845607349380226\n",
            "0.2558358131230472\n",
            "0.30091203317584414\n",
            "0.6061873311125703\n",
            "0.16263126778194076\n",
            "0.12594239063843188\n",
            "0.21404384548037259\n",
            "0.15943431927260845\n",
            "0.22319432312345341\n",
            "0.1053961082824507\n",
            "0.14575299700765537\n",
            "0.07857902536760272\n",
            "0.5313826644821248\n",
            "0.21520526483806762\n"
          ]
        }
      ]
    },
    {
      "cell_type": "markdown",
      "source": [
        "Mean Reciprocal Rank"
      ],
      "metadata": {
        "id": "jLngkOhgQ_8e"
      }
    },
    {
      "cell_type": "code",
      "source": [
        "mean_rep_rank = 0\n",
        "for i in range(20):\n",
        "    results = searcher.search(query[i], k=400)\n",
        "    passages_ranked = {}\n",
        "    for passage_id, passage_rank, passage_score in zip(*results):\n",
        "      passages_ranked[passage_id] = passage_rank\n",
        "\n",
        "    for key, value in passages_ranked.items():\n",
        "      doc = \"doc\"+str(collection['doc_id'][key])\n",
        "      if(doc in relevant_docs[i]):\n",
        "            mean_rep_rank += 1/value\n",
        "            break\n",
        "\n",
        "mean_rep_rank = mean_rep_rank/20\n",
        "print(mean_rep_rank)\n"
      ],
      "metadata": {
        "id": "NkmKYEBxPpLc",
        "outputId": "e08d9245-0a00-40b6-bd6e-b16d38068321",
        "colab": {
          "base_uri": "https://localhost:8080/"
        }
      },
      "execution_count": 64,
      "outputs": [
        {
          "output_type": "stream",
          "name": "stdout",
          "text": [
            "0.7333333333333333\n"
          ]
        }
      ]
    }
  ],
  "metadata": {
    "accelerator": "GPU",
    "colab": {
      "gpuType": "T4",
      "provenance": [],
      "include_colab_link": true
    },
    "kernelspec": {
      "display_name": "Python 3",
      "name": "python3"
    },
    "language_info": {
      "codemirror_mode": {
        "name": "ipython",
        "version": 3
      },
      "file_extension": ".py",
      "mimetype": "text/x-python",
      "name": "python",
      "nbconvert_exporter": "python",
      "pygments_lexer": "ipython3",
      "version": "3.9.1"
    }
  },
  "nbformat": 4,
  "nbformat_minor": 0
}