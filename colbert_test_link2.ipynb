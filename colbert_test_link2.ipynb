{
  "cells": [
    {
      "cell_type": "markdown",
      "metadata": {
        "id": "view-in-github",
        "colab_type": "text"
      },
      "source": [
        "<a href=\"https://colab.research.google.com/github/NickVoulg02/Information-Retrieval/blob/main/colbert_test_link2.ipynb\" target=\"_parent\"><img src=\"https://colab.research.google.com/assets/colab-badge.svg\" alt=\"Open In Colab\"/></a>"
      ]
    },
    {
      "cell_type": "markdown",
      "metadata": {
        "id": "vTwpDNBnorUT"
      },
      "source": [
        "# ColBERTv2: Indexing & Search Notebook\n",
        "First, we'll import the relevant classes. Note that `Indexer` and `Searcher` are the key actors here. Next, we'll download the necessary dependencies."
      ]
    },
    {
      "cell_type": "code",
      "execution_count": 1,
      "metadata": {
        "colab": {
          "base_uri": "https://localhost:8080/"
        },
        "id": "nl_YBBPTo5AZ",
        "outputId": "96cd8770-1eac-44b7-91b2-4df713285dd0"
      },
      "outputs": [
        {
          "output_type": "stream",
          "name": "stdout",
          "text": [
            "fatal: cannot change to 'ColBERT/': No such file or directory\n",
            "Cloning into 'ColBERT'...\n",
            "remote: Enumerating objects: 2576, done.\u001b[K\n",
            "remote: Counting objects: 100% (1089/1089), done.\u001b[K\n",
            "remote: Compressing objects: 100% (332/332), done.\u001b[K\n",
            "remote: Total 2576 (delta 853), reused 801 (delta 757), pack-reused 1487\u001b[K\n",
            "Receiving objects: 100% (2576/2576), 2.01 MiB | 11.85 MiB/s, done.\n",
            "Resolving deltas: 100% (1606/1606), done.\n"
          ]
        }
      ],
      "source": [
        "!git -C ColBERT/ pull || git clone https://github.com/stanford-futuredata/ColBERT.git\n",
        "import sys; sys.path.insert(0, 'ColBERT/')\n"
      ]
    },
    {
      "cell_type": "code",
      "execution_count": 2,
      "metadata": {
        "colab": {
          "base_uri": "https://localhost:8080/"
        },
        "id": "FmBi2UT5pxb3",
        "outputId": "0e2552d9-c857-46f8-8fb0-fa4f252aade8"
      },
      "outputs": [
        {
          "output_type": "stream",
          "name": "stdout",
          "text": [
            "Requirement already satisfied: pip in /usr/local/lib/python3.10/dist-packages (23.1.2)\n",
            "Collecting pip\n",
            "  Downloading pip-23.3.2-py3-none-any.whl (2.1 MB)\n",
            "\u001b[2K     \u001b[90m━━━━━━━━━━━━━━━━━━━━━━━━━━━━━━━━━━━━━━━━\u001b[0m \u001b[32m2.1/2.1 MB\u001b[0m \u001b[31m7.3 MB/s\u001b[0m eta \u001b[36m0:00:00\u001b[0m\n",
            "\u001b[?25hInstalling collected packages: pip\n",
            "  Attempting uninstall: pip\n",
            "    Found existing installation: pip 23.1.2\n",
            "    Uninstalling pip-23.1.2:\n",
            "      Successfully uninstalled pip-23.1.2\n",
            "Successfully installed pip-23.3.2\n",
            "Obtaining file:///content/ColBERT\n",
            "  Preparing metadata (setup.py) ... \u001b[?25l\u001b[?25hdone\n",
            "Collecting bitarray (from colbert-ai==0.2.17)\n",
            "  Downloading bitarray-2.9.2-cp310-cp310-manylinux_2_17_x86_64.manylinux2014_x86_64.whl.metadata (34 kB)\n",
            "Collecting datasets (from colbert-ai==0.2.17)\n",
            "  Downloading datasets-2.16.1-py3-none-any.whl.metadata (20 kB)\n",
            "Requirement already satisfied: flask in /usr/local/lib/python3.10/dist-packages (from colbert-ai==0.2.17) (2.2.5)\n",
            "Collecting git-python (from colbert-ai==0.2.17)\n",
            "  Downloading git_python-1.0.3-py2.py3-none-any.whl (1.9 kB)\n",
            "Collecting python-dotenv (from colbert-ai==0.2.17)\n",
            "  Downloading python_dotenv-1.0.0-py3-none-any.whl (19 kB)\n",
            "Collecting ninja (from colbert-ai==0.2.17)\n",
            "  Downloading ninja-1.11.1.1-py2.py3-none-manylinux1_x86_64.manylinux_2_5_x86_64.whl.metadata (5.3 kB)\n",
            "Requirement already satisfied: scipy in /usr/local/lib/python3.10/dist-packages (from colbert-ai==0.2.17) (1.11.4)\n",
            "Requirement already satisfied: spacy in /usr/local/lib/python3.10/dist-packages (from colbert-ai==0.2.17) (3.6.1)\n",
            "Requirement already satisfied: tqdm in /usr/local/lib/python3.10/dist-packages (from colbert-ai==0.2.17) (4.66.1)\n",
            "Requirement already satisfied: transformers in /usr/local/lib/python3.10/dist-packages (from colbert-ai==0.2.17) (4.35.2)\n",
            "Collecting ujson (from colbert-ai==0.2.17)\n",
            "  Downloading ujson-5.9.0-cp310-cp310-manylinux_2_17_x86_64.manylinux2014_x86_64.whl.metadata (8.7 kB)\n",
            "Collecting torch==1.13.1 (from colbert-ai==0.2.17)\n",
            "  Downloading torch-1.13.1-cp310-cp310-manylinux1_x86_64.whl (887.5 MB)\n",
            "\u001b[2K     \u001b[90m━━━━━━━━━━━━━━━━━━━━━━━━━━━━━━━━━━━━━━━━\u001b[0m \u001b[32m887.5/887.5 MB\u001b[0m \u001b[31m1.7 MB/s\u001b[0m eta \u001b[36m0:00:00\u001b[0m\n",
            "\u001b[?25hCollecting faiss-gpu>=1.7.0 (from colbert-ai==0.2.17)\n",
            "  Downloading faiss_gpu-1.7.2-cp310-cp310-manylinux_2_17_x86_64.manylinux2014_x86_64.whl (85.5 MB)\n",
            "\u001b[2K     \u001b[90m━━━━━━━━━━━━━━━━━━━━━━━━━━━━━━━━━━━━━━━━\u001b[0m \u001b[32m85.5/85.5 MB\u001b[0m \u001b[31m9.9 MB/s\u001b[0m eta \u001b[36m0:00:00\u001b[0m\n",
            "\u001b[?25hRequirement already satisfied: typing-extensions in /usr/local/lib/python3.10/dist-packages (from torch==1.13.1->colbert-ai==0.2.17) (4.5.0)\n",
            "Collecting nvidia-cuda-runtime-cu11==11.7.99 (from torch==1.13.1->colbert-ai==0.2.17)\n",
            "  Downloading nvidia_cuda_runtime_cu11-11.7.99-py3-none-manylinux1_x86_64.whl (849 kB)\n",
            "\u001b[2K     \u001b[90m━━━━━━━━━━━━━━━━━━━━━━━━━━━━━━━━━━━━━━━━\u001b[0m \u001b[32m849.3/849.3 kB\u001b[0m \u001b[31m46.4 MB/s\u001b[0m eta \u001b[36m0:00:00\u001b[0m\n",
            "\u001b[?25hCollecting nvidia-cudnn-cu11==8.5.0.96 (from torch==1.13.1->colbert-ai==0.2.17)\n",
            "  Downloading nvidia_cudnn_cu11-8.5.0.96-2-py3-none-manylinux1_x86_64.whl (557.1 MB)\n",
            "\u001b[2K     \u001b[90m━━━━━━━━━━━━━━━━━━━━━━━━━━━━━━━━━━━━━━━━\u001b[0m \u001b[32m557.1/557.1 MB\u001b[0m \u001b[31m2.3 MB/s\u001b[0m eta \u001b[36m0:00:00\u001b[0m\n",
            "\u001b[?25hCollecting nvidia-cublas-cu11==11.10.3.66 (from torch==1.13.1->colbert-ai==0.2.17)\n",
            "  Downloading nvidia_cublas_cu11-11.10.3.66-py3-none-manylinux1_x86_64.whl (317.1 MB)\n",
            "\u001b[2K     \u001b[90m━━━━━━━━━━━━━━━━━━━━━━━━━━━━━━━━━━━━━━━━\u001b[0m \u001b[32m317.1/317.1 MB\u001b[0m \u001b[31m4.9 MB/s\u001b[0m eta \u001b[36m0:00:00\u001b[0m\n",
            "\u001b[?25hCollecting nvidia-cuda-nvrtc-cu11==11.7.99 (from torch==1.13.1->colbert-ai==0.2.17)\n",
            "  Downloading nvidia_cuda_nvrtc_cu11-11.7.99-2-py3-none-manylinux1_x86_64.whl (21.0 MB)\n",
            "\u001b[2K     \u001b[90m━━━━━━━━━━━━━━━━━━━━━━━━━━━━━━━━━━━━━━━━\u001b[0m \u001b[32m21.0/21.0 MB\u001b[0m \u001b[31m54.4 MB/s\u001b[0m eta \u001b[36m0:00:00\u001b[0m\n",
            "\u001b[?25hRequirement already satisfied: setuptools in /usr/local/lib/python3.10/dist-packages (from nvidia-cublas-cu11==11.10.3.66->torch==1.13.1->colbert-ai==0.2.17) (67.7.2)\n",
            "Requirement already satisfied: wheel in /usr/local/lib/python3.10/dist-packages (from nvidia-cublas-cu11==11.10.3.66->torch==1.13.1->colbert-ai==0.2.17) (0.42.0)\n",
            "Requirement already satisfied: filelock in /usr/local/lib/python3.10/dist-packages (from datasets->colbert-ai==0.2.17) (3.13.1)\n",
            "Requirement already satisfied: numpy>=1.17 in /usr/local/lib/python3.10/dist-packages (from datasets->colbert-ai==0.2.17) (1.23.5)\n",
            "Requirement already satisfied: pyarrow>=8.0.0 in /usr/local/lib/python3.10/dist-packages (from datasets->colbert-ai==0.2.17) (10.0.1)\n",
            "Requirement already satisfied: pyarrow-hotfix in /usr/local/lib/python3.10/dist-packages (from datasets->colbert-ai==0.2.17) (0.6)\n",
            "Collecting dill<0.3.8,>=0.3.0 (from datasets->colbert-ai==0.2.17)\n",
            "  Downloading dill-0.3.7-py3-none-any.whl.metadata (9.9 kB)\n",
            "Requirement already satisfied: pandas in /usr/local/lib/python3.10/dist-packages (from datasets->colbert-ai==0.2.17) (1.5.3)\n",
            "Requirement already satisfied: requests>=2.19.0 in /usr/local/lib/python3.10/dist-packages (from datasets->colbert-ai==0.2.17) (2.31.0)\n",
            "Requirement already satisfied: xxhash in /usr/local/lib/python3.10/dist-packages (from datasets->colbert-ai==0.2.17) (3.4.1)\n",
            "Collecting multiprocess (from datasets->colbert-ai==0.2.17)\n",
            "  Downloading multiprocess-0.70.15-py310-none-any.whl.metadata (7.2 kB)\n",
            "Requirement already satisfied: fsspec<=2023.10.0,>=2023.1.0 in /usr/local/lib/python3.10/dist-packages (from fsspec[http]<=2023.10.0,>=2023.1.0->datasets->colbert-ai==0.2.17) (2023.6.0)\n",
            "Requirement already satisfied: aiohttp in /usr/local/lib/python3.10/dist-packages (from datasets->colbert-ai==0.2.17) (3.9.1)\n",
            "Requirement already satisfied: huggingface-hub>=0.19.4 in /usr/local/lib/python3.10/dist-packages (from datasets->colbert-ai==0.2.17) (0.20.2)\n",
            "Requirement already satisfied: packaging in /usr/local/lib/python3.10/dist-packages (from datasets->colbert-ai==0.2.17) (23.2)\n",
            "Requirement already satisfied: pyyaml>=5.1 in /usr/local/lib/python3.10/dist-packages (from datasets->colbert-ai==0.2.17) (6.0.1)\n",
            "Requirement already satisfied: Werkzeug>=2.2.2 in /usr/local/lib/python3.10/dist-packages (from flask->colbert-ai==0.2.17) (3.0.1)\n",
            "Requirement already satisfied: Jinja2>=3.0 in /usr/local/lib/python3.10/dist-packages (from flask->colbert-ai==0.2.17) (3.1.3)\n",
            "Requirement already satisfied: itsdangerous>=2.0 in /usr/local/lib/python3.10/dist-packages (from flask->colbert-ai==0.2.17) (2.1.2)\n",
            "Requirement already satisfied: click>=8.0 in /usr/local/lib/python3.10/dist-packages (from flask->colbert-ai==0.2.17) (8.1.7)\n",
            "Collecting gitpython (from git-python->colbert-ai==0.2.17)\n",
            "  Downloading GitPython-3.1.41-py3-none-any.whl.metadata (14 kB)\n",
            "Requirement already satisfied: spacy-legacy<3.1.0,>=3.0.11 in /usr/local/lib/python3.10/dist-packages (from spacy->colbert-ai==0.2.17) (3.0.12)\n",
            "Requirement already satisfied: spacy-loggers<2.0.0,>=1.0.0 in /usr/local/lib/python3.10/dist-packages (from spacy->colbert-ai==0.2.17) (1.0.5)\n",
            "Requirement already satisfied: murmurhash<1.1.0,>=0.28.0 in /usr/local/lib/python3.10/dist-packages (from spacy->colbert-ai==0.2.17) (1.0.10)\n",
            "Requirement already satisfied: cymem<2.1.0,>=2.0.2 in /usr/local/lib/python3.10/dist-packages (from spacy->colbert-ai==0.2.17) (2.0.8)\n",
            "Requirement already satisfied: preshed<3.1.0,>=3.0.2 in /usr/local/lib/python3.10/dist-packages (from spacy->colbert-ai==0.2.17) (3.0.9)\n",
            "Requirement already satisfied: thinc<8.2.0,>=8.1.8 in /usr/local/lib/python3.10/dist-packages (from spacy->colbert-ai==0.2.17) (8.1.12)\n",
            "Requirement already satisfied: wasabi<1.2.0,>=0.9.1 in /usr/local/lib/python3.10/dist-packages (from spacy->colbert-ai==0.2.17) (1.1.2)\n",
            "Requirement already satisfied: srsly<3.0.0,>=2.4.3 in /usr/local/lib/python3.10/dist-packages (from spacy->colbert-ai==0.2.17) (2.4.8)\n",
            "Requirement already satisfied: catalogue<2.1.0,>=2.0.6 in /usr/local/lib/python3.10/dist-packages (from spacy->colbert-ai==0.2.17) (2.0.10)\n",
            "Requirement already satisfied: typer<0.10.0,>=0.3.0 in /usr/local/lib/python3.10/dist-packages (from spacy->colbert-ai==0.2.17) (0.9.0)\n",
            "Requirement already satisfied: pathy>=0.10.0 in /usr/local/lib/python3.10/dist-packages (from spacy->colbert-ai==0.2.17) (0.11.0)\n",
            "Requirement already satisfied: smart-open<7.0.0,>=5.2.1 in /usr/local/lib/python3.10/dist-packages (from spacy->colbert-ai==0.2.17) (6.4.0)\n",
            "Requirement already satisfied: pydantic!=1.8,!=1.8.1,<3.0.0,>=1.7.4 in /usr/local/lib/python3.10/dist-packages (from spacy->colbert-ai==0.2.17) (1.10.13)\n",
            "Requirement already satisfied: langcodes<4.0.0,>=3.2.0 in /usr/local/lib/python3.10/dist-packages (from spacy->colbert-ai==0.2.17) (3.3.0)\n",
            "Requirement already satisfied: regex!=2019.12.17 in /usr/local/lib/python3.10/dist-packages (from transformers->colbert-ai==0.2.17) (2023.6.3)\n",
            "Requirement already satisfied: tokenizers<0.19,>=0.14 in /usr/local/lib/python3.10/dist-packages (from transformers->colbert-ai==0.2.17) (0.15.0)\n",
            "Requirement already satisfied: safetensors>=0.3.1 in /usr/local/lib/python3.10/dist-packages (from transformers->colbert-ai==0.2.17) (0.4.1)\n",
            "Requirement already satisfied: attrs>=17.3.0 in /usr/local/lib/python3.10/dist-packages (from aiohttp->datasets->colbert-ai==0.2.17) (23.2.0)\n",
            "Requirement already satisfied: multidict<7.0,>=4.5 in /usr/local/lib/python3.10/dist-packages (from aiohttp->datasets->colbert-ai==0.2.17) (6.0.4)\n",
            "Requirement already satisfied: yarl<2.0,>=1.0 in /usr/local/lib/python3.10/dist-packages (from aiohttp->datasets->colbert-ai==0.2.17) (1.9.4)\n",
            "Requirement already satisfied: frozenlist>=1.1.1 in /usr/local/lib/python3.10/dist-packages (from aiohttp->datasets->colbert-ai==0.2.17) (1.4.1)\n",
            "Requirement already satisfied: aiosignal>=1.1.2 in /usr/local/lib/python3.10/dist-packages (from aiohttp->datasets->colbert-ai==0.2.17) (1.3.1)\n",
            "Requirement already satisfied: async-timeout<5.0,>=4.0 in /usr/local/lib/python3.10/dist-packages (from aiohttp->datasets->colbert-ai==0.2.17) (4.0.3)\n",
            "Requirement already satisfied: MarkupSafe>=2.0 in /usr/local/lib/python3.10/dist-packages (from Jinja2>=3.0->flask->colbert-ai==0.2.17) (2.1.3)\n",
            "Requirement already satisfied: pathlib-abc==0.1.1 in /usr/local/lib/python3.10/dist-packages (from pathy>=0.10.0->spacy->colbert-ai==0.2.17) (0.1.1)\n",
            "Requirement already satisfied: charset-normalizer<4,>=2 in /usr/local/lib/python3.10/dist-packages (from requests>=2.19.0->datasets->colbert-ai==0.2.17) (3.3.2)\n",
            "Requirement already satisfied: idna<4,>=2.5 in /usr/local/lib/python3.10/dist-packages (from requests>=2.19.0->datasets->colbert-ai==0.2.17) (3.6)\n",
            "Requirement already satisfied: urllib3<3,>=1.21.1 in /usr/local/lib/python3.10/dist-packages (from requests>=2.19.0->datasets->colbert-ai==0.2.17) (2.0.7)\n",
            "Requirement already satisfied: certifi>=2017.4.17 in /usr/local/lib/python3.10/dist-packages (from requests>=2.19.0->datasets->colbert-ai==0.2.17) (2023.11.17)\n",
            "Requirement already satisfied: blis<0.8.0,>=0.7.8 in /usr/local/lib/python3.10/dist-packages (from thinc<8.2.0,>=8.1.8->spacy->colbert-ai==0.2.17) (0.7.11)\n",
            "Requirement already satisfied: confection<1.0.0,>=0.0.1 in /usr/local/lib/python3.10/dist-packages (from thinc<8.2.0,>=8.1.8->spacy->colbert-ai==0.2.17) (0.1.4)\n",
            "Collecting gitdb<5,>=4.0.1 (from gitpython->git-python->colbert-ai==0.2.17)\n",
            "  Downloading gitdb-4.0.11-py3-none-any.whl.metadata (1.2 kB)\n",
            "Requirement already satisfied: python-dateutil>=2.8.1 in /usr/local/lib/python3.10/dist-packages (from pandas->datasets->colbert-ai==0.2.17) (2.8.2)\n",
            "Requirement already satisfied: pytz>=2020.1 in /usr/local/lib/python3.10/dist-packages (from pandas->datasets->colbert-ai==0.2.17) (2023.3.post1)\n",
            "Collecting smmap<6,>=3.0.1 (from gitdb<5,>=4.0.1->gitpython->git-python->colbert-ai==0.2.17)\n",
            "  Downloading smmap-5.0.1-py3-none-any.whl.metadata (4.3 kB)\n",
            "Requirement already satisfied: six>=1.5 in /usr/local/lib/python3.10/dist-packages (from python-dateutil>=2.8.1->pandas->datasets->colbert-ai==0.2.17) (1.16.0)\n",
            "Downloading bitarray-2.9.2-cp310-cp310-manylinux_2_17_x86_64.manylinux2014_x86_64.whl (288 kB)\n",
            "\u001b[2K   \u001b[90m━━━━━━━━━━━━━━━━━━━━━━━━━━━━━━━━━━━━━━━━\u001b[0m \u001b[32m288.3/288.3 kB\u001b[0m \u001b[31m23.5 MB/s\u001b[0m eta \u001b[36m0:00:00\u001b[0m\n",
            "\u001b[?25hDownloading datasets-2.16.1-py3-none-any.whl (507 kB)\n",
            "\u001b[2K   \u001b[90m━━━━━━━━━━━━━━━━━━━━━━━━━━━━━━━━━━━━━━━━\u001b[0m \u001b[32m507.1/507.1 kB\u001b[0m \u001b[31m37.1 MB/s\u001b[0m eta \u001b[36m0:00:00\u001b[0m\n",
            "\u001b[?25hDownloading ninja-1.11.1.1-py2.py3-none-manylinux1_x86_64.manylinux_2_5_x86_64.whl (307 kB)\n",
            "\u001b[2K   \u001b[90m━━━━━━━━━━━━━━━━━━━━━━━━━━━━━━━━━━━━━━━━\u001b[0m \u001b[32m307.2/307.2 kB\u001b[0m \u001b[31m25.3 MB/s\u001b[0m eta \u001b[36m0:00:00\u001b[0m\n",
            "\u001b[?25hDownloading ujson-5.9.0-cp310-cp310-manylinux_2_17_x86_64.manylinux2014_x86_64.whl (53 kB)\n",
            "\u001b[2K   \u001b[90m━━━━━━━━━━━━━━━━━━━━━━━━━━━━━━━━━━━━━━━━\u001b[0m \u001b[32m53.2/53.2 kB\u001b[0m \u001b[31m4.4 MB/s\u001b[0m eta \u001b[36m0:00:00\u001b[0m\n",
            "\u001b[?25hDownloading dill-0.3.7-py3-none-any.whl (115 kB)\n",
            "\u001b[2K   \u001b[90m━━━━━━━━━━━━━━━━━━━━━━━━━━━━━━━━━━━━━━━━\u001b[0m \u001b[32m115.3/115.3 kB\u001b[0m \u001b[31m10.7 MB/s\u001b[0m eta \u001b[36m0:00:00\u001b[0m\n",
            "\u001b[?25hDownloading GitPython-3.1.41-py3-none-any.whl (196 kB)\n",
            "\u001b[2K   \u001b[90m━━━━━━━━━━━━━━━━━━━━━━━━━━━━━━━━━━━━━━━━\u001b[0m \u001b[32m196.4/196.4 kB\u001b[0m \u001b[31m17.7 MB/s\u001b[0m eta \u001b[36m0:00:00\u001b[0m\n",
            "\u001b[?25hDownloading multiprocess-0.70.15-py310-none-any.whl (134 kB)\n",
            "\u001b[2K   \u001b[90m━━━━━━━━━━━━━━━━━━━━━━━━━━━━━━━━━━━━━━━━\u001b[0m \u001b[32m134.8/134.8 kB\u001b[0m \u001b[31m12.7 MB/s\u001b[0m eta \u001b[36m0:00:00\u001b[0m\n",
            "\u001b[?25hDownloading gitdb-4.0.11-py3-none-any.whl (62 kB)\n",
            "\u001b[2K   \u001b[90m━━━━━━━━━━━━━━━━━━━━━━━━━━━━━━━━━━━━━━━━\u001b[0m \u001b[32m62.7/62.7 kB\u001b[0m \u001b[31m5.3 MB/s\u001b[0m eta \u001b[36m0:00:00\u001b[0m\n",
            "\u001b[?25hDownloading smmap-5.0.1-py3-none-any.whl (24 kB)\n",
            "Installing collected packages: ninja, faiss-gpu, bitarray, ujson, smmap, python-dotenv, nvidia-cuda-runtime-cu11, nvidia-cuda-nvrtc-cu11, nvidia-cublas-cu11, dill, nvidia-cudnn-cu11, multiprocess, gitdb, torch, gitpython, git-python, datasets, colbert-ai\n",
            "  Attempting uninstall: torch\n",
            "    Found existing installation: torch 2.1.0+cu121\n",
            "    Uninstalling torch-2.1.0+cu121:\n",
            "      Successfully uninstalled torch-2.1.0+cu121\n",
            "  Running setup.py develop for colbert-ai\n",
            "\u001b[31mERROR: pip's dependency resolver does not currently take into account all the packages that are installed. This behaviour is the source of the following dependency conflicts.\n",
            "torchaudio 2.1.0+cu121 requires torch==2.1.0, but you have torch 1.13.1 which is incompatible.\n",
            "torchdata 0.7.0 requires torch==2.1.0, but you have torch 1.13.1 which is incompatible.\n",
            "torchtext 0.16.0 requires torch==2.1.0, but you have torch 1.13.1 which is incompatible.\n",
            "torchvision 0.16.0+cu121 requires torch==2.1.0, but you have torch 1.13.1 which is incompatible.\u001b[0m\u001b[31m\n",
            "\u001b[0mSuccessfully installed bitarray-2.9.2 colbert-ai-0.2.17 datasets-2.16.1 dill-0.3.7 faiss-gpu-1.7.2 git-python-1.0.3 gitdb-4.0.11 gitpython-3.1.41 multiprocess-0.70.15 ninja-1.11.1.1 nvidia-cublas-cu11-11.10.3.66 nvidia-cuda-nvrtc-cu11-11.7.99 nvidia-cuda-runtime-cu11-11.7.99 nvidia-cudnn-cu11-8.5.0.96 python-dotenv-1.0.0 smmap-5.0.1 torch-1.13.1 ujson-5.9.0\n",
            "\u001b[33mWARNING: Running pip as the 'root' user can result in broken permissions and conflicting behaviour with the system package manager. It is recommended to use a virtual environment instead: https://pip.pypa.io/warnings/venv\u001b[0m\u001b[33m\n",
            "\u001b[0m"
          ]
        }
      ],
      "source": [
        "try: # When on google Colab, let's install all dependencies with pip.\n",
        "    import google.colab\n",
        "    !pip install -U pip\n",
        "    !pip install -e ColBERT/['faiss-gpu','torch']\n",
        "except Exception:\n",
        "  import sys; sys.path.insert(0, 'ColBERT/')\n",
        "  try:\n",
        "    from colbert import Indexer, Searcher\n",
        "  except Exception:\n",
        "    print(\"If you're running outside Colab, please make sure you install ColBERT in conda following the instructions in our README. You can also install (as above) with pip but it may install slower or less stable faiss or torch dependencies. Conda is recommended.\")\n",
        "    assert False"
      ]
    },
    {
      "cell_type": "code",
      "execution_count": 3,
      "metadata": {
        "id": "N0jxbVar4kln"
      },
      "outputs": [],
      "source": [
        "import colbert"
      ]
    },
    {
      "cell_type": "code",
      "execution_count": 4,
      "metadata": {
        "id": "xQg9A-dtp1nB"
      },
      "outputs": [],
      "source": [
        "from colbert import Indexer, Searcher\n",
        "from colbert.infra import Run, RunConfig, ColBERTConfig\n",
        "from colbert.data import Queries, Collection"
      ]
    },
    {
      "cell_type": "markdown",
      "metadata": {
        "id": "TLWjmlkVq9r0"
      },
      "source": [
        "We will use the docs files and the Queries_20 file."
      ]
    },
    {
      "cell_type": "code",
      "execution_count": 45,
      "metadata": {
        "colab": {
          "base_uri": "https://localhost:8080/",
          "height": 160
        },
        "id": "rF7lv8jvq-ut",
        "outputId": "0d285cf0-37c6-4f92-e4c8-31c9292caa7a"
      },
      "outputs": [
        {
          "output_type": "stream",
          "name": "stdout",
          "text": [
            "Cloning into 'Information-Retrieval'...\n",
            "remote: Enumerating objects: 81, done.\u001b[K\n",
            "remote: Counting objects: 100% (81/81), done.\u001b[K\n",
            "remote: Compressing objects: 100% (73/73), done.\u001b[K\n",
            "remote: Total 81 (delta 29), reused 0 (delta 0), pack-reused 0\u001b[K\n",
            "Receiving objects: 100% (81/81), 487.70 KiB | 2.97 MiB/s, done.\n",
            "Resolving deltas: 100% (29/29), done.\n"
          ]
        },
        {
          "output_type": "execute_result",
          "data": {
            "text/plain": [
              "'Loaded 20 queries and 1,209 passages'"
            ],
            "application/vnd.google.colaboratory.intrinsic+json": {
              "type": "string"
            }
          },
          "metadata": {},
          "execution_count": 45
        }
      ],
      "source": [
        "#importing tsv files from personal github repository and creating docs and queries dataset\n",
        "!git clone https://github.com/NickVoulg02/Information-Retrieval.git\n",
        "import pandas as pd\n",
        "from datasets import Dataset\n",
        "dataset = 'test'\n",
        "df1 = pd.read_csv(\"Information-Retrieval/colbert_test/doc_col.tsv\", delimiter = '\\t', index_col=0)\n",
        "df2 =  pd.read_csv(\"Information-Retrieval/colbert_test/queries_20.tsv\", delimiter = '\\t', index_col=0)\n",
        "collection = Dataset.from_pandas(df1, preserve_index=True)\n",
        "query = Dataset.from_pandas(df2, preserve_index=True)\n",
        "f'Loaded {len(query)} queries and {len(collection):,} passages'"
      ]
    },
    {
      "cell_type": "code",
      "source": [
        "print(query[0])\n",
        "print(collection[0])"
      ],
      "metadata": {
        "colab": {
          "base_uri": "https://localhost:8080/"
        },
        "id": "nNP0p8oWxN0Y",
        "outputId": "37ecec8a-9dfd-4fd3-86be-108302845fd1"
      },
      "execution_count": 47,
      "outputs": [
        {
          "output_type": "stream",
          "name": "stdout",
          "text": [
            "{'query': 'WHAT ARE THE EFFECTS OF CALCIUM ON THE PHYSICAL PROPERTIES OF MUCUS FROM CF PATIENTS', 'query_id': 0}\n",
            "{'doc': 'PSEUDOMONAS AERUGINOSA INFECTION IN CYSTIC FIBROSIS OCCURRENCE OF PRECIPITATING ANTIBODIES AGAINST PSEUDOMONAS AERUGINOSA IN RELATION TO THE CONCENTRATION OF SIXTEEN SERUM PROTEINS AND THE CLINICAL AND RADIOGRAPHICAL STATUS OF THE LUNGS THE SIGNIFICANCE OF PSEUDOMONAS AERUGINOSA INFECTION IN THE RESPIRATORY TRACT OF 9 CYSTIC FIBROSIS PATIENTS HAVE BEEN STUDIED BY MEANS OF IMMUNOELECTROPHORETICAL ANALYSIS OF PATIENTS SERA FOR THE NUMBER OF PRECIPITINS AGAINST PSEUDOMONAS AERUGINOSA AND THE CONCENTRATIONS OF 16 SERUM PROTEINS IN ADDITION THE CLINICAL AND RADIOGRAPHICAL STATUS OF THE LUNGS HAVE BEEN EVALUATED USING 2 SCORING SYSTEMS PRECIPITINS AGAINST PSEUDOMONAS AERUGINOSA WERE DEMONSTRATED IN ALL SERA THE MAXIMUM NUMBER IN ONE SERUM WAS 22 THE CONCENTRATIONS OF 12 OF THE SERUM PROTEINS WERE SIGNIFICANTLY CHANGED COMPARED WITH MATCHED CONTROL PERSONS NOTABLY IGG AND IGA WERE ELEVATED AND THE ACUTE PHASE PROTEINS WERE CHANGED THE LATTER SUGGESTING ACTIVE TISSUE DAMAGE THE CONCENTRATIONS OF 3 OF THE ACUTE PHASE PROTEINS NOTABLY HAPTOGLOBIN WERE CORRELATED TO THE NUMBER OF PRECIPITINS SUGGESTING THAT THE RESPIRATORY TRACT INFECTION IN PATIENTS WITH MANY PRECIPITINS IS ACCOMPANIED BY MORE TISSUE DAMAGE THAN THE INFECTION IN PATIENTS WITH FEW PRECIPITINS THE RESULTS INDICATE NO PROTECTIVE VALUE OF THE MANY PRECIPITINS ON THE TISSUE OF THE RESPIRATORY TRACT', 'doc_id': 1}\n"
          ]
        }
      ]
    },
    {
      "cell_type": "markdown",
      "metadata": {
        "id": "RKJdAAbDu7PZ"
      },
      "source": [
        "## Indexing\n",
        "\n",
        "For an efficient search, we can pre-compute the ColBERT representation of each passage and index them.\n",
        "\n",
        "Below, the `Indexer` take a model checkpoint and writes a (compressed) index to disk. We then prepare a `Searcher` for retrieval from this index."
      ]
    },
    {
      "cell_type": "code",
      "execution_count": 48,
      "metadata": {
        "id": "vKAdVN5MvDKD"
      },
      "outputs": [],
      "source": [
        "nbits = 2   # encode each dimension with 2 bits\n",
        "doc_maxlen = 300 # truncate passages at 300 tokens\n",
        "\n",
        "index_name = f'{dataset}.{nbits}bits'"
      ]
    },
    {
      "cell_type": "markdown",
      "metadata": {
        "id": "orKfQRmQv46u"
      },
      "source": [
        "Now run the `Indexer` on the collection subset. Assuming the use of only one GPU, this cell should take about six minutes to finish running."
      ]
    },
    {
      "cell_type": "code",
      "execution_count": 49,
      "metadata": {
        "colab": {
          "base_uri": "https://localhost:8080/"
        },
        "id": "JRiOnzxtwI0j",
        "outputId": "3faf6fbf-27bd-4313-c390-6dc30b4cd9b7"
      },
      "outputs": [
        {
          "output_type": "stream",
          "name": "stdout",
          "text": [
            "\n",
            "\n",
            "[Jan 21, 17:10:34] #> Note: Output directory /content/experiments/notebook/indexes/test.2bits already exists\n",
            "\n",
            "\n",
            "[Jan 21, 17:10:34] #> Will delete 10 files already at /content/experiments/notebook/indexes/test.2bits in 20 seconds...\n",
            "#> Starting...\n",
            "#> Joined...\n"
          ]
        }
      ],
      "source": [
        "checkpoint = 'colbert-ir/colbertv2.0'\n",
        "\n",
        "with Run().context(RunConfig(nranks=1, experiment='notebook')):  # nranks specifies the number of GPUs to use\n",
        "    config = ColBERTConfig(doc_maxlen=doc_maxlen, nbits=nbits, kmeans_niters=4) # kmeans_niters specifies the number of iterations of k-means clustering; 4 is a good and fast default.\n",
        "                                                                                # Consider larger numbers for small datasets.\n",
        "\n",
        "    indexer = Indexer(checkpoint=checkpoint, config=config)\n",
        "    indexer.index(name=index_name, collection=collection[\"doc\"], overwrite=True)\n",
        "\n"
      ]
    },
    {
      "cell_type": "code",
      "execution_count": 50,
      "metadata": {
        "colab": {
          "base_uri": "https://localhost:8080/",
          "height": 35
        },
        "id": "CTbP2LS1xHVZ",
        "outputId": "a8aa3d3d-e258-4c6a-c42f-f78ae519c27d"
      },
      "outputs": [
        {
          "output_type": "execute_result",
          "data": {
            "text/plain": [
              "'/content/experiments/notebook/indexes/test.2bits'"
            ],
            "application/vnd.google.colaboratory.intrinsic+json": {
              "type": "string"
            }
          },
          "metadata": {},
          "execution_count": 50
        }
      ],
      "source": [
        "indexer.get_index() # You can get the absolute path of the index, if needed."
      ]
    },
    {
      "cell_type": "markdown",
      "metadata": {
        "id": "IY6_D523yBFB"
      },
      "source": [
        "## Search\n",
        "\n",
        "Having built the index and prepared our `searcher`, we can search for individual query strings."
      ]
    },
    {
      "cell_type": "code",
      "execution_count": 51,
      "metadata": {
        "colab": {
          "base_uri": "https://localhost:8080/"
        },
        "id": "j3x_FnVnyB0n",
        "outputId": "6e22e4f1-c8ce-4618-dca0-18dea31916e3"
      },
      "outputs": [
        {
          "output_type": "stream",
          "name": "stdout",
          "text": [
            "[Jan 21, 17:11:51] #> Loading codec...\n",
            "[Jan 21, 17:11:51] #> Loading IVF...\n",
            "[Jan 21, 17:11:51] #> Loading doclens...\n"
          ]
        },
        {
          "output_type": "stream",
          "name": "stderr",
          "text": [
            "100%|██████████| 1/1 [00:00<00:00, 4002.20it/s]"
          ]
        },
        {
          "output_type": "stream",
          "name": "stdout",
          "text": [
            "[Jan 21, 17:11:51] #> Loading codes and residuals...\n"
          ]
        },
        {
          "output_type": "stream",
          "name": "stderr",
          "text": [
            "\n",
            "100%|██████████| 1/1 [00:00<00:00, 206.96it/s]\n"
          ]
        }
      ],
      "source": [
        "# To create the searcher using its relative name (i.e., not a full path), set\n",
        "# experiment=value_used_for_indexing in the RunConfig.\n",
        "with Run().context(RunConfig(experiment='notebook')):\n",
        "    searcher = Searcher(index=index_name, collection=collection[\"doc\"])"
      ]
    },
    {
      "cell_type": "code",
      "execution_count": 60,
      "metadata": {
        "colab": {
          "base_uri": "https://localhost:8080/"
        },
        "id": "3JYA0N22yIeS",
        "outputId": "44ebe808-2309-48c4-b24a-a76723f7097d"
      },
      "outputs": [
        {
          "output_type": "stream",
          "name": "stdout",
          "text": [
            "#> WHAT ARE THE EFFECTS OF CALCIUM ON THE PHYSICAL PROPERTIES OF MUCUS FROM CF PATIENTS\n",
            "Rank\tScore\tId\tPassage\n",
            "[1] \t23.0 \t533 \tEFFECTS OF CALCIUM ON INTESTINAL MUCIN IMPLICATIONS FOR CYSTIC FIBROSIS A MAJOR FEATURE OF THE DISEASE CYSTIC FIBROSIS IS THE EXCESSIVE CONCENTRATION OF MUCUS WITHIN DUCTS AND GLANDS OF MUCOUSPRODUCING ORGANS SOME MUCOUS SECRETIONS ALSO SHOW AN ELEVATION IN CALCIUM CONCENTRATION USING PURIFIED RAT INTESTINAL GOBLET CELL MUCIN AS A MODEL MUCIN WE HAVE INVESTIGATED THE EFFECT OF MILLIMOLAR ADDITIONS 125 MM OF CACL2 ON THE PHYSICAL PROPERTIES OF THE MUCIN ISOTONICITY OF INCUBATION MEDIA WAS PRESERVED IN ORDER TO MIMIC IN VIVO CONDITIONS CACL2 815MM CAUSED A 1533 DECREASE IN VISCOSITY NO CHANGE IN ELECTROPHORETIC MOBILITY IN ACRYLAMIDE GELS AND A 2030 DECREASE IN SOLUBILITY OF THE MUCIN SOLUBILITY CHANGES WERE REVERSED BY THE ADDITION OF EDTA 20 MM TO INCUBATIONS INSOLUBILITY WAS ALSO PRODUCED IN INCUBATIONS OF MUCIN WITH A MIXTURE OF SOLUBLE INTESTINAL CONTENTS NACL WASHINGS THESE FINDINGS STRONGLY SUGGEST THAT THE MUCIN BECAME SMALLER AND MORE DENSE AS CALCIUM WAS ADDED A PROCESS MOST PROBABLY ACHIEVED BY LOSS OF INTRAMOLECULAR WATER\n",
            "[2] \t20.4 \t441 \tWATER AND ELECTROLYTES OF EXOCRINE SECRETIONS PP 17991 IT HAS BEEN RECOGNIZED THAT THE LEVELS OF WATER AND ELECTROLYTES ARE DERANGED IN MANY IF NOT ALL OF THE EXOCRINE SECRETIONS OF CYSTIC FIBROSIS PATIENTS THE SODIUM AND CHLORIDE LEVELS IN SEROUS SECRETIONS FROM CF PATIENTS ARE ELEVATED IN CONTRAST THE MORE PROTEINRICH OR MUCOID ISOTONIC SECRETIONS VIZ FROM THE PANCREAS AND TRACHEOBRONCHIAL MUCUS GLANDS ARE FOUND TO HAVE SODIUM CONCENTRATIONS NEAR NORMAL OR EVEN SOMEWHAT DECREASED HOWEVER THESE SECRETIONS HAVE SIGNIFICANTLY REDUCED WATER CONTENT THE ABNORMALITIES IN HYPOTONIC SECRETIONS APPEAR TO RISE FROM A DECREASED NA REABSORPTION IN THE DUCTS THE LOW WATER CONTENT OF THE ISOTONIC SECRETIONS OF CF PATIENTS APPEARS TO RESULT FROM DECREASED SECRETION OF WATER AND ELECTROLYTES EARLY STUDIES ON TRACHEOBRONCHIAL SECRETIONS FROM CF PATIENTS LED INVESTIGATORS TO SUGGEST THAT THE PRIMARY DEFECT MAY BE A DECREASE IN THE LEVELS OF WATER AND MONOVALENT IONS IN AN ATTEMPT TO PROVIDE A UNIFYING HYPOTHESIS IT HAS BEEN SUGGESTED THAT AN INCREASED CALCIUM CONCENTRATION IN THE VARIOUS EXOCRINE SECRETIONS LEADS TO A HYPERPERMEABILITY OF THE MUCUS LININGS AND THUS TO AN EXCESSIVE LOSS OF WATER AND SMALL IONS THE CONCENTRATION OF CALCIUM IN EXOCRINE SECRETIONS APPEARS TO FOLLOW THE CONCENTRATION OF PROTEINS AND ESPECIALLY THE MUCOUS GLYCOPROTEINS IT WAS SUGGESTED THAT CALCIUM MAY BE AN IMPORTANT FACTOR IN THE INCREASED VISCOSITY AND INSOLUBILITY OF CF MUCUS ORGANIC IONS ARE ALSO POTENTIAL PERTURBANTS OF MACROMOLECULAR STRUCTURE IN ADDITION TO A POSSIBLE PERTURBANT ROLE POLYAMINES HAVE A POTENTIAL ROLE IN WATER AND ELECTROLYTE TRANSPORT\n",
            "[3] \t19.5 \t957 \tTHE BIOLOGIC ACTIVITIES OF CYSTIC FIBROSIS SERUM II ULTRASTRUCTURAL ASPECTS OF THE EFFECT OF CYSTIC FIBROSIS SERA AND CALCIUM IONOPHORE A23187 ON RABBIT TRACHEAL EXPLANTS ULTRASTRUCTURAL AND CYTOCHEMICAL OBSERVATIONS INDICATE THAT BOTH CYSTIC FIBROSIS CF SERA AND CALCIUM IONOPHORE A23187 INDUCE A SWELLING OR AN INCREASE IN THE SIZE AND POSSIBLY THE NUMBER OF SECONDARY LYSOSOMES AND AN INCREASE IN MUCUS SECRETION IN EPITHELIUM OF THE RABBIT TRACHEAL BIOASSAY SYSTEM EXTENDED INCUBATION OF THE RABBIT TRACHEAL EXPLANTS WITH EITHER CF OR CONTROL SERA PRODUCES A CYTOTOXIC EFFECT ON THE TRACHEAL EPITHELIUM BUT ONLY AFTER THE TERMINATION OF THE NORMAL BIOASSAY TIME PERIOD COMPARATIVE ULTRASTRUCTURAL STUDY OF THE EFFECT OF BOTH CF SERA AND CALCIUM IONOPHORE A23187 ON THE RABBIT TRACHEAL BIOASSAY SYSTEM INDICATES THAT INCREASED MEMBRANE PERMEABILITY TO CALCIUM MAY BE IMPORTANT IN THE PRODUCTION OF THE CILIARY DYSKINESIA RESPONSE BY CF SERUM FACTORS IN THE RABBIT TRACHEAL BIOASSAY SYSTEM\n",
            "[4] \t19.2 \t484 \tCALCIUM FLUX AND CYSTIC FIBROSIS LETTER IN AN EFFORT TO DETERMINE WHETHER INCREASED PERMEABILITY TO CALCIUM IONS COULD EXPLAIN THE CYSTIC FIBROSISSERUM CILIARY DYSKENSIA FACTOR RESPONSE IN THE TRACHEAL TEST SYSTEM WE SELECTIVELY INCREASED THE MEMBRANE PERMEABILITY OF THE TRACHEAL EPITHELIUM TO CALCIUM IONS BY ADDING CALCIUM IONOPHORE A23187 TO THE TRACHEAL CULTURE MEDIUM THESE STUDIES DETERMINED THAT CALCIUM IONOPHORE A23187 IN CULTURE MEDIUM PRODUCED A CHANGE IN MUCOCILIARY FUNCTION IN THE TRACHEAL TEST SYSTEM INDISTINGUISHABLE FROM THAT PROMOTED BY CF SERA THESE INVESTIGATIONS WHICH ARE NOW BEING EXTENDED TO INCLUDE THE ULTRASTRUCTURAL ALTERATIONS INDUCED IN THE EPITHELIUM OF THE RABBIT TRACHEAL BIOASSAY SYSTEM POINT TO AN IMPORTANT ROLE FOR CALCIUM AS A COFACTOR IN THE PRODUCTION OF THE CDF RESPONSE GENERATED BY THE CF SERA THE CF SERUM SUBSTANCE SEEMS TO ACT AT THE CELLULARMEMBRANE LEVEL PROMOTING MEMBRANEPERMEABILITY CHANGES AT LEAST WITH RESPECT TO CALCIUM IN THE RABBIT TRACHEAL TEST SYSTEM SUCH A MECHANISM WOULD NOT NECESSARILY RESULT IN A NET PHYSIOLOGICAL IMBALANCE OF CALCIUM IN THE RABBIT TRACHEAL SYSTEM BUT ONLY LOCAL CHANGES IN CALCIUM CONCENTRATION THAT WOULD SUBSEQUENTLY ALTER SECRETION AND MICROTUBULAR FUNCTION SINCE CF SERUM LIKE SWEAT AND SALIVA FROM THESE SAME PATIENTS CAN PROMOTE IONIC FLUXES PERHAPS THERE IS A COMMON FACTOR IN ALL THESE BODYFLUIDS WHICH IS RELATED TO THE BASIC DEFECT IN CF IT IS TEMPTING TO SPECULATE THAT SUCH A FACTOR PRODUCES A MEMBRANEASSOCIATED PHENOMENON THAT MAY BE GENERALLY REPRESENTATIVE OF THE INVIVO CF DISORDER AND AS SUCH MAY REFLECT THE NATURE OF THE CELLULAR AND GLANDULAR ABNORMALITIES OF THE DISEASE\n",
            "[5] \t18.6 \t741 \tTHE BIOLOGIC ACTIVITIES OF CYSTIC FIBROSIS SERUM I THE EFFECTS OF CYSTIC FIBROSIS SERA AND CALCIUM IONOPHORE A 23187 ON RABBIT TRACHEAL EXPLANTS AN IONOPHORE A23187INDUCED INCREASE IN MEMBRANE PERMEABILITY TO CALCIUM IONS IN CULTURE MEDIUM PRODUCED A RABBIT TRACHEAL MUCOCILIARY RESPONSE INDISTINGUISHABLE FROM THAT CAUSED BY CYSTIC FIBROSIS CF SERA ON THREE DIFFERENT OCCASIONS SPECIFIC CHELATION OF CALCIUM IONS WITH EGTA IN THE BASAL MEDIUM EAGLE BME MEDIA WITH NO ADDITIVE OR IN NATIVE CF SERA ABOLISHED THE MUCOCILIARY DISTURBANCES IN ALL CASES INCREASED MEMBRANE PERMEABILITY TO CALCIUM MAY BE IMPORTANT IN THE PRODUCTION OF THE MUCOCILIARY RESPONSE BY CF SERUM FACTORS IN THE TRACHEAL ASSAY SYSTEM\n",
            "[6] \t18.5 \t827 \tTHE INFLUENCE OF CYSTIC FIBROSIS SERUM AND CALCIUM ON SECRETION IN THE RABBIT TRACHEAL MUCOCILIARY APPARATUS CYSTIC FIBROSIS SERUM OR ITS ISOLATED COMPONENT IGG FRACTION AND CALCIUM IONOPHORE A23187 ALL PRODUCED A QUANTITATIVELY GREATER INCREASE OF MUCUS GLYCOPROTEIN SECRETION IN THE RABBIT TRACHEAL EPITHELIUM THAN DID CONTROL SERUM OR ITS ISOLATED COMPONENT IGG FRACTION THESE VALUES WERE DETERMINED BY DRY WEIGHT SECRETION PER GRAM OF TISSUE AND ON SUBSEQUENT SIALIC ACID CONTENT OF SECRETIONS THIS DEMONSTRABLE INCREASE IN MUCUS PRODUCTION REPRESENTS A MEASURABLE DIFFERENCE IN THE FUNCTIONING OF THE CULTURED MUCOCILIARY APPARATUS DUE TO THE INFLUENCE OF CYSTIC FIBROSIS SERUM\n",
            "[7] \t17.9 \t505 \tRESEARCH IN CYSTIC FIBROSIS THIRD OF THREE PARTS RECENT AUTONOMIC NERVOUS SYSTEM STUDIES IN CYSTIC FIBROSIS ARE OUTLINED MISCELLANEOUS OBSERVATIONS REGARDING SALIVARY AND TEAR GLANDS CALCIUM THE KALLIKREINKININ SYSTEM PROTEASE INHIBITOR ALPHAFETOPROTEIN AND ENDOCRINE GLANDS ARE DISCUSSED BECAUSE MORE THAN 90 PER CENT OF PATIENTS WITH CYSTIC FIBROSIS DIE OF PROGRESSIVE PULMONARY INVOLVEMENT COMPLICATED BY INFECTION WITH STAPHYLOCOCCUS AUREUS OR PSEUDOMONAS AERUGINOSA OR BOTH THE QUESTION OF IMMUNOLOGIC DEFICIT IS FREQUENTLY RAISED EXTENSIVE INVESTIGATIONS HAVE SHOWN THE IMMUNE SYSTEM IN CYSTIC FIBROSIS TO BE INTACT STUDIES REGARDING PULMONARY CILIARY CLEARANCE AND BACTERIOLOGY ARE ALSO OUTLINED DESPITE EXTENSIVE INVESTIGATIONS THE BASIC DEFECT OF CYSTIC FIBROSIS IS STILL UNKNOWN WHAT THEN IS THE EXPLANATION OF THE TWO DEFECTS IN HOMOZYGOTES THAT LEAD TO MOST CLINICAL MANIFESTATIONS  THE SWEAT ELECTROLYTE DEFECT AND THE ABNORMALITY IN PHYSIOCHEMICAL BEHAVIOR OF MUCOUS SECRETIONS THE FORMER IS SATISFACTORILY EXPLAINED BY A SODIUMREABSORPTIONINHIBITORY FACTOR PRESENT IN SWEAT AND SALIVA OF PATIENTS AS FOR THE MUCOUSSECRETION ABNORMALITY THE EFFECT OF THE INCREASING CALCIUM CONCENTRATION IN DECREASING THE SOLUBILITY OF GLYCOPROTEINS SUGGESTS THAT THIS MECHANISM MIGHT BE RESPONSIBLE FOR THE PRECIPITATION AND OBSTRUCTION OF ORGAN PASSAGES WHICH GIVES RISE TO MOST SYMPTOMS IN CYSTIC FIBROSIS ALTHOUGH THERE IS AN EXCELLENT DIAGNOSTIC TEST FOR HOMOZYGOTES SWEAT TEST ONE CANNOT RELY ON ANY OF THE PRESENT BIOLOGIC ASSAYS FOR DETERMINATION OF HETEROZYGOSITY OR ANTENATAL DIAGNOSIS\n",
            "[8] \t17.8 \t960 \tCALCIUM AND SODIUM TRANSPORT PROCESSES IN PATIENTS WITH CYSTIC FIBROSIS I A SPECIFIC DECREASE IN MG2DEPENDENT CA2ADENOSINE TRIPHOSPHATASE ACTIVITY IN ERYTHROCYTE MEMBRANES FROM CYSTIC FIBROSIS PATIENTS CALCIUMATPASE ACTIVITY MG2DEPENDENT CA2ATPASE ATP PHOSPHOHYDROLASE EC 3613 IN ERYTHROCYTE MEMBRANE PREPARATIONS FROM CYSTIC FIBROSIS CF PATIENTS WAS GREATLY REDUCED COMPARED TO ERYTHROCYTE MEMBRANES FROM CONTROL SUBJECTS THE KM FOR CALCIUM WAS FOUND TO BE SIMILAR IN THE TWO GROUPS HOWEVER THE VMAX THE MAXIMAL RATE OF ACTIVATION OF THE CA2ATPASE IS REDUCED BY 50 IN THE ERYTHROCYTE MEMBRANE PREPARATIONS OF THE CF PATIENTS P LESS THAN 0001 IN CONTRAST THE MG2ATPASE ACTIVITY OF ERYTHROCYTE MEMBRANES FROM CF PATIENTS WAS UNCHANGED COMPARED TO THE CONTROL SUBJECTS NO DIFFERENCE IN THE NAKATPASE ACTIVITY IN ERYTHROCYTE MEMBRANES FROM CF PATIENTS COMPARED TO CONTROL PATIENTS COULD BE OBSERVED THIS INDICATES THAT THE CA2ATPASE ACTIVITY NOTED IN CF ERYTHROCYTES IS NOT PART OF A GENERALIZED MEMBRANE OR MEMBRANEBOUND ENZYME ALTERATION IT REMAINS TO BE DETERMINED WHETHER THIS ALTERATION IN CA2ATPASE ACTIVITY IS DIRECTLY RELATED TO A DEFECT IN CALCIUM TRANSPORT IN THESE CELLS AND IS A GENERALIZED PHENOMENON IN CF PRESENT IN CELL TYPES MORE DIRECTLY INVOLVED IN SECRETION\n",
            "[9] \t17.7 \t1201 \tALTERED INTRACELLULAR CALCIUM IN FIBROBLASTS FROM PATIENTS WITH CYSTIC FIBROSIS AND HETEROZYGOTES THE IMPORTANCE OF INTRACELLULAR CALCIUM CA IN SECRETION AND TRANSMEMBRANE ION MOVEMENT LED US TO STUDY CA IN CELLS FROM PATIENTS WITH CYSTIC FIBROSIS CF WHICH IS A LETHAL GENETIC EXOCRINOPATHY SKIN FIBROBLASTS FROM PATIENTS WITH CF OBLIGATE HETEROZYGOTES HZ AND AGE AND SEXMATCHED CONTROLS C WERE USED IN MATCHED PAIR EXPERIMENTS MEASURING 45CA EXCHANGE INTO AND EFFLUX FROM THE CELLS OVER TIME CF CELL LINES AND HZ CELL LINES EXHIBIT INCREASED 45CA EXCHANGE WHEN COMPARED WITH THEIR RESPECTIVE CONTROLS P LESS THAN 0005 THE MAGNITUDE OF THIS DIFFERENCE APPROXIMATELY 30 IS NOT REDUCED WHEN CELLS ARE WASHED WITH LANTHANUM CHLORIDE AFTER THE EXCHANGE PERIOD THIS DIFFERENCE IS LIKELY ATTRIBUTABLE TO AN ALTERED CAPACITY OF ONE OR MORE OF THE INTRACELLULAR CA SEQUESTERING ORGANELLES FURTHER EVIDENCE FOR THIS EXPLANATION WAS SEEN IN 45CA EFFLUX EXPERIMENTS IN WHICH CF CELLS RETAINED A HIGHER PERCENT OF THEIR INITIAL 0TIME 45CA THAN DID C CELLS LATE IN THE EFFLUX PERIOD P LESS THAN 005 THE FINDING OF AN ALTERED CA POOL SIZE IN BOTH CF AND PARTICULARLY HZ CELLS SUGGESTS THAT ALTERED CA METABOLISM IS RELATED TO THE BASIC GENE DEFECT IN CF\n",
            "[10] \t17.4 \t437 \tPULMONARY ASPECTS OF CYSTIC FIBROSIS PP 324 DEFECTIVE MUCOCILIARY TRANSPORT HAS BEEN IMPLICATED IN THE PATHOGENESIS OF THE LUNG DISEASE IN CYSTIC FIBROSIS BASED ON SEVERAL OBSERVATIONS FIRST PATIENTS WITH THE DISEASE SECRETE MORE MUCUS THAN NORMAL SUBJECTS AS INDICATED BY GLAND HYPERTROPHY AND FREQUENTLY RETAIN IT IN THE LUNG SECOND THE MUCUS IS SAID TO HAVE ALTERED BIOCHEMICAL AND RHEOLOGICAL PROPERTIES HOWEVER ALTHOUGH THE PHYSIOCHEMICAL PROPERTIES OF MUCUS ARE ALTERED IN ALL LUNG DISEASES LITTLE HISTOCHEMICAL OR RHEOLOGICAL DIFFERENCE HAS BEEN FOUND IN MUCUS FROM PATIENTS WITH CF AND OTHER HYPERSECRETORY CONDITIONS SUCH AS CHRONIC BRONCHITIS AND BRONCHIECTASIS THIRD A FACTOR IN THE SERUM OF CF PATIENTS INHIBITS NORMAL CILIARY ACTIVITY IN EXPLAIN GLANDS OF CILIATED EPITHELIUM AND INFECTION WHICH DAMAGES HUMAN CILIATED EPITHELIUM IN CULTURE COULD FURTHER REDUCE MUCOCILIARY TRANSPORT MEASUREMENT OF PULMONARY FUNCTION IN CYSTIC FIBROSIS PHYSICAL FITNESS AND RESPONSE TO EXERCISE IN CYSTIC FIBROSIS CONTROL OF BREATHING IN PATIENTS WITH CYSTIC FIBROSIS REGIONAL LUNG FUNCTION IN CYSTIC FIBROSIS AND THERAPY OF CYSTIC FIBROSIS ARE DISCUSSED\n"
          ]
        }
      ],
      "source": [
        "question = query[\"query\"][0]\n",
        "print(f\"#> {question}\")\n",
        "\n",
        "# Find the top-10 passages for this query\n",
        "results = searcher.search(question, k=10)\n",
        "\n",
        "# Print out the top-k retrieved passages\n",
        "print(\"Rank\\tScore\\tId\\tPassage\")\n",
        "for passage_id, passage_rank, passage_score in zip(*results):\n",
        "    print(f\"[{passage_rank}] \\t{passage_score:.1f} \\t{collection['doc_id'][passage_id]} \\t{searcher.collection[passage_id]}\")"
      ]
    }
  ],
  "metadata": {
    "accelerator": "GPU",
    "colab": {
      "gpuType": "T4",
      "provenance": [],
      "include_colab_link": true
    },
    "kernelspec": {
      "display_name": "Python 3",
      "name": "python3"
    },
    "language_info": {
      "codemirror_mode": {
        "name": "ipython",
        "version": 3
      },
      "file_extension": ".py",
      "mimetype": "text/x-python",
      "name": "python",
      "nbconvert_exporter": "python",
      "pygments_lexer": "ipython3",
      "version": "3.9.1"
    }
  },
  "nbformat": 4,
  "nbformat_minor": 0
}