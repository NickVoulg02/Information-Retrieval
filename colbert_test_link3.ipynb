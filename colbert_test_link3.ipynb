{
  "cells": [
    {
      "cell_type": "markdown",
      "metadata": {
        "id": "view-in-github",
        "colab_type": "text"
      },
      "source": [
        "<a href=\"https://colab.research.google.com/github/NickVoulg02/Information-Retrieval/blob/main/colbert_test_link3.ipynb\" target=\"_parent\"><img src=\"https://colab.research.google.com/assets/colab-badge.svg\" alt=\"Open In Colab\"/></a>"
      ]
    },
    {
      "cell_type": "markdown",
      "metadata": {
        "id": "vTwpDNBnorUT"
      },
      "source": [
        "# ColBERTv2: Indexing & Search Notebook\n",
        "First, we'll import the relevant classes. Note that `Indexer` and `Searcher` are the key actors here. Next, we'll download the necessary dependencies."
      ]
    },
    {
      "cell_type": "code",
      "execution_count": 1,
      "metadata": {
        "colab": {
          "base_uri": "https://localhost:8080/"
        },
        "id": "nl_YBBPTo5AZ",
        "outputId": "f05409d0-48ef-42b2-c1ae-193616a43a8a"
      },
      "outputs": [
        {
          "output_type": "stream",
          "name": "stdout",
          "text": [
            "fatal: cannot change to 'ColBERT/': No such file or directory\n",
            "Cloning into 'ColBERT'...\n",
            "remote: Enumerating objects: 2576, done.\u001b[K\n",
            "remote: Counting objects: 100% (1079/1079), done.\u001b[K\n",
            "remote: Compressing objects: 100% (337/337), done.\u001b[K\n",
            "remote: Total 2576 (delta 843), reused 786 (delta 742), pack-reused 1497\u001b[K\n",
            "Receiving objects: 100% (2576/2576), 2.02 MiB | 11.66 MiB/s, done.\n",
            "Resolving deltas: 100% (1602/1602), done.\n"
          ]
        }
      ],
      "source": [
        "!git -C ColBERT/ pull || git clone https://github.com/stanford-futuredata/ColBERT.git\n",
        "import sys; sys.path.insert(0, 'ColBERT/')\n"
      ]
    },
    {
      "cell_type": "code",
      "execution_count": 2,
      "metadata": {
        "colab": {
          "base_uri": "https://localhost:8080/"
        },
        "id": "FmBi2UT5pxb3",
        "outputId": "db64c885-ae27-4f58-c2eb-8d9803d94202"
      },
      "outputs": [
        {
          "output_type": "stream",
          "name": "stdout",
          "text": [
            "Requirement already satisfied: pip in /usr/local/lib/python3.10/dist-packages (23.1.2)\n",
            "Collecting pip\n",
            "  Downloading pip-23.3.2-py3-none-any.whl (2.1 MB)\n",
            "\u001b[2K     \u001b[90m━━━━━━━━━━━━━━━━━━━━━━━━━━━━━━━━━━━━━━━━\u001b[0m \u001b[32m2.1/2.1 MB\u001b[0m \u001b[31m7.7 MB/s\u001b[0m eta \u001b[36m0:00:00\u001b[0m\n",
            "\u001b[?25hInstalling collected packages: pip\n",
            "  Attempting uninstall: pip\n",
            "    Found existing installation: pip 23.1.2\n",
            "    Uninstalling pip-23.1.2:\n",
            "      Successfully uninstalled pip-23.1.2\n",
            "Successfully installed pip-23.3.2\n",
            "Obtaining file:///content/ColBERT\n",
            "  Preparing metadata (setup.py) ... \u001b[?25l\u001b[?25hdone\n",
            "Collecting bitarray (from colbert-ai==0.2.17)\n",
            "  Downloading bitarray-2.9.2-cp310-cp310-manylinux_2_17_x86_64.manylinux2014_x86_64.whl.metadata (34 kB)\n",
            "Collecting datasets (from colbert-ai==0.2.17)\n",
            "  Downloading datasets-2.16.1-py3-none-any.whl.metadata (20 kB)\n",
            "Requirement already satisfied: flask in /usr/local/lib/python3.10/dist-packages (from colbert-ai==0.2.17) (2.2.5)\n",
            "Collecting git-python (from colbert-ai==0.2.17)\n",
            "  Downloading git_python-1.0.3-py2.py3-none-any.whl (1.9 kB)\n",
            "Collecting python-dotenv (from colbert-ai==0.2.17)\n",
            "  Downloading python_dotenv-1.0.0-py3-none-any.whl (19 kB)\n",
            "Collecting ninja (from colbert-ai==0.2.17)\n",
            "  Downloading ninja-1.11.1.1-py2.py3-none-manylinux1_x86_64.manylinux_2_5_x86_64.whl.metadata (5.3 kB)\n",
            "Requirement already satisfied: scipy in /usr/local/lib/python3.10/dist-packages (from colbert-ai==0.2.17) (1.11.4)\n",
            "Requirement already satisfied: spacy in /usr/local/lib/python3.10/dist-packages (from colbert-ai==0.2.17) (3.6.1)\n",
            "Requirement already satisfied: tqdm in /usr/local/lib/python3.10/dist-packages (from colbert-ai==0.2.17) (4.66.1)\n",
            "Requirement already satisfied: transformers in /usr/local/lib/python3.10/dist-packages (from colbert-ai==0.2.17) (4.35.2)\n",
            "Collecting ujson (from colbert-ai==0.2.17)\n",
            "  Downloading ujson-5.9.0-cp310-cp310-manylinux_2_17_x86_64.manylinux2014_x86_64.whl.metadata (8.7 kB)\n",
            "Collecting torch==1.13.1 (from colbert-ai==0.2.17)\n",
            "  Downloading torch-1.13.1-cp310-cp310-manylinux1_x86_64.whl (887.5 MB)\n",
            "\u001b[2K     \u001b[90m━━━━━━━━━━━━━━━━━━━━━━━━━━━━━━━━━━━━━━━━\u001b[0m \u001b[32m887.5/887.5 MB\u001b[0m \u001b[31m2.4 MB/s\u001b[0m eta \u001b[36m0:00:00\u001b[0m\n",
            "\u001b[?25hCollecting faiss-gpu>=1.7.0 (from colbert-ai==0.2.17)\n",
            "  Downloading faiss_gpu-1.7.2-cp310-cp310-manylinux_2_17_x86_64.manylinux2014_x86_64.whl (85.5 MB)\n",
            "\u001b[2K     \u001b[90m━━━━━━━━━━━━━━━━━━━━━━━━━━━━━━━━━━━━━━━━\u001b[0m \u001b[32m85.5/85.5 MB\u001b[0m \u001b[31m9.2 MB/s\u001b[0m eta \u001b[36m0:00:00\u001b[0m\n",
            "\u001b[?25hRequirement already satisfied: typing-extensions in /usr/local/lib/python3.10/dist-packages (from torch==1.13.1->colbert-ai==0.2.17) (4.5.0)\n",
            "Collecting nvidia-cuda-runtime-cu11==11.7.99 (from torch==1.13.1->colbert-ai==0.2.17)\n",
            "  Downloading nvidia_cuda_runtime_cu11-11.7.99-py3-none-manylinux1_x86_64.whl (849 kB)\n",
            "\u001b[2K     \u001b[90m━━━━━━━━━━━━━━━━━━━━━━━━━━━━━━━━━━━━━━━━\u001b[0m \u001b[32m849.3/849.3 kB\u001b[0m \u001b[31m49.8 MB/s\u001b[0m eta \u001b[36m0:00:00\u001b[0m\n",
            "\u001b[?25hCollecting nvidia-cudnn-cu11==8.5.0.96 (from torch==1.13.1->colbert-ai==0.2.17)\n",
            "  Downloading nvidia_cudnn_cu11-8.5.0.96-2-py3-none-manylinux1_x86_64.whl (557.1 MB)\n",
            "\u001b[2K     \u001b[90m━━━━━━━━━━━━━━━━━━━━━━━━━━━━━━━━━━━━━━━━\u001b[0m \u001b[32m557.1/557.1 MB\u001b[0m \u001b[31m2.4 MB/s\u001b[0m eta \u001b[36m0:00:00\u001b[0m\n",
            "\u001b[?25hCollecting nvidia-cublas-cu11==11.10.3.66 (from torch==1.13.1->colbert-ai==0.2.17)\n",
            "  Downloading nvidia_cublas_cu11-11.10.3.66-py3-none-manylinux1_x86_64.whl (317.1 MB)\n",
            "\u001b[2K     \u001b[90m━━━━━━━━━━━━━━━━━━━━━━━━━━━━━━━━━━━━━━━━\u001b[0m \u001b[32m317.1/317.1 MB\u001b[0m \u001b[31m4.3 MB/s\u001b[0m eta \u001b[36m0:00:00\u001b[0m\n",
            "\u001b[?25hCollecting nvidia-cuda-nvrtc-cu11==11.7.99 (from torch==1.13.1->colbert-ai==0.2.17)\n",
            "  Downloading nvidia_cuda_nvrtc_cu11-11.7.99-2-py3-none-manylinux1_x86_64.whl (21.0 MB)\n",
            "\u001b[2K     \u001b[90m━━━━━━━━━━━━━━━━━━━━━━━━━━━━━━━━━━━━━━━━\u001b[0m \u001b[32m21.0/21.0 MB\u001b[0m \u001b[31m47.3 MB/s\u001b[0m eta \u001b[36m0:00:00\u001b[0m\n",
            "\u001b[?25hRequirement already satisfied: setuptools in /usr/local/lib/python3.10/dist-packages (from nvidia-cublas-cu11==11.10.3.66->torch==1.13.1->colbert-ai==0.2.17) (67.7.2)\n",
            "Requirement already satisfied: wheel in /usr/local/lib/python3.10/dist-packages (from nvidia-cublas-cu11==11.10.3.66->torch==1.13.1->colbert-ai==0.2.17) (0.42.0)\n",
            "Requirement already satisfied: filelock in /usr/local/lib/python3.10/dist-packages (from datasets->colbert-ai==0.2.17) (3.13.1)\n",
            "Requirement already satisfied: numpy>=1.17 in /usr/local/lib/python3.10/dist-packages (from datasets->colbert-ai==0.2.17) (1.23.5)\n",
            "Requirement already satisfied: pyarrow>=8.0.0 in /usr/local/lib/python3.10/dist-packages (from datasets->colbert-ai==0.2.17) (10.0.1)\n",
            "Requirement already satisfied: pyarrow-hotfix in /usr/local/lib/python3.10/dist-packages (from datasets->colbert-ai==0.2.17) (0.6)\n",
            "Collecting dill<0.3.8,>=0.3.0 (from datasets->colbert-ai==0.2.17)\n",
            "  Downloading dill-0.3.7-py3-none-any.whl.metadata (9.9 kB)\n",
            "Requirement already satisfied: pandas in /usr/local/lib/python3.10/dist-packages (from datasets->colbert-ai==0.2.17) (1.5.3)\n",
            "Requirement already satisfied: requests>=2.19.0 in /usr/local/lib/python3.10/dist-packages (from datasets->colbert-ai==0.2.17) (2.31.0)\n",
            "Requirement already satisfied: xxhash in /usr/local/lib/python3.10/dist-packages (from datasets->colbert-ai==0.2.17) (3.4.1)\n",
            "Collecting multiprocess (from datasets->colbert-ai==0.2.17)\n",
            "  Downloading multiprocess-0.70.15-py310-none-any.whl.metadata (7.2 kB)\n",
            "Requirement already satisfied: fsspec<=2023.10.0,>=2023.1.0 in /usr/local/lib/python3.10/dist-packages (from fsspec[http]<=2023.10.0,>=2023.1.0->datasets->colbert-ai==0.2.17) (2023.6.0)\n",
            "Requirement already satisfied: aiohttp in /usr/local/lib/python3.10/dist-packages (from datasets->colbert-ai==0.2.17) (3.9.1)\n",
            "Requirement already satisfied: huggingface-hub>=0.19.4 in /usr/local/lib/python3.10/dist-packages (from datasets->colbert-ai==0.2.17) (0.20.2)\n",
            "Requirement already satisfied: packaging in /usr/local/lib/python3.10/dist-packages (from datasets->colbert-ai==0.2.17) (23.2)\n",
            "Requirement already satisfied: pyyaml>=5.1 in /usr/local/lib/python3.10/dist-packages (from datasets->colbert-ai==0.2.17) (6.0.1)\n",
            "Requirement already satisfied: Werkzeug>=2.2.2 in /usr/local/lib/python3.10/dist-packages (from flask->colbert-ai==0.2.17) (3.0.1)\n",
            "Requirement already satisfied: Jinja2>=3.0 in /usr/local/lib/python3.10/dist-packages (from flask->colbert-ai==0.2.17) (3.1.3)\n",
            "Requirement already satisfied: itsdangerous>=2.0 in /usr/local/lib/python3.10/dist-packages (from flask->colbert-ai==0.2.17) (2.1.2)\n",
            "Requirement already satisfied: click>=8.0 in /usr/local/lib/python3.10/dist-packages (from flask->colbert-ai==0.2.17) (8.1.7)\n",
            "Collecting gitpython (from git-python->colbert-ai==0.2.17)\n",
            "  Downloading GitPython-3.1.41-py3-none-any.whl.metadata (14 kB)\n",
            "Requirement already satisfied: spacy-legacy<3.1.0,>=3.0.11 in /usr/local/lib/python3.10/dist-packages (from spacy->colbert-ai==0.2.17) (3.0.12)\n",
            "Requirement already satisfied: spacy-loggers<2.0.0,>=1.0.0 in /usr/local/lib/python3.10/dist-packages (from spacy->colbert-ai==0.2.17) (1.0.5)\n",
            "Requirement already satisfied: murmurhash<1.1.0,>=0.28.0 in /usr/local/lib/python3.10/dist-packages (from spacy->colbert-ai==0.2.17) (1.0.10)\n",
            "Requirement already satisfied: cymem<2.1.0,>=2.0.2 in /usr/local/lib/python3.10/dist-packages (from spacy->colbert-ai==0.2.17) (2.0.8)\n",
            "Requirement already satisfied: preshed<3.1.0,>=3.0.2 in /usr/local/lib/python3.10/dist-packages (from spacy->colbert-ai==0.2.17) (3.0.9)\n",
            "Requirement already satisfied: thinc<8.2.0,>=8.1.8 in /usr/local/lib/python3.10/dist-packages (from spacy->colbert-ai==0.2.17) (8.1.12)\n",
            "Requirement already satisfied: wasabi<1.2.0,>=0.9.1 in /usr/local/lib/python3.10/dist-packages (from spacy->colbert-ai==0.2.17) (1.1.2)\n",
            "Requirement already satisfied: srsly<3.0.0,>=2.4.3 in /usr/local/lib/python3.10/dist-packages (from spacy->colbert-ai==0.2.17) (2.4.8)\n",
            "Requirement already satisfied: catalogue<2.1.0,>=2.0.6 in /usr/local/lib/python3.10/dist-packages (from spacy->colbert-ai==0.2.17) (2.0.10)\n",
            "Requirement already satisfied: typer<0.10.0,>=0.3.0 in /usr/local/lib/python3.10/dist-packages (from spacy->colbert-ai==0.2.17) (0.9.0)\n",
            "Requirement already satisfied: pathy>=0.10.0 in /usr/local/lib/python3.10/dist-packages (from spacy->colbert-ai==0.2.17) (0.11.0)\n",
            "Requirement already satisfied: smart-open<7.0.0,>=5.2.1 in /usr/local/lib/python3.10/dist-packages (from spacy->colbert-ai==0.2.17) (6.4.0)\n",
            "Requirement already satisfied: pydantic!=1.8,!=1.8.1,<3.0.0,>=1.7.4 in /usr/local/lib/python3.10/dist-packages (from spacy->colbert-ai==0.2.17) (1.10.13)\n",
            "Requirement already satisfied: langcodes<4.0.0,>=3.2.0 in /usr/local/lib/python3.10/dist-packages (from spacy->colbert-ai==0.2.17) (3.3.0)\n",
            "Requirement already satisfied: regex!=2019.12.17 in /usr/local/lib/python3.10/dist-packages (from transformers->colbert-ai==0.2.17) (2023.6.3)\n",
            "Requirement already satisfied: tokenizers<0.19,>=0.14 in /usr/local/lib/python3.10/dist-packages (from transformers->colbert-ai==0.2.17) (0.15.0)\n",
            "Requirement already satisfied: safetensors>=0.3.1 in /usr/local/lib/python3.10/dist-packages (from transformers->colbert-ai==0.2.17) (0.4.1)\n",
            "Requirement already satisfied: attrs>=17.3.0 in /usr/local/lib/python3.10/dist-packages (from aiohttp->datasets->colbert-ai==0.2.17) (23.2.0)\n",
            "Requirement already satisfied: multidict<7.0,>=4.5 in /usr/local/lib/python3.10/dist-packages (from aiohttp->datasets->colbert-ai==0.2.17) (6.0.4)\n",
            "Requirement already satisfied: yarl<2.0,>=1.0 in /usr/local/lib/python3.10/dist-packages (from aiohttp->datasets->colbert-ai==0.2.17) (1.9.4)\n",
            "Requirement already satisfied: frozenlist>=1.1.1 in /usr/local/lib/python3.10/dist-packages (from aiohttp->datasets->colbert-ai==0.2.17) (1.4.1)\n",
            "Requirement already satisfied: aiosignal>=1.1.2 in /usr/local/lib/python3.10/dist-packages (from aiohttp->datasets->colbert-ai==0.2.17) (1.3.1)\n",
            "Requirement already satisfied: async-timeout<5.0,>=4.0 in /usr/local/lib/python3.10/dist-packages (from aiohttp->datasets->colbert-ai==0.2.17) (4.0.3)\n",
            "Requirement already satisfied: MarkupSafe>=2.0 in /usr/local/lib/python3.10/dist-packages (from Jinja2>=3.0->flask->colbert-ai==0.2.17) (2.1.3)\n",
            "Requirement already satisfied: pathlib-abc==0.1.1 in /usr/local/lib/python3.10/dist-packages (from pathy>=0.10.0->spacy->colbert-ai==0.2.17) (0.1.1)\n",
            "Requirement already satisfied: charset-normalizer<4,>=2 in /usr/local/lib/python3.10/dist-packages (from requests>=2.19.0->datasets->colbert-ai==0.2.17) (3.3.2)\n",
            "Requirement already satisfied: idna<4,>=2.5 in /usr/local/lib/python3.10/dist-packages (from requests>=2.19.0->datasets->colbert-ai==0.2.17) (3.6)\n",
            "Requirement already satisfied: urllib3<3,>=1.21.1 in /usr/local/lib/python3.10/dist-packages (from requests>=2.19.0->datasets->colbert-ai==0.2.17) (2.0.7)\n",
            "Requirement already satisfied: certifi>=2017.4.17 in /usr/local/lib/python3.10/dist-packages (from requests>=2.19.0->datasets->colbert-ai==0.2.17) (2023.11.17)\n",
            "Requirement already satisfied: blis<0.8.0,>=0.7.8 in /usr/local/lib/python3.10/dist-packages (from thinc<8.2.0,>=8.1.8->spacy->colbert-ai==0.2.17) (0.7.11)\n",
            "Requirement already satisfied: confection<1.0.0,>=0.0.1 in /usr/local/lib/python3.10/dist-packages (from thinc<8.2.0,>=8.1.8->spacy->colbert-ai==0.2.17) (0.1.4)\n",
            "Collecting gitdb<5,>=4.0.1 (from gitpython->git-python->colbert-ai==0.2.17)\n",
            "  Downloading gitdb-4.0.11-py3-none-any.whl.metadata (1.2 kB)\n",
            "Requirement already satisfied: python-dateutil>=2.8.1 in /usr/local/lib/python3.10/dist-packages (from pandas->datasets->colbert-ai==0.2.17) (2.8.2)\n",
            "Requirement already satisfied: pytz>=2020.1 in /usr/local/lib/python3.10/dist-packages (from pandas->datasets->colbert-ai==0.2.17) (2023.3.post1)\n",
            "Collecting smmap<6,>=3.0.1 (from gitdb<5,>=4.0.1->gitpython->git-python->colbert-ai==0.2.17)\n",
            "  Downloading smmap-5.0.1-py3-none-any.whl.metadata (4.3 kB)\n",
            "Requirement already satisfied: six>=1.5 in /usr/local/lib/python3.10/dist-packages (from python-dateutil>=2.8.1->pandas->datasets->colbert-ai==0.2.17) (1.16.0)\n",
            "Downloading bitarray-2.9.2-cp310-cp310-manylinux_2_17_x86_64.manylinux2014_x86_64.whl (288 kB)\n",
            "\u001b[2K   \u001b[90m━━━━━━━━━━━━━━━━━━━━━━━━━━━━━━━━━━━━━━━━\u001b[0m \u001b[32m288.3/288.3 kB\u001b[0m \u001b[31m22.5 MB/s\u001b[0m eta \u001b[36m0:00:00\u001b[0m\n",
            "\u001b[?25hDownloading datasets-2.16.1-py3-none-any.whl (507 kB)\n",
            "\u001b[2K   \u001b[90m━━━━━━━━━━━━━━━━━━━━━━━━━━━━━━━━━━━━━━━━\u001b[0m \u001b[32m507.1/507.1 kB\u001b[0m \u001b[31m37.2 MB/s\u001b[0m eta \u001b[36m0:00:00\u001b[0m\n",
            "\u001b[?25hDownloading ninja-1.11.1.1-py2.py3-none-manylinux1_x86_64.manylinux_2_5_x86_64.whl (307 kB)\n",
            "\u001b[2K   \u001b[90m━━━━━━━━━━━━━━━━━━━━━━━━━━━━━━━━━━━━━━━━\u001b[0m \u001b[32m307.2/307.2 kB\u001b[0m \u001b[31m24.4 MB/s\u001b[0m eta \u001b[36m0:00:00\u001b[0m\n",
            "\u001b[?25hDownloading ujson-5.9.0-cp310-cp310-manylinux_2_17_x86_64.manylinux2014_x86_64.whl (53 kB)\n",
            "\u001b[2K   \u001b[90m━━━━━━━━━━━━━━━━━━━━━━━━━━━━━━━━━━━━━━━━\u001b[0m \u001b[32m53.2/53.2 kB\u001b[0m \u001b[31m4.3 MB/s\u001b[0m eta \u001b[36m0:00:00\u001b[0m\n",
            "\u001b[?25hDownloading dill-0.3.7-py3-none-any.whl (115 kB)\n",
            "\u001b[2K   \u001b[90m━━━━━━━━━━━━━━━━━━━━━━━━━━━━━━━━━━━━━━━━\u001b[0m \u001b[32m115.3/115.3 kB\u001b[0m \u001b[31m8.7 MB/s\u001b[0m eta \u001b[36m0:00:00\u001b[0m\n",
            "\u001b[?25hDownloading GitPython-3.1.41-py3-none-any.whl (196 kB)\n",
            "\u001b[2K   \u001b[90m━━━━━━━━━━━━━━━━━━━━━━━━━━━━━━━━━━━━━━━━\u001b[0m \u001b[32m196.4/196.4 kB\u001b[0m \u001b[31m15.5 MB/s\u001b[0m eta \u001b[36m0:00:00\u001b[0m\n",
            "\u001b[?25hDownloading multiprocess-0.70.15-py310-none-any.whl (134 kB)\n",
            "\u001b[2K   \u001b[90m━━━━━━━━━━━━━━━━━━━━━━━━━━━━━━━━━━━━━━━━\u001b[0m \u001b[32m134.8/134.8 kB\u001b[0m \u001b[31m11.3 MB/s\u001b[0m eta \u001b[36m0:00:00\u001b[0m\n",
            "\u001b[?25hDownloading gitdb-4.0.11-py3-none-any.whl (62 kB)\n",
            "\u001b[2K   \u001b[90m━━━━━━━━━━━━━━━━━━━━━━━━━━━━━━━━━━━━━━━━\u001b[0m \u001b[32m62.7/62.7 kB\u001b[0m \u001b[31m5.3 MB/s\u001b[0m eta \u001b[36m0:00:00\u001b[0m\n",
            "\u001b[?25hDownloading smmap-5.0.1-py3-none-any.whl (24 kB)\n",
            "Installing collected packages: ninja, faiss-gpu, bitarray, ujson, smmap, python-dotenv, nvidia-cuda-runtime-cu11, nvidia-cuda-nvrtc-cu11, nvidia-cublas-cu11, dill, nvidia-cudnn-cu11, multiprocess, gitdb, torch, gitpython, git-python, datasets, colbert-ai\n",
            "  Attempting uninstall: torch\n",
            "    Found existing installation: torch 2.1.0+cu121\n",
            "    Uninstalling torch-2.1.0+cu121:\n",
            "      Successfully uninstalled torch-2.1.0+cu121\n",
            "  Running setup.py develop for colbert-ai\n",
            "\u001b[31mERROR: pip's dependency resolver does not currently take into account all the packages that are installed. This behaviour is the source of the following dependency conflicts.\n",
            "torchaudio 2.1.0+cu121 requires torch==2.1.0, but you have torch 1.13.1 which is incompatible.\n",
            "torchdata 0.7.0 requires torch==2.1.0, but you have torch 1.13.1 which is incompatible.\n",
            "torchtext 0.16.0 requires torch==2.1.0, but you have torch 1.13.1 which is incompatible.\n",
            "torchvision 0.16.0+cu121 requires torch==2.1.0, but you have torch 1.13.1 which is incompatible.\u001b[0m\u001b[31m\n",
            "\u001b[0mSuccessfully installed bitarray-2.9.2 colbert-ai-0.2.17 datasets-2.16.1 dill-0.3.7 faiss-gpu-1.7.2 git-python-1.0.3 gitdb-4.0.11 gitpython-3.1.41 multiprocess-0.70.15 ninja-1.11.1.1 nvidia-cublas-cu11-11.10.3.66 nvidia-cuda-nvrtc-cu11-11.7.99 nvidia-cuda-runtime-cu11-11.7.99 nvidia-cudnn-cu11-8.5.0.96 python-dotenv-1.0.0 smmap-5.0.1 torch-1.13.1 ujson-5.9.0\n",
            "\u001b[33mWARNING: Running pip as the 'root' user can result in broken permissions and conflicting behaviour with the system package manager. It is recommended to use a virtual environment instead: https://pip.pypa.io/warnings/venv\u001b[0m\u001b[33m\n",
            "\u001b[0m"
          ]
        }
      ],
      "source": [
        "try: # When on google Colab, let's install all dependencies with pip.\n",
        "    import google.colab\n",
        "    !pip install -U pip\n",
        "    !pip install -e ColBERT/['faiss-gpu','torch']\n",
        "except Exception:\n",
        "  import sys; sys.path.insert(0, 'ColBERT/')\n",
        "  try:\n",
        "    from colbert import Indexer, Searcher\n",
        "  except Exception:\n",
        "    print(\"If you're running outside Colab, please make sure you install ColBERT in conda following the instructions in our README. You can also install (as above) with pip but it may install slower or less stable faiss or torch dependencies. Conda is recommended.\")\n",
        "    assert False"
      ]
    },
    {
      "cell_type": "code",
      "execution_count": 3,
      "metadata": {
        "id": "N0jxbVar4kln"
      },
      "outputs": [],
      "source": [
        "import colbert"
      ]
    },
    {
      "cell_type": "code",
      "execution_count": 4,
      "metadata": {
        "id": "xQg9A-dtp1nB"
      },
      "outputs": [],
      "source": [
        "from colbert import Indexer, Searcher\n",
        "from colbert.infra import Run, RunConfig, ColBERTConfig\n",
        "from colbert.data import Queries, Collection"
      ]
    },
    {
      "cell_type": "markdown",
      "metadata": {
        "id": "TLWjmlkVq9r0"
      },
      "source": [
        "We will use the docs files and the Queries_20 file."
      ]
    },
    {
      "cell_type": "code",
      "execution_count": 5,
      "metadata": {
        "colab": {
          "base_uri": "https://localhost:8080/",
          "height": 160
        },
        "id": "rF7lv8jvq-ut",
        "outputId": "e25c9f83-3ad6-412c-dbff-be8b888f9b77"
      },
      "outputs": [
        {
          "output_type": "stream",
          "name": "stdout",
          "text": [
            "Cloning into 'Information-Retrieval'...\n",
            "remote: Enumerating objects: 84, done.\u001b[K\n",
            "remote: Counting objects: 100% (25/25), done.\u001b[K\n",
            "remote: Compressing objects: 100% (10/10), done.\u001b[K\n",
            "remote: Total 84 (delta 21), reused 15 (delta 15), pack-reused 59\u001b[K\n",
            "Receiving objects: 100% (84/84), 499.06 KiB | 4.89 MiB/s, done.\n",
            "Resolving deltas: 100% (30/30), done.\n"
          ]
        },
        {
          "output_type": "execute_result",
          "data": {
            "text/plain": [
              "'Loaded 20 queries and 1,209 passages'"
            ],
            "application/vnd.google.colaboratory.intrinsic+json": {
              "type": "string"
            }
          },
          "metadata": {},
          "execution_count": 5
        }
      ],
      "source": [
        "#importing tsv files from personal github repository and creating docs and queries dataset\n",
        "!git clone https://github.com/NickVoulg02/Information-Retrieval.git\n",
        "import pandas as pd\n",
        "from datasets import Dataset\n",
        "dataset = 'test'\n",
        "df1 = pd.read_csv(\"Information-Retrieval/colbert_test/doc_col.tsv\", delimiter = '\\t', index_col=0)\n",
        "df2 =  pd.read_csv(\"Information-Retrieval/colbert_test/queries_20.tsv\", delimiter = '\\t', index_col=0)\n",
        "collection = Dataset.from_pandas(df1, preserve_index=True)\n",
        "query = Dataset.from_pandas(df2, preserve_index=True)\n",
        "f'Loaded {len(query)} queries and {len(collection):,} passages'"
      ]
    },
    {
      "cell_type": "code",
      "source": [
        "print(query[0])\n",
        "print(collection[0])"
      ],
      "metadata": {
        "colab": {
          "base_uri": "https://localhost:8080/"
        },
        "id": "nNP0p8oWxN0Y",
        "outputId": "bc154ad0-9ad9-429f-910c-30f759d5c834"
      },
      "execution_count": 6,
      "outputs": [
        {
          "output_type": "stream",
          "name": "stdout",
          "text": [
            "{'query': 'WHAT ARE THE EFFECTS OF CALCIUM ON THE PHYSICAL PROPERTIES OF MUCUS FROM CF PATIENTS', 'query_id': 0}\n",
            "{'doc': 'PSEUDOMONAS AERUGINOSA INFECTION IN CYSTIC FIBROSIS OCCURRENCE OF PRECIPITATING ANTIBODIES AGAINST PSEUDOMONAS AERUGINOSA IN RELATION TO THE CONCENTRATION OF SIXTEEN SERUM PROTEINS AND THE CLINICAL AND RADIOGRAPHICAL STATUS OF THE LUNGS THE SIGNIFICANCE OF PSEUDOMONAS AERUGINOSA INFECTION IN THE RESPIRATORY TRACT OF 9 CYSTIC FIBROSIS PATIENTS HAVE BEEN STUDIED BY MEANS OF IMMUNOELECTROPHORETICAL ANALYSIS OF PATIENTS SERA FOR THE NUMBER OF PRECIPITINS AGAINST PSEUDOMONAS AERUGINOSA AND THE CONCENTRATIONS OF 16 SERUM PROTEINS IN ADDITION THE CLINICAL AND RADIOGRAPHICAL STATUS OF THE LUNGS HAVE BEEN EVALUATED USING 2 SCORING SYSTEMS PRECIPITINS AGAINST PSEUDOMONAS AERUGINOSA WERE DEMONSTRATED IN ALL SERA THE MAXIMUM NUMBER IN ONE SERUM WAS 22 THE CONCENTRATIONS OF 12 OF THE SERUM PROTEINS WERE SIGNIFICANTLY CHANGED COMPARED WITH MATCHED CONTROL PERSONS NOTABLY IGG AND IGA WERE ELEVATED AND THE ACUTE PHASE PROTEINS WERE CHANGED THE LATTER SUGGESTING ACTIVE TISSUE DAMAGE THE CONCENTRATIONS OF 3 OF THE ACUTE PHASE PROTEINS NOTABLY HAPTOGLOBIN WERE CORRELATED TO THE NUMBER OF PRECIPITINS SUGGESTING THAT THE RESPIRATORY TRACT INFECTION IN PATIENTS WITH MANY PRECIPITINS IS ACCOMPANIED BY MORE TISSUE DAMAGE THAN THE INFECTION IN PATIENTS WITH FEW PRECIPITINS THE RESULTS INDICATE NO PROTECTIVE VALUE OF THE MANY PRECIPITINS ON THE TISSUE OF THE RESPIRATORY TRACT', 'doc_id': 1}\n"
          ]
        }
      ]
    },
    {
      "cell_type": "markdown",
      "metadata": {
        "id": "RKJdAAbDu7PZ"
      },
      "source": [
        "## Indexing\n",
        "\n",
        "For an efficient search, we can pre-compute the ColBERT representation of each passage and index them.\n",
        "\n",
        "Below, the `Indexer` take a model checkpoint and writes a (compressed) index to disk. We then prepare a `Searcher` for retrieval from this index."
      ]
    },
    {
      "cell_type": "code",
      "execution_count": 7,
      "metadata": {
        "id": "vKAdVN5MvDKD"
      },
      "outputs": [],
      "source": [
        "nbits = 2   # encode each dimension with 2 bits\n",
        "doc_maxlen = 300 # truncate passages at 300 tokens\n",
        "\n",
        "index_name = f'{dataset}.{nbits}bits'"
      ]
    },
    {
      "cell_type": "markdown",
      "metadata": {
        "id": "orKfQRmQv46u"
      },
      "source": [
        "Now run the `Indexer` on the collection subset. Assuming the use of only one GPU, this cell should take about six minutes to finish running."
      ]
    },
    {
      "cell_type": "code",
      "execution_count": 8,
      "metadata": {
        "colab": {
          "base_uri": "https://localhost:8080/",
          "height": 281,
          "referenced_widgets": [
            "5180fa08d1d543c598d782c4d1154f03",
            "7f2ae11266504dafb460dc37c8ef66f9",
            "c9a43a0c194843a08e404f95144c9695",
            "451f4ec01b3b4a62b8bf3f3e483ac54c",
            "23b5740a96ad42b7b63b280bb4a5da27",
            "e43e8266932948ffb9909bc37d1799e5",
            "ef74e5c666d64adbaf420227a726b0f6",
            "4dabee8a978e4f559c7e5f01938762d9",
            "fb3161db526e4066943eaee7d670f3ba",
            "b4afb47874114567a77d5745b79e9cfb",
            "72ed987e87cb4db0804cb21815f62427"
          ]
        },
        "id": "JRiOnzxtwI0j",
        "outputId": "a54c58a9-e6f7-4ff2-9d4e-de900137557f"
      },
      "outputs": [
        {
          "output_type": "stream",
          "name": "stderr",
          "text": [
            "/usr/local/lib/python3.10/dist-packages/huggingface_hub/utils/_token.py:88: UserWarning: \n",
            "The secret `HF_TOKEN` does not exist in your Colab secrets.\n",
            "To authenticate with the Hugging Face Hub, create a token in your settings tab (https://huggingface.co/settings/tokens), set it as secret in your Google Colab and restart your session.\n",
            "You will be able to reuse this secret in all of your notebooks.\n",
            "Please note that authentication is recommended but still optional to access public models or datasets.\n",
            "  warnings.warn(\n"
          ]
        },
        {
          "output_type": "display_data",
          "data": {
            "text/plain": [
              "artifact.metadata:   0%|          | 0.00/1.63k [00:00<?, ?B/s]"
            ],
            "application/vnd.jupyter.widget-view+json": {
              "version_major": 2,
              "version_minor": 0,
              "model_id": "5180fa08d1d543c598d782c4d1154f03"
            }
          },
          "metadata": {}
        },
        {
          "output_type": "stream",
          "name": "stdout",
          "text": [
            "\n",
            "\n",
            "[Jan 21, 22:47:37] #> Creating directory /content/experiments/notebook/indexes/test.2bits \n",
            "\n",
            "\n",
            "#> Starting...\n",
            "#> Joined...\n"
          ]
        }
      ],
      "source": [
        "checkpoint = 'colbert-ir/colbertv2.0'\n",
        "\n",
        "with Run().context(RunConfig(nranks=1, experiment='notebook')):  # nranks specifies the number of GPUs to use\n",
        "    config = ColBERTConfig(doc_maxlen=doc_maxlen, nbits=nbits, kmeans_niters=4) # kmeans_niters specifies the number of iterations of k-means clustering; 4 is a good and fast default.\n",
        "                                                                                # Consider larger numbers for small datasets.\n",
        "\n",
        "    indexer = Indexer(checkpoint=checkpoint, config=config)\n",
        "    indexer.index(name=index_name, collection=collection[\"doc\"], overwrite=True)\n",
        "\n"
      ]
    },
    {
      "cell_type": "code",
      "execution_count": 9,
      "metadata": {
        "colab": {
          "base_uri": "https://localhost:8080/",
          "height": 35
        },
        "id": "CTbP2LS1xHVZ",
        "outputId": "009278ae-0bfb-4334-f99c-c3cc237b7ed6"
      },
      "outputs": [
        {
          "output_type": "execute_result",
          "data": {
            "text/plain": [
              "'/content/experiments/notebook/indexes/test.2bits'"
            ],
            "application/vnd.google.colaboratory.intrinsic+json": {
              "type": "string"
            }
          },
          "metadata": {},
          "execution_count": 9
        }
      ],
      "source": [
        "indexer.get_index() # You can get the absolute path of the index, if needed."
      ]
    },
    {
      "cell_type": "markdown",
      "metadata": {
        "id": "IY6_D523yBFB"
      },
      "source": [
        "## Search\n",
        "\n",
        "Having built the index and prepared our `searcher`, we can search for individual query strings."
      ]
    },
    {
      "cell_type": "code",
      "execution_count": 10,
      "metadata": {
        "colab": {
          "base_uri": "https://localhost:8080/"
        },
        "id": "j3x_FnVnyB0n",
        "outputId": "86eb4742-aa08-4a2b-e13e-18dd107bf342"
      },
      "outputs": [
        {
          "output_type": "stream",
          "name": "stdout",
          "text": [
            "[Jan 21, 22:52:07] #> Loading codec...\n",
            "[Jan 21, 22:52:07] Loading decompress_residuals_cpp extension (set COLBERT_LOAD_TORCH_EXTENSION_VERBOSE=True for more info)...\n",
            "[Jan 21, 22:52:08] Loading packbits_cpp extension (set COLBERT_LOAD_TORCH_EXTENSION_VERBOSE=True for more info)...\n",
            "[Jan 21, 22:52:08] #> Loading IVF...\n",
            "[Jan 21, 22:52:08] #> Loading doclens...\n"
          ]
        },
        {
          "output_type": "stream",
          "name": "stderr",
          "text": [
            "100%|██████████| 1/1 [00:00<00:00, 3398.95it/s]"
          ]
        },
        {
          "output_type": "stream",
          "name": "stdout",
          "text": [
            "[Jan 21, 22:52:08] #> Loading codes and residuals...\n"
          ]
        },
        {
          "output_type": "stream",
          "name": "stderr",
          "text": [
            "\n",
            "100%|██████████| 1/1 [00:00<00:00, 100.54it/s]\n"
          ]
        }
      ],
      "source": [
        "# To create the searcher using its relative name (i.e., not a full path), set\n",
        "# experiment=value_used_for_indexing in the RunConfig.\n",
        "with Run().context(RunConfig(experiment='notebook')):\n",
        "    searcher = Searcher(index=index_name, collection=collection[\"doc\"])"
      ]
    },
    {
      "cell_type": "code",
      "execution_count": 36,
      "metadata": {
        "colab": {
          "base_uri": "https://localhost:8080/"
        },
        "id": "3JYA0N22yIeS",
        "outputId": "dc0f4f81-7cc7-4b07-e429-c413d05a4765"
      },
      "outputs": [
        {
          "output_type": "stream",
          "name": "stdout",
          "text": [
            "#> CAN ONE DISTINGUISH BETWEEN THE EFFECTS OF MUCUS HYPERSECRETION AND INFECTION ON THE SUBMUCOSAL GLANDS OF THE RESPIRATORY TRACT IN CF\n",
            "Rank\tScore\tId\tPassage\n",
            "[1] \t17.8 \t437 \tPULMONARY ASPECTS OF CYSTIC FIBROSIS PP 324 DEFECTIVE MUCOCILIARY TRANSPORT HAS BEEN IMPLICATED IN THE PATHOGENESIS OF THE LUNG DISEASE IN CYSTIC FIBROSIS BASED ON SEVERAL OBSERVATIONS FIRST PATIENTS WITH THE DISEASE SECRETE MORE MUCUS THAN NORMAL SUBJECTS AS INDICATED BY GLAND HYPERTROPHY AND FREQUENTLY RETAIN IT IN THE LUNG SECOND THE MUCUS IS SAID TO HAVE ALTERED BIOCHEMICAL AND RHEOLOGICAL PROPERTIES HOWEVER ALTHOUGH THE PHYSIOCHEMICAL PROPERTIES OF MUCUS ARE ALTERED IN ALL LUNG DISEASES LITTLE HISTOCHEMICAL OR RHEOLOGICAL DIFFERENCE HAS BEEN FOUND IN MUCUS FROM PATIENTS WITH CF AND OTHER HYPERSECRETORY CONDITIONS SUCH AS CHRONIC BRONCHITIS AND BRONCHIECTASIS THIRD A FACTOR IN THE SERUM OF CF PATIENTS INHIBITS NORMAL CILIARY ACTIVITY IN EXPLAIN GLANDS OF CILIATED EPITHELIUM AND INFECTION WHICH DAMAGES HUMAN CILIATED EPITHELIUM IN CULTURE COULD FURTHER REDUCE MUCOCILIARY TRANSPORT MEASUREMENT OF PULMONARY FUNCTION IN CYSTIC FIBROSIS PHYSICAL FITNESS AND RESPONSE TO EXERCISE IN CYSTIC FIBROSIS CONTROL OF BREATHING IN PATIENTS WITH CYSTIC FIBROSIS REGIONAL LUNG FUNCTION IN CYSTIC FIBROSIS AND THERAPY OF CYSTIC FIBROSIS ARE DISCUSSED\n",
            "[2] \t17.5 \t754 \tEFFECTS OF GRAVITY ON TRACHEAL MUCUS TRANSPORT RATES IN NORMAL SUBJECTS AND IN PATIENTS WITH CYSTIC FIBROSIS A NONINVASIVE RADIONUCLIDE IMAGING TECHNIQUE FOR MEASURING THE RATE OF MUCUS CLEARANCE IN THE TRACHEA RT WAS USED TO STUDY GRAVITATIONAL EFFECTS ON MUCUS CLEARANCE IN 13 PATIENTS WITH CYSTIC FIBROSIS CF AVERAGE AGE 17 YEARS 7 NORMAL NONSMOKING ADULTS AVERAGE AGE 26 YEARS AND A NORMAL SUBJECT WHO WAS RECOVERING FROM AN ACUTE UPPER RESPIRATORY TRACT INFECTION URTI IN THE UPRIGHT POSITION NINE OF THE CF PATIENTS AND THE SUBJECT WITH URTI DEMONSTRATED ABNORMAL TRACHEAL MUCUS CLEARANCE WHICH APPROACHED NORMAL WHEN THEY WERE PLACED IN 25 DEGREES HEADDOWN POSITION THE NORMAL SUBJECTS AND TWO OF THE CF PATIENTS SHOWED NO SIGNIFICANT DIFFERENCE IN THE RT MEASURED IN THE TWO POSITIONS THE RESULTS OF THE STUDY INDICATE THAT THE FORCE OF GRAVITY CAN BE A MAJOR INFLUENCE ON TRACHEAL MUCUS CLEARANCE IN CF AND URTI SUBJECTS THIS CONCLUSION SUPPORTS THE USE OF POSTURAL DRAINAGE AS AN EFFECTIVE FORM OF THERAPY IN PATIENTS WITH CYSTIC FIBROSIS\n",
            "[3] \t17.0 \t589 \tPSEUDOMONAS AERUGINOSA INFECTION IN CYSTIC FIBROSIS BACTERICIDAL EFFECT OF SERUM FROM NORMAL INDIVIDUALS AND PATIENTS WITH CYSTIC FIBROSIS ON P AERUGINOSA STRAINS FROM PATIENTS WITH CYSTIC FIBROSIS OR OTHER DISEASES P AERUGINOSA STRAINS ORIGINATING FROM THE RESPIRATORY TRACT OF PATIENTS WITH CYSTIC FIBROSIS CF AND PATIENTS WITH OTHER DISEASES NONCF WERE ANALYSED WITH REGARD TO THEIR SENSITIVITY TO THE BACTERICIDAL ACTIVITY OF HUMAN SERUM P AERUGINOSA STRAINS ISOLATED FROM CF PATIENTS WERE MORE SENSITIVE THAN STRAINS FROM NONCF PATIENTS TO THE BACTERICIDAL ACTIVITY OF NORMAL HUMAN SERUM THE BACTERICIDAL ACTIVITY WAS HEATLABILE AS REGARDS THE SENSITIVITY TO NORMAL HUMAN SERUM MUCOID AND NONMUCOID VARIANTS WERE NOT FOUND TO DIFFER STRAINS ORIGINATING FROM CHRONICALLY INFECTED CF PATIENTS WITH MANY PRECIPITINS AGAINST THESE BACTERIA DID NOT DIFFER WITH RESPECT TO SERUM SENSITIVITY FROM STRAINS ORIGINATING FROM INTERMITTENTLY COLONIZED CF PATIENTS WITHOUT P AERUGINOSA PRECIPITINS COMPARED WITH NORMAL SERA CF SERA SHOWED SIMILAR OR HIGHER BACTERICIDAL ACTIVITY AGAINST A PANEL OF P AERUGINOSA STRAINS IN THIS RESPECT ANY DIFFERENCE BETWEEN CF SERA WITH PRECIPITINS AND CF SERA WITHOUT PRECIPITINS AGAINST P AEURGINOSA WAS NOT FOUND SERA FROM THREE CF PATIENTS CHRONICALLY INFECTED WITH P AERUGINOSA AND WITH MANY PRECIPITINS AGAINST THESE BACTERIA SHOWED A SELECTIVE INABILITY IN BACTERICIDAL ACTIVITY AGAINST THE PATIENTS OWN P AERUGINOSA ISOLATE POSSIBLY REFLECTING THE PRESENCE OF BACTERICIDAL BLOCKING ANTIBODIES\n",
            "[4] \t17.0 \t592 \tTREATMENT OF MUCUS HYPERSECRETION IN HUMAN DISEASE TREATMENT OF MUCUS HYPERSECRETION IN HUMAN DISEASE SHOULD FIRST BE DIRECTED AT PREVENTION THE HYPERSECRETION OF MUCUS EVEN IN THE ABSENCE OF PUS IN THE SPUTUM OR OF OTHER SIGNS OF INFECTION IS OF ITSELF ASSOCIATED WITH SIGNIFICANTLY POOR LUNG FUNCTION INFECTION IS PROBABLY THE IMPORTANT STIMULUS IN CYSTIC FIBROSIS CERTAIN ANTIINFLAMMATORY AGENTS ARE NOW KNOWN TO CAUSE RETENTION OF MUCUS WITHIN THE SECRETORY CELLS ALTHOUGH THE RATE OF SYNTHESIS IS NOT RAISED IT MAY BE THAT THIS OFFERS A NEW WAY OF CONTROL ON THE OTHER HAND THE CELLS BECOME LARGER AND THIS MAY BE UNDESIRABLE I WOULD PREFER TO SEE A STUDY OF THE EFFECT OF DRUGS ON THE CELLULAR STAGES OF SYNTHESIS AND DISCHARGE RATHER THAN CONCENTRATION ON MUCOLYTIC AGENTS\n",
            "[5] \t16.7 \t151 \tTHE ELECTRON MICROSCOPIC APPEARANCE OF PRESECRETED GASTRIC MUCUS IN CYSTIC FIBROSIS GASTRIC MUCOSAL BIOPSIES FROM EIGHT NEW UNTREATED PATIENTS WITH CYSTIC FIBROSIS CF AND TWO NORMAL SUBJECTS WERE STUDIED BY QUANTITATIVE TECHNIQUES OF ELECTRON MICROSCOPY EM TO DETERMINE WHETHER PRESECRETED GASTRIC MUCUS WAS MORE COMPACT VISCID THAN NORMAL ANALYSIS OF VARIANCE TECHNIQUES SHOW NO DIFFERENCES BETWEEN MEANS OF ALL GROUPS STUDIED THESE OBSERVATIONS SUGGEST THAT MUCUS MAY NOT BE VISCID PRIOR TO SECRETION ELECTRON MICROSCOPY OF GASTRIC MUCUS DOES NOT APPEAR TO BE OF DIAGNOSTIC VALUE IN CF\n",
            "[6] \t16.7 \t499 \tPATHOPHYSIOLOGY OF MUCUS SECRETION IN CYSTIC FIBROSIS ABNORMALITY OF MUCUS SECRETION EITHER BIOCHEMICAL OR PHYSICAL HAS LONG BEEN CLAIMED TO BE THE PRIMARY CAUSE OF PULMONARY COMPLICATIONS  OBSTRUCTION AND INFECTION  IN PATIENTS SUFFERING FROM CYSTIC FIBROSIS CF THIS REVIEW WILL DRAW IN LARGE MEASURE ON THE EXPERIENCE OF PROF L REID AND HER RESEARCH TEAM WHO OVER THE LAST 15 YEARS HAVE STUDIED MUCUSSECRETING STRUCTURES AND THEIR SECRETIONS IN THE NORMAL AND DISEASED LUNG FROM VARIOUS ANGLES DEVELOPMENT STRUCTURE AND ULTRASTRUCTURE HISTOCHEMISTRY ORGAN CULTURE BIOCHEMICAL ANALYSIS AND RHEOLOGICAL CHARACTERIZATION\n",
            "[7] \t16.6 \t1173 \tPRECIPITATING ANTIBODIES AGAINST E COLI B FRAGILIS AND P AERUGINOSA IN CF PATIENTS AND NORMAL PERSONS DETERMINED BY MEANS OF CROSSED IMMUNOELECTROPHORESIS WALLWORK AND COWORKERS HAVE PROPOSED THAT INCREASED ABSORPTION OF ANTIGENS TAKES PLACE ACROSS THE MUCOSAL MEMBRANES OF THE GUT AND RESPIRATORY TRACT POSSIBLY DUE TO A TRANSIENT DEFECT IN THE PRODUCTION OF SECRETORY IGA AS A CONSEQUENCE OF THIS HYPOTHESIS ONE WOULD EXPECT CYSTIC FIBROSIS PATIENTS TO PRODUCE A PRONOUNCED ANTIBODY RESPONSE AGAINST THE INTESTINAL BACTERIAL FLORA THE PRESENT WORK WAS THEREFORE CARRIED OUT TO INVESTIGATE THE ANTIBODY RESPONSE IN CF PATIENTS AND IN NORMAL PERSONS AGAINST ESCHERICHIA COLI AND BACTEROIDES FRAGILIS WHICH ARE PRESENT IN THE GUT IN LARGE NUMBERS AND AGAINST THE RESPIRATORY PATHOGEN P AERUGINOSA A SIGNIFICANTLY HIGHER PREVALENCE OF PRECIPITINS AGAINST EACH OF THE 3 BACTERIAL SPECIES WAS FOUND IN CF PATIENTS COMPARED TO NORMAL PERSONS AND THE PREVALENCE OF PRECIPITINS AGAINST EACH OF THESE BACTERIA INCREASED SIGNIFICANTLY WITH AGE AS REGARDS P AERUGINOSA PRECIPITINS THE PREVALENCE AND NUMBER WAS SIGNIFICANTLY HIGHER IN CF PATIENTS WHO HAVE SUBSEQUENTLY SUCCUMBED COMPARED TO CF PATIENTS WHO ARE STILL ALIVE SUCH A CORRELATION BETWEEN THE ANTIBODY RESPONSE AND THE PROGNOSIS OF THE PATIENTS WAS NOT FOUND AS REGARDS E COLI OR B FRAGILIS CONSIDERING THE HYPOTHESIS OF WALLWORK AND COWORKERS CONCERNING INCREASED ABSORPTION OF ANTIGENS FROM THE GUT IT SEEMS MORE ATTRACTIVE TO SUPPOSE THAT INCREASED ABSORPTION OF ANTIGENS FROM THE GUT FLORA OCCURS PREDOMINANTLY IN CF PATIENTS WITH P AERUGINOSA LUNG INFECTION WITH A PRONOUNCED ANTIBODY RESPONSE AGAINST P AERUGINOSA\n",
            "[8] \t16.4 \t172 \tELECTRICAL POLARIZATION OF RECTAL MUCOSA AND EXCRETION OF TETRAHYDROALDOSTERONE IN PATIENTS WITH CYSTIC FIBROSIS OF PANCREAS AND IN NORMAL SUBJECTS THE ELECTRICAL POTENTIAL DIFFERENCE PD ACROSS THE RECTAL WALL WAS MEASURED IN 26 PATIENTS WITH CYSTIC FIBROSIS OF PANCREAS CFP AND IN 18 HEALTHY SUBJECTS THE PDS OBTAINED IN NORMAL CHILDREN WERE IDENTICAL TO THOSE PREVIOUSLY OBTAINED IN NORMAL ADULTS A SIGNIFICANTLY GREATER DISPERSION OF THE VALUES WAS OBSERVED IN CFP WHEN THE PATIENTS WERE DIVIDED INTO GROUPS ACCORDING TO METACHROMASIA IN FIBROBLAST CULTURES THE MEAN PD WAS INCREASED ONLY IN THE AMETACHROMATIC GROUP TRUE ENOUGH THIS OBSERVATION SUGGESTS A DIFFERENCE BETWEEN VARIOUS FORMS OF CFP DISTINGUISHED BY METACHROMASIA AND THUS IS A FURTHER INDICATION OF THE HETEROGENEITY OF THE DISEASE THE GREATER ABNORMALITIES IN METACHROMASIA NEGATIVE PATIENTS MAY HOWEVER BE DUE SOLELY TO THE FACT THAT THESE PATIENTS ARE MORE SEVERELY AFFECTED BY THE DISEASE THE URINARY EXCRETION OF TETRAHYDROALDOSTERONE IN PATIENTS WAS WITHIN THE RANGES OBTAINED IN CONTROLS WHICH EXCLUDES THE POSSIBILITY OF SECONDARY HYPERALDOSTERONISM AS THE SOURCE OF INCREASED PD NO EVIDENCE WAS PROVIDED IN FAVOUR OF A BASIC DEFECT IN THE INTESTINAL TRANSPORT OF NA OR CL MINUS BUT K CONCENTRATIONS IN FAECAL FLUIDS OF PATIENTS WERE SIGNIFICANTLY LOWER THAN IN CONTROLS THE EQUILIBRIUM CONCENTRATION OF K COULD BE ACCOUNTED FOR BY SIMPLE PASSIVE DIFFUSION SUGGESTING THAT THE EPITHELIUM BEHAVED INERTLY WITH RESPECT TO THIS ION IN CFP\n",
            "[9] \t16.2 \t1125 \tDIFFERENTIAL PATHOLOGY OF NASAL POLYPS IN CYSTIC FIBROSIS AND ATOPY NINETEEN NASAL POLYPS FROM 13 PATIENTS WERE EXAMINED HISTOLOGICALLY NINE POLYPS FROM SEVEN CYSTIC FIBROSIS CF PATIENTS COULD BE POSITIVELY IDENTIFIED BY A TRIAD OF OBSERVATIONS DELICATE BARELY VISIBLE BASEMENT MEMBRANE OF SURFACE EPITHELIUM WITHOUT SUBMUCOSAL HYALINIZATION LACK OF EXTENSIVE INFILTRATION OF EOSINOPHILS GIEMSA STAINS AND A PREPONDERANCE OF ACID MUCIN IN GLANDS AND CYSTS OF THE POLYP AND IN ITS SURFACE MUCOUS BLANKET ALCIAN BLUEPERIODIC ACID SCHIFF STAINS TWO POLYPS FROM TWO PATIENTS WITH CF AND ATOPY SHOWED THE CHARACTERISTIC FINDINGS OF CF WITHOUT MODIFICATION EIGHT POLYPS FROM FOUR ATOPIC PATIENTS WITHOUT CF WERE IDENTIFIED BY THE REVERSE TRIAD OF CHANGES EXTENSIVE THICKENING OF THE EPITHELIAL BASEMENT MEMBRANE AND ITS EXTENSION INTO THE SUBMUCOSA AS AN IRREGULAR HYALINE MEMBRANE HIGH STROMAL EOSINOPHIL COUNT AND MAINLY NEUTRAL MUCIN IN MUCOUS GLANDS CYSTS AND MUCOUS BLANKET HYPERPLASTIC MUCOUS GLANDS MUCOUS CYSTS OF VARIABLE SIZES FOCAL METAPLASIA OF SURFACE EPITHELIUM AND ACID MUCIN IN GOBLET CELLS WERE CONSIDERED NONSPECIFIC LESIONS\n",
            "[10] \t16.2 \t505 \tRESEARCH IN CYSTIC FIBROSIS THIRD OF THREE PARTS RECENT AUTONOMIC NERVOUS SYSTEM STUDIES IN CYSTIC FIBROSIS ARE OUTLINED MISCELLANEOUS OBSERVATIONS REGARDING SALIVARY AND TEAR GLANDS CALCIUM THE KALLIKREINKININ SYSTEM PROTEASE INHIBITOR ALPHAFETOPROTEIN AND ENDOCRINE GLANDS ARE DISCUSSED BECAUSE MORE THAN 90 PER CENT OF PATIENTS WITH CYSTIC FIBROSIS DIE OF PROGRESSIVE PULMONARY INVOLVEMENT COMPLICATED BY INFECTION WITH STAPHYLOCOCCUS AUREUS OR PSEUDOMONAS AERUGINOSA OR BOTH THE QUESTION OF IMMUNOLOGIC DEFICIT IS FREQUENTLY RAISED EXTENSIVE INVESTIGATIONS HAVE SHOWN THE IMMUNE SYSTEM IN CYSTIC FIBROSIS TO BE INTACT STUDIES REGARDING PULMONARY CILIARY CLEARANCE AND BACTERIOLOGY ARE ALSO OUTLINED DESPITE EXTENSIVE INVESTIGATIONS THE BASIC DEFECT OF CYSTIC FIBROSIS IS STILL UNKNOWN WHAT THEN IS THE EXPLANATION OF THE TWO DEFECTS IN HOMOZYGOTES THAT LEAD TO MOST CLINICAL MANIFESTATIONS  THE SWEAT ELECTROLYTE DEFECT AND THE ABNORMALITY IN PHYSIOCHEMICAL BEHAVIOR OF MUCOUS SECRETIONS THE FORMER IS SATISFACTORILY EXPLAINED BY A SODIUMREABSORPTIONINHIBITORY FACTOR PRESENT IN SWEAT AND SALIVA OF PATIENTS AS FOR THE MUCOUSSECRETION ABNORMALITY THE EFFECT OF THE INCREASING CALCIUM CONCENTRATION IN DECREASING THE SOLUBILITY OF GLYCOPROTEINS SUGGESTS THAT THIS MECHANISM MIGHT BE RESPONSIBLE FOR THE PRECIPITATION AND OBSTRUCTION OF ORGAN PASSAGES WHICH GIVES RISE TO MOST SYMPTOMS IN CYSTIC FIBROSIS ALTHOUGH THERE IS AN EXCELLENT DIAGNOSTIC TEST FOR HOMOZYGOTES SWEAT TEST ONE CANNOT RELY ON ANY OF THE PRESENT BIOLOGIC ASSAYS FOR DETERMINATION OF HETEROZYGOSITY OR ANTENATAL DIAGNOSIS\n",
            "[11] \t16.1 \t441 \tWATER AND ELECTROLYTES OF EXOCRINE SECRETIONS PP 17991 IT HAS BEEN RECOGNIZED THAT THE LEVELS OF WATER AND ELECTROLYTES ARE DERANGED IN MANY IF NOT ALL OF THE EXOCRINE SECRETIONS OF CYSTIC FIBROSIS PATIENTS THE SODIUM AND CHLORIDE LEVELS IN SEROUS SECRETIONS FROM CF PATIENTS ARE ELEVATED IN CONTRAST THE MORE PROTEINRICH OR MUCOID ISOTONIC SECRETIONS VIZ FROM THE PANCREAS AND TRACHEOBRONCHIAL MUCUS GLANDS ARE FOUND TO HAVE SODIUM CONCENTRATIONS NEAR NORMAL OR EVEN SOMEWHAT DECREASED HOWEVER THESE SECRETIONS HAVE SIGNIFICANTLY REDUCED WATER CONTENT THE ABNORMALITIES IN HYPOTONIC SECRETIONS APPEAR TO RISE FROM A DECREASED NA REABSORPTION IN THE DUCTS THE LOW WATER CONTENT OF THE ISOTONIC SECRETIONS OF CF PATIENTS APPEARS TO RESULT FROM DECREASED SECRETION OF WATER AND ELECTROLYTES EARLY STUDIES ON TRACHEOBRONCHIAL SECRETIONS FROM CF PATIENTS LED INVESTIGATORS TO SUGGEST THAT THE PRIMARY DEFECT MAY BE A DECREASE IN THE LEVELS OF WATER AND MONOVALENT IONS IN AN ATTEMPT TO PROVIDE A UNIFYING HYPOTHESIS IT HAS BEEN SUGGESTED THAT AN INCREASED CALCIUM CONCENTRATION IN THE VARIOUS EXOCRINE SECRETIONS LEADS TO A HYPERPERMEABILITY OF THE MUCUS LININGS AND THUS TO AN EXCESSIVE LOSS OF WATER AND SMALL IONS THE CONCENTRATION OF CALCIUM IN EXOCRINE SECRETIONS APPEARS TO FOLLOW THE CONCENTRATION OF PROTEINS AND ESPECIALLY THE MUCOUS GLYCOPROTEINS IT WAS SUGGESTED THAT CALCIUM MAY BE AN IMPORTANT FACTOR IN THE INCREASED VISCOSITY AND INSOLUBILITY OF CF MUCUS ORGANIC IONS ARE ALSO POTENTIAL PERTURBANTS OF MACROMOLECULAR STRUCTURE IN ADDITION TO A POSSIBLE PERTURBANT ROLE POLYAMINES HAVE A POTENTIAL ROLE IN WATER AND ELECTROLYTE TRANSPORT\n",
            "[12] \t16.1 \t805 \tCHEMICAL MARKERS OF MUCOUS AND SERUM GLYCOPROTEINS AND THEIR RELATION TO VISCOSITY IN MUCOID AND PURULENT SPUTUM FROM VARIOUS HYPERSECRETORY DISEASES MUCUS AND SERUM ARE ALWAYS PRESENT IN SPUTUM THE CONCENTRATIONS OF THEIR MARKERS WERE MEASURED IN MUCOID AND PURULENT SPUTUM FROM PATIENTS WITH CHRONIC BRONCHITIS ASTHMA CYSTIC FIBROSIS OR BRONCHIECTASIS DIFFERENCES IN THE CONCENTRATIONS OF BOTH MUCOUS AND SERUM GLYCOPROTEINS WERE GREATER AMONG DIFFERENT MACROSCOPIC TYPES OF SPUTUM THAN AMONG DISEASES FOR THE SAME MACROSCOPIC TYPE COMPARISON BETWEEN DISEASES SHOWED THAT SPUTUM FROM PATIENTS WITH ASTHMA HAD THE WIDEST VARIATION IN CONCENTRATIONS OF MARKERS OF MUCOUS GLYCOPROTEIN AND DRY MACROMOLECULAR WEIGHT WHEN THE ASTHAM GROUP WAS FURTHER ANALYZED IT BECAME APPARENT THAT PATIENTS WITH EXTRINSIC ASTHMA WITHOUT CHRONIC BRONCHITIS REPRESENTED A HOMOGENEOUS GROUP WHEREAS THOSE WITH INTRINSIC ASTHMA WITH OR WITHOUT CHRONIC BRONCHITIS WERE RESPONSIBLE FOR THE WIDE VARIATION THE CONCENTRATIONS OF MARKERS OF MUCOUS AND SERUM GLYCOPROTEINS IN A SPUTUM SAMPLE WERE CORRELATED WITH THE APPARENT VISCOSITY OF THE SPUTUM TO ESTABLISH THE RELATIVE CONTRIBUTION OF THE GLYCOPROTEINS TO THE VISCOSITY OF SPUTUM IN MUCOID SPUTUM THE MUCOUS GLYCOPROTEIN WAS MOST IMPORTANT IN DETERMINING THE VISCOSITY WHEREAS WHEN IN INFECTED SPUTUM BOTH MUCOUS AND SERUM COMPONENTS CONTRIBUTED TO THE VISCOSITY\n",
            "[13] \t16.0 \t969 \tCYSTIC FIBROSIS COMPARED WITH THE IMMOTILECILIA SYNDROME A STUDY OF MUCOCILIARY CLEARANCE CILIARY ULTRASTRUCTURE CLINICAL PICTURE AND VENTILATORY FUNCTION PATIENTS WITH CYSTIC FIBROSIS CF WERE INVESTIGATED FOR MUCOCILIARY CLEARANCE WITH AND WITHOUT STIMULATION BY TERBUTALINE CLINICAL PICTURE VENTILATORY FUNCTION AND ULTRASTRUCTURE OF CILIA THE RESULTS WERE COMPARED WITH THOSE OF PATIENTS WITH CONGENITALLY IMMOTILE CILIA IMMOTILECILIA SYNDROME MUCOCILIARY CLEARANCE COULD BE DEMONSTRATED IN ALL THE SEVEN CF PATIENTS WHO SUCCEEDED IN INHALING THE TEST AEROSOL CILIARY ULTRASTRUCTURE FROM A DECEASED CF PATIENT WAS NORMAL PATIENTS WITH THE IMMOTILE CILIA SYNDROME HAD NO SUBSTANTIAL CLEARANCE AND DEFECTIVE CILIA THE CF PATIENTS COUGHED MORE DURING THE CLEARANCE MEASUREMENTS THAN ANY OTHER GROUP STUDIED EARLIER AND THEIR COUGHING WAS EFFECTIVE ONE PATIENT SUCCEEDED IN AVOIDING COUGHING IN BOTH MEASUREMENTS AND HAD FASTER CLEARANCE WHEN HE GOT TERBUTALINE THAN WHEN HE GOT THE VEHICLE ALTHOUGH YOUNGER THE CF PATIENTS TENDED TO BE MORE OBSTRUCTED IN THEIR LUNGS AND MORE HANDICAPPED THAN THE PATIENTS SUFFERING FROM THE IMMOTILECILIA SYNDROME THE LATTER PATIENTS HAD MORE DISCOMFORT FROM RHINITIS SINUSITIS AND OTITIS THAN HAD THE CF PATIENTS AN IMPAIRMENT OF THE MUCOCILIARY TRANSPORT RATE IS HENCE UNLIKELY TO BE A PRIMARY PATHOGENIC FACTOR FOR THE RESPIRATORY TRACT DISEASE IN CF PATIENTS\n",
            "[14] \t15.9 \t498 \tBRONCHIAL MUCUS SECRETION IN CYSTIC FIBROSIS MUCUS IS THE PRIMARY AETIOLOGICAL FACTOR IN THE DEVELOPMENT OF PULMONARY DISEASE IN CYSTIC FIBROSIS BIOCHEMICAL STUDIES ON BRONCHIAL SECRETIONS HAVE NOT YET CONFIRMED ANY QUALITATIVE DIFFERENCE IN COMPOSITION OR IN THE NATURE OF THE GLYCOPROTEINS THE MAJOR COMPONENT OF SECRETION WITH THE LACK OF ANY CLEAR EVIDENCE OF A BASIC ABNORMALITY IN THE NATURE OF MUCUS ATTENTION HAS BEEN DIRECTED TO THE POSSIBLE DEFECT IN THE CONTROL OF MUCUS SECRETION THIS ENCOMPASSES ALTERATION IN THE NORMAL REGULATION OF THE AUTONOMIC NERVOUS SYSTEM OR TO ITS STIMULATION EITHER AT THE CELLULAR OR INTRACELLULAR CONTROL LEVEL IN RECENT YEARS ATTENTION HAS FOCUSED ON THE PRESENCE OF CILIOTOXIC FACTORS IN SERUM OF CHILDREN WITH CYSTIC FIBROSIS AND THEIR POSSIBLE ROLE IN THE PATHOPHYSIOLOGY OF CYSTIC FIBROSIS CONTROL OF MUCUS SECRETION SUBMUCOSAL GLANDS GOBLET CELLS EXPERIMENTAL MODELS OF LUNG DISEASE IN CYSTIC FIBROSIS THE ROLE OF SERUM FACTORS IN MUCUS SECRETION AND THE MUCUS BLANKET IN CHRONIC LUNG DISEASE ARE DISCUSSED\n",
            "[15] \t15.9 \t7 \tPSEUDOMONAS AERUGINOSA INFECTION IN CYSTIC FIBROSIS RELATIONSHIP BETWEEN MUCOID STRAINS OF PSEUDOMONAS AERUGINOSA AND THE HUMORAL IMMUNE RESPONSE THE OCCURRENCE OF PSEUDOMONAS AERUGINOSA IN THE RESPIRATORY TRACT OF 70 CYSTIC FIBROSIS PATIENTS AND THE OCCURRENCE OF PRECIPITINS AGAINST PS AERUGINOSA IN SERA FROM THE SAME PATIENTS HAVE BEEN INVESTIGATED DURING ONE YEAR BY MEANS OF MONTHLY BACTERIOLOGICAL EXAMINATIONS OF TRACHEAL SECRETIONS AND BY MEANS OF CROSSED IMMUNOELECTROPHORESIS OF A POLYVALENT PS AERUGINOSA ANTIGEN AGAINST SERA FROM THE PATIENTS THE ONEYEAR PERIOD PREVALENCE RATE OF PATIENTS HARBOURING PS AERUGINOSA WAS 64 PER CENT IN NEWLY COLONIZED PATIENTS AND IN INTERMITTENTLY COLONIZED PATIENTS NONMUCOID STRAINS WERE PREDOMINATING WHEREAS MUCOID STRAINS WERE PREDOMINATING IN CHRONICALLY COLONIZED PATIENTS THE OCCURRENCE OF MUCOID STRAINS ESPECIALLY IN CHRONICALLY COLONIZED PATIENTS WAS ASSOCIATED WITH A SIGNIFICANTLY HIGHER NUMBER OF PRECIPITINS AGAINST PS AERUGINOSA THAN THE OCCURRENCE OF NONMUCOID STRAINS MALES CHRONICALLY COLONIZED WITH MUCOID STRAINS PRESENTED A SIGNIFICANTLY HIGHER NUMBER OF PRECIPITINS THAN FEMALES CHRONICALLY COLONIZED WITH MUCOID STRAINS AND THE NUMBER OF PRECIPITINS WAS CORRELATED WITH THE DURATION OF THE CHRONIC COLONIZATION WITH PS AERUGINOSA IN MALES IN CONTRAST TO FEMALES THE RESULTS ARE IN ACCORDANCE WITH THE HYPOTHESIS THAT MUCOID SUBSTANCE COULD BE A VIRULENCE FACTOR BECAUSE IT MIGHT INHIBIT THE OPSONIZING EFFECT OF THE PRECIPITINS ON THE MUCOID CELLS AND THE COMPLEMENT DEPENDENT LYSIS OF THE CELLS HEREBY FAVOURING MUCOID STRAINS AT THE EXPENSE ON NONMUCOID STRAINS IN THE RESPIRATORY TRACT OF CYSTIC FIBROSIS PATIENTS\n",
            "[16] \t15.9 \t265 \tMUCOID STRAINS OF PSEUDOMONAS AERUGINOSA THE INFLUENCE OF CULTURE MEDIUM ON THE STABILITY OF MUCUS PRODUCTION MUCOID STRAINS OF PSEUDOMONAS AERUGINOSA ISOLATED FROM THE RESPIRATORY TRACT OF PATIENTS WITH CYSTIC FIBROSIS CF THOSE OBTAINED FROM NONCF PATIENTS AND THOSE OBTAINED IN VITRO BY THE ACTION OF PHAGE WERE FOUND TO BE STABLE IN THEIR MUCOID COLONIAL FORM WHEN SERIALLY SUBCULTURED ON DEOXYCHOLATECITRATE AGAR THE ABILITY OF ANIONIC CATIONIC AND NEUTRAL SURFACTANTS TO STABILISE MUCUS PRODUCTION IS DESCRIBED THE POSSIBLE IMPORTANCE OF DIPALMITOYL LECITHIN AS A STABILISING AGENT FOR MUCUS PRODUCTION IN VIVO IS CONSIDERED WITH PARTICULAR REFERENCE TO THE ROLE OF MUCOID P AERUGINOSA IN CF DISEASE\n",
            "[17] \t15.9 \t451 \tANTIBIOTIC THERAPY AND CYSTIC FIBROSIS INCREASED RESISTANCE OF MUCOID PSEUDOMONAS AERUGINOSA TO CARBENICILLIN THE PRESENT COMMUNICATION REPORTS THE EFFECT OF THE BACTERIAL MUCUS ON THE ACTIVITY OF ANTIBODIES ON STRAINS OF P AERUGINOSA MUCOID VARIANTS OF P AERUGINOSA OBTAINED FROM THE NONMUCOID STRAINS PAO 381 AND PAT 404 BY SELECTION FOR PHENOTYPIC RESISTANCE TO THE VIRULENT PHAGE E 79 WERE MORE RESISTANT TO CARBENICILLIN THAN THE NONMUCOID PARENT STRAINS MUCOID P AERUGINOSA STRAINS ISOLATED FROM TWO CF PATIENTS WERE MORE RESISTANT TO CARBENICILLIN THAN NONMUCOID STRAINS ISOLATED FROM THE SAME SAMPLES OF SPUTUM WHEN THE EXPERIMENTS ALREADY DESCRIBED WERE REPEATED WITH OXYTETRACYCLINE IN CONTRAST TO OUR EXPERIENCE WITH CARBENICILLIN MUCOID STRAINS WERE FOUND TO BE MORE SENSITIVE THAN NONMUCOID STRAINS TO PROVE THE HYPOTHESIS THAT MUCOID STRAINS CAN BE SELECTED IN VIVO BY CARBENICILLIN THERAPY IT WILL BE NECESSARY TO SHOW THAT THE LEVEL OF CARBENICILLIN IN CF SECRETIONS IS LESS THAN THE MINIMUM INHIBITORY CONCENTRATIONS OF MUCOID STRAINS BUT GREATER THAN THAT OF NONMUCOID STRAINS WE ARE NOW INVESTIGATING ADDITIONAL CF ISOLATES IN CONJUNCTION WITH THE RANGE OF ANTIBIOTICS USED IN CHEMOTHERAPY OF CF PATIENTS\n",
            "[18] \t15.9 \t912 \tPSEUDOMONAS COLONIZATION IN CYSTIC FIBROSIS A STUDY OF 160 PATIENTS WE INVESTIGATED THE ROLE OF PSEUDOMONAS AERUGINOSA COLONIZATION IN THE RESPIRATORY TRACTS OF CYSTIC FIBROSIS CF PATIENTS TO RELATE THE EFFECT OF THIS COLONIZATION TO PROGRESSION OF BRONCHIAL AIRWAY PATHOLOGIC CONDITIONS AND TO THE PATIENTS CLINICAL PROGRESS AND TO IDENTIFY PREDISPOSING FACTORS TO PERSISTENCE OF P AERUGINOSA COLONIZATION AND BRONCHIAL TREE DAMAGE HALF OF 160 CF PATIENTS STUDIED HAD PERSISTENT P AERUGINOSA RESPIRATORY TRACT COLONIZATION THE OTHER HALF HAD NONE PSEUDOMONAS AERUGINOSA SEEMS TO HAVE AN EXCLUSIVE PROPENSITY FOR THE RESPIRATORY TRACT AND MAY APPEAR AT ANY AGE TREATMENT WITH ANTIBIOTICS INCLUDING AMINOGLYCOSIDES FAILED TO ERADICATE P AERUGINOSA THE CONTINUOUS USE OF ANTIBIOTICS SEEMED TO CONTRIBUTE TO THE PERSISTENCE OF P AERUGINOSA AND THE APPEARANCE OF MUCOID STRAINS OF P AERUGINOSA\n",
            "[19] \t15.8 \t980 \tMUCOPOLYSACCHARIDES IN BRONCHIAL SECRETION OF CHILDREN THE DISEASES OF RESPIRATORY SYSTEM ARE NOWADAYS ONE OF THE IMPORTANT MEDICAL ECONOMICAL AND SOCIAL PROBLEMS OF MODERN CIVILIZATION A COMMON SYMPTOM OF THESE DISEASES REGARDLESS OF THEIR ETIOLOGY CHARACTER KLINICAL MANIFESTATION AND MORPHOLOGICAL FINDINGS IS HYPERSECRETION OF BRONCHIAL SPUTUM TRACHEOBRONCHIAL MUCUS IS PRODUCED BY MUCOUS BRONCHIAL GLANDS AND GOBLET CELLS THIS MUCUS REPRESENTS AT PHYSIOLOGICAL CONDITION ABOUT 5 MICROMETER THICK COVER ON MUCOUS OF NASOPHARYNX LARYNX TRACHEA BRONCHI UP TO TERMINAL BRONCHIOLES PROTECTIVE FUNCTION OF MUCUS COVER RESPOSES IN MECHANICAL AND HUMORAL BARRIER AND ALSO IN REMOVING THE INHALED PARTICLES AND THEIR TRANSPORT TO THE UPPER PART OF THE RESPIRATORY SYSTEM IN SPITE OF THE FACT THAT BRONCHIAL SECRETION HAS AN IMPORTANT ROLE IN PROTECTIVE MECHANISM AND IN THERMAL AND WATER EXCHANGE OF RESPIRATORY TRACT THIS SECRETION IS NOT SUFFICIENTLY SCRUTINIZED MAINLY OF CHILDREN YET\n",
            "[20] \t15.8 \t1170 \tTHE LOCAL IMMUNE STATUS IN CYSTIC FIBROSIS WE FOCUSED OUR STUDY ON CONCENTRATION OF IMMUNOGLOBULINS LYSOZYME LACTOFERRIN SOME ANTIPROTEOLYTIC FRACTIONS AND ACUTE PHASE PROTEINS IN BRONCHIAL SECRETION OF CHILDREN WITH VARIOUS PULMONARY DISEASES ESPECIALLY WITH CYSTIC FIBROSIS SECRETORY IGA IS DECREASED IN ALL STUDIED GROUPS OF PATIENTS HAVING CHRONIC OR RECURRENT INFECTIONS OF THE RESPIRATORY TRACT WHEN COMPARED TO THE GROUP OF HEALTHY CHILDREN GROUPS WHICH WERE CHARACTERIZED BY THE INFECTION OF THE LOWER PART OF THE RESPIRATORY TRACT HAD INCREASED LYSOZYME LEVEL THE RESULTS OBTAINED IN THE GROUP OF CF CHILDREN ARE SIMILAR TO THOSE OBTAINED IN GROUPS WITH BRONCHIECTASIS AND CHRONIC BRONCHITIS WHICH SUGGESTS THAT THE OBSERVED DIFFERENCES ARE CHARACTERISTIC FOR CHRONIC INFECTION RATHER THAN FOR CF ALTHOUGH IN CF AS WELL AS IN BRONCHIECTASIS MASSIVE BACTERIAL INFECTION RESULTS IN INCREASED CONCENTRATION OF IMMUNOGLOBULINS ANTIPROTEOLYTIC FRACTIONS AND ACUTE PHASE PROTEINS THE RESULTS SEEN IN BOTH GROUPS ARE SOMEWHAT DIFFERENT THESE DIFFERENCES MAY INDICATE SOME DIFFERENCE IN THE REACTIVITY TO INFECTION OF THE RESPIRATORY TRACT IN CF IN COMPARISON TO PATIENTS WITH BRONCHIECTASIS IT SEEMS CONCEIVABLE THAT AMONG CHILDREN WITH CF WHO HAVE VERY LOW SIGA CHRONIC RESPIRATORY TRACT INFECTIONS OCCUR EARLIER AND IGG RESPONSE TO PERMANENT EXPOSITION TO VARIETY OF ANTIGENS IS LESS VIGOROUS THE PRESENTED RESULTS RAISE ALSO A POSSIBILITY THAT THE BACTERIAL INFECTION IN CF DOES NOT STIMULATE DEFENCE MECHANISMS TO THE SAME EXTENT AS IN BRONCHIECTASIS\n",
            "[21] \t15.7 \t658 \tMINIMAL BILE ACID MALABSORPTION LETTER ROLLER AND KERN REPORT THAT BILE ACID MALABSORPTION IN PATIENTS WITH CYSTIC FIBROSIS CF AND ACQUIRED PANCREATIC INSUFFICIENCY IS MINIMAL THESE FINDINGS ARE AT VARIANCE WITH OTHER STUDIES AND DESERVE COMMENT IN THE ABSENCE OF FECAL BILE ACID VALUES IN CONTROLS THE AUTHORS CANNOT STATE THAT LEVELS IN CF ARE ONLY TWICE NORMAL VALUES ESPECIALLY SINCE THE PAPERS CITED ON NORMAL BILE ACID EXCRETION REFER TO MEASUREMENTS OBTAINED BY A DIFFERENT TECHNIQUE WE ALSO QUESTION THE VALIDITY OF THE BREATH TEST AS AN INDEX OF BILE ACID MALABSORPTION IN CF OUR RECENT REPORT SHOWS THAT IN 8 OLDER CF MEAN AGE 121 YEARS THE MAGNITUDE OF BILE ACID LOSS IN THE STOOLS WAS COMPARABLE TO THAT OF THE YOUNGER AGE GROUP MEAN AGE 39 YEARS AND THAT THERE WAS NO CORRELATION BETWEEN THE AGE AND THE DEGREE OF BILE ACID LOSS ON THE OTHER HAND WE MUST TAKE ISSUE WITH ROLLER AND KERN WHEN THEY SUGGEST THAT BILE ACID MALABSORPTION IN CF IS PROBABLY NOT CLINICALLY IMPORTANT OUR FINDINGS NOT ONLY BEAR RELEVANCE TO THE INTESTINAL MANIFESTATIONS OF CF AND TO THE INCREASED INCIDENCE OF CHOLELITHIASIS BUT PERHAPS ALSO TO THE EARLY DEPOSITION WITHIN THE INTRAHEPATIC DUCTS OF EOSINOPHILIC MUCUS CONCRETIONS PROPOSED AS THE CAUSE OF BILIARY CIRRHOSIS IN THIS DISEASE\n",
            "[22] \t15.7 \t1238 \tDETECTION OF A LECTIN IN THE BLOOD OF CYSTIC FIBROSIS HOMOZYGOTES AND HETEROZYGOTES WE THEORIZE THAT CYSTIC FIBROSIS MAY BE A DISEASE IN WHICH A PLASMA FACTOR WITH LECTINLIKE ACTIVITY STIMULATES MUCUS SECRETION CAUSES PRECIPITATION OF MUCUS GLYCOPROTEINS AND INCIDENTALLY AFFECTS LYMPHOCYTES IN CULTURE TO CONFIRM OUR THEORY WE PLANNED TO SEARCH FOR ADDITIONAL LECTINLIKE ACTIVITIES IN CF SERUM OUR EXPERIMENTS SUGGEST THAT THE LECTINLIKE SUBSTANCE IN CF BLOOD REQUIRES IGM FOR ITS REDBLOODCELLAGGLUTINATION ACTIVITY THUS NO DIFFERENCE IN AGGLUTINATION TITER IS OBSERVED BETWEEN CF HOMOZYGOTES AND HETEROZYGOTES BECAUSE IGM IS THE LIMITING FACTOR AND IGM CONCENTRATIONS DO NOT DIFFER APPRECIABLY IN SUCH SUBJECTS WE SUSPECT THAT CF HOMOZYGOTES HAVE A LARGER POOL OF FREE LECTIN IN THEIR BLOOD THAN DO HETEROZYGOTES SO THAT QUANTITATION OF THIS FREE LECTIN POOL MAY DISTINGUISH BETWEEN THE TWO PHENOTYPES EXCESS FREE LECTIN MAY ACCOUNT FOR THE SIGNS AND SYMPTOMS OF CF WHEREAS LESSER AMOUNTS MAY THEORETICALLY BE ADVANTAGEOUS TO THE HETEROZYGOTE\n",
            "[23] \t15.6 \t533 \tEFFECTS OF CALCIUM ON INTESTINAL MUCIN IMPLICATIONS FOR CYSTIC FIBROSIS A MAJOR FEATURE OF THE DISEASE CYSTIC FIBROSIS IS THE EXCESSIVE CONCENTRATION OF MUCUS WITHIN DUCTS AND GLANDS OF MUCOUSPRODUCING ORGANS SOME MUCOUS SECRETIONS ALSO SHOW AN ELEVATION IN CALCIUM CONCENTRATION USING PURIFIED RAT INTESTINAL GOBLET CELL MUCIN AS A MODEL MUCIN WE HAVE INVESTIGATED THE EFFECT OF MILLIMOLAR ADDITIONS 125 MM OF CACL2 ON THE PHYSICAL PROPERTIES OF THE MUCIN ISOTONICITY OF INCUBATION MEDIA WAS PRESERVED IN ORDER TO MIMIC IN VIVO CONDITIONS CACL2 815MM CAUSED A 1533 DECREASE IN VISCOSITY NO CHANGE IN ELECTROPHORETIC MOBILITY IN ACRYLAMIDE GELS AND A 2030 DECREASE IN SOLUBILITY OF THE MUCIN SOLUBILITY CHANGES WERE REVERSED BY THE ADDITION OF EDTA 20 MM TO INCUBATIONS INSOLUBILITY WAS ALSO PRODUCED IN INCUBATIONS OF MUCIN WITH A MIXTURE OF SOLUBLE INTESTINAL CONTENTS NACL WASHINGS THESE FINDINGS STRONGLY SUGGEST THAT THE MUCIN BECAME SMALLER AND MORE DENSE AS CALCIUM WAS ADDED A PROCESS MOST PROBABLY ACHIEVED BY LOSS OF INTRAMOLECULAR WATER\n",
            "[24] \t15.6 \t481 \tCYSTIC FIBROSIS EFFECTS OF SERUM FACTORS ON MUCUS SECRETION THE EFFECTS OF SERUM FROM CHILDREN WITH CYSTIC FIBROSIS AND FROM NORMAL CHILDREN ON THE MUCUSSECRETING CILIATED EPITHELIUM HAVE BEEN INVESTIGATED IN VITRO USING EXPLANTED TISSUE FROM RABBIT LUNG BY OPTICAL AND SCANNING ELECTRON MICROSCOPY A SEQUENCE OF STRUCTURAL CHANGES IS OBSERVED AFTER INCUBATION WITH CYSTIC FIBROSIS SERUM THIS SEQUENCE DOES NOT OCCUR WITH NORMAL SERUM THE EARLIEST CHANGES INVOLVE SWELLING OF THE GOBLET CELLS WITH SUBSEQUENT DISCHARGE OF MUCUS ONTO THE EPITHELIAL SURFACE THIS IS FOLLOWED BY DISRUPTION OF THE NORMALLY RAPID AND SYNCHRONIZED CILIARY ACTIVITY MUCUS GRADUALLY EXTENDS OVER THE SURFACE ENTANGLING CILIA FINALLY SOME SHEDDING OF CILIATED CELLS OCCURS FROM THE EPITHELIUM THESE FINDINGS SUGGEST THAT FACTORS IN CYSTIC FIBROSIS SERUM CAUSE DISCHARGE OF MUCUS LEADING TO A DISTURBANCE OF THE NORMAL CILIARY ACTIVITY IN THE RABBIT LUNG IT IS POSTULATED THAT SUCH CHANGES RESULT IN DYSFUNCTION OF THE MUCOCILIARY CLEARANCE MECHANISM AND THAT THIS DYSFUNCTION MAY BE A CONTRIBUTORY FACTOR TO THE PATHOGENESIS OF LUNG DISEASE\n",
            "[25] \t15.6 \t501 \tIMPAIRMENT OF MUCOCILIARY TRANSPORT IN CYSTIC FIBROSIS OVER THE PAST FEW YEARS STUDIES FROM VARIOUS LABORATORIES HAVE SUGGESTED THE PRESENCE OF A FACTORS IN CYSTIC FIBROSIS SERUM CAUSING WIDESPREAD IN VITRO ABNORMALITIES OF COMPONENTS OF THE LUNG DEFENCE MECHANISM PARTICULARLY WITH RESPECT TO MACROPHAGE DYSFUNCTION QUANTITATIVE AND QUALITATIVE ALTERATIONS IN MUCUS AND CILIARY MOTILITY THE POSSIBLE IN VIVO ROLE OF CILIARY DYSFUNCTION IN THE PATHOGENESIS OF THE DISEASE IS OF PARTICULAR CLINICAL INTEREST SINCE AN IN VITRO CILIARY DYSKINESIA FACTOR HAD BEEN PREVIOUSLY DEMONSTRATED AND PULMONARY COMPLICATIONS ARE THE HALLMARK OF CF YET CLEARANCE IN MOST OF OUR CLINICALLY STABLE CF SUBJECTS WAS RELATIVELY WELL MAINTAINED THIS SUGGESTED TO US THAT A MUCOCILIARY TRANSPORT ABNORMALITY MIGHT BE PRESENT INTERMITTENTLY IN ORDER TO EXPLORE THIS FURTHER WE DESIGNED NASAL MUCOCILIARY CLEARANCE STUDIES TO DETERMINE WHETHER CF SERUM MIGHT EXHIBIT MCT INHIBITION IN VIVO FROM THESE STUDIES WE CONCLUDED THAT THERE WAS A SUBSTANCES IN CF SERUM WHICH HAD THE CAPACITY TO SLOW MCT WHETHER THIS EFFECT IS ON THE CILIA THEMSELVES OR VIA OVERPRODUCTION OF NORMAL OR ABNORMAL MUCUS IS NOT KNOWN\n",
            "[26] \t15.6 \t333 \tCYSTIC FIBROSIS CYSTIC FIBROSIS FIBROCYSTIC DISEASE OF THE PANCREAS IS A COMMON INHERITED DISEASE WHICH TO DATE STILL HAS A FATAL OUTCOME THE DIVERSITY OF CLINICAL MANIFESTATIONS AND PATHOLOGICAL FINDINGS HAS ADDED FURTHER TO THE MYSTERIOUS NATURE OF THE DISEASE AS HAVE THE TANTALIZINGLY CONFLICTING RESULTS OF BIOCHEMICAL PHYSICAL AND EXPERIMENTAL STUDIES IN MANY LABORATORIES OF THE WESTERN WORLD ONE OF THE MOST CONSTANT CLINICAL OBSERVATIONS IS THE VISCOSITY OF THE SECRETION OF THE MUCOSAL GLANDS IN THE RESPIRATORY AND ALIMENTARY TRACTS IN THE DUCTS OF THE BILIARY SYSTEM AND IN THE PANCREAS IN APPROXIMATELY 10 TO 15 PER CENT OF ALL PATIENTS WITH CYSTIC FIBROSIS OF THE PANCREAS THE EARLIEST MANIFESTATION MECONIUM ILEUS OCCURS IN THE NEONATAL PERIOD IN THE REMAINING 85 TO 90 PER CENT OF AFFECTED INFANTS THE SYMPTOMS GENERALLY BECOME EVIDENT WITHIN THE COURSE OF THE FIRST YEAR OF LIFE THE LUNG SYMPTOMS TEND TO DOMINATE THE CLINICAL PICTURE IN THE VAST MAJORITY OF UNTREATED PATIENTS AND WILL ULTIMATELY DECIDE THE OUTCOME THE LOWER RESPIRATORY TRACT IS NOT THE ONLY PART INVOLVED NASAL POLYPS AND THE ACCUMULATION OF VISCOUS SECRETIONS IN THE PARANASAL SINUSES WITH SUBSEQUENT BACTERIAL INFECTION ARE NOT UNUSUAL PANCREATIC DEFICIENCY IS PRESENT IN THE VAST MAJORITY OF PATIENTS WITH CYSTIC FIBROSIS AND CONSISTS OF A GROSS REDUCTION OR COMPLETE ABSENCE OF EXOCRINE SECRETION ALTHOUGH SOME HISTOLOGICAL DAMAGE HAS BEEN SEEN IN THE NEONATAL PERIOD IN INFANTS SUFFERING FROM MECONIUM ILEUS IN GENERAL THE FULLBLOWN PICTURE OF EXTENSIVE CIRRHOSIS WITH PORTAL HYPERTENSION HEPATOSPLENOMEGALY AND SEVERE AND SOMETIMES FATAL HAEMORRHAGES FROM OESOPHAGEAL VARICES IS SEEN IN THE OLDER CHILD AND ADOLESCENT SCREENING OF THE NEWBORN TO ENABLE THE INSTITUTION OF PROTECTIVE MEASURES BEFORE LUNG COMPLICATIONS ARISE HAS BEEN ATTEMPTED WITH VARIOUS TECHNIQUES MANAGEMENT INCLUDES DIET AND PANCREATIC ENZYME REPLACEMENT THE TREATMENT OF PULMONARY DISEASE IS THE MOST IMPORTANT ASPECT OF CARE IN PATIENTS WITH CYSTIC FIBROSIS AND ITS PREVENTION IS PRIORITY NUMBER ONE IN THE OVERALL MANAGEMENT THE OUTLOOK FOR THE CHILD BORN WITH CYSTIC FIBROSIS DEPENDS TO A LARGE EXTENT UPON THE AVOIDANCE OR DELAY UNTIL ADULT LIFE OF THE TWO COMPLICATIONS THAT THREATEN HIS EXISTENCE COR PULMONALE AND CIRRHOSIS OF THE LIVER\n",
            "[27] \t15.6 \t382 \tASSOCIATION OF CYSTIC FIBROSIS WITH ALLERGY IMMEDIATE SKIN HYPERSENSITIVITY TO VARIOUS INHALANT ALLERGENS WAS PRESENT IN 59 OF 123 CHILDREN WITH CYSTIC FIBROSIS CF A MUCH HIGHER PERCENTAGE THAN IN THE GENERAL POPULATION THIS IS CONSISTENT WITH THE IDEA THAT ATOPY ARISES AS A RESULT OF IMPAIRED HANDLING OF ANTIGEN AT MUCOSAL SURFACES THE ALLERGIC CF CHILDREN HAD MORE CHEST INFECTIONS A WORSE CHEST XRAY APPEARANCE AND LOWER PEAK EXPIRATORY FLOW RATES ALLERGIC DISEASES WERE ALSO FREQUENT IN THE CF OBLIGATE HETEROZYGOTES 32 OF MOTHERS AND 26 OF FATHERS IT IS SUGGESTED THAT THE HETEROZYGOTES MAY ALSO HAVE A MUCOSAL ABNORMALITY RESULTING IN DEFECTIVE ANTIGEN HANDLING\n",
            "[28] \t15.6 \t137 \tSTANDARDIZED ASSAY FOR THE SODIUM REABSORPTION INHIBITORY EFFECT AND STUDIES OF ITS SALIVARY GLAND DISTRIBUTION IN PATIENTS WITH CYSTIC FIBROSIS THE RETROGRADE PERFUSION ASSAY OF MAGOS FOR THE SODIUM REABSORPTION INHIBITORY EFFECT IN SWEAT AND MIXED SALIVA FROM PATIENTS WITH CYSTIC FIBROSIS CF WAS MODIFIED BY 1 USING THE SECOND PAROTID GLAND OF THE RAT AS A CONTROL 2 CAREFULLY CONTROLLING THE QUANTITY OF SALIVA PERFUSED INTO THE RAT PAROTID GLAND SO THAT THE RATIO OF MILLILITERS PERFUSED TO GRAM DRY GLAND WEIGHT FELL BETWEEN 18 AND 28 AND 3 REPORTING THE INHIBITORY EFFECT AS PERCENTAGE OF INHIBITION OF THE RATE OF SODIUM REABSORPTION RNA IN THE PERFUSED GLAND CALCULATED FROM THE DIFFERENCE BETWEEN THE RNAS IN THE TWO GLANDS USING THIS MODIFIED ASSAY WE WERE ABLE TO CONFIRM THAT SIGNIFICANT DIFFERENCES EXIST IN THE PERCENTAGE OF INHIBITION OF RNA CAUSED BY CF AND NORMAL MIXED SALIVA 470 PLUS OR MINUS 248 AND 180 PLUS OR MINUS 83 MEAN PLUS OR MINUS SD IN ADDITION SIMILAR SIGNIFICANT DIFFERENCES IN THE PERCENTAGE OF INHIBITION OF RNA BY SUBMANDIBULAR GLAND SECRETIONS 397 PLUS OR MINUS 135 AND 160 PLUS OR MINUS 118 SUBLINGUAL GLAND SECRETIONS 395 PLUS OR MINUS 60 AND 197 PLUS OR MINUS 143 AND SUBMUCOSAL GLAND SECRETIONS 340 PLUS OR MINUS 117 AND 217 PLUS OR MINUS 127 BETWEEN CF AND NORMAL SUBJECTS WERE OBSERVED HOWEVER PAROTID GLAND SECRETIONS FROM CF SUBJECTS SHOWED NO INCREASED INHIBITORY EFFECT 125 PLUS OR MINUS 79 AND 125 PLUS OR MINUS 66 THESE FINDINGS DEMONSTRATE THAT THE SODIUM REABSORPTION INHIBITORY EFFECT IS PRODUCED BY THE SECRETIONS FROM SOME BUT NOT ALL SALIVARY GLANDS OF PATIENTS WITH CF\n",
            "[29] \t15.5 \t790 \tIMMUNE COMPLEXES IN THE SPUTUM OF PATIENTS WITH CYSTIC FIBROSIS SUFFERING FROM CHRONIC PSEUDOMONAS AERUGINOSA LUNG INFECTION 12 CYSTIC FIBROSIS CF PATIENTS CHRONICALLY INFECTED WITH MUCOID P AERUGINOSA AND PRESENTING MULTIPLE PRECIPITINS IN SERUM AGAINST THIS BACTERIUM AND 12 PATIENTS WITHOUT P AERUGINOSA INFECTION WERE EXAMINED FOR OCCURRENCE OF SOLUBLE IMMUNE COMPLEXES IN THEIR SPUTUM SOL PHASE BY A COMPLEMENT CONSUMPTION ASSAY AND A SOLID PHASE RHEUMATOID FACTOR BINDING ASSAY THE CORRELATION BETWEEN THE RESULTS OBTAINED IN THE TWO ASSAYS WAS SIGNIFICANT R  0625 P LESS THAN 001 THE PATIENTS CHRONICALLY INFECTED WITH P AERUGINOSA SHOWED A SIGNIFICANTLY P LESS THAN 001 HIGHER FREQUENCY OF IMMUNE COMPLEX ACTIVITY IN THEIR SPUTUM SOL PHASE AS COMPARED TO THE PATIENTS WITHOUT P AERUGINOSA LUNG INFECTION THESE FINDINGS POINT TO THE POSSIBILITY THAT CHRONIC LUNG INFECTION WITH MUCOID P AERUGINOSA IN CF MAY BE AN IMMUNE COMPLEX DISEASE\n",
            "[30] \t15.5 \t1185 \tMITOCHONDRIAL CALCIUM UPTAKE AND OXYGEN CONSUMPTION IN CYSTIC FIBROSIS REPORTS OF EXOCRINE GLAND SECRETORY ANOMALIES IN CYSTIC FIBROSIS AND INCREASED CALCIUM ION CONCENTRATIONS IN SOME CF SECRETIONS AND THE IMPORTANCE OF CELLULAR CA TO STIMULUSSECRETION COUPLING LED US TO STUDY CELLULAR CA IN CF WE REPORT DATA ON CA UPTAKE STUDIES WITH MITOCHONDRIAL AND MICROSOMAL FRACTIONS ISOLATED FROM SKIN FIBROBLASTS OF SUBJECTS WITH CF AND AGE SEX AND PASSAGE NUMBERMATCHED CONTROLS IN WHICH MITOCHONDRIA FROM CF CELLS ACCUMULATED MORE CA THAN THOSE FROM CONTROL CELLS WE ALSO DESCRIBE SUBSEQUENT STUDIES WHICH SHOW INCREASED MITOCHONDRIAL ELECTRON TRANSPORT ACTIVITY MEASURED AS OXYGEN UPTAKE BY WHOLE CELLS IN CELLS FROM SUBJECTS WITH CF AND OBLIGATE HETEROZYGOTES ONE CAN HYPOTHESISE A MECHANISM TO LINK THE ALTERED MITOCHONDRIAL CA IN CF FIBROBLASTS AND THE MAJOR SIGNS ASSOCIATED WITH THE DISEASE DATA SUGGEST THAT THE ELECTRON TRANSPORT SYSTEM IN CF AND OBLIGATE HETEROZYGOTE FIBROBLASTS IS MORE ACTIVE THAN THAT IN RESPECTIVE CONTROLS IN THE CONDITIONS OF THIS STUDY THE APPARENT CENTRAL ROLE OF CA IN SEVERAL PATHOGENETIC PATHWAYS IN CF AND THE DATA REPORTED HERE IN WHICH BOTH MITOCHONDRIAL CA CAPACITY AND OXYGEN CONSUMPTION ARE INCREASED IN CF SUGGEST THAT THIS ORGANELLE IS A SUITABLE FOCUS FOR CF INVESTIGATIONS\n",
            "[31] \t15.5 \t988 \tACTIVATED COMPLEMENT IN THE SPUTUM FROM PATIENTS WITH CYSTIC FIBROSIS 14 CYSTIC FIBROSIS CF PATIENTS CHRONICALLY INFECTED WITH MUCOID P AERUGINOSA AND PRESENTING MULTIPLE PRECIPITINS IN SERUM AGAINST THIS BACTERIUM CF  P AND 13 CF PATIENTS WITHOUT P AERUGINOSA INFECTION CFP HAD THEIR PLASMA AND SPUTUM SOL PHASE EXAMINED FOR ALBUMIN CLQ C3C3C C4 AND C5 BY MEANS OF ELECTROIMMUNOASSAYS THEIR SPUTUM SOL PHASE WAS EXAMINED ALSO FOR FACTOR B BY ROCKETIMMUNOELECTROPHORESIS C3C WAS DEMONSTRATED IN THE SPUTUM SOL PHASE BUT SIGNIFICANTLY MORE FREQUENT P LESS THAN 001 AMONG THE CF  P PATIENTS THAN AMONG THE CFP PATIENTS FACTOR B WAS ALSO DEMONSTRATED IN THE SPUTUM SOL PHASE BUT NO SIGNIFICANT DIFFERENCE IN FREQUENCY COULD BE DEMONSTRATED BETWEEN THE CF  P AND THE CFP PATIENTS NONE OF THE RESULTS INDICATED THAT A LOCAL PULMONARY PRODUCTION OF COMPLEMENT FACTORS TOOK PLACE COMPLEMENT ACTIVATION WAS SIGNIFICANTLY P LESS THAN 001 ASSOCIATED WITH INFLAMMATION EXPRESSED AS INCREASED FORMULA SEE TEXT THE RESULTS SHOW THE IMPORTANCE OF COMPLEMENT MEDIATED INFLAMMATION IN THE PATHOGENESIS OF PULMONARY TISSUE DAMAGE IN PATIENTS WITH CF AND SUPPORT THE CONCEPT OF CHRONIC P AERUGINOSA LUNG INFECTION AS AN IMMUNE COMPLEX DISEASE IN CF PATIENTS\n",
            "[32] \t15.5 \t1175 \tSULPHATED GLYCOPROTEINS IN THE PANCREAS SEVERAL REPORTS HAVE INDICATED THE PRESENCE OF ABNORMALLY HIGH AMOUNTS OF SULPHATE IN THE MUCOUS GLANDS OF PATIENTS WITH CYSTIC FIBROSIS BEARING THESE FACTS IN MIND WE SUSPECTED THAT ABNORMAL OVERSULPHATED AND STRONGLY ANIONIC GLYCOPROTEINS MIGHT BE INVOLVED IN THE PATHOGENESIS OF CF THE PRESENT STUDY WAS CARRIED OUT TO DETERMINE WHETHER SULPHATED BLOODGROUP SUBSTANCES OCCUR IN NORMAL PANCREATIC TISSUE THE DISTRIBUTION OF SULPHATE OVER THE EXOCRINE PART OF PANCREAS DOES COINCIDE WITH THE DISTRIBUTION OF BLOODGROUP SUBSTANCE PREVIOUSLY OBSERVED BY FLUORESCENT MICROSCOPY WE THEREFORE FIND IT VERY LIKELY THAT THE SULPHATE AND BLOODGROUP SUBSTANCE ARE ASSOCIATED WITH THE SAME GLYCOPROTEIN MOLECULE SINCE BLOODGROUP SUBSTANCE HAS BEEN DEMONSTRATED IN MANY SECRETIONS IN MAN AND SINCE HIGH AMOUNTS OF SULPHATE HAVE BEEN FOUND IN THE MUCOUS GLANDS IN CF SUCH A MECHANISM IS POSSIBLE IN MANY LOCATIONS AND MAY THUS OFFER AN EXPLANATION FOR THE MULTIORGAN INVOLVEMENT IN CF\n",
            "[33] \t15.4 \t439 \tMUCOUS GLYCOPROTEINS PP 16577 EARLY INVESTIGATORS EMPLOYED HISTOCHEMICAL CHEMICAL AND PHYSIOCHEMICAL TECHNIQUES IN AN ATTEMPT TO IDENTIFY DIFFERENCES BETWEEN CYSTIC FIBROSIS AND CONTROL MUCOUS SECRETIONS SEVERAL MUCOUS GLYCOPROTEIN ABNORMALITIES WERE SUGGESTED BY THEIR STUDIES IN RETROSPECT NONE OF THESE STUDIES ACHIEVED THEIR GOAL OF DESCRIBING A FUNDAMENTAL MUCOUS GLYCOPROTEIN ABNORMALITY PECULIAR TO CF IMPROVED METHODS HAVE BEEN DEVISED FOR THE COLLECTION OF MUCOUS GLYCOPROTEINS IN HUMAN RESPIRATORY TRACT SECRETIONS AND THE STUDY OF THEIR CHEMICAL AND PHYSICAL PROPERTIES THEREFORE IT IS NOW POSSIBLE TO MAKE PRELIMINARY COMPARISONS BETWEEN HUMAN TRACHEOBRONCHIAL MUCOUS GLYCOPROTEINS FROM CF AND NONCF SOURCES GENERAL PROPERTIES OF MUCOUS GLYCOPROTEINS HUMAN TRACHEOBRONCHIAL MUCOUS GLYCOPROTEINS COMPARISON OF CF AND NONCF TRACHEOBRONCHIAL MUCOUS GLYCOPROTEIN AND SUGGESTED DIRECTIONS FOR FUTURE STUDIES OF CF MUCOUS SECRETIONS ARE DISCUSSED\n",
            "[34] \t15.4 \t1171 \tCOMPLEMENT ACTIVATION AND PULMONARY INFLAMMATION IN CF PATIENTS THIS STUDY EXAMINED WHETHER BIOLOGIC ACTIVATION OF C3 WITH SUBSEQUENT PULMONARY INFLAMMATION TAKES PLACE IN THE LUNGS OF PATIENTS WITH CYSTIC FIBROSIS PLASMA COMPLEMENT C3 LEVELS WERE ALL NORMAL ELEVEN OF THE PATIENTS WITH THE C3 SPLIT PRODUCT C3C WERE FROM THE GROUP OF 14 PATIENTS SUFFERING FROM CHRONIC INFECTION WITH MUCOID STRAINS OF PSEUDOMONAS AERUGINOSA AND 2 WERE FROM THE GROUP OF 14 CF PATIENTS WITHOUT P AERUGINOSA INFECTION THIS DIFFERENCE WAS SIGNIFICANT P  0002 A COMPARISON OF ALBUMIN RATIOS BETWEEN THE 13 PATIENTS WITH THE C3 SPLIT PRODUCT C3C AND THE REMAINING OTHER 15 PATIENTS SHOWED A SIGNIFICANT HIGHER RATIO IN THE FORMER GROUP P  001 ON AN AVERAGE 41 VERSUS 14 PER CENT THE SIGNIFICANTLY HIGHER ALBUMIN RATIO DEMONSTRATED IN THE PATIENTS WITH C3C IN THEIR SPUTUM SOL PHASE SUPPORTS THE CONCEPT OF COMPLEMENTINDUCED INFLAMMATION WITH SUBSEQUENT TRANSUDATION OF PLASMA PROTEINS IN THESE PATIENTS THIS STUDY THUS SHOWS THAT COMPLEMENTMEDIATED INFLAMMATORY REACTIONS MAY PLAY AN IMPORTANT ROLE IN THE PATHOGENESIS OF PULMONARY TISSUE DAMAGE IN PATIENTS WITH CF EVEN WHEN THE PLASMA C3 LEVELS ARE NORMAL AND IT SUPPORTS THE CONCEPT OF CHRONIC P AERUGINOSA LUNG INFECTION AS AN IMMUNE COMPLEX DISEASE IN CF PATIENTS\n",
            "[35] \t15.4 \t956 \tDIFFERENCES BETWEEN CYSTIC FIBROSIS AND NORMAL SALIVA ALPHAAMYLASE AS A FUNCTION OF AGE AND SEX ALPHAAMYLASE ACTIVITY AND PROTEIN CONCENTRATION OF CYSTIC FIBROSIS CF OBLIGATE HETEROZYGOTE H AND NORMAL N SALIVA HAVE BEEN EVALUATED WITH RESPECT TO GENOTYPE AGE SEX AND CLINICAL STATUS FACTORS PRESENT IN CF SALIVA HAD NO DETECTABLE EFFECT ON SALIVARY AMYLASE ACTIVITY UNDER REACTION CONDITIONS OPTIMIZED FOR BOTH COMPETITIVE AND NONCOMPETITIVE INHIBITION TRIS TRISHYDOXYMETHYLAMINOMETHANE INHIBITED AMYLASE ACTIVITY WITH A KI  59 PLUS OR MINUS 10 MM BUT CF FACTORS HAD NO DETECTABLE EFFECT ON EITHER SUBSTRATE OR TRIS BINDING TO ALPHAAMYLASE ALPHAAMYLASE CONCENTRATIONAND PROTEIN CONTENT OF CF SALIVA HAD BIMODAL DISTRIBUTIONS THIRTYSIX PERCENT OF THE CF PATIENTS WERE FOUND TO BE AMYLASE HYPERSECRETORS WITH AMYLASE CONCENTRATION 3 OR MORE SD ABOVE THE N MEAN AMYLASE HYPERSECRETION WAS MARGINALLY CORRELATED WITH BOTH GENETIC FACTORS WITH PARENT VALUES P  0075 AND CLINICAL STATUS WITH SCWACHMAN SCORES P  0068 ALL THE HYPERSECRETORS WERE IN THE 1424 YEAR AGE GROUP AMYLASE CONCENTRATION FOR THIS AGE WAS SIGNIFICANT HIGHER IN CF SAMPLES MEAN PLUS OR MINUS SD 82 PLUS OR MINUS 37 STARCH UNITSML N  12 THAN IN N SAMPLES 33 PLUS OR MINUS 17 STARCH UNITESML N  13 AS MEASURED BY THE STUDENT TTEST P  0001 SALIVARY PROTEIN CONTENT OF 14 TO 24YEAROLD CF MALES WAS ELEVATED COMPARED TO ALL OTHER GROUPS 157 PLUS OR MINUS 076 N  5 VS 063 PLUS OR MINUS 047 N  20 STUDENT TTEST P  0005 MEAN SPECIFIC ACTIVITY OF MALE SALIVA DROPPED SHARPLY AS AGE INCREASED FROM 1015 YEARS FROM OVER 200 TO LESS THAN 75 STARCH UNITSMG PROTEIN MEAN NORMAL FEMALE SPECIFIC ACTIVITY VALUES WERE ESSENTIALLY CONSTANT 97 PLUS OR MINUS 50 N  18 STARCH UNITSMG PROTEIN FROM 530 YEARS OF AGE CF MALE SPECIFIC ACTIVITY VALUES DECREASED SIMILARLY TO THE N MALE VALUES FROM PREADOLESCENCE TO ADOLESCENCE BUT THE MEAN CF FEMALE VALUES PEAKED LATER AT 17 YEARS WITH A MAXIMUM OF 171 PLUS OR MINUS 58 N  4 THIS IS SIGNIFICANTLY HIGHER THAN ALL THE OTHER GROUPS IN THE 16 TO 20YEAR AGE RANGE 63 PLUS OR MINUS 30 N  9 P  0005 THESE DATA EMPHASIZE THE NEED FOR AGE AND SEXMATCHED CONTROLS IN ALL STUDIES OF SALIVARY COMPOSITION WE WERE UNABLE TO DETECT ANY EFFECT OF A SALIVARY CF FACTOR ON THE ENZYMATIC ACTIVITY OF ALPHAAMYLASE HYPERSECRETION OF SALIVARY ALPHAAMYLASE WAS OBSERVED IN 36 OF CF PATIENTS THIS MAY REFLECT ALTERATIONS IN SECRETORY FUNCTION BASIC TO CF OR BE SECONDARY TO THE DISEASE PROCESS AND RESULT FROM DECREASED SECRETION FROM THE MUCOUS SALIVARY GLANDS OR DETERIORATION OF PANCREATIC FUNCTION\n",
            "[36] \t15.3 \t755 \tMUCOSAL ENTEROKINASE ACTIVITY IN PANCREATIC INSUFFICIENCY AND CELIAC DISEASE JEJUNAL BIOPSY SPECIMENS WERE OBTAINED FROM CHILDREN WITH CYSTIC FIBROSIS CF CELIAC DISEASE CD OR CONGENITAL EXOCRINE PANCREATIC HYPOPLASIA CEPH AND FROM CONTROL SUBJECTS SECTIONS WERE EXAMINED HISTOLOGICALLY AND HOMOGENATES WERE USED FOR MEASUREMENT OF ENTEROKINASE AND SUCRASE ACTIVITIES THIS WORK WAS UNDERTAKEN BECAUSE ENTEROKINASE IS CONSIDERED A BRUSH BORDER ENZYME THE RELEASE OF WHICH INTO THE INTESTINAL LUMEN IS INFLUENCED BY PANCREATIC ENZYMES AND ALSO BECAUSE WE HAVE RECENTLY SHOWN A SMALL BOWEL MUCOSAL DYSFUNCTION IN PATIENTS WITH CF AS EXPECTED SUCRASE ACTIVITY WAS REDUCE P  05 IN CHILDREN WITH CD AS COMPARED TO THE OTHER THREE GROUPS ON THE OTHER HAND ENTEROKINASE ACTIVITY IN CHILDREN WITH PANCREATIC INSUFFICIENCY CF AND CEPH WAS HIGHER P  05 THAN THAT OF CONTROL SUBJECTS THE PRESENT STUDY HAS SHOWN THAT IN PATIENTS WITH CF AND CEPH MUCOSAL ENTEROKINASE ACTIVITY WAS INCREASED AS COMPARED TO CONTROL SUBJECTS IT SEEMS THAT THE PANCREATIC ENZYMES PLAY A LARGE ROLE IN THE TURNOVER OF ENZYMES IN THE BRUSH BORDER MEMBRANE AND THAT THE OBSERVED INCREASE OF MUCOSAL ENTEROKINASE ACTIVITY IS PROBABLY EXPLAINED BY A REDUCED DEGRADATION IN PATIENTS WITH EXOCRINE PANCREATIC INSUFFICIENCY\n",
            "[37] \t15.3 \t455 \tORAL HEALTH OF PATIENTS WITH CYSTIC FIBROSIS AND THEIR SIBLINGS CARIES PREVALENCE ORAL HYGIENE INDEX SUBMANDIBULAR GLAND HYPERTROPHY OCCLUSION DENTAL HYPOPLASIA AND STAINING OF PERMANENT TEETH WERE EVALUATED IN 63 PATIENTS WITH CYSTIC FIBROSIS CF WHO WERE MAINTAINED ON A REGIMEN OF BROADSPECTRUM ANTIBIOTICS AND ORAL PANCREATIN AND THE FINDINGS WERE COMPARED WITH THOSE OF THEIR NEAR AGED SIBLINGS GLAND HYPERTROPHY AND DENTAL STAINING WERE INCREASED IN PATIENTS WITH CF WHEREAS CARIES WAS SIGNIFICANTLY DECREASED NO OTHER SIGNIFICANT DIFFERENCES WERE FOUND\n",
            "[38] \t15.2 \t1019 \tCYSTIC FIBROSIS AND HEARING LOSS THE MUCOSAL EPITHELIUM OF THE MIDDLE EAR AND EUSTACHIAN TUBE IS IN DIRECT CONTINUITY WITH THE UPPER RESPIRATORY TRACT SINCE THE OTOLARYNGOLOGICAL ASPECTS OF CYSTIC FIBROSIS CF ARE DOMINATED BY INVOLVEMENT OF THE PARANASAL SINUSES IT MIGHT BE ASSUMED THAT CHILDREN WITH CF WOULD BE EXPECTED TO HAVE A HIGHER THAN USUAL INCIDENCE OF MIDDLE EAR DISEASE EIGHTY PATIENTS WHO WERE AFFLICTED WITH CF HAD AUDIOLOGICAL EVALUATIONS WHICH CONSISTED OF HEARING THRESHOLD LEVELS 250 TO 8000 HZ AND SPEECH AND IMPEDANCE AUDIOMETRY WE FOUND NO GREATER INCIDENCE OF A CONDUCTIVE OR SENSORINEURAL HEARING LOSS IN PATIENTS WITH CF WHEN COMPARED WITH A NORMAL AGEADJUSTED POPULATION\n",
            "[39] \t15.2 \t1145 \tPATHOGENESIS OF CYSTIC FIBROSIS POSSIBLE IMPORTANCE OF ALTERATION IN EPITHELIAL SURFACE TOPOGRAPHY AS THE PATHOGENESIS IN CYSTIC FIBROSIS CF HAS BEEN CONSIDERED TO LIE IN A DISTURBANCE IN THE BEHAVIOR OF SECRETIONS PARTICULARLY MUCINS FROM EXOCRINE GLANDS IT HAS BEEN PROPOSED THAT AN ALTERATION IN SURFACE TOPOGRAPHY FORM NUMBER OR DISTRIBUTION OF MICROVILLI OR BLEBS OF EPITHELIAL CELLS LINING DUCTS COULD IMPAIR DISTRIBUTION LEADING TO RETENTION OF MUCUS LEADING TO THE CLINICAL PHENOTYPE SCANNING ELECTRONMICROSCOPY OF HUMAN EPITHELIAL SUSPENSION CULTURES NOW OFFERS AN OPPORTUNITY TO EVALUATE THE ROLE OF PLASMALEMMA TOPOGRAPHY IN CF\n",
            "[40] \t15.2 \t733 \tOTORHINOLARYNGOLOGIC COMPLICATIONS OF CYSTIC FIBROSIS INASMUCH AS CYSTIC FIBROSIS IS A GENERALIZED EXOCRINOPATHY AND AFFECTS ALL THE MUCOUS GLANDS IN THE BODY THE COMPLICATIONS OF THIS DISEASE INVOLVING THE EAR NOSE AND THROAT ARE OBVIOUSLY PROTEAN THIS PRESENTATION INCLUDES A DISCUSSION OF CHRONIC EAR INFECTIONS RELATIVE TO THE DIAGNOSIS OF CYSTIC FIBROSIS A DISCUSSION OF NASAL POLYPS AND THEIR TREATMENT SALIVARY GLAND INVOLVEMENT IN CYSTIC FIBROSIS AND THE RESULTS OF SIALOGRAPHY THE EFFECTS OF RESPIRATORY THERAPY UPON THE UPPER RESPIRATORY TRACT AND THE PROBLEMS OF GENERAL ANESTHESIA IN PATIENTS WHO UNDERGO SURGICAL PROCEDURES ARE ALSO DISCUSSED CT 1 MYER CM PEDIATRICS 72 766 983 2 TODD NW INT J PEDIATR OTORHINOLARYNGO 10 27 985 3 DAVID TJ J ROY SOC MED 79 23 986\n",
            "[41] \t15.1 \t632 \tTHE VARIABILITY OF SKIN TEST HYPERSENSITIVITY REACTIONS IN CYSTIC FIBROSIS AND ASTHMA CYSTIC FIBROSIS CF CHILDREN HAD A GREATER VARIABILITY OF SKIN PRICK TEST RESPONSE COMPARED WITH ASTHMATIC CHILDREN WHEN THE TESTS WERE PERFORMED ON TWO OCCASIONS THIS SUGGESTS THAT THERE IS A DIFFERENT CAUSE FOR THE ALLERGY IN THE TWO GROUPS PERHAPS BECAUSE THE ASTHMATICS HAVE A TRANSIENT PERIOD OF SUSCEPTIBILITY TO SENSITIZATION IN INFANCY AND THE CF CHILDREN A PERSISTENT VULNERABILITY AMONGST THE ASTHMATIC CHILDREN CLINICAL IMPROVEMENT WAS ASSOCIATED WITH LOSS OF SOME SKIN PRICK TEST REACTIONS AND CLINICAL DETERIORATION WITH AN INCREASE IN THE NUMBER OF POSITIVE REACTIONS THUS CONTINUING ALLERGIC REACTIONS MAY MAINTAIN A MUCOSAL DEFECT RESULTING IN A PERSISTENCE OF SUSCEPTIBILITY TO ALLERGEN SENSITIZATION AND CONTROL OF THE REACTIONS MAY REESTABLISH NORMAL MUCOSAL DEFENCE MECHANISMS\n",
            "[42] \t15.1 \t975 \tTHE BIOCHEMICAL BASIS OF CYSTIC FIBROSIS AN HYPOTHESIS BASED UPON THE POLYELECTROLYTES OF MUCUS THE EVIDENCE SHOWS THAT THE PATHOLOGY OF CYSTIC FIBROSIS CF IS RELATED TO MUCOID SECRETIONS CONSEQUENTLY THE QUESTION OF WHAT GOVERNS THE VISCOSITY OF MUCUS IS EXAMINED IN DETAIL IT IS GENERALLY AGREED THAT THE MUCIN GEL CONSISTS OF POLYANIONIC GLYCOPROTEINS AND A HITHERTO UNIDENTIFIED POLY CATIONIC CROSSLINKING PROTEIN IT IS PROPOSED THAT LARGER AMOUNTS OF POLYCATIONS INCREASE VISCOSITY AND IN EXCESS CAUSE MUCUS TO BECOME A POLYCATION AS THESE COMPOUNDS ARE KNOWN TO INHIBIT THE DUCTAL REABSORPTION OF SODIUM THE TWO PRINCIPAL ASPECTS OF THE PATHOLOGY OF CF CAN BE RELATED TO THE SAME MECHANISM THE MUCUS GLOBULE MEMBRANE MGM HAS BEEN PROPOSED AS THE CROSS LINKING PROTEIN\n",
            "[43] \t15.0 \t860 \tTHE PRECIPITINS AND HYPERSENSITIVITY REACTIONS IN CYSTIC FIBROSIS THE LARGE NUMBER AND WIDE VARIETY OF PRECIPITINS DETECTED IN THE SPUTUM OF CYSTIC FIBROSIS PATIENTS SUGGEST THAT THE PRECIPITINS MAY BE NONPROTECTIVE AND EVEN HARMFUL TO THE PATIENTS THESE SPUTUM PRECIPITINS WERE DIRECTED PRINCIPALLY AGAINST FOOD FUNGI BACTERIA AND HUMAN BODY TISSUE ON THE OTHER HAND PRECIPITINS TO STAPHYLOCOCCUS ALPHAHEMOLYSIN WAS THE MAIN TYPE OF IMMUNOPRECIPITIN DETECTED IN CF SERUM AND WAS FOUND IN 60 OF THE SERUM SPECIMENS EXAMINED IT SEEMS LIKELY THAT THE PRECIPITINS IN PATIENTS WITH CF MAY BE INVOLVED IN THE FORMATION OF IMMUNE COMPLEXES WHICH IN CONJUNCTION WITH COMPLEMENT MAY BE RESPONSIBLE FOR THE RESPIRATORY AND GASTROINTESTINAL LESIONS THAT ARE COMMON IN PATIENTS WITH CF THE IMMUNE COMPLEXES MAY BE THE RESULT OF EXCESS FOOD AND BACTERIAL ANTIGENS ESCAPING ACROSS THE GUT AND LUNGS AS A RESULT OF SOME ABNORMALITY OF THE SIGA SYSTEM OVER 80 OF THE SPUTUM SPECIMENS TESTED GAVE POSITIVE PRECIPITINS IN AGAR GEL AGAINST HUMAN SEMINAL FLUID AND COLOSTRUM SUGGESTING THAT SOME OF THE ANTIBODIES FORMED IN CF PATIENTS COULD BE DIRECTED AGAINST HOST TISSUE AND MAY ACCOUNT FOR AN AUTOIMMUNETYPE REACTION IN CF CROSSREACTION BETWEEN THE HIGHTITER ANTIBODY TO STAPHYLOCOCCUS AND BASEMENT MEMBRANE OF LUNGS AND PANCREAS WITH COMPLEMENT ACTIVATION MAY OCCUR IN CF AND REQUIRED FURTHER STUDY THE HIGH NUMBER OF BCELLS AS DETECTED BY ANTIBODY COATED COMPLEMENT ACTIVATED SHEEP ERYTHROCYTES AND EAC ROSETTES MAY BE PARTLY RESPONSIBLE FOR THE SYNTHESIS OF THE VARIETY OF ANTIBODIES DETECTED IN CF PATIENTS\n",
            "[44] \t15.0 \t588 \tIMMUNE COMPLEXES IN CYSTIC FIBROSIS ELEVEN PATIENTS WITH CYSTIC FIBROSIS CF CHRONICALLY INFECTED WITH MUCOID P AERUGINOSA AND TEN PATIENTS WITHOUT P AERUGINOSA INFECTION WERE EXAMINED FOR OCCURRENCE OF CIRCULATING IMMUNE COMPLEXES FOR IMMUNE COMPLEX DEPOSITS IN THE DERMOEPIDERMAL JUNCTION OF THE SKIN AND FOR PRECIPITINS AGAINST P AERUGINOSA S AUREUS H INFLUENZAE AND D PNEUMONIAE ANTIGENS THE SERUM CONCENTRATIONS OF HAPTOGLOBIN OROSOMUCOID IMMUNOGLOBULINS C1Q C3 C4 AND TOTAL HAEMOLYTIC COMPLEMENT ANTINUCLEAR AND RHEUMATOID FACTOR ACTIVITIES AS WELL AS WHITE BLOOD CELL COUNTS AND ERYTHROCYTE SEDIMENTATION RATES WERE DETERMINED ALSO THE RESULTS INDICATED THAT 6 PATIENTS FROM THE CHRONICALLY P AERUGINOSA INFECTED GROUP EXHIBITING A SPECTRUM OF SERUM PRECIPITINS AGAINST P AERUGINOSA ANTIGENS ALSO HAD IMMUNE COMPLEXES IN THE SERUM WHILE ONLY ONE PATIENT SUFFERING FROM SELECTIVE IGA DEFICIENCY IN THE GROUP WITHOUT P AERUGINOSA INFECTION WAS POSITIVE FOR SOLUBLE IMMUNE COMPLEXES GRANULAR DEPOSITS OF IGM WAS FOUND IN THE SKIN OF 10 OF THE CHRONICALLY P AERUGINOSA INFECTED PATIENTS AND IN 7 OF THE PATIENTS WITHOUT P AERUGINOSA INFECTION A FEW PACTIENTS IN BOTH GROUPS HAD DERMO EPIDERMAL DEPOSITS OF C1Q C3 OR FIBRINOGEN AS WELL EIGHT OF THE PATIENTS IN THE CHRONICALLY INFECTED GROUP AND FIVE IN THE GROUP WITHOUT P AERUGINOSA INFECTION HAD ORGAN NONSPECIFIC ANTINUCLEAR FACTORS THE HAPTOGLOBIN LEVELS APPEARED TO BE ELEVATED IN THE CHRONICALLY INFECTED PATIENTS P LESS THAN 005 NONE OF THE OTHER PARAMETERS SHOWED ANY SIGNIFICANT DIFFERENCE BETWEEN THE TWO GROUPS\n",
            "[45] \t14.9 \t201 \tCILIARY INHIBITION AND AXONEMAL MICROTUBULE ALTERATIONS IN FRESHWATER MUSSELS A PHENOMENON ASSOCIATED WITH THE GENETIC DISEASE OF CYSTIC FIBROSIS CF IS THE PRESENCE OF A SERUM FACTOR THAT STOPS OR DISCOORDINATES CILIARY BEATING THIS EFFECT HAS BEEN DEMONSTRATED BY EXPOSING FRESHWATER MUSSEL OR OYSTER GILL CILIA OR RABBIT TRACHEAL CILIA TO SERA FROM HOMOZYGOUS OR HETEROZYGOUS CYSTIC FIBROSIS SUBJECTS ASSAY REPRODUCIBILITY IS UNSATISFACTORY HOWEVER AND THE MECHANISM OF THE EFFECT IS NOT UNDERSTOOD NOR DO WE KNOW WHY THERE MAY BE CONSIDERABLE DIFFERENCES BETWEEN THE ACTIVITY OF TESTED HETEROZYGOTES AND OF HOMOZYGOTES BECAUSE THE CILIARY ASSAY IS CAPRICIOUS THERE IS A NEED TO UNDERSTAND HOW CILIARY BEATING IS DISTURBED OR STOPPED SINCE MICROTUBULES ARE IMPORTANT IN THE MECHANISM OF CILIARY MOTION THEY COULD CONCEIVABLY SHOW ALTERATIONS DURING THE RESPONSE TO INHIBITORY SUBSTANCES THERE HAS BEEN NO ULTRASTRUCTURAL STUDY HOWEVER OF THE EFFECTS OF CILIARY INHIBITION ON THE AXONEMAL COMPONENTS THEREFORE THIS STUDY WAS DESIGNED TO EXAMINE CILIARY STRUCTURE DURING THE DIFFERENT STAGES OF CILIARY INHIBITION RAPID MICROTUBULAR DISAPPEARANCE AND REAPPEARANCE OCCURS IN THE TERMINAL CILIA OF THE FRESHWATER MUSSEL UNIO WHEN EXPOSURE TO CF SERUM CAUSES A SHOCKSTOP REACTION AND RETURN TO WATER ALLOWS RESUMPTION OF NORMAL CILIARY BEATING IN CONTRAST A SLOWSTOP REACTION CAUSES DISTORTION OF CILIA ASYNCHRONOUS BEATING AND EJECTION OF CELLS FROM THE DISTAL GILL FILAMENT BUT CILIARY AXONEMAL STRUCTURE IS PRESERVED SLOWSTOPPED CILIA DO NOT RESUME THEIR BEATING IN WATER SALIVA FROM RESERPINETREATED RATS CAUSES CILIARY INHIBITION SIMILAR TO THAT INDUCED BY CF SERUM\n",
            "[46] \t14.9 \t189 \tFAMILY ADJUSTMENT TO CYSTIC FIBROSIS A NURSE AND MOTHER DESCRIBES THE CLINICAL EFFECTS OF CYSTIC FIBROSIS ON PATIENTS AND THE LONGTERM DEMANDS THE DISEASE PLACES ON HER OWN AND OTHER CHILDREN AND FAMILIES DIAGNOSIS IS MAINLY ACCOMPLISHED WITH AN ANALYSIS OF SWEAT FOR SODIUM AND CHLORIDE IONS CF IS TRANSMITTED AS A MENDELIAN RECESSIVE TRAIT IT IS A GENERALIZED DYSFUNCTION OF THE ENDOCRINE GLANDS THE ABNORMALITIES SEEMINGLY UNRELATED APPEAR AS LOSS OF ELECTROLYTES THROUGH THE SWEAT AND SALIVARY GLANDS AND AS UNUSUALLY THICK STICKY MUCUS SECRETIONS THAT OBSTRUCT AND DAMAGE THE PATIENTS PANCREAS LUNGS GALLBLADDER INTESTINES AND LIVER THE OBJECTIVE OF PULMONARY THERAPY ARE TO DECREASE VISCOSITY OF THE PULMONARY SECRETIONS AND TO IMPROVE AND MAINTAIN PULMONARY HYGIENE FINANCIAL COST IS ONLY ONE OF MANY BURDENS ON THE FAMILY\n",
            "[47] \t14.9 \t1167 \tTHE EFFECT OF CYSTIC FIBROSIS AND NONCYSTIC FIBROSIS PLASMA ON ELECTROPHYSIOLOGICAL RESPONSES IN ISOLATED FROG GASTRIC MUCOSA AN ALTERNATIVE METHOD FOR ASSAYING THE CYSTIC FIBROSIS FACTOR COULD BE ON THE ELECTROPHYSIOLOGICAL RESPONSES OF ISOLATED LIVING TISSUES THE ABILITY OF THE FROGS GASTRIC MUCOSA TO SECRETE HYDROCHLORIC ACID AND MAINTAIN A NEGATIVE POTENTIAL DIFFERENCE IS WELL KNOWN THIS POTENTIAL DIFFERENCE ACROSS THE SECRETORY MUCOSA TO THE NUTRIENT SEROSA SIDE COUPLED WITH ITS PROPERTY OF TRANSPORTING CHLORIDE AND HYDROGEN IONS AGAINST AN ELECTROCHEMICAL GRADIENT COULD THEREFORE SERVE AS A USEFUL MODEL FOR INVESTIGATING ANY INDUCED CHANGES IN THE PRESENCE OF CF AND NONCF PLASMA FROM THE RESULTS OBTAINED THE SHORT CIRCUIT CURRENT AND H SECRETION RESPONSES IN THE PRESENCE OF CF WHOLE PLASMA SHOW SIGNIFICANT INCREASES COMPARED TO THE CONTROL THESE FINDINGS SHOW THAT IN THE PRESENCE OF CF PLASMA WHOLE OR PLASMA FRACTION B THERE IS A MARKED INCREASE IN THE ACTIVELY TRANSPORTED CL AND H THE EFFECT OF CF PLASMA IN INCREASING NET CL FLUX IS IMPORTANT CONSIDERING THE ELEVATION OF THIS ELECTROLYTE IN THE SWEAT OF CF PATIENTS AND DESERVED FURTHER INVESTIGATION\n",
            "[48] \t14.8 \t788 \tCYSTIC FIBROSIS OF THE PANCREAS IN A HUMAN FETUS POSTMORTEM EXAMINATION OF A 26 WEEK OLD POSTMENSTRUAL HUMAN FETUS DELIVERED BY CESAREAN SECTION REVEALED MECONIUM ILEUS AND MANY SWOLLEN MUCUSSECRETING CELLS IN THE GASTROINTESTINAL MUCOSA THE PANCREAS SHOWED EXTENSIVE FIBROSIS ACINAR DESTRUCTION AND DILATATION OF DUCTS CONTAINING EOSINOPHILIC CASTS MUCOUS GLANDS OF THE LUNGS ALSO REVEALED MUCOUS CELLS SWOLLEN AND DISTENDED WITH THEIR SECRETORY PRODUCTS THE PATIENT IS BELIEVED TO HAVE CYSTIC FIBROSIS OF THE PANCREAS SUGGESTING THAT THE PATHOLOGIC MANIFESTATIONS OF THE DISEASE MAY BEGIN EARLY IN FETAL LIFE\n",
            "[49] \t14.8 \t95 \tABDOMINAL COMPLAINTS AND APPENDICEAL CHANGES LEADING TO THE DIAGNOSIS OF CYSTIC FIBROSIS TWELVE PATIENTS WITH ABDOMINAL COMPLAINTS HAD AN OPERATION THAT INCLUDED INCIDENTAL APPENDECTOMY THEY WERE LATER DIAGNOSED AS HAVING CYSTIC FIBROSIS FOUR GROUPS OF PRESENTING SIGNS AND SYMPTOMS WERE RIGHT LOWER QUADRANT MASS CHRONIC ABDOMINAL PAIN INTESTINAL OBSTRUCTION AND HEPATOMEGALY IN ALL CASES THE SYMPTOMS PRECIPITATING OPERATION WERE DUE TO THE UNDERLYING UNRECOGNIZED CONDITION CYSTIC FIBROSIS REVIEW OF THE HISTOLOGY OF THE APPENDIX REVEALED THE CLASSIC CHANGES OF HYPERSECRETION OF THE MUCOUS GLANDS TO BE PRESENT THE APPENDIX SHARES IN THE GENERALIZED INTESTINAL MUCOUS GLAND INVOLVEMENT PECULIAR TO CYSTIC FIBROSIS AWARENESS OF THIS FACT HAS NOT BEEN WIDESPREAD PERHAPS BECAUSE OF THE USUAL EMPHASIS ON THE PULMONARY AND PANCREATIC ASPECTS OF THE DISEASE GREATER APPRECIATION OF THE CLINICAL SYMPTOMS OF CYSTIC FIBROSIS AND MORE LIBERAL USE OF THE SWEAT TEST COULD HAVE DIMINISHED THE NUMBER OF EXPLORATORY CELIOTOMIES RECOGNITION OF THE HISTOLOC CHANGES IN THE REMOVED APPENDICES CAN ALSO SUGGEST THE PROPER DIAGNOSIS AND LEAD TO EARLIER INSTITUTION OF TREATMENT WITH AN IMPROVED PROGNOSIS\n",
            "[50] \t14.7 \t596 \tPEDIATRIC GASTROENTEROLOGY 1169123175 A REVIEW PART I HOLLOW VISCERA AND THE PANCREAS CUMULATIVE SURVIVAL IN CYSTIC FIBROSIS CF FOR THREE SUCCESSIVE 5YEAR PERIODS BETWEEN 1952 AND 1967 IS 35 64 AND 77 RESPECTIVELY OPERATIVE MORTALITY IN MECONIUM ILEUS IS NOT REDUCED TO 25 FROM 70 NACETYLCYSTEINE EFFECTIVELY CLEANSES THE BOWEL OF TENACIOUS MECONIUM PLUGS WHEN DIRECTLY INJECTED DURING LAPAROTOMY HOWEVER MUCOMIST ENEMA ALONE GENERALLY DOES NOT SUFFICE SELECTED CASES HAVE BEEN TREATED SUCCESSFULLY WITH HYPEROSMOLAR GASTROGRAFFIN ENEMA SEVERAL SCREENING TESTS BASED ON THE INCREASED ALBUMIN CONCENTRATIONS PRESENT IN THE MECONIUM ARE AVAILABLE FOR CF THE BOEHRINGERMANNHEIM TEST STRIP IS FAVORED AND YIELDED NO FALSE POSITIVES IN 69000 TESTS OF MECONIUM HOWEVER 4 OF 60 NEONATES WHO SUBSEQUENTLY PROVED TO HAVE CF HAD FALSE NEGATIVE TESTS A PATHOGNOMONIC ELEVATION OF SODIUM AND CHLORIDE CONCENTRATIONS IN THE SWEAT COLLECTED BY PILOCARPINE IONTOPHORESIS REMAINS THE DEFINITIVE DIAGNOSTIC TEST BILE ACID MALABSORPTION OCCURS IN CF BUT NOT IN CELIAC DISEASE THE AUTHORS POSTULATE THAT THE PRESENCE OF MALDIGESTED MATERIALS OR THE ABSENCE OF PANCREATIC ENZYMES INTERFERES WITH BILE ACID ABSORPTION THE DEFECT DISAPPEARS WITH PANCREATIC EXTRACTS SUBSTITUTION OF MEDIUMCHAIN TRIGLYCERIDES FOR DIETARY LONGCHAIN FATTY ACIDS REDUCES STEATORRHEA IN CF HOWEVER THE POSITIVE EFFECT OF MCT ON WEIGHT GAIN IS TRANSITORY GROWTH RETARDATION CORRELATES BETTER WITH THE DEGREE OF PULMONARY DISEASE THAN WITH PANCREATIC INSUFFICIENCY\n",
            "[51] \t14.7 \t297 \tTHE CHALLENGES OF CYSTIC FIBROSIS CYSTIC FIBROSIS CF IS A GENERALIZED DISORDER OF THE EXOCRINE GLANDS INHERITED AS A RECESSIVE GENETIC TRAIT THE DISEASE WAS MORE FULLY DESCRIBED AS A SPECIFIC ENTITY IN 1939 WITH A PATHOLOGY OF DILATED DUCTS AND FIBROTIC CHANGES IN THE PANCREAS AND COPIOUS SECRETORY INTRALUMINAL OBSTRUCTION OF THE BRONCHIAL TREE THE SYMPTOMS PREDOMINATELY INVOLVE THE GASTROINTESTINAL TRACT AS MORE FREQUENT BULKY MALFORMED AND MALODOROUS STOOLS AND THE RESPIRATORY SYSTEM AS COUGH WHEEZING AND SIGNS OF CHRONIC RESPIRATORY OBSTRUCTION IN CERTAIN INSTANCES ONLY ONE OF THESE TWO SYSTEMS WILL HAVE MANIFEST SYMPTOMS AND SIGNS AN INCREASED CONCENTRATION OF SODIUM AND CHLORIDE IN THE SWEAT WAS DISCOVERED IN 1953 THE ELEVATED SALT CONCENTRATION OF THE SWEAT HAS PROVEN TO BE A RELIABLE DIAGNOSTIC TOOL TO CONFIRM THE PRESENCE OF THE DISEASE FEW DISEASES PRESENT IN SO MANY DIFFERENT FORMS DEGREES OF SEVERITY AND AT DIFFERENT AGES AS DOES CF ALL PRESENT TREATMENTS FOR CYSTIC FIBROSIS ARE ESSENTIALLY SYMPTOMATIC SINCE THE STUDY OF FAMILIES HAVING A CHILD WITH CYSTIC FIBROSIS HAS SHOWN AN INCIDENCE OF THE DISEASE IN ONE FOURTH OF THEIR SIBLINGS CLASSIFICATION OF THE DISEASE AS AN AUTOSOMAL RECESSIVE GENETIC DISORDER SUGGESTS THAT THE CONCEPT OF AN ABNORMAL GENE RELATED TO ALTERATION IN A SINGLE ENZYME SHOULD APPLY THE DIAGNOSIS OF CYSTIC FIBROSIS IN CHILDHOOD IS AN OVERWHELMING EVEN TO THE PATIENT AND HIS FAMILY\n",
            "[52] \t14.7 \t47 \tTHE ELASTICITY OF SPUTUM AT LOW SHEAR RATES ELASTICITY OF SPUTUM ELASTICITY OF SPUTUM HAS BEEN DETERMINED USING THE WEISSENBERG RHEOGONIOMETER BY OSCILLATORY TESTING OVER FREQUENCIES FROM 001 TO 08 CS SPUTUM WAS FROM PATIENTS WITH EITHER ASTHMA CHRONIC BRONCHITIS CYSTIC FIBROSIS OR BRONCHIECTASIS AND MACROSCOPICALLY MUCOID MUCOPURULENT OR PURULENT AS IN THE VISCOSITY PLOT OVER THIS SHEAR RATE RANGE TWO ZONES WITH A JUNCTIONAL REGION CAN BE DISTINGUISHED IN ZONE 1 OVER THE LOWEST SHEAR RATES ELASTICITY INCREASES SLOWLY CHANGES LITTLE OVER A PLATEAU REGION AND THEN IN ZONE 2 INCREASES SHARPLY IN CONTRAST TO THE VISCOSITY PLOT THE PLATEAU DOES NOT SHOW NOTHING BY 08 CS SOME SAMPLES SHOW DECREASING ELASTICITY ALTHOUGH VARIANCE BETWEEN SAMPLES IS WIDE THERE IS NO LEVEL OF ELASTICITY CHARACTERISTIC OF EACH DISEASE OR OF ONE MACROSCOPIC APPEARANCE ELASTICITY AND VISCOSITY ARE CORRELATED MOST SIGNIFICANTLY AT THE LOWEST SHEAR RATES ASTHMATIC AND BRONCHIECTATIC SPUTA RESEMBLE EACH OTHER IN THAT THIS CORRELATION IS STILL SIGNIFICANT AT HIGHER SHEAR RATES CYSTIC FIBROSIS AND CHRONIC BRONCHITIC SPUTUM IN THAT IT IS NOT SINCE IN THESE LAST TWO MUCOUS GLAND HYPERTROPHY IS PRESENT IT MAY BE THAT THE SPUTUM HAS A HIGHER MUCUS COMPONENT\n",
            "[53] \t14.6 \t1207 \tDEVELOPMENT OF AN IMPROVED TRACHEAL EXPLANT BIOASSAY FOR THE DETECTION OF THE CILIARY DYSKINESIA FACTOR IN CYSTIC FIBROSIS SERUM A TRACHEAL RING EXPLANT SYSTEM WHEN USED WITH 25 CYSTIC FIBROSIS CF SERUM DISPLAYED OBVIOUS CILIOSTASIS HAMSTER RABBIT AND GUINEA PIG EXPLANTS ALL HAD MEASURABLE DECREASES IN CILIARY ACTIVITY AFTER 24 HR OF INCUBATION IN THE SERUM THE DIFFERENTIAL RESPONSE TO CF SERUM RELATIVE TO NORMAL SERUM WAS GREATLY INCREASED BY USING EXPLANTS WHICH WERE MAINTAINED 2472 HR IN MINIMAL ESSENTIAL MEDIUM MEM WITH 10 HORSE SERUM AND WHICH WERE SELECTED ON THE BASIS OF OPTIMAL CILIARY ACTIVITY AND VIGOR WITH SUCH A BIOASSAY SYSTEM OF GUINEA PIG TRACHEAL EXPLANTS INCUBATION WITH 25 NORMAL SERUM WOULD PRODUCE ESSENTIALLY NO CHANGE IN RELATIVE CILIARY ACTIVITY SCORE OF 242 OF A POSSIBLE 300 WHEREAS CF SERUM RESULTED IN AN 86 DECREASE SCORE OF 33 SCANNING ELECTRON MICROSCOPIC OBSERVATION INDICATED THAT THE EXPLANTS DISPLAYING THE CFCILIOSTATIC EFFECT HAD SIGNIFICANT ACCUMULATIONS OF MUCOUS OVER THE CILIATED EPITHELIAL SURFACE A BIOCHEMICAL VIABILITY ASSAY DEHYDROGENASE ACTIVITY SHOWED NO CYTONECROSIS WHEN CF SERUMTREATED TISSUES WERE COMPARED TO STANDARD EXPLANTS 10 HORSE SERUM IN MEM OR CONTROL EXPLANTS 25 NORMAL HUMAN SERUM\n",
            "[54] \t14.6 \t260 \tSEROTYPING OF PSEUDOMONAS AERUGINOSA ISOLATES FROM PATIENTS WITH CYSTIC FIBROSIS OF THE PANCREAS PSEUDOMONAS AERUGINOSA ISOLATES 173 FROM 144 PATIENTS WITH CYSTIC FIBROSIS CF OF THE PANCREAS IN SEVEN HOSPITALS WERE SEROTYPED WITH THE AGGLUTINATION SYSTEMS OF HOMMA 1974 AND FISHER ET AL 1969 THE TWO SYSTEMS WERE COMPLEMENTARY STRAINS FROM CF PATIENTS WERE MUCH LESS LIKELY TO FURNISH A STABLE TYPE ON REPETITIVE TYPING TESTS THAN STRAINS FROM OTHER PATIENTS THIS WAS RELATED TO THE FREQUENT OCCURRENCE OF MUCOID P AERUGINOSA STRAINS THE 173 STRAINS WERE DIVIDED AMONG 11 HOMMA SEROTYPES A SINGLE HOMMA TYPE TYPE 8 CAPABLE OF MUCOID GROWTH COMPRISED 104 60 CF STRAINS EIGHT SEROTYPES WERE DETECTED IN 77 STRAINS FROM 48 CF PATIENTS IN ONE HOSPITAL THREE STRAINS WERE DETECTED IN ONE HOSPITAL CF UNIT AND TWO STRAINS WERE DETECTED IN EACH OF FIVE HOSPITAL CF UNITS THE CF SEROTYPE COMPRISED FROM 50 TO 93 OF CF STRAINS IN THE SEVEN HOSPITALS THESE P AERUGINOSA STRAINS DISSOCIATED IN VIVO AS JUDGED BY MUCOID AND NONMUCOID COLONIES ON PRIMARY CULTURE PLATES AND CONTINUED TO DISSOCIATE DURING SUBCULTURES BOTH COLONY TYPE WERE THE SAME SEROTYPE THE TENDENCY TO REGARD COLONIAL PHENOTYPES MUCOID NONMUCOID ROUGH AS SEPARATE STRAINS WAS ERRONEOUS REPETITIVE TYPING WITH THE TWO SYSTEMS GAVE BETTER RESULTS THAN A SINGLE SYSTEM THE MUCOID P AERUGINOSA STRAIN IS PROBABLY SPREAD FROM PATIENT TO PATIENT RATHER THAN ACQUIRING ITS MUCOID CHARACTERISTIC DE NOVO IN THE CF PATIENT IT IS NOT KNOWN WHY THE MUCOID CF STRAIN HAS A PECULIAR PREDILECTION FOR CF PATIENTS NOR WHY IT GENERALLY LOSES THE QUALITY IN CULTURE BUT RETAINS IT INDEFINITELY IN THE PATIENT\n",
            "[55] \t14.5 \t776 \tCYSTIC FIBROSIS CYSTIC FIBROSIS CF IS A SERIOUS GENETIC DISORDER OCCURRING MAINLY AMONG THE WHITES AND STARTING IN EARLY CHILDHOOD OR EVEN AT BIRTH THE NAME IS A SHORTENING OF THE OLD TERM CYSTIC FIBROSIS OR FIBROCYSTIC DISEASE OF THE PANCREAS THIS COMES FROM THE HISTORICAL APPEARANCE AT POSTMORTEM FIRST DESCRIBED BY LANDSTEINER IN 1905 IT WAS ONLY IN 1938 THAT DOROTHEE ANDERSON AND FANCONI REALISED THAT THE DISEASE WAS A SEPARATE ENTITY AND NOT SIMPLY A MANIFESTATION OF OTHER ILLNESSES ANOTHER NAME IS MUCOVISCIDOSIS WHICH GIVES A CLUE AS TO ONE OF THE MOST IMPORTANT FEATURES OF THE DISEASE MUCUS FORMED IS THICKER AND STICKIER MORE VISCID THAN NORMAL AND TENDS TO CLOG UP THE BRONCHI AND DUCTS PARTICULARLY THE PANCREATIC DUCTS CHRONIC BRONCHITIS WITH RECURRENT SEVERE INFECTION AND MALABSORPTION ARE THE MAIN SYMPTOMS OF THE DISEASE THE OTHER IMPORTANT ABNORMALITY IS AN INCREASED AMOUNT OF SODIUM CHLORIDE SALT IN THE SWEAT THIS FACT USED IN THE DIAGNOSIS WAS FIRST REALISED DURING A HEAT WAVE IN NEW YORK IN 1953 WHEN IT WAS NOTICED THAT MOST OF THE CHILDREN WITH HEAT PROSTRATION SUFFERED FROM CF LITTLE IS KNOWN OF THE CAUSES OF THE ABNORMALITIES OF SWEAT AND MUCUS SOME GENERALISED CELL ABNORMALITY  ENZYMATIC SEEMS POSSIBLE THERE IS NO DOUBT THAT THE CONDITION IS GENETICALLY TRANSMITTED AND MOST EVIDENCE FAVOURS A RECESSIVE MODE OF INHERITANCE\n",
            "[56] \t14.5 \t176 \tEPIDEMIOLOGICAL MARKERS FOR PSEUDOMONAS AERUGINOSA 6 RELATIONSHIP BETWEEN CONCOMITANT NONMUCOID AND MUCOID STRAINS FROM THE RESPIRATORY TRACT IN CYSTIC FIBROSIS THE SIMULTANEOUSLY OCCURRING MUCOID M AND NONMUCOID NM VARIANTS OF PSEUDOMONAS AERUGINOSA FREQUENTLY OBSERVED IN CULTURES FROM THE RESPIRATORY TRACT OF CHRONICALLY INFECTED CYSTIC FIBROSIS PATIENTS HAVE BEEN STUDIED M CULTURES IN VITRO WERE UNSTABLE AND EASILY DISSOCIATED NM COLONIES IN A LARGE PROPORTION OF THE CASES M AND NM VARIANTS OCCURRING SIMULTANEOUSLY IN CULTURES FROM ONE AND THE SAME CLINICAL SPECIMEN WERE OF THE SAME PYOCINE TYPE PHAGE TYPE AND SEROGROUP IN SOME REMAINING CASES THERE WERE SMALL DIFFERENCES BETWEEN THE M AND NM VARIANTS SUCH THAT IDENTITY BETWEEN THE VARIANTS FROM ONE AND THE SAME SPECIMEN WAS POSSIBLE ALTHOUGH NOT DEFINITE THE NM DISSOCIANTS FROM M STRAINS WERE OF THE SAME TYPE AS THE M VARIANT THE POSSIBLE ROLE OF CROSSINFECTION AND THE INTERACTION OF BACTERIA AND HOST RESPONSE FACTORS CONTINUOUSLY TENDING TO SELECT THE UNSTABLE M VARIANT IN VIVO ARE DISCUSSED\n",
            "[57] \t14.5 \t502 \tMUCOCILIARY CLEARANCE IN CYSTIC FIBROSIS IF WE ARE TO FULLY UNDERSTAND THE FACTORS WHICH CONTROL MUCOCILIARY CLEARANCE THROUGHOUT THE HUMAN LUNG AND THE INTERRELATIONSHIPS BETWEEN CLEARANCE AND DISEASE IT WILL BE NECESSARY TO MEASURE MUCOCILIARY CLEARANCE RATES IN AIRWAYS AT ALL LEVELS WITHIN THE LUNG DURING THE PAST FEW YEARS TECHNICAL MEANS HAVE BEEN SOUGHT WHEREBY THE RATES OF MUCUS CLEARANCE WITHIN INDIVIDUAL AIRWAYS CAN BE MEASURED IN THIS LABORATORY WE HAVE DEVELOPED A RELATIVELY NONINVASIVE TECHNIQUE FOR MEASURING MUCOCILIARY TRACHEAL TRANSPORT RATES WE MEASURED MTTRS IN 20 PATIENTS WITH CYSTIC FIBROSIS THE MTTRS DID NOT CORRELATE WELL WITH THE DEGREE OF PULMONARY DISEASE IN THESE PATIENTS THE MEASUREMENTS OF MTTR WOULD SUGGEST THAT A DERANGED MUCOCILIARY CLEARANCE MECHANISM IS NOT A NECESSARY CONDITION FOR PATIENTS WITH CF WE HAVE ALSO BEEN INTERESTED IN EVALUATING THE EFFECTIVENESS OF THE THERAPY USED IN THE TREATMENT OF CF\n",
            "[58] \t14.4 \t1169 \tBRONCHIAL PROVOCATION TESTS IN CYSTIC FIBROSIS PATIENTS WITH CYSTIC FIBROSIS HAVE A HIGHER INCIDENCE OF POSITIVE SKIN PRICK TESTS THAN NORMAL THIS MAY BE THE RESULT OF DEFECTIVE ANTIGEN HANDLING AT MUCOSAL SURFACES OUR AIM WAS TO INVESTIGATE BRONCHIAL ALLERGY IN A GROUP OF CHILDREN WITH CF AND POSITIVE SKIN TESTS WE STUDIED 15 CHILDREN AGED 7 TO 16 YEARS WITH MILD TO MODERATE RESPIRATORY DISEASE ONLY 1 CHILD GAVE A HISTORY OF WHEEZING NOT ASSOCIATED WITH CHEST INFECTIONS AND THIS STUDY SUPPORTS THE HYPOTHESIS THAT CLINICAL ASTHMA IS A PRODUCT OF BRONCHIAL ALLERGY AND BRONCHOLABILITY THE RESPONSES TO BRONCHIAL PROVOCATION WITH ASPERGILLUS SUGGEST THAT ALLERGY TO THIS ANTIGEN MAY PLAY A PART IN THE PATHOGENESIS OF LUNG DISEASE IN SOME PATIENTS WITH CF CT 1 DAVIS PB SEM RESPIR MED 6 261 985 2 DARGA LL PEDIATR PULMONOL 2 82 986\n",
            "[59] \t14.4 \t987 \tIGA AND IGG ANTIBODIES AGAINST SURFACE ANTIGENS OF PSEUDOMONAS AERUGINOSA IN SPUTUM AND SERUM FROM PATIENTS WITH CYSTIC FIBROSIS ELEVEN CYSTIC FIBROSIS CF PATIENTS CHRONICALLY INFECTED IN THE LUNGS WITH MUCOID PSEUDOMONAS AERUGINOSA AND PRESENTING MULTIPLE PRECIPITINS IN SERUM AGAINST THIS BACTERIUM CF  P AND 10 CF PATIENTS WITHOUT P AERUGINOSA INFECTION CFP HAD THEIR SERUM AND SPUTUM SOL PHASE SPECIMENS EXAMINED FOR ANTIBODIES OF THE IGA AND IGG CLASSES AGAINST SURFACE ANTIGENS OF P AERUGINOSA BY MEANS OF AN INDIRECT IMMUNOFLUORESCENCE TECHNIQUE BOTH THE IGA AND IGG ANTIBODY TITRES DEMONSTRATED IN SERUM AND SPUTUM OF THE CF  P PATIENTS WERE SIGNIFICANTLY HIGHER THAN IN THOSE OF THE CFP PATIENTS P LESS THAN 001 THE TITRE OF IGA ANTIBODIES IN THE SPUTUM WAS HIGHER THAN IN SERUM IN 3 CASES INDICATING LOCAL PULMONARY PRODUCTION OF SPECIFIC IGA ANTIBODIES THE ROLE OF THE DEMONSTRATED ANTIBODIES IN THE LOCAL PULMONARY IMMUNE DEFENSE MECHANISMS AND THE POSSIBLE PATOGENESIS OF THE PULMONARY TISSUE DAMAGE IN CF PATIENTS IS DISCUSSED\n",
            "[60] \t14.3 \t325 \tTHE QUEST FOR THE BASIC DEFECT IN CYSTIC FIBROSIS THE SEARCH FOR THE BASIC DEFECT IN CYSTIC FIBROSIS HAS SO FAR BEEN SINGULARLY DISAPPOINTING THERE IS NO DOUBT THAT IT IS A DISEASE RECESSIVELY INHERITED IE THAT THE PARENTS CARRY THE CYSTIC FIBROSIS GENE WITHOUT SHOWING ANY SIGNS OF ILL HEALTH HETEROZYGOUS BUT WHEN TRANSMITTED FROM BOTH OF THEM TO AN OFFSPRING THIS CHILD MANIFESTS THE DISEASE HAVING ACQUIRED THE ABNORMAL GENE IN DOUBLE DOSE HOMOZYGOTE CYSTIC FIBROSIS IS THE MOST COMMON OF THE GENETICALLY DETERMINED DISEASES TWO TYPES OF CULTURED CELLS FIBROBLASTS AND WHITE CELLS FROM AFFECTED INDIVIDUALS AND HETEROZYGOUS CARRIERS FOR CYSTIC FIBROSIS SHOWED CHARACTERISTIC CHANGES OF METACHROMASIA THAT SEEMED TO ALLOW FOR A CLASSIFICATION OF PATIENTS AND CARRIERS TO BE DISTRIBUTED INTO SEPARATE CLASSES SERUM FROM PATIENTS WITH CYSTIC FIBROSIS OF THE PANCREAS DISORGANISES THE MOVEMENT OF CILIA OF THE ISOLATED RABBIT TRACHEAL MUCOSA ONE OF THE EARLY AND ALSO MOST CONSTANT OBSERVATIONS IS THE VISCOSITY OF SECRETIONS OF THE MUCOSAL GLANDS IN THE RESPIRATORY TRACT IN THE ALIMENTARY APPARATUS IN THE BILIARY SYSTEM AND IN THE PANCREAS A STRIKING INCREASE IN THE LEVELS OF SODIUM AND CHLORIDE AND TO A LESSER EXTENT OF POTASSIUM IS PRESENT IN THE SWEAT OF PRACTICALLY ALL SUFFERERS OF CYSTIC FIBROSIS HOWEVER FRUSTRATING AND TANTALISING THE OUTCOME OF RESEARCH INTO THE BASIC DEFECT HAS BEEN SO FAR THE ULTIMATE ANSWER IS LIKELY TO BE ASTONISHING IN IT SIMPLICITY\n",
            "[61] \t14.3 \t447 \tINTERACTIONS OF PSEUDOMONAS AERUGINOSA WITH IMMUNOGLOBULINS AND COMPLEMENT IN SPUTUM THE INTERACTIONS OF PSEUDOMONAS AERUGINOSA WITH HUMORAL FACTORS IN THE SPUTUM OF PATIENTS WITH CYSTIC FIBROSIS WERE INVESTIGATED BY USING AN INDIRECT IMMUNOFLUORESCENT TECHNIQUE FLUORESCEIN CONJUGATED MONOVALENT ANTISERUM SPECIFIC TO HEAVY CHAINS OF HUMAN IMMUNOGLOBULIN A IGA IGG OR IGM AND TO COMPLEMENT C3 WERE USED ALL STRAINS OF P AERUGINOSA RECOVERED FROM THE SPUTUM SPECIMENS OF PATIENTS WITH CYSTIC FIBROSIS WERE FOUND TO BE COATED WITH ANTIBODIES OF IGA IGG AND IGM CLASSES AND WITH C3 THE SPECIFICITY OF THE ANTIBODY COATING WAS DETERMINED THE FLUORESCENCE WAS MOST INTENSE WITH IGA AND WAS FOLLOWED IN INTENSITY BY IGG IGM AND C3 NO DIFFERENCE WAS NOTED BETWEEN ROUGH AND MUCOID STRAINS OF P AERUGINOSA WHEN THE SUBCULTURED P AERUGINOSA WAS INCUBATED WITH THE SPUTUM ELUATES A SIMILAR PATTERN OF FLUORESCENCE WAS DEMONSTRATED INDICATING THAT THESE HUMORAL FACTORS ARE PRESENT IN THE SPUTUM AND THAT THE COATING PROCESS CAN TAKE PLACE IN THE LOWER RESPIRATORY TRACT OF THE PATIENTS BY SINGLE RADIAL IMMUNODIFFUSION SIGNIFICANT QUANTITIES OF THE HUMORAL FACTORS IN THE SPUTUM ELUATES WERE DETECTED THESE FINDINGS SUGGEST THAT P AERUGINOSA IS OPSONIZED IN SPUTUM OF PATIENTS WITH CYSTIC FIBROSIS\n",
            "[62] \t14.2 \t1121 \tTHE CHRONICALLY LIGATED SUBMANDIBULAR SALIVARY DUCT OF THE RABBIT AS A POSSIBLE MODEL FOR CYSTIC FIBROSIS PROCEEDINGS SCHULZ 1969 SHOWED THAT THE RAISED NA CONCENTRATION IN THE SWEAT OF CHILDREN SUFFERING FROM CYSTIC FIBROSIS WAS DUE TO A DEFECT IN NA REABSORPTION IN THE DUCT EPITHELIUM BUT SOMEWHAT SURPRISINGLY THE TRANSEPITHELIAL POTENTIAL DIFFERENCE PD IS THE SAME AS THAT IN NORMAL CONTROLS NA TRANSPORT IS ALSO REDUCED IN THE CHRONICALLY LIGATED SALIVARY DUCT OF THE RABBIT SUBMANDIBULAR GLAND FRASER  SMAJE 1978 AND BECAUSE PD IS UNAFFECTED THE LIGATED GLAND MAY BE A USEFUL MODEL OF THIS ASPECT OF CYSTIC FIBROSIS HERE WE WOULD LIKE TO REPORT A FURTHER SIMILARITY TO CYSTIC FIBROSIS DUCT LIGATION LEADS TO GOBLET CELL HYPERPLASIA WHICH ALSO OCCURS IN THE SALIVARY GLANDS IN CYSTIC FIBROSIS LEV  SPICER 1965 SECTIONS OF THE SALIVARY DUCT 6 MICROM THICK WERE TAKEN AT 60 MICROM INTERVALS FROM DUCTS WHICH HAD BEEN LIGATED FOR BETWEEN 1 AND 5 WEEKS AND FROM THEIR CONTRALATERAL CONTROLS FOLLOWING FIXATION BY IMMERSION LIGATION RESULTED IN AN INCREASE IN LUMINAL DIAMETER BY DISTENSION OF THE PREVIOUSLY CONVOLUTED EPITHELIUM BUT THERE WAS NO SIGNIFICANT CHANGE IN EPITHELIAL SURFACE AREA THE NUMBER OF CELL LAYERS APPEARED TO HAVE INCREASED HOWEVER AND THERE WAS A PROLIFERATION OF GOBLET CELLS THE MUCUS IN THESE CELLS WAS STAINED BY ALCIAN BLUE AT PH 1 INDICATING THE PRESENCE OF SULPHOMUCIN THE MEAN GOBLET CELL DENSITY ROSE FROM 762 PLUS OR MINUS 473 MM2 MEAN PLUS OR MINUS SE OF THE MEAN N  6 IN CONTROLS TO 114 PLUS OR MINUS 496 IN LIGATED DUCTS THE TRANSEPITHELIAL NA FLUX IN THE SAME DUCTS WAS REDUCED FROM 101 PLUS OR MINUS 079 NMOLE CM2 SEC1 TO 16 PLUS OR MINUS 084 WHILE PD REMAINED AT 22 MV SIMILAR TO THOSE RESULTS PREVIOUSLY REPORTED THERE WAS NO SIGNIFICANT CORRELATION BETWEEN THE DEGREE OF DIMINUTION OF NA TRANSPORT AND THE DENSITY OF GOBLET CELLS BUT THERE WAS A POSITIVE CORRELATION R  090 BETWEEN THE NUMBER OF GOBLET CELLS IN THE CONTROL AND CONTRALATERAL LIGATED DUCTS\n",
            "[63] \t14.1 \t957 \tTHE BIOLOGIC ACTIVITIES OF CYSTIC FIBROSIS SERUM II ULTRASTRUCTURAL ASPECTS OF THE EFFECT OF CYSTIC FIBROSIS SERA AND CALCIUM IONOPHORE A23187 ON RABBIT TRACHEAL EXPLANTS ULTRASTRUCTURAL AND CYTOCHEMICAL OBSERVATIONS INDICATE THAT BOTH CYSTIC FIBROSIS CF SERA AND CALCIUM IONOPHORE A23187 INDUCE A SWELLING OR AN INCREASE IN THE SIZE AND POSSIBLY THE NUMBER OF SECONDARY LYSOSOMES AND AN INCREASE IN MUCUS SECRETION IN EPITHELIUM OF THE RABBIT TRACHEAL BIOASSAY SYSTEM EXTENDED INCUBATION OF THE RABBIT TRACHEAL EXPLANTS WITH EITHER CF OR CONTROL SERA PRODUCES A CYTOTOXIC EFFECT ON THE TRACHEAL EPITHELIUM BUT ONLY AFTER THE TERMINATION OF THE NORMAL BIOASSAY TIME PERIOD COMPARATIVE ULTRASTRUCTURAL STUDY OF THE EFFECT OF BOTH CF SERA AND CALCIUM IONOPHORE A23187 ON THE RABBIT TRACHEAL BIOASSAY SYSTEM INDICATES THAT INCREASED MEMBRANE PERMEABILITY TO CALCIUM MAY BE IMPORTANT IN THE PRODUCTION OF THE CILIARY DYSKINESIA RESPONSE BY CF SERUM FACTORS IN THE RABBIT TRACHEAL BIOASSAY SYSTEM\n",
            "[64] \t14.0 \t1078 \tHIGH DOSAGE TOBRAMYCIN TREATMENT OF CHILDREN WITH CYSTIC FIBROSIS BACTERIOLOGICAL EFFECT AND CLINICAL OTOTOXICITY THE BACTERIOLOGICAL EFFECT OF CHEMOTHERAPY AGAINST MUCOID STRAINS OF PSEUDOMINAS AERUGINOSA IN THE LOWER RESPIRATORY TRACT OF PATIENTS WITH CYSTIC FIBROSIS IS REPORTED A COMPARISON OF THE EFFECT OF HIGH DOSES OF TOBRAMYCIN 10 MGKG24 H GIVEN ALONE OR IN COMBINATION WITH CARBENICILLIN SHOWED A SIGNIFICANT DIFFERENCE IN FAVOUR OF THE COMBINATION THERAPY IN 745 OF THE INITIALLY SUCCESSFUL COURSES THE PATIENTS WERE RECOLONIZED WITHIN ONE MONTH FIFTYTHREE PATIENTS WERE EXAMINED BY AUDIOMETRIC AND VESTIBULAR TESTS ONLY IN ONE PATIENT WAS IT POSSIBLE TO REGISTER A TRANSIENT HIGH TONE HEARING IMPAIRMENT AT 8000 HZ BILATERALLY THAT MIGHT BE ATTRIBUTED TO THE TOBRAMYCIN TREATMENT IT IS CONCLUDED THAT HIGH DOSE TOBRAMYCIN TREATMENT IN CHILDREN AND ADOLESCENTS WITH NORMAL KIDNEY FUNCTION IMPLIES ONLY A MINIMAL CLINICAL RISK OF ADVERSE OTOTOXIC EFFECTS EVEN AFTER REPEATED COURSES OF TREATMENT NO NEPHROTOXIC SIDEEFFECTS WERE FOUND IN THIS MATERIAL\n"
          ]
        }
      ],
      "source": [
        "question = query[\"query\"][1]\n",
        "print(f\"#> {question}\")\n",
        "\n",
        "# Find the top-10 passages for this query\n",
        "results = searcher.search(question, k=65)\n",
        "#full length search? check file\n",
        "\n",
        "passages_ranked = {}\n",
        "# Print out the top-k retrieved passages\n",
        "print(\"Rank\\tScore\\tId\\tPassage\")\n",
        "for passage_id, passage_rank, passage_score in zip(*results):\n",
        "    print(f\"[{passage_rank}] \\t{passage_score:.1f} \\t{collection['doc_id'][passage_id]} \\t{searcher.collection[passage_id]}\")\n",
        "    passages_ranked[passage_id] = passage_rank"
      ]
    },
    {
      "cell_type": "code",
      "source": [
        "f = open(\"Information-Retrieval/Relevant_20\", \"r\")\n",
        "file = f.read().splitlines()\n",
        "relevant_docs = []\n",
        "for line in file:\n",
        "    line=line.split()\n",
        "    list = []\n",
        "    for num in line:\n",
        "        num = int(num)\n",
        "        list.append('doc'+str(num))\n",
        "    relevant_docs.append(list)                  # relevant_docs list includes every line from Relevant_20"
      ],
      "metadata": {
        "id": "JCYmBEWXQHDD",
        "outputId": "59b84bed-d1d9-45a0-a9d3-79661feba54b",
        "colab": {
          "base_uri": "https://localhost:8080/"
        }
      },
      "execution_count": 50,
      "outputs": [
        {
          "output_type": "stream",
          "name": "stdout",
          "text": [
            "{427: 1, 734: 2, 571: 3, 574: 4, 148: 5, 485: 6, 1145: 7, 169: 8, 1099: 9, 491: 10, 431: 11, 785: 12, 946: 13, 484: 14, 6: 15, 259: 16, 441: 17, 891: 18, 957: 19, 1142: 20, 639: 21, 1207: 22, 516: 23, 470: 24, 487: 25, 325: 26, 373: 27, 134: 28, 770: 29, 1156: 30, 965: 31, 1147: 32, 429: 33, 1143: 34, 933: 35, 735: 36, 445: 37, 995: 38, 1117: 39, 713: 40, 613: 41, 952: 42, 840: 43, 570: 44, 197: 45, 186: 46, 1139: 47, 768: 48, 94: 49, 578: 50, 289: 51, 46: 52, 1177: 53, 254: 54, 756: 55, 173: 56, 488: 57, 1141: 58, 964: 59, 317: 60, 437: 61, 1095: 62, 934: 63, 1053: 64}\n"
          ]
        }
      ]
    },
    {
      "cell_type": "code",
      "source": [
        "#avg_pr_list = []\n",
        "i=0;\n",
        "if i == 0:\n",
        "    precision_at_k = []\n",
        "    recall_at_k = []\n",
        "    true_positives = 0\n",
        "\n",
        "    for key, value in passages_ranked.items():\n",
        "      doc = \"doc\"+str(collection['doc_id'][key])\n",
        "      if(doc in relevant_docs[i]):\n",
        "        print(doc)\n",
        "        true_positives+=1\n",
        "        print(value)\n",
        "        precision_at_k.append(true_positives/value)\n",
        "        recall_at_k.append(true_positives/len(relevant_docs[i]))\n",
        "\n",
        "    average_precision = 0\n",
        "    for x in range(len(precision_at_k)):\n",
        "      value = precision_at_k[x]*recall_at_k[x]\n",
        "      average_precision += value\n",
        "\n",
        "    #print(average_precision)\n",
        "    average_precision = average_precision/len(relevant_docs[i])\n",
        "    print(average_precision)\n",
        "    #avg_pr_list.append(average_precision)\n",
        "\n",
        "#mean_average_precision = sum(avg_pr_list)/20\n",
        "#print(mean_average_precision)\n",
        "\n",
        "## error error"
      ],
      "metadata": {
        "id": "wmCzvhQWRUNl",
        "outputId": "7804afc2-9da3-4d93-d8c0-211d38bf3534",
        "colab": {
          "base_uri": "https://localhost:8080/"
        }
      },
      "execution_count": 53,
      "outputs": [
        {
          "output_type": "stream",
          "name": "stdout",
          "text": [
            "doc151\n",
            "5\n",
            "doc505\n",
            "10\n",
            "doc441\n",
            "11\n",
            "doc533\n",
            "23\n",
            "doc1185\n",
            "30\n",
            "doc1175\n",
            "32\n",
            "doc439\n",
            "33\n",
            "doc502\n",
            "57\n",
            "0.005778393449671747\n"
          ]
        }
      ]
    }
  ],
  "metadata": {
    "accelerator": "GPU",
    "colab": {
      "gpuType": "T4",
      "provenance": [],
      "include_colab_link": true
    },
    "kernelspec": {
      "display_name": "Python 3",
      "name": "python3"
    },
    "language_info": {
      "codemirror_mode": {
        "name": "ipython",
        "version": 3
      },
      "file_extension": ".py",
      "mimetype": "text/x-python",
      "name": "python",
      "nbconvert_exporter": "python",
      "pygments_lexer": "ipython3",
      "version": "3.9.1"
    },
    "widgets": {
      "application/vnd.jupyter.widget-state+json": {
        "5180fa08d1d543c598d782c4d1154f03": {
          "model_module": "@jupyter-widgets/controls",
          "model_name": "HBoxModel",
          "model_module_version": "1.5.0",
          "state": {
            "_dom_classes": [],
            "_model_module": "@jupyter-widgets/controls",
            "_model_module_version": "1.5.0",
            "_model_name": "HBoxModel",
            "_view_count": null,
            "_view_module": "@jupyter-widgets/controls",
            "_view_module_version": "1.5.0",
            "_view_name": "HBoxView",
            "box_style": "",
            "children": [
              "IPY_MODEL_7f2ae11266504dafb460dc37c8ef66f9",
              "IPY_MODEL_c9a43a0c194843a08e404f95144c9695",
              "IPY_MODEL_451f4ec01b3b4a62b8bf3f3e483ac54c"
            ],
            "layout": "IPY_MODEL_23b5740a96ad42b7b63b280bb4a5da27"
          }
        },
        "7f2ae11266504dafb460dc37c8ef66f9": {
          "model_module": "@jupyter-widgets/controls",
          "model_name": "HTMLModel",
          "model_module_version": "1.5.0",
          "state": {
            "_dom_classes": [],
            "_model_module": "@jupyter-widgets/controls",
            "_model_module_version": "1.5.0",
            "_model_name": "HTMLModel",
            "_view_count": null,
            "_view_module": "@jupyter-widgets/controls",
            "_view_module_version": "1.5.0",
            "_view_name": "HTMLView",
            "description": "",
            "description_tooltip": null,
            "layout": "IPY_MODEL_e43e8266932948ffb9909bc37d1799e5",
            "placeholder": "​",
            "style": "IPY_MODEL_ef74e5c666d64adbaf420227a726b0f6",
            "value": "artifact.metadata: 100%"
          }
        },
        "c9a43a0c194843a08e404f95144c9695": {
          "model_module": "@jupyter-widgets/controls",
          "model_name": "FloatProgressModel",
          "model_module_version": "1.5.0",
          "state": {
            "_dom_classes": [],
            "_model_module": "@jupyter-widgets/controls",
            "_model_module_version": "1.5.0",
            "_model_name": "FloatProgressModel",
            "_view_count": null,
            "_view_module": "@jupyter-widgets/controls",
            "_view_module_version": "1.5.0",
            "_view_name": "ProgressView",
            "bar_style": "success",
            "description": "",
            "description_tooltip": null,
            "layout": "IPY_MODEL_4dabee8a978e4f559c7e5f01938762d9",
            "max": 1633,
            "min": 0,
            "orientation": "horizontal",
            "style": "IPY_MODEL_fb3161db526e4066943eaee7d670f3ba",
            "value": 1633
          }
        },
        "451f4ec01b3b4a62b8bf3f3e483ac54c": {
          "model_module": "@jupyter-widgets/controls",
          "model_name": "HTMLModel",
          "model_module_version": "1.5.0",
          "state": {
            "_dom_classes": [],
            "_model_module": "@jupyter-widgets/controls",
            "_model_module_version": "1.5.0",
            "_model_name": "HTMLModel",
            "_view_count": null,
            "_view_module": "@jupyter-widgets/controls",
            "_view_module_version": "1.5.0",
            "_view_name": "HTMLView",
            "description": "",
            "description_tooltip": null,
            "layout": "IPY_MODEL_b4afb47874114567a77d5745b79e9cfb",
            "placeholder": "​",
            "style": "IPY_MODEL_72ed987e87cb4db0804cb21815f62427",
            "value": " 1.63k/1.63k [00:00&lt;00:00, 47.0kB/s]"
          }
        },
        "23b5740a96ad42b7b63b280bb4a5da27": {
          "model_module": "@jupyter-widgets/base",
          "model_name": "LayoutModel",
          "model_module_version": "1.2.0",
          "state": {
            "_model_module": "@jupyter-widgets/base",
            "_model_module_version": "1.2.0",
            "_model_name": "LayoutModel",
            "_view_count": null,
            "_view_module": "@jupyter-widgets/base",
            "_view_module_version": "1.2.0",
            "_view_name": "LayoutView",
            "align_content": null,
            "align_items": null,
            "align_self": null,
            "border": null,
            "bottom": null,
            "display": null,
            "flex": null,
            "flex_flow": null,
            "grid_area": null,
            "grid_auto_columns": null,
            "grid_auto_flow": null,
            "grid_auto_rows": null,
            "grid_column": null,
            "grid_gap": null,
            "grid_row": null,
            "grid_template_areas": null,
            "grid_template_columns": null,
            "grid_template_rows": null,
            "height": null,
            "justify_content": null,
            "justify_items": null,
            "left": null,
            "margin": null,
            "max_height": null,
            "max_width": null,
            "min_height": null,
            "min_width": null,
            "object_fit": null,
            "object_position": null,
            "order": null,
            "overflow": null,
            "overflow_x": null,
            "overflow_y": null,
            "padding": null,
            "right": null,
            "top": null,
            "visibility": null,
            "width": null
          }
        },
        "e43e8266932948ffb9909bc37d1799e5": {
          "model_module": "@jupyter-widgets/base",
          "model_name": "LayoutModel",
          "model_module_version": "1.2.0",
          "state": {
            "_model_module": "@jupyter-widgets/base",
            "_model_module_version": "1.2.0",
            "_model_name": "LayoutModel",
            "_view_count": null,
            "_view_module": "@jupyter-widgets/base",
            "_view_module_version": "1.2.0",
            "_view_name": "LayoutView",
            "align_content": null,
            "align_items": null,
            "align_self": null,
            "border": null,
            "bottom": null,
            "display": null,
            "flex": null,
            "flex_flow": null,
            "grid_area": null,
            "grid_auto_columns": null,
            "grid_auto_flow": null,
            "grid_auto_rows": null,
            "grid_column": null,
            "grid_gap": null,
            "grid_row": null,
            "grid_template_areas": null,
            "grid_template_columns": null,
            "grid_template_rows": null,
            "height": null,
            "justify_content": null,
            "justify_items": null,
            "left": null,
            "margin": null,
            "max_height": null,
            "max_width": null,
            "min_height": null,
            "min_width": null,
            "object_fit": null,
            "object_position": null,
            "order": null,
            "overflow": null,
            "overflow_x": null,
            "overflow_y": null,
            "padding": null,
            "right": null,
            "top": null,
            "visibility": null,
            "width": null
          }
        },
        "ef74e5c666d64adbaf420227a726b0f6": {
          "model_module": "@jupyter-widgets/controls",
          "model_name": "DescriptionStyleModel",
          "model_module_version": "1.5.0",
          "state": {
            "_model_module": "@jupyter-widgets/controls",
            "_model_module_version": "1.5.0",
            "_model_name": "DescriptionStyleModel",
            "_view_count": null,
            "_view_module": "@jupyter-widgets/base",
            "_view_module_version": "1.2.0",
            "_view_name": "StyleView",
            "description_width": ""
          }
        },
        "4dabee8a978e4f559c7e5f01938762d9": {
          "model_module": "@jupyter-widgets/base",
          "model_name": "LayoutModel",
          "model_module_version": "1.2.0",
          "state": {
            "_model_module": "@jupyter-widgets/base",
            "_model_module_version": "1.2.0",
            "_model_name": "LayoutModel",
            "_view_count": null,
            "_view_module": "@jupyter-widgets/base",
            "_view_module_version": "1.2.0",
            "_view_name": "LayoutView",
            "align_content": null,
            "align_items": null,
            "align_self": null,
            "border": null,
            "bottom": null,
            "display": null,
            "flex": null,
            "flex_flow": null,
            "grid_area": null,
            "grid_auto_columns": null,
            "grid_auto_flow": null,
            "grid_auto_rows": null,
            "grid_column": null,
            "grid_gap": null,
            "grid_row": null,
            "grid_template_areas": null,
            "grid_template_columns": null,
            "grid_template_rows": null,
            "height": null,
            "justify_content": null,
            "justify_items": null,
            "left": null,
            "margin": null,
            "max_height": null,
            "max_width": null,
            "min_height": null,
            "min_width": null,
            "object_fit": null,
            "object_position": null,
            "order": null,
            "overflow": null,
            "overflow_x": null,
            "overflow_y": null,
            "padding": null,
            "right": null,
            "top": null,
            "visibility": null,
            "width": null
          }
        },
        "fb3161db526e4066943eaee7d670f3ba": {
          "model_module": "@jupyter-widgets/controls",
          "model_name": "ProgressStyleModel",
          "model_module_version": "1.5.0",
          "state": {
            "_model_module": "@jupyter-widgets/controls",
            "_model_module_version": "1.5.0",
            "_model_name": "ProgressStyleModel",
            "_view_count": null,
            "_view_module": "@jupyter-widgets/base",
            "_view_module_version": "1.2.0",
            "_view_name": "StyleView",
            "bar_color": null,
            "description_width": ""
          }
        },
        "b4afb47874114567a77d5745b79e9cfb": {
          "model_module": "@jupyter-widgets/base",
          "model_name": "LayoutModel",
          "model_module_version": "1.2.0",
          "state": {
            "_model_module": "@jupyter-widgets/base",
            "_model_module_version": "1.2.0",
            "_model_name": "LayoutModel",
            "_view_count": null,
            "_view_module": "@jupyter-widgets/base",
            "_view_module_version": "1.2.0",
            "_view_name": "LayoutView",
            "align_content": null,
            "align_items": null,
            "align_self": null,
            "border": null,
            "bottom": null,
            "display": null,
            "flex": null,
            "flex_flow": null,
            "grid_area": null,
            "grid_auto_columns": null,
            "grid_auto_flow": null,
            "grid_auto_rows": null,
            "grid_column": null,
            "grid_gap": null,
            "grid_row": null,
            "grid_template_areas": null,
            "grid_template_columns": null,
            "grid_template_rows": null,
            "height": null,
            "justify_content": null,
            "justify_items": null,
            "left": null,
            "margin": null,
            "max_height": null,
            "max_width": null,
            "min_height": null,
            "min_width": null,
            "object_fit": null,
            "object_position": null,
            "order": null,
            "overflow": null,
            "overflow_x": null,
            "overflow_y": null,
            "padding": null,
            "right": null,
            "top": null,
            "visibility": null,
            "width": null
          }
        },
        "72ed987e87cb4db0804cb21815f62427": {
          "model_module": "@jupyter-widgets/controls",
          "model_name": "DescriptionStyleModel",
          "model_module_version": "1.5.0",
          "state": {
            "_model_module": "@jupyter-widgets/controls",
            "_model_module_version": "1.5.0",
            "_model_name": "DescriptionStyleModel",
            "_view_count": null,
            "_view_module": "@jupyter-widgets/base",
            "_view_module_version": "1.2.0",
            "_view_name": "StyleView",
            "description_width": ""
          }
        }
      }
    }
  },
  "nbformat": 4,
  "nbformat_minor": 0
}