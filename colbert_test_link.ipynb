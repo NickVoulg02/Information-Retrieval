{
  "cells": [
    {
      "cell_type": "markdown",
      "metadata": {
        "id": "view-in-github",
        "colab_type": "text"
      },
      "source": [
        "<a href=\"https://colab.research.google.com/github/NickVoulg02/Information-Retrieval/blob/main/colbert_test_link.ipynb\" target=\"_parent\"><img src=\"https://colab.research.google.com/assets/colab-badge.svg\" alt=\"Open In Colab\"/></a>"
      ]
    },
    {
      "cell_type": "markdown",
      "metadata": {
        "id": "vTwpDNBnorUT"
      },
      "source": [
        "# ColBERTv2: Indexing & Search Notebook\n",
        "First, we'll import the relevant classes. Note that `Indexer` and `Searcher` are the key actors here. Next, we'll download the necessary dependencies."
      ]
    },
    {
      "cell_type": "code",
      "execution_count": 16,
      "metadata": {
        "colab": {
          "base_uri": "https://localhost:8080/"
        },
        "id": "nl_YBBPTo5AZ",
        "outputId": "37a9c0ad-2373-4d2a-84af-7118d185066d"
      },
      "outputs": [
        {
          "output_type": "stream",
          "name": "stdout",
          "text": [
            "Already up to date.\n"
          ]
        }
      ],
      "source": [
        "!git -C ColBERT/ pull || git clone https://github.com/stanford-futuredata/ColBERT.git\n",
        "import sys; sys.path.insert(0, 'ColBERT/')\n"
      ]
    },
    {
      "cell_type": "code",
      "execution_count": 2,
      "metadata": {
        "colab": {
          "base_uri": "https://localhost:8080/"
        },
        "id": "FmBi2UT5pxb3",
        "outputId": "7f84401b-56a9-4f46-a260-c70c8f861575"
      },
      "outputs": [
        {
          "output_type": "stream",
          "name": "stdout",
          "text": [
            "Requirement already satisfied: pip in /usr/local/lib/python3.10/dist-packages (23.1.2)\n",
            "Collecting pip\n",
            "  Downloading pip-23.3.2-py3-none-any.whl (2.1 MB)\n",
            "\u001b[2K     \u001b[90m━━━━━━━━━━━━━━━━━━━━━━━━━━━━━━━━━━━━━━━━\u001b[0m \u001b[32m2.1/2.1 MB\u001b[0m \u001b[31m12.3 MB/s\u001b[0m eta \u001b[36m0:00:00\u001b[0m\n",
            "\u001b[?25hInstalling collected packages: pip\n",
            "  Attempting uninstall: pip\n",
            "    Found existing installation: pip 23.1.2\n",
            "    Uninstalling pip-23.1.2:\n",
            "      Successfully uninstalled pip-23.1.2\n",
            "Successfully installed pip-23.3.2\n",
            "Obtaining file:///content/ColBERT\n",
            "  Preparing metadata (setup.py) ... \u001b[?25l\u001b[?25hdone\n",
            "Collecting bitarray (from colbert-ai==0.2.18)\n",
            "  Downloading bitarray-2.9.2-cp310-cp310-manylinux_2_17_x86_64.manylinux2014_x86_64.whl.metadata (34 kB)\n",
            "Collecting datasets (from colbert-ai==0.2.18)\n",
            "  Downloading datasets-2.16.1-py3-none-any.whl.metadata (20 kB)\n",
            "Requirement already satisfied: flask in /usr/local/lib/python3.10/dist-packages (from colbert-ai==0.2.18) (2.2.5)\n",
            "Collecting git-python (from colbert-ai==0.2.18)\n",
            "  Downloading git_python-1.0.3-py2.py3-none-any.whl (1.9 kB)\n",
            "Collecting python-dotenv (from colbert-ai==0.2.18)\n",
            "  Downloading python_dotenv-1.0.1-py3-none-any.whl.metadata (23 kB)\n",
            "Collecting ninja (from colbert-ai==0.2.18)\n",
            "  Downloading ninja-1.11.1.1-py2.py3-none-manylinux1_x86_64.manylinux_2_5_x86_64.whl.metadata (5.3 kB)\n",
            "Requirement already satisfied: scipy in /usr/local/lib/python3.10/dist-packages (from colbert-ai==0.2.18) (1.11.4)\n",
            "Requirement already satisfied: tqdm in /usr/local/lib/python3.10/dist-packages (from colbert-ai==0.2.18) (4.66.1)\n",
            "Requirement already satisfied: transformers in /usr/local/lib/python3.10/dist-packages (from colbert-ai==0.2.18) (4.35.2)\n",
            "Collecting ujson (from colbert-ai==0.2.18)\n",
            "  Downloading ujson-5.9.0-cp310-cp310-manylinux_2_17_x86_64.manylinux2014_x86_64.whl.metadata (8.7 kB)\n",
            "Collecting faiss-gpu>=1.7.0 (from colbert-ai==0.2.18)\n",
            "  Downloading faiss_gpu-1.7.2-cp310-cp310-manylinux_2_17_x86_64.manylinux2014_x86_64.whl (85.5 MB)\n",
            "\u001b[2K     \u001b[90m━━━━━━━━━━━━━━━━━━━━━━━━━━━━━━━━━━━━━━━━\u001b[0m \u001b[32m85.5/85.5 MB\u001b[0m \u001b[31m9.4 MB/s\u001b[0m eta \u001b[36m0:00:00\u001b[0m\n",
            "\u001b[?25hCollecting torch==1.13.1 (from colbert-ai==0.2.18)\n",
            "  Downloading torch-1.13.1-cp310-cp310-manylinux1_x86_64.whl (887.5 MB)\n",
            "\u001b[2K     \u001b[90m━━━━━━━━━━━━━━━━━━━━━━━━━━━━━━━━━━━━━━━━\u001b[0m \u001b[32m887.5/887.5 MB\u001b[0m \u001b[31m2.3 MB/s\u001b[0m eta \u001b[36m0:00:00\u001b[0m\n",
            "\u001b[?25hRequirement already satisfied: typing-extensions in /usr/local/lib/python3.10/dist-packages (from torch==1.13.1->colbert-ai==0.2.18) (4.5.0)\n",
            "Collecting nvidia-cuda-runtime-cu11==11.7.99 (from torch==1.13.1->colbert-ai==0.2.18)\n",
            "  Downloading nvidia_cuda_runtime_cu11-11.7.99-py3-none-manylinux1_x86_64.whl (849 kB)\n",
            "\u001b[2K     \u001b[90m━━━━━━━━━━━━━━━━━━━━━━━━━━━━━━━━━━━━━━━━\u001b[0m \u001b[32m849.3/849.3 kB\u001b[0m \u001b[31m49.0 MB/s\u001b[0m eta \u001b[36m0:00:00\u001b[0m\n",
            "\u001b[?25hCollecting nvidia-cudnn-cu11==8.5.0.96 (from torch==1.13.1->colbert-ai==0.2.18)\n",
            "  Downloading nvidia_cudnn_cu11-8.5.0.96-2-py3-none-manylinux1_x86_64.whl (557.1 MB)\n",
            "\u001b[2K     \u001b[90m━━━━━━━━━━━━━━━━━━━━━━━━━━━━━━━━━━━━━━━━\u001b[0m \u001b[32m557.1/557.1 MB\u001b[0m \u001b[31m3.2 MB/s\u001b[0m eta \u001b[36m0:00:00\u001b[0m\n",
            "\u001b[?25hCollecting nvidia-cublas-cu11==11.10.3.66 (from torch==1.13.1->colbert-ai==0.2.18)\n",
            "  Downloading nvidia_cublas_cu11-11.10.3.66-py3-none-manylinux1_x86_64.whl (317.1 MB)\n",
            "\u001b[2K     \u001b[90m━━━━━━━━━━━━━━━━━━━━━━━━━━━━━━━━━━━━━━━━\u001b[0m \u001b[32m317.1/317.1 MB\u001b[0m \u001b[31m4.5 MB/s\u001b[0m eta \u001b[36m0:00:00\u001b[0m\n",
            "\u001b[?25hCollecting nvidia-cuda-nvrtc-cu11==11.7.99 (from torch==1.13.1->colbert-ai==0.2.18)\n",
            "  Downloading nvidia_cuda_nvrtc_cu11-11.7.99-2-py3-none-manylinux1_x86_64.whl (21.0 MB)\n",
            "\u001b[2K     \u001b[90m━━━━━━━━━━━━━━━━━━━━━━━━━━━━━━━━━━━━━━━━\u001b[0m \u001b[32m21.0/21.0 MB\u001b[0m \u001b[31m55.8 MB/s\u001b[0m eta \u001b[36m0:00:00\u001b[0m\n",
            "\u001b[?25hRequirement already satisfied: setuptools in /usr/local/lib/python3.10/dist-packages (from nvidia-cublas-cu11==11.10.3.66->torch==1.13.1->colbert-ai==0.2.18) (67.7.2)\n",
            "Requirement already satisfied: wheel in /usr/local/lib/python3.10/dist-packages (from nvidia-cublas-cu11==11.10.3.66->torch==1.13.1->colbert-ai==0.2.18) (0.42.0)\n",
            "Requirement already satisfied: filelock in /usr/local/lib/python3.10/dist-packages (from datasets->colbert-ai==0.2.18) (3.13.1)\n",
            "Requirement already satisfied: numpy>=1.17 in /usr/local/lib/python3.10/dist-packages (from datasets->colbert-ai==0.2.18) (1.23.5)\n",
            "Requirement already satisfied: pyarrow>=8.0.0 in /usr/local/lib/python3.10/dist-packages (from datasets->colbert-ai==0.2.18) (10.0.1)\n",
            "Requirement already satisfied: pyarrow-hotfix in /usr/local/lib/python3.10/dist-packages (from datasets->colbert-ai==0.2.18) (0.6)\n",
            "Collecting dill<0.3.8,>=0.3.0 (from datasets->colbert-ai==0.2.18)\n",
            "  Downloading dill-0.3.7-py3-none-any.whl.metadata (9.9 kB)\n",
            "Requirement already satisfied: pandas in /usr/local/lib/python3.10/dist-packages (from datasets->colbert-ai==0.2.18) (1.5.3)\n",
            "Requirement already satisfied: requests>=2.19.0 in /usr/local/lib/python3.10/dist-packages (from datasets->colbert-ai==0.2.18) (2.31.0)\n",
            "Requirement already satisfied: xxhash in /usr/local/lib/python3.10/dist-packages (from datasets->colbert-ai==0.2.18) (3.4.1)\n",
            "Collecting multiprocess (from datasets->colbert-ai==0.2.18)\n",
            "  Downloading multiprocess-0.70.16-py310-none-any.whl.metadata (7.2 kB)\n",
            "Requirement already satisfied: fsspec<=2023.10.0,>=2023.1.0 in /usr/local/lib/python3.10/dist-packages (from fsspec[http]<=2023.10.0,>=2023.1.0->datasets->colbert-ai==0.2.18) (2023.6.0)\n",
            "Requirement already satisfied: aiohttp in /usr/local/lib/python3.10/dist-packages (from datasets->colbert-ai==0.2.18) (3.9.1)\n",
            "Requirement already satisfied: huggingface-hub>=0.19.4 in /usr/local/lib/python3.10/dist-packages (from datasets->colbert-ai==0.2.18) (0.20.3)\n",
            "Requirement already satisfied: packaging in /usr/local/lib/python3.10/dist-packages (from datasets->colbert-ai==0.2.18) (23.2)\n",
            "Requirement already satisfied: pyyaml>=5.1 in /usr/local/lib/python3.10/dist-packages (from datasets->colbert-ai==0.2.18) (6.0.1)\n",
            "Requirement already satisfied: Werkzeug>=2.2.2 in /usr/local/lib/python3.10/dist-packages (from flask->colbert-ai==0.2.18) (3.0.1)\n",
            "Requirement already satisfied: Jinja2>=3.0 in /usr/local/lib/python3.10/dist-packages (from flask->colbert-ai==0.2.18) (3.1.3)\n",
            "Requirement already satisfied: itsdangerous>=2.0 in /usr/local/lib/python3.10/dist-packages (from flask->colbert-ai==0.2.18) (2.1.2)\n",
            "Requirement already satisfied: click>=8.0 in /usr/local/lib/python3.10/dist-packages (from flask->colbert-ai==0.2.18) (8.1.7)\n",
            "Collecting gitpython (from git-python->colbert-ai==0.2.18)\n",
            "  Downloading GitPython-3.1.41-py3-none-any.whl.metadata (14 kB)\n",
            "Requirement already satisfied: regex!=2019.12.17 in /usr/local/lib/python3.10/dist-packages (from transformers->colbert-ai==0.2.18) (2023.6.3)\n",
            "Requirement already satisfied: tokenizers<0.19,>=0.14 in /usr/local/lib/python3.10/dist-packages (from transformers->colbert-ai==0.2.18) (0.15.1)\n",
            "Requirement already satisfied: safetensors>=0.3.1 in /usr/local/lib/python3.10/dist-packages (from transformers->colbert-ai==0.2.18) (0.4.1)\n",
            "Requirement already satisfied: attrs>=17.3.0 in /usr/local/lib/python3.10/dist-packages (from aiohttp->datasets->colbert-ai==0.2.18) (23.2.0)\n",
            "Requirement already satisfied: multidict<7.0,>=4.5 in /usr/local/lib/python3.10/dist-packages (from aiohttp->datasets->colbert-ai==0.2.18) (6.0.4)\n",
            "Requirement already satisfied: yarl<2.0,>=1.0 in /usr/local/lib/python3.10/dist-packages (from aiohttp->datasets->colbert-ai==0.2.18) (1.9.4)\n",
            "Requirement already satisfied: frozenlist>=1.1.1 in /usr/local/lib/python3.10/dist-packages (from aiohttp->datasets->colbert-ai==0.2.18) (1.4.1)\n",
            "Requirement already satisfied: aiosignal>=1.1.2 in /usr/local/lib/python3.10/dist-packages (from aiohttp->datasets->colbert-ai==0.2.18) (1.3.1)\n",
            "Requirement already satisfied: async-timeout<5.0,>=4.0 in /usr/local/lib/python3.10/dist-packages (from aiohttp->datasets->colbert-ai==0.2.18) (4.0.3)\n",
            "Requirement already satisfied: MarkupSafe>=2.0 in /usr/local/lib/python3.10/dist-packages (from Jinja2>=3.0->flask->colbert-ai==0.2.18) (2.1.4)\n",
            "Requirement already satisfied: charset-normalizer<4,>=2 in /usr/local/lib/python3.10/dist-packages (from requests>=2.19.0->datasets->colbert-ai==0.2.18) (3.3.2)\n",
            "Requirement already satisfied: idna<4,>=2.5 in /usr/local/lib/python3.10/dist-packages (from requests>=2.19.0->datasets->colbert-ai==0.2.18) (3.6)\n",
            "Requirement already satisfied: urllib3<3,>=1.21.1 in /usr/local/lib/python3.10/dist-packages (from requests>=2.19.0->datasets->colbert-ai==0.2.18) (2.0.7)\n",
            "Requirement already satisfied: certifi>=2017.4.17 in /usr/local/lib/python3.10/dist-packages (from requests>=2.19.0->datasets->colbert-ai==0.2.18) (2023.11.17)\n",
            "Collecting gitdb<5,>=4.0.1 (from gitpython->git-python->colbert-ai==0.2.18)\n",
            "  Downloading gitdb-4.0.11-py3-none-any.whl.metadata (1.2 kB)\n",
            "INFO: pip is looking at multiple versions of multiprocess to determine which version is compatible with other requirements. This could take a while.\n",
            "Collecting multiprocess (from datasets->colbert-ai==0.2.18)\n",
            "  Downloading multiprocess-0.70.15-py310-none-any.whl.metadata (7.2 kB)\n",
            "Requirement already satisfied: python-dateutil>=2.8.1 in /usr/local/lib/python3.10/dist-packages (from pandas->datasets->colbert-ai==0.2.18) (2.8.2)\n",
            "Requirement already satisfied: pytz>=2020.1 in /usr/local/lib/python3.10/dist-packages (from pandas->datasets->colbert-ai==0.2.18) (2023.3.post1)\n",
            "Collecting smmap<6,>=3.0.1 (from gitdb<5,>=4.0.1->gitpython->git-python->colbert-ai==0.2.18)\n",
            "  Downloading smmap-5.0.1-py3-none-any.whl.metadata (4.3 kB)\n",
            "Requirement already satisfied: six>=1.5 in /usr/local/lib/python3.10/dist-packages (from python-dateutil>=2.8.1->pandas->datasets->colbert-ai==0.2.18) (1.16.0)\n",
            "Downloading bitarray-2.9.2-cp310-cp310-manylinux_2_17_x86_64.manylinux2014_x86_64.whl (288 kB)\n",
            "\u001b[2K   \u001b[90m━━━━━━━━━━━━━━━━━━━━━━━━━━━━━━━━━━━━━━━━\u001b[0m \u001b[32m288.3/288.3 kB\u001b[0m \u001b[31m25.6 MB/s\u001b[0m eta \u001b[36m0:00:00\u001b[0m\n",
            "\u001b[?25hDownloading datasets-2.16.1-py3-none-any.whl (507 kB)\n",
            "\u001b[2K   \u001b[90m━━━━━━━━━━━━━━━━━━━━━━━━━━━━━━━━━━━━━━━━\u001b[0m \u001b[32m507.1/507.1 kB\u001b[0m \u001b[31m35.6 MB/s\u001b[0m eta \u001b[36m0:00:00\u001b[0m\n",
            "\u001b[?25hDownloading ninja-1.11.1.1-py2.py3-none-manylinux1_x86_64.manylinux_2_5_x86_64.whl (307 kB)\n",
            "\u001b[2K   \u001b[90m━━━━━━━━━━━━━━━━━━━━━━━━━━━━━━━━━━━━━━━━\u001b[0m \u001b[32m307.2/307.2 kB\u001b[0m \u001b[31m26.8 MB/s\u001b[0m eta \u001b[36m0:00:00\u001b[0m\n",
            "\u001b[?25hDownloading python_dotenv-1.0.1-py3-none-any.whl (19 kB)\n",
            "Downloading ujson-5.9.0-cp310-cp310-manylinux_2_17_x86_64.manylinux2014_x86_64.whl (53 kB)\n",
            "\u001b[2K   \u001b[90m━━━━━━━━━━━━━━━━━━━━━━━━━━━━━━━━━━━━━━━━\u001b[0m \u001b[32m53.2/53.2 kB\u001b[0m \u001b[31m4.6 MB/s\u001b[0m eta \u001b[36m0:00:00\u001b[0m\n",
            "\u001b[?25hDownloading dill-0.3.7-py3-none-any.whl (115 kB)\n",
            "\u001b[2K   \u001b[90m━━━━━━━━━━━━━━━━━━━━━━━━━━━━━━━━━━━━━━━━\u001b[0m \u001b[32m115.3/115.3 kB\u001b[0m \u001b[31m10.4 MB/s\u001b[0m eta \u001b[36m0:00:00\u001b[0m\n",
            "\u001b[?25hDownloading GitPython-3.1.41-py3-none-any.whl (196 kB)\n",
            "\u001b[2K   \u001b[90m━━━━━━━━━━━━━━━━━━━━━━━━━━━━━━━━━━━━━━━━\u001b[0m \u001b[32m196.4/196.4 kB\u001b[0m \u001b[31m15.5 MB/s\u001b[0m eta \u001b[36m0:00:00\u001b[0m\n",
            "\u001b[?25hDownloading multiprocess-0.70.15-py310-none-any.whl (134 kB)\n",
            "\u001b[2K   \u001b[90m━━━━━━━━━━━━━━━━━━━━━━━━━━━━━━━━━━━━━━━━\u001b[0m \u001b[32m134.8/134.8 kB\u001b[0m \u001b[31m11.4 MB/s\u001b[0m eta \u001b[36m0:00:00\u001b[0m\n",
            "\u001b[?25hDownloading gitdb-4.0.11-py3-none-any.whl (62 kB)\n",
            "\u001b[2K   \u001b[90m━━━━━━━━━━━━━━━━━━━━━━━━━━━━━━━━━━━━━━━━\u001b[0m \u001b[32m62.7/62.7 kB\u001b[0m \u001b[31m5.2 MB/s\u001b[0m eta \u001b[36m0:00:00\u001b[0m\n",
            "\u001b[?25hDownloading smmap-5.0.1-py3-none-any.whl (24 kB)\n",
            "Installing collected packages: ninja, faiss-gpu, bitarray, ujson, smmap, python-dotenv, nvidia-cuda-runtime-cu11, nvidia-cuda-nvrtc-cu11, nvidia-cublas-cu11, dill, nvidia-cudnn-cu11, multiprocess, gitdb, torch, gitpython, git-python, datasets, colbert-ai\n",
            "  Attempting uninstall: torch\n",
            "    Found existing installation: torch 2.1.0+cu121\n",
            "    Uninstalling torch-2.1.0+cu121:\n",
            "      Successfully uninstalled torch-2.1.0+cu121\n",
            "  Running setup.py develop for colbert-ai\n",
            "\u001b[31mERROR: pip's dependency resolver does not currently take into account all the packages that are installed. This behaviour is the source of the following dependency conflicts.\n",
            "torchaudio 2.1.0+cu121 requires torch==2.1.0, but you have torch 1.13.1 which is incompatible.\n",
            "torchdata 0.7.0 requires torch==2.1.0, but you have torch 1.13.1 which is incompatible.\n",
            "torchtext 0.16.0 requires torch==2.1.0, but you have torch 1.13.1 which is incompatible.\n",
            "torchvision 0.16.0+cu121 requires torch==2.1.0, but you have torch 1.13.1 which is incompatible.\u001b[0m\u001b[31m\n",
            "\u001b[0mSuccessfully installed bitarray-2.9.2 colbert-ai-0.2.18 datasets-2.16.1 dill-0.3.7 faiss-gpu-1.7.2 git-python-1.0.3 gitdb-4.0.11 gitpython-3.1.41 multiprocess-0.70.15 ninja-1.11.1.1 nvidia-cublas-cu11-11.10.3.66 nvidia-cuda-nvrtc-cu11-11.7.99 nvidia-cuda-runtime-cu11-11.7.99 nvidia-cudnn-cu11-8.5.0.96 python-dotenv-1.0.1 smmap-5.0.1 torch-1.13.1 ujson-5.9.0\n",
            "\u001b[33mWARNING: Running pip as the 'root' user can result in broken permissions and conflicting behaviour with the system package manager. It is recommended to use a virtual environment instead: https://pip.pypa.io/warnings/venv\u001b[0m\u001b[33m\n",
            "\u001b[0m"
          ]
        }
      ],
      "source": [
        "try: # When on google Colab, let's install all dependencies with pip.\n",
        "    import google.colab\n",
        "    !pip install -U pip\n",
        "    !pip install -e ColBERT/['faiss-gpu','torch']\n",
        "except Exception:\n",
        "  import sys; sys.path.insert(0, 'ColBERT/')\n",
        "  try:\n",
        "    from colbert import Indexer, Searcher\n",
        "  except Exception:\n",
        "    print(\"If you're running outside Colab, please make sure you install ColBERT in conda following the instructions in our README. You can also install (as above) with pip but it may install slower or less stable faiss or torch dependencies. Conda is recommended.\")\n",
        "    assert False"
      ]
    },
    {
      "cell_type": "code",
      "execution_count": 3,
      "metadata": {
        "id": "N0jxbVar4kln"
      },
      "outputs": [],
      "source": [
        "import colbert"
      ]
    },
    {
      "cell_type": "code",
      "execution_count": 4,
      "metadata": {
        "id": "xQg9A-dtp1nB"
      },
      "outputs": [],
      "source": [
        "from colbert import Indexer, Searcher\n",
        "from colbert.infra import Run, RunConfig, ColBERTConfig\n",
        "from colbert.data import Queries, Collection"
      ]
    },
    {
      "cell_type": "markdown",
      "metadata": {
        "id": "TLWjmlkVq9r0"
      },
      "source": [
        "We will use the docs files and the Queries_20 file."
      ]
    },
    {
      "cell_type": "code",
      "execution_count": 5,
      "metadata": {
        "colab": {
          "base_uri": "https://localhost:8080/",
          "height": 214
        },
        "id": "rF7lv8jvq-ut",
        "outputId": "26d2a321-6dfa-4688-8f24-2c51ec2a4574"
      },
      "outputs": [
        {
          "output_type": "stream",
          "name": "stdout",
          "text": [
            "Cloning into 'Information-Retrieval'...\n",
            "remote: Enumerating objects: 111, done.\u001b[K\n",
            "remote: Counting objects: 100% (52/52), done.\u001b[K\n",
            "remote: Compressing objects: 100% (37/37), done.\u001b[K\n",
            "remote: Total 111 (delta 36), reused 15 (delta 15), pack-reused 59\u001b[K\n",
            "Receiving objects: 100% (111/111), 607.24 KiB | 12.39 MiB/s, done.\n",
            "Resolving deltas: 100% (45/45), done.\n",
            "[Jan 29, 22:31:17] #> Loading the queries from Information-Retrieval/colbert_test/queries_20.tsv ...\n",
            "[Jan 29, 22:31:17] #> Got 20 queries. All QIDs are unique.\n",
            "\n"
          ]
        },
        {
          "output_type": "execute_result",
          "data": {
            "text/plain": [
              "'Loaded 20 queries and 1,209 passages'"
            ],
            "application/vnd.google.colaboratory.intrinsic+json": {
              "type": "string"
            }
          },
          "metadata": {},
          "execution_count": 5
        }
      ],
      "source": [
        "#importing tsv files from personal github repository and creating docs dataset and queries\n",
        "!git clone https://github.com/NickVoulg02/Information-Retrieval.git\n",
        "import pandas as pd\n",
        "from datasets import Dataset\n",
        "dataset = 'test'\n",
        "df1 = pd.read_csv(\"Information-Retrieval/colbert_test/doc_col.tsv\", delimiter = '\\t', index_col=0)\n",
        "collection = Dataset.from_pandas(df1, preserve_index=True)\n",
        "query = Queries(\"Information-Retrieval/colbert_test/queries_20.tsv\")\n",
        "f'Loaded {len(query)} queries and {len(collection):,} passages'"
      ]
    },
    {
      "cell_type": "code",
      "source": [
        "print(query[0])\n",
        "print(collection[0])"
      ],
      "metadata": {
        "colab": {
          "base_uri": "https://localhost:8080/"
        },
        "id": "nNP0p8oWxN0Y",
        "outputId": "b92cfe85-a60a-4f8f-a8ad-1c382888aefd"
      },
      "execution_count": 6,
      "outputs": [
        {
          "output_type": "stream",
          "name": "stdout",
          "text": [
            "WHAT ARE THE EFFECTS OF CALCIUM ON THE PHYSICAL PROPERTIES OF MUCUS FROM CF PATIENTS\n",
            "{'doc': 'PSEUDOMONAS AERUGINOSA INFECTION IN CYSTIC FIBROSIS OCCURRENCE OF PRECIPITATING ANTIBODIES AGAINST PSEUDOMONAS AERUGINOSA IN RELATION TO THE CONCENTRATION OF SIXTEEN SERUM PROTEINS AND THE CLINICAL AND RADIOGRAPHICAL STATUS OF THE LUNGS THE SIGNIFICANCE OF PSEUDOMONAS AERUGINOSA INFECTION IN THE RESPIRATORY TRACT OF 9 CYSTIC FIBROSIS PATIENTS HAVE BEEN STUDIED BY MEANS OF IMMUNOELECTROPHORETICAL ANALYSIS OF PATIENTS SERA FOR THE NUMBER OF PRECIPITINS AGAINST PSEUDOMONAS AERUGINOSA AND THE CONCENTRATIONS OF 16 SERUM PROTEINS IN ADDITION THE CLINICAL AND RADIOGRAPHICAL STATUS OF THE LUNGS HAVE BEEN EVALUATED USING 2 SCORING SYSTEMS PRECIPITINS AGAINST PSEUDOMONAS AERUGINOSA WERE DEMONSTRATED IN ALL SERA THE MAXIMUM NUMBER IN ONE SERUM WAS 22 THE CONCENTRATIONS OF 12 OF THE SERUM PROTEINS WERE SIGNIFICANTLY CHANGED COMPARED WITH MATCHED CONTROL PERSONS NOTABLY IGG AND IGA WERE ELEVATED AND THE ACUTE PHASE PROTEINS WERE CHANGED THE LATTER SUGGESTING ACTIVE TISSUE DAMAGE THE CONCENTRATIONS OF 3 OF THE ACUTE PHASE PROTEINS NOTABLY HAPTOGLOBIN WERE CORRELATED TO THE NUMBER OF PRECIPITINS SUGGESTING THAT THE RESPIRATORY TRACT INFECTION IN PATIENTS WITH MANY PRECIPITINS IS ACCOMPANIED BY MORE TISSUE DAMAGE THAN THE INFECTION IN PATIENTS WITH FEW PRECIPITINS THE RESULTS INDICATE NO PROTECTIVE VALUE OF THE MANY PRECIPITINS ON THE TISSUE OF THE RESPIRATORY TRACT', 'doc_id': 1}\n"
          ]
        }
      ]
    },
    {
      "cell_type": "markdown",
      "metadata": {
        "id": "RKJdAAbDu7PZ"
      },
      "source": [
        "## Indexing\n",
        "\n",
        "For an efficient search, we can pre-compute the ColBERT representation of each passage and index them.\n",
        "\n",
        "Below, the `Indexer` take a model checkpoint and writes a (compressed) index to disk. We then prepare a `Searcher` for retrieval from this index."
      ]
    },
    {
      "cell_type": "code",
      "execution_count": 7,
      "metadata": {
        "id": "vKAdVN5MvDKD"
      },
      "outputs": [],
      "source": [
        "nbits = 2   # encode each dimension with 2 bits\n",
        "doc_maxlen = 300 # truncate passages at 300 tokens\n",
        "\n",
        "index_name = f'{dataset}.{nbits}bits'"
      ]
    },
    {
      "cell_type": "markdown",
      "metadata": {
        "id": "orKfQRmQv46u"
      },
      "source": [
        "Now run the `Indexer` on the collection subset. Assuming the use of only one GPU, this cell should take about six minutes to finish running."
      ]
    },
    {
      "cell_type": "code",
      "execution_count": 8,
      "metadata": {
        "colab": {
          "base_uri": "https://localhost:8080/",
          "height": 281,
          "referenced_widgets": [
            "4f2ddc4809b2495dadca61e8e87a814b",
            "4d0c5664c4074bbdaeec40cea7f347b5",
            "fec60dc8d5564ddbb0d5cd941961b2f8",
            "2620ee5cc9654be3b511bedbbbb89115",
            "b54d25fa96fe4fa888d74cfc5ffb719f",
            "8e274fda1063421784d07962deada0f9",
            "4ea2ce109ce64ca097211ee814e678aa",
            "4fd93362f4654db4a26693aecbf7400e",
            "25aa382e4b134fe8aad8ceab28425724",
            "3c87addd9c514cfdb7aaa450f56b07cb",
            "1f069761d4e94c0691de6b1446afa590"
          ]
        },
        "id": "JRiOnzxtwI0j",
        "outputId": "204b8f26-186b-480f-c5ba-bf0279e9d02a"
      },
      "outputs": [
        {
          "output_type": "stream",
          "name": "stderr",
          "text": [
            "/usr/local/lib/python3.10/dist-packages/huggingface_hub/utils/_token.py:88: UserWarning: \n",
            "The secret `HF_TOKEN` does not exist in your Colab secrets.\n",
            "To authenticate with the Hugging Face Hub, create a token in your settings tab (https://huggingface.co/settings/tokens), set it as secret in your Google Colab and restart your session.\n",
            "You will be able to reuse this secret in all of your notebooks.\n",
            "Please note that authentication is recommended but still optional to access public models or datasets.\n",
            "  warnings.warn(\n"
          ]
        },
        {
          "output_type": "display_data",
          "data": {
            "text/plain": [
              "artifact.metadata:   0%|          | 0.00/1.63k [00:00<?, ?B/s]"
            ],
            "application/vnd.jupyter.widget-view+json": {
              "version_major": 2,
              "version_minor": 0,
              "model_id": "4f2ddc4809b2495dadca61e8e87a814b"
            }
          },
          "metadata": {}
        },
        {
          "output_type": "stream",
          "name": "stdout",
          "text": [
            "\n",
            "\n",
            "[Jan 29, 22:31:29] #> Creating directory /content/experiments/notebook/indexes/test.2bits \n",
            "\n",
            "\n",
            "#> Starting...\n",
            "#> Joined...\n"
          ]
        }
      ],
      "source": [
        "checkpoint = 'colbert-ir/colbertv2.0'\n",
        "\n",
        "with Run().context(RunConfig(nranks=1, experiment='notebook')):                   # nranks specifies the number of GPUs to use\n",
        "    config = ColBERTConfig(doc_maxlen=doc_maxlen, nbits=nbits, kmeans_niters=4)   # kmeans_niters specifies the number of iterations of k-means clustering; 4 is a good and fast default.\n",
        "                                                                                  # Consider larger numbers for small datasets.\n",
        "\n",
        "    indexer = Indexer(checkpoint=checkpoint, config=config)\n",
        "    indexer.index(name=index_name, collection=collection[\"doc\"], overwrite=True)\n"
      ]
    },
    {
      "cell_type": "code",
      "execution_count": 9,
      "metadata": {
        "colab": {
          "base_uri": "https://localhost:8080/",
          "height": 35
        },
        "id": "CTbP2LS1xHVZ",
        "outputId": "ef9bdd11-443b-43ca-acfa-c9986911b83c"
      },
      "outputs": [
        {
          "output_type": "execute_result",
          "data": {
            "text/plain": [
              "'/content/experiments/notebook/indexes/test.2bits'"
            ],
            "application/vnd.google.colaboratory.intrinsic+json": {
              "type": "string"
            }
          },
          "metadata": {},
          "execution_count": 9
        }
      ],
      "source": [
        "indexer.get_index() # You can get the absolute path of the index, if needed."
      ]
    },
    {
      "cell_type": "markdown",
      "metadata": {
        "id": "IY6_D523yBFB"
      },
      "source": [
        "## Search\n",
        "\n",
        "Having built the index and prepared our `searcher`, we can search for individual query strings."
      ]
    },
    {
      "cell_type": "code",
      "execution_count": 10,
      "metadata": {
        "colab": {
          "base_uri": "https://localhost:8080/"
        },
        "id": "j3x_FnVnyB0n",
        "outputId": "ebfd922a-0233-48fa-8630-7e15b8535167"
      },
      "outputs": [
        {
          "output_type": "stream",
          "name": "stdout",
          "text": [
            "[Jan 29, 22:36:27] #> Loading codec...\n",
            "[Jan 29, 22:36:27] Loading decompress_residuals_cpp extension (set COLBERT_LOAD_TORCH_EXTENSION_VERBOSE=True for more info)...\n",
            "[Jan 29, 22:36:27] Loading packbits_cpp extension (set COLBERT_LOAD_TORCH_EXTENSION_VERBOSE=True for more info)...\n",
            "[Jan 29, 22:36:27] #> Loading IVF...\n",
            "[Jan 29, 22:36:27] #> Loading doclens...\n"
          ]
        },
        {
          "output_type": "stream",
          "name": "stderr",
          "text": [
            "100%|██████████| 1/1 [00:00<00:00, 3600.26it/s]"
          ]
        },
        {
          "output_type": "stream",
          "name": "stdout",
          "text": [
            "[Jan 29, 22:36:27] #> Loading codes and residuals...\n"
          ]
        },
        {
          "output_type": "stream",
          "name": "stderr",
          "text": [
            "\n",
            "100%|██████████| 1/1 [00:00<00:00, 152.34it/s]\n"
          ]
        }
      ],
      "source": [
        "# To create the searcher using its relative name (i.e., not a full path), set\n",
        "# experiment=value_used_for_indexing in the RunConfig.\n",
        "with Run().context(RunConfig(experiment='notebook')):\n",
        "    searcher = Searcher(index=index_name, collection=collection[\"doc\"])"
      ]
    },
    {
      "cell_type": "code",
      "execution_count": 11,
      "metadata": {
        "colab": {
          "base_uri": "https://localhost:8080/"
        },
        "id": "3JYA0N22yIeS",
        "outputId": "2f7a2806-8c2a-4dfe-e7b1-9e52f07b4f92"
      },
      "outputs": [
        {
          "output_type": "stream",
          "name": "stdout",
          "text": [
            "\n",
            "#> QueryTokenizer.tensorize(batch_text[0], batch_background[0], bsize) ==\n",
            "#> Input: . WHAT ARE THE HEPATIC COMPLICATIONS OR MANIFESTATIONS OF CF, \t\t True, \t\t None\n",
            "#> Output IDs: torch.Size([32]), tensor([  101,     1,  2054,  2024,  1996,  2002, 24952,  2278, 12763,  2030,\n",
            "        24491,  2015,  1997, 12935,   102,   103,   103,   103,   103,   103,\n",
            "          103,   103,   103,   103,   103,   103,   103,   103,   103,   103,\n",
            "          103,   103], device='cuda:0')\n",
            "#> Output Mask: torch.Size([32]), tensor([1, 1, 1, 1, 1, 1, 1, 1, 1, 1, 1, 1, 1, 1, 1, 0, 0, 0, 0, 0, 0, 0, 0, 0,\n",
            "        0, 0, 0, 0, 0, 0, 0, 0], device='cuda:0')\n",
            "\n",
            "Rank\tScore\tId\tPassage\n",
            "[1] \t21.3 \t301 \tGASTROINTESTINAL MANIFESTATIONS OF CYSTIC FIBROSIS FROM A HISTORICAL VIEW CYSTIC FIBROSIS CF HAS BEEN CONSIDERED A DISEASE OF THE PANCREAS WHICH RESULTS IN MALDIGESTION AND LOSS OF FAT AND NITROGEN IN THE STOOL A NUMBER OF EARLY SYNONYMS INCLUDED CONGENITAL STEATORRHEA PANCREATIC INFANTILISM AND PANCREATIC FIBROSIS THE CONCERN OF THE PEDIATRICIAN IN THE LATE 1930S AND EARLY 1940S WAS TO DISTINGUISH NONFATAL CELIAC DISEASE FROM FATAL CYSTIC FIBROSIS IN 1954 SHWACHMAN PRESENTED CLINICAL AND LABORATORY FEATURES THAT DISTINGUISH THESE TWO ENTITIES TODAY ONE IS NOT JUSTIFIED IN MAKING A DIAGNOSIS OF CELIAC DISEASE WITHOUT A CONFIRMATORY SMALL INTESTINAL BIOPSY COUPLED WITH A NORMAL SWEAT TEST A NUMBER OF GASTROINTESTINAL COMPLICATIONS IN CYSTIC FIBROSIS ARE EXAMINED MECONIUM ILEUS INTESTINAL OBSTRUCTION PANCREATIC INSUFFICIENCY LACTASE DEFICIENCY INTESTINAL IMPACTION INTUSSUSCEPTION RECTAL PROLAPSE GROWTH RETARDATION EXCESSIVE APPETITE CIRRHOSIS AND PORTAL HYPERTENSION GALLBLADDER PROBLEMS AND DIABETES THE ARTICLE CLOSES BY RECORDING THE INDICATIONS FOR THE SWEAT TEST\n",
            "[2] \t20.7 \t398 \tCYSTIC FIBROSIS PHYSIOLOGY GONE WRONG CYSTIC FIBROSIS CF LIKE SYPHILIS COULD ACCURATELY BE DESCRIBED AS THE GREAT IMITATOR MANY ORGAN SYSTEMS ARE INVOLVED AND A CLEAR UNDERSTANDING OF THE DISEASE AND ITS MANY COMPLICATIONS IS A USEFUL EXERCISE IN UNDERSTANDING HUMAN PHYSIOLOGY CF COULD BE CALLED THICKSECRETION DISEASE BECAUSE ALL EXOCRINE FLUIDS LIKE PANCREATIC JUICE ARE THICK OR IT COULD BE CALLED MULTIMYSTERY DISEASE BECAUSE THERE ARE SO MANY UNANSWERED QUESTIONS ABOUT IT MANY MANIFESTATIONS OF CF ARE UNDERSTANDABLE COMPLICATIONS OF MALABSORPTION MALNUTRITION AND THE PHYSICAL AND CHEMICAL EFFECTS OF ABNORMAL EXOCRINE SECRETION OTHERS INCLUDING THE SUSCEPTIBILITY TO RECURRENT NASAL POLYPS THE HYPERSALINIZED SWEAT LOW FEMALE FERTILITY AND MALE STERILITY GIVEN PRESENT KNOWLEDGE DO NOT MAKE PHYSIOLOGIC SENSE\n",
            "[3] \t20.5 \t559 \tMANIFESTATIONS OF CYSTIC FIBROSIS IN ADULTS LETTER CYSTIC FIBROSIS CF IS A RECESSIVE AUTOSOMAL GENETIC DISEASE IN WHICH EXOCRINE GLANDS SECRETE HIGHLY VISCOUS MUCUS VARIABLE GENETIC PENETRANCE ORGAN SPARING RESULTS IN A BROAD SPECTRUM OF CLINICAL PRESENTATIONS THE DIAGNOSIS OF CF IS USUALLY ESTABLISHED BY THE PRESENCE OF CHRONIC OBSTRUCTIVE LUNG DISEASE ANDOR GASTROINTESTINAL DYSFUNCTION TOGETHER WITH ELEVATED LEVELS OF SWEAT ELECTROLYTES CHLORIDE  60 MEQLITER MARKEDLY DIMINISHED DUODENAL PANCREATIC ENZYME CONCENTRATIONS OR PATHOLOGIC CHANGES IN TISSUE FAMILY HISTORY MAY OCCASIONALLY BE HELPFUL THE METABOLIC BASIS OF CF IS UNKNOWN THE CLASSIC STEREOTYPE OF THE CF PATIENT IS AN INFANT WITH A CHRONIC COUGH DIARRHEA AND GROWTH FAILURE IMPROVED MEDICAL CARE IS ENABLING MANY OF THESE PATIENTS TO REACH ADULTHOOD AND INCREASED DIAGNOSTIC SUSPICION IS RESULTING IN IDENTIFICATION OF THE DISEASE IN MORE ADULTS BASED UPON ANALYSIS OF OVER 11000 CASES OF CF REPORTED DURING THE YEAR 1974 BY 119 CYSTIC FIBROSIS CENTERS THE NATIONAL CYSTIC FIBROSIS FOUNDATION ESTIMATED THAT THE PROBABILITY OF AN INDIVIDUAL WITH CF SURVIVING TO AGE 20 WAS APPROXIMATELY 39 ALTHOUGH MOST OF THESE ADULTS ARE CURRENTLY UNDER THE CARE OF PEDIATRICIANS THE DEVELOPMENT OF MEDICAL PSYCHIATRIC SURGICAL OR OBSTETRIC COMPLICATIONS MAY NECESSITATE THE INVOLVEMENT OF OTHER PROFESSIONALS A JOINT STUDY OF CYSTIC FIBROSIS IN ADULTS CONDUCTED BY DUKE MEDICAL CENTER AND THE NIH HAS SHOWN THAT THE MAJORITY OF AFFECTED ADULTS INCLUDING THOSE DIAGNOSED EARLY IN LIFE ARE MARRIED AND WORK FULL OR PARTTIME MANY MANIFEST FEW IF ANY SYMPTOMS UNTIL RELATIVELY LATE IN LIFE SINCE THIS STUDY WAS RETROSPECTIVE THE REPORTED FREQUENCIES OF THE CLINICAL FINDINGS TEND TO UNDERESTIMATE IN ALL INSTANCES THE ACTUAL INCIDENCE IN THE POPULATION STUDIED THE REPORTED INCIDENCE OF CF IN THE UNITED STATES HAS BEEN CONSERVATIVELY ESTIMATED AT 12000 LIVE BIRTHS IF ALL ADULTS WITH CLUBBING INFERTILITY AND OTHER SYMPTOMS WERE EVALUATED FOR CF THE TRUE INCIDENCE WOULD CERTAINLY BE HIGHER\n",
            "[4] \t19.9 \t322 \tPATHOLOGY OF CYSTIC FIBROSIS REVIEW OF THE LITERATURE AND COMPARISON WITH 146 AUTOPSIED CASES THIS REVIEW OF PATHOLOGIC FINDINGS IN CYSTIC FIBROSIS INCLUDES A SURVEY OF MORPHOLOGIC CHANGES FROM THE ORIGINAL DESCRIPTIONS OF CF AND THE NUMEROUS SUBSEQUENT REPORTS AND AN ANALYSIS OF 146 CASES AUTOPSIED AT THE JOHNS HOPKINS HOSPITAL AND BILLINGS HOSPITAL ACHYLIA OCCURS IN 85 TO 90 OF PATIENTS APPROXIMATELY 1 OF 7 PATIENTS WITH CF PRESENTS WITH MECONIUM ILEUS IN 1962 WE DESCRIBED GALLBLADDER ABNORMALITIES IN 24 OF 72 CASES OF CF 33 IN ANDERSONS ORIGINAL DESCRIPTION OF CF HEMOSIDEROSIS WAS PRESENT IN NEARLY EVERY LIVER AND FATTY INFILTRATION WAS A FREQUENT FINDING THE RESPIRATORY TRACT IS INVARIABLY INVOLVED IN CF THE HEART HAS NEVER BEEN CONSIDERED A PRIMARY TARGET ORGAN IN CF BODIAN DESCRIBED A HIGHER INCIDENCE OF NEPHROCALCINOSIS IN CF THAN IN ROUTINE PEDIATRIC AUTOPSIES 31 COMPARED TO 11 WITH THE INCREASED LONGEVITY OF PATIENTS WITH CF MALE STERILITY HAS BECOME A RECOGNIZED COMPLICATION INCREASED ELECTROLYTE CONCENTRATIONS IN SWEAT ARE THE MOST DIAGNOSTIC MANIFESTATION OF CF ALTHOUGH AN OCCASIONAL PATIENT HAS ESCAPED THIS DEFECT NASAL POLYPS ARE FREQUENT AND OFTEN RECURRENT PROBLEMS IN PATIENTS WITH CF MALABSORPTION DUE TO PANCREATIC EXOCRINE DEFICIENCY WAS ORIGINALLY DESCRIBED AS THE MAIN MANIFESTATION OF CF THE AUTOPSY DIAGNOSIS OF CF IS USUALLY BASED ON A COMBINATION OF LESIONS RATHER THAN ON THE CHANGES IN A SINGLE ORGAN\n",
            "[5] \t19.6 \t690 \tPROLONGED OBSTRUCTIVE JAUNDICE AND GIANT CELL HEPATITIS IN AN INFANT WITH CYSTIC FIBROSIS LETTER HISTOLOGIC EVIDENCE OF LIVER INVOLVEMENT CONSISTING OF FOCAL BILIARY CIRRHOSIS ANDOR INTRAHEPATIC MUCUS IS A FREQUENT AUTOPSY FINDING IN INFANTS WITH CYSTIC FIBROSIS CF WE WISH TO REPORT AN INFANT WITH CF IN WHICH LIVER BIOPSY SHOWED FEATURES TYPICAL OF NEONATAL GIANT CELL HEPATITIS IN OUR PATIENT NONE OF THE PATHOLOGIC FEATURES USUALLY DESCRIBED IN CF WERE PRESENT IN EITHER OF THE BIOPSIES RATHER THE CHANGES WERE THOSE DESCRIBED IN NEONATAL HEPATITIS AND TO OUR KNOWLEDGE HAVE NOT BEEN REPORTED IN ASSOCIATION WITH CF IT IS LIKELY THAT THE GIANT CELL HEPATITIS WAS A COINCIDENTAL FINDING UNRELATED TO CF IT EMPHASIZES HOWEVER THAT ONE CANNOT ASSUME A UNIFORM ETIOLOGY FOR ALL INSTANCES OF OBSTRUCTIVE JAUNDICE SEEN IN INFANTS WITH CF\n",
            "[6] \t18.9 \t297 \tTHE CHALLENGES OF CYSTIC FIBROSIS CYSTIC FIBROSIS CF IS A GENERALIZED DISORDER OF THE EXOCRINE GLANDS INHERITED AS A RECESSIVE GENETIC TRAIT THE DISEASE WAS MORE FULLY DESCRIBED AS A SPECIFIC ENTITY IN 1939 WITH A PATHOLOGY OF DILATED DUCTS AND FIBROTIC CHANGES IN THE PANCREAS AND COPIOUS SECRETORY INTRALUMINAL OBSTRUCTION OF THE BRONCHIAL TREE THE SYMPTOMS PREDOMINATELY INVOLVE THE GASTROINTESTINAL TRACT AS MORE FREQUENT BULKY MALFORMED AND MALODOROUS STOOLS AND THE RESPIRATORY SYSTEM AS COUGH WHEEZING AND SIGNS OF CHRONIC RESPIRATORY OBSTRUCTION IN CERTAIN INSTANCES ONLY ONE OF THESE TWO SYSTEMS WILL HAVE MANIFEST SYMPTOMS AND SIGNS AN INCREASED CONCENTRATION OF SODIUM AND CHLORIDE IN THE SWEAT WAS DISCOVERED IN 1953 THE ELEVATED SALT CONCENTRATION OF THE SWEAT HAS PROVEN TO BE A RELIABLE DIAGNOSTIC TOOL TO CONFIRM THE PRESENCE OF THE DISEASE FEW DISEASES PRESENT IN SO MANY DIFFERENT FORMS DEGREES OF SEVERITY AND AT DIFFERENT AGES AS DOES CF ALL PRESENT TREATMENTS FOR CYSTIC FIBROSIS ARE ESSENTIALLY SYMPTOMATIC SINCE THE STUDY OF FAMILIES HAVING A CHILD WITH CYSTIC FIBROSIS HAS SHOWN AN INCIDENCE OF THE DISEASE IN ONE FOURTH OF THEIR SIBLINGS CLASSIFICATION OF THE DISEASE AS AN AUTOSOMAL RECESSIVE GENETIC DISORDER SUGGESTS THAT THE CONCEPT OF AN ABNORMAL GENE RELATED TO ALTERATION IN A SINGLE ENZYME SHOULD APPLY THE DIAGNOSIS OF CYSTIC FIBROSIS IN CHILDHOOD IS AN OVERWHELMING EVEN TO THE PATIENT AND HIS FAMILY\n",
            "[7] \t18.8 \t822 \tTHE SPECTRUM OF CYSTIC FIBROSIS IN CHILDREN AND ADULTS CYSTIC FIBROSIS AN AUTOSOMAL RECESSIVE DISORDER REMAINS THE MOST COMMON LETHAL GENETIC DISEASE OF CAUCASIAN PEOPLE THE DIAGNOSIS OF CF IS USUALLY MADE BASED UPON THE CLINICAL PRESENTATION OF CHRONIC RESPIRATORY ANDOR GASTROINTESTINAL SYMPTOMS A POSITIVE SWEAT ELECTROLYTE TEST AND OFTEN A FAMILY HISTORY OF THE DISORDER THE MANIFESTATIONS OF CHRONIC COUGH RECURRENT PNEUMONIAS BRONCHIECTASIS WITH CLUBBING PNEUMOTHORAX HEMOPTYSIS AND MALABSORPTION SECONDARY TO PANCREATIC INSUFFICIENCY ARE SO WELL ASSOCIATED WITH CYSTIC FIBROSIS THAT THE DIAGNOSIS IS USUALLY NOT DELAYED HOWEVER IT IS OFTEN NOT APPRECIATED BY PHYSICIANS THAT CF MAY BE ASSOCIATED WITH A BROAD SPECTRUM OF LESS COMMON MANIFESTATIONS AS WELL AS EXTREME VARIABILITY IN SEVERITY OF ILLNESS LACK OF FAMILIARITY WITH THESE MANIFESTATIONS MAY DELAY DIAGNOSIS UNTIL ADOLESCENCE OR ADULTHOOD FIRST THERE SEEMS TO BE MILD CLINICAL EXPRESSION OF THE DISORDER IN SOME PATIENTS GENETIC VARIABILITY SECOND THE SUBTLE MANIFESTATIONS OF CF ARE NOT WIDELY APPRECIATED BY PHYSICIANS IN PRACTICE\n",
            "[8] \t18.8 \t1192 \tCYSTIC FIBROSIS IN ADULTS AN AUTOPSY STUDY AN ANNOTATED CATALOG OF CLINICAL AND PATHOLOGIC OBSERVATIONS IN AN ADULT POPULATION WITH CF HAS BEEN PRESENTED THE SPECTRUM OF DISEASE IS BROAD AND THE DIAGNOSIS USUALLY REQUIRES THE DEMONSTRATION OF ABNORMALITIES IN MULTIPLE SYSTEMS TISSUES OF EACH GERM LAYER HAVE BEEN FOUND INVOLVED IN CF CORRELATION OF CLINICAL AND PATHOLOGIC OBSERVATIONS SUGGESTS THAT MANIFESTATIONS ARE ESSENTIALLY EPISODIC AND FOCAL IN THIS POPULATION THE MOST CHARACTERISTIC ABNORMALITIES RECOGNIZED BY THE PATHOLOGIST ARE FOCAL BILIARY CIRRHOSIS DISTINCTIVE OBSTRUCTIVE LESIONS OF THE MALE GENITAL TRACT PROLONGED STAPHYLOCOCCAL OR PSEUDOMONAS COLONIZATION OF RESPIRATORY SECRETIONS AND OBSTRUCTIVE BRONCHOPULMONARY DISEASE SOME FORM OF PANCREATIC ATROPHY IS USUALLY PRESENT\n",
            "[9] \t18.6 \t501 \tIMPAIRMENT OF MUCOCILIARY TRANSPORT IN CYSTIC FIBROSIS OVER THE PAST FEW YEARS STUDIES FROM VARIOUS LABORATORIES HAVE SUGGESTED THE PRESENCE OF A FACTORS IN CYSTIC FIBROSIS SERUM CAUSING WIDESPREAD IN VITRO ABNORMALITIES OF COMPONENTS OF THE LUNG DEFENCE MECHANISM PARTICULARLY WITH RESPECT TO MACROPHAGE DYSFUNCTION QUANTITATIVE AND QUALITATIVE ALTERATIONS IN MUCUS AND CILIARY MOTILITY THE POSSIBLE IN VIVO ROLE OF CILIARY DYSFUNCTION IN THE PATHOGENESIS OF THE DISEASE IS OF PARTICULAR CLINICAL INTEREST SINCE AN IN VITRO CILIARY DYSKINESIA FACTOR HAD BEEN PREVIOUSLY DEMONSTRATED AND PULMONARY COMPLICATIONS ARE THE HALLMARK OF CF YET CLEARANCE IN MOST OF OUR CLINICALLY STABLE CF SUBJECTS WAS RELATIVELY WELL MAINTAINED THIS SUGGESTED TO US THAT A MUCOCILIARY TRANSPORT ABNORMALITY MIGHT BE PRESENT INTERMITTENTLY IN ORDER TO EXPLORE THIS FURTHER WE DESIGNED NASAL MUCOCILIARY CLEARANCE STUDIES TO DETERMINE WHETHER CF SERUM MIGHT EXHIBIT MCT INHIBITION IN VIVO FROM THESE STUDIES WE CONCLUDED THAT THERE WAS A SUBSTANCES IN CF SERUM WHICH HAD THE CAPACITY TO SLOW MCT WHETHER THIS EFFECT IS ON THE CILIA THEMSELVES OR VIA OVERPRODUCTION OF NORMAL OR ABNORMAL MUCUS IS NOT KNOWN\n",
            "[10] \t18.6 \t174 \tADDITIONAL DATA ON HEPATIC FUNCTION TESTS IN CYSTIC FIBROSIS FIFTY CYSTIC FIBROSIS CF PATIENTS OF WHOM 9 HAD MULTILOBULAR CIRRHOSIS WERE OBSERVED REGULARLY FOR A PERIOD OF 3 YEARS AND VARIOUS LIVER FUNCTION TESTS INDICATING CYTOLYSIS CHOLESTASIS AND CELLULAR INSUFFICIENCY WERE PERFORMED IMMUNOGLOBULIN AND PROTHROMBIN WERE ASSAYED IN 9 PATIENTS WITH CIRRHOSIS THE TESTS WERE GENERALLY ABNORMAL TWO DISTINCT BIOCHEMICAL PATTERNS OF CIRRHOSIS WERE DISTINGUISHED ONE CLEARLY CHOLESTATIC AND THE OTHER OF A MORE CELLULAR TYPE THE DISTINCTION WAS MADE ON THE BASIS OF THE IGA  TRANSFERRIN RATIO AND OF GAMMAGLUTAMYLTRANSPEPTIDASE LEVELS IN THE NONCIRRHOTIC PATIENTS A TEMPORARY INCREASE OF CYTOLYSIS AND CHOLESTASIS WAS OBSERVED IN 50 OF THE CASES\n",
            "[11] \t18.4 \t475 \tOCCULT APPENDICEAL ABSCESS COMPLICATING CYSTIC FIBROSIS THREE CASE HISTORIES ILLUSTRATE THE DIAGNOSTIC DILEMMA ENCOUNTERED WHENEVER A PATIENT WITH CF WHO IS RECEIVING ANTIBIOTICS IS EVALUATED FOR ABDOMINAL PAIN ALTHOUGH ACUTE APPENDICITIS WITH PERFORATION AND ABSCESS FORMATION IS NOT A COMMON COMPLICATION OF CF IT OCCURS MORE FREQUENTLY THAN IS GENERALLY APPRECIATED THE LARGE NUMBER OF ABDOMINAL SITUATIONS IN CF WHICH CAN CAUSE PAIN CONFUSED WITH BUT NOT TYPICAL OF ACUTE APPENDICITIS THE TRUE UNDERLYING CONDITION IS FURTHER MASKED BY THE CONCURRENT USE OF ANTIBIOTICS FOR PULMONARY INFECTION A HIGHER INDEX OF SUSPICION IS NEEDED TO RULE OUT ACUTE APPENDICITIS IN A PATIENT WITH CYSTIC FIBROSIS AND ABDOMINAL PAIN A GREATER AWAREMESS OF THE POSSIBILITY OF OCCULT APPENDICEAL ABSCESS MAY HELP TO AVOID THIS COMPLICATION\n",
            "[12] \t18.4 \t392 \tRECENT ADVANCES IN CYSTIC FIBROSIS RESEARCH CYSTIC FIBROSIS AT ONE TIME WAS CONSIDERED TO BE A LETHAL CONDITION WITH DEATH OCCURRING AT BIRTH OR WITHIN THE FIRST YEAR OF LIFE WITH THE ADVENT OF ANTIBIOTIC THERAPY PANCREATIC ENZYME REPLACEMENT EXTENSIVE PHYSICAL THERAPY AND GENERALLY IMPROVED MEDICAL TREATMENT MANY PATIENTS NOW SURVIVE TO ADULTHOOD CLINICAL MANIFESTATIONS IN CF VARY FROM PATIENT TO PATIENT AND MAY INCLUDE PULMONARY DISEASE MALNUTRITION PANCREATIC INSUFFICIENCY AND DEFECTIVE ION TRANSPORT THE MOST RELIABLE LABORATORY METHOD FOR DIAGNOSIS OF CF IS TESTING FOR ELEVATED SWEAT ELECTROLYTE LEVELS ESTIMATES OF THE INCIDENCE OF CF VARY FROM 1 IN 2000 TO 1 IN 3500 AMONG WHITE POPULATIONS OF MIDEUROPEAN HERITAGE THE DISEASE IS RARE IN BLACK POPULATIONS AND ALMOST NONEXISTENT IN ORIENTALS SINCE 1967 THERE HAS BEEN AN INTENSIVE SEARCH FOR A CIRCULATING FACTOR OR FACTORS WHICH MAY BE DIRECTLY OR INDIRECTLY RESPONSIBLE FOR THE MALFUNCTIONS MANIFEST IN THIS DISEASE SWEAT FACTORS SERUM FACTORS METACHROMASIA BIOASSAY VARIATIONS AND PROPERTIES OF THE CILIARY INHIBITOR ARE DISCUSSED SEVERAL GROUPS WORKING IN CF RESEARCH HAVE CENTERED THEIR ATTENTION ON THE SERUM COMPLEMENT SYSTEM AGGLUTINATION AND MUCUS FACTORS TRANSPORT STUDIES ENZYME STUDIES AND PRENATAL DIAGNOSIS ARE ALSO EXAMINED\n",
            "[13] \t18.4 \t776 \tCYSTIC FIBROSIS CYSTIC FIBROSIS CF IS A SERIOUS GENETIC DISORDER OCCURRING MAINLY AMONG THE WHITES AND STARTING IN EARLY CHILDHOOD OR EVEN AT BIRTH THE NAME IS A SHORTENING OF THE OLD TERM CYSTIC FIBROSIS OR FIBROCYSTIC DISEASE OF THE PANCREAS THIS COMES FROM THE HISTORICAL APPEARANCE AT POSTMORTEM FIRST DESCRIBED BY LANDSTEINER IN 1905 IT WAS ONLY IN 1938 THAT DOROTHEE ANDERSON AND FANCONI REALISED THAT THE DISEASE WAS A SEPARATE ENTITY AND NOT SIMPLY A MANIFESTATION OF OTHER ILLNESSES ANOTHER NAME IS MUCOVISCIDOSIS WHICH GIVES A CLUE AS TO ONE OF THE MOST IMPORTANT FEATURES OF THE DISEASE MUCUS FORMED IS THICKER AND STICKIER MORE VISCID THAN NORMAL AND TENDS TO CLOG UP THE BRONCHI AND DUCTS PARTICULARLY THE PANCREATIC DUCTS CHRONIC BRONCHITIS WITH RECURRENT SEVERE INFECTION AND MALABSORPTION ARE THE MAIN SYMPTOMS OF THE DISEASE THE OTHER IMPORTANT ABNORMALITY IS AN INCREASED AMOUNT OF SODIUM CHLORIDE SALT IN THE SWEAT THIS FACT USED IN THE DIAGNOSIS WAS FIRST REALISED DURING A HEAT WAVE IN NEW YORK IN 1953 WHEN IT WAS NOTICED THAT MOST OF THE CHILDREN WITH HEAT PROSTRATION SUFFERED FROM CF LITTLE IS KNOWN OF THE CAUSES OF THE ABNORMALITIES OF SWEAT AND MUCUS SOME GENERALISED CELL ABNORMALITY  ENZYMATIC SEEMS POSSIBLE THERE IS NO DOUBT THAT THE CONDITION IS GENETICALLY TRANSMITTED AND MOST EVIDENCE FAVOURS A RECESSIVE MODE OF INHERITANCE\n",
            "[14] \t18.3 \t870 \tLIVER INVOLVEMENT IN CYSTIC FIBROSIS A REPORT OF 9 CASES 9 OUT OF 204 UNSELECTED CYSTIC FIBROSIS CF PATIENTS SEEN AT THE DEPARTMENT OF PEDIATRICS UNIVERSITY OF BERNE SWITZERLAND OVER THE LAST 20 YEARS HAD CLINICALLY OVERT LIVER DISEASE IN 7 PATIENTS LIVER CIRRHOSIS WAS DEMONSTRATED 34 FOCAL BILIARY CIRRHOSIS WAS THE PERTINENT FINDING IN 3 CASES WHEREAS ANOTHER 3 SHOWED UNSPECIFIC NODULAR CIRRHOSIS ONE INFANT PRESENTED WITH PROLONGED OBSTRUCTIVE JAUNDICE DUE TO PARTIAL EXTRAHEPATIC ATRESIA AND DELAYED PASSING OF MECONIUM TWO OTHER PATIENTS HAD STEATOSIS A REVIEW OF THE LITERATURE DEALING WITH CLINICAL AND LABORATORY FINDINGS IN CF PATIENTS WITH LIVER DISEASE IS GIVEN\n",
            "[15] \t18.3 \t1216 \tHYPOELECTROLYTEMIA AND METABOLIC ALKALOSIS IN INFANTS WITH CYSTIC FIBROSIS THE RECORDS OF ALL CHILDREN IN THE TUCSON AREA DIAGNOSED AS HAVING CYSTIC FIBROSIS CF BEFORE THE AGE OF 12 MONTHS WERE REVIEWED TO ASCERTAIN THE PREVALENCE OF METABOLIC ALKALOSIS AS A MAJOR PRESENTING MANIFESTATION OF CF FIVE OF ELEVEN INFANTS 46 IN WHOM CF HAD BEEN DIAGNOSED BETWEEN 1 AND 12 MONTHS OF AGE INITIALLY WERE SEEN WITH HYPOKALEMIA HYPOCHLOREMIA AND METABOLIC ALKALOSIS UNASSOCIATED WITH MARKED DEHYDRATION HYPERPYREXIA OR MAJOR PULMONARY ANDOR GASTROINTESTINAL SYMPTOMS TWO INFANTS HAD REPEATED EPISODES OF METABOLIC ALKALOSIS FOR ONE OF THESE INFANTS BOTH EPISODES OF METABOLIC ALKALOSIS OCCURRED BEFORE THE DIAGNOSIS OF CF IT IS POSTULATED THAT CHRONIC LOSS OF SWEAT ELECTROLYTES TOGETHER WITH MILD GASTROINTESTINAL OR RESPIRATORY ILLNESS MAY PREDISPOSE THE INFANT WITH CYSTIC FIBROSIS TO A SEVERE ELECTROLYTE AND ACIDBASE DISTURBANCE THE LACK OF SHOCK AND HYPERPYREXIA TOGETHER WITH THE APPARENT CHRONICITY OF ELECTROLYTE LOSSES DIFFERENTIATES METABOLIC ALKALOSIS FROM THE HEAT PROSTRATION SYNDROME A MORE ACUTE COMPLICATION OF CYSTIC FIBROSIS QUANTITATIVE SWEAT TESTING SHOULD BE PART OF THE EVALUATION OF ANY INFANT WITH UNEXPLAINED METABOLIC ALKALOSIS SERUM ELECTROLYTES SHOULD BE ASSESSED REGULARLY IN INFANTS WITH CYSTIC FIBROSIS DURING HOT WEATHER MONTHS\n",
            "[16] \t18.3 \t266 \tHEPATIC CHANGES IN YOUNG INFANTS WITH CYSTIC FIBROSIS POSSIBLE RELATION TO FOCAL BILIARY CIRRHOSIS FOCAL BILIARY CIRRHOSIS IS AN UNCOMMON FINDING IN INFANTS WITH CYSTIC FIBROSIS BUT IT IS PRESENT IN MORE THAN A FIFTH OF SURVIVING CHILDREN AND ADOLESCENTS IT WAS FOUND AT POSTMORTEM EXAMINATION IN ONLY FIVE OF 47 INFANTS WITH CF YOUNGER THAN 3 MONTHS IN FIVE OF 32 INFANTS FROM 3 TO 12 MONTHS AND IN 18 OF 67 CHILDREN OLDER THAN 1 YEAR IN INFANTS UNDER 3 MONTHS EXCESSIVE MUCUS IN INTRAHEPATIC BILE DUCTS WAS SEEN IN 11 NECROPSIES IN 15 OTHERS THERE WERE ONLY NONSPECIFIC PERIPORTAL CHANGES CHOLESTASIS WAS FOUND IN THE LIVERS OF 18 OF THE 26 INFANTS EXCESSIVE MUCUS IN THE BILIARY TREE WAS OCCASIONALLY ASSOCIATED WITH PERIPORTAL CHANGES AND CHOLESTASIS IN OLDER INFANTS THE PERIPORTAL CHANGES WHICH ARE REGARDED AS NONSPECIFIC WERE NEVER FOUND IN INFANTS MORE THAN 1 YEAR OF AGE\n",
            "[17] \t18.0 \t658 \tMINIMAL BILE ACID MALABSORPTION LETTER ROLLER AND KERN REPORT THAT BILE ACID MALABSORPTION IN PATIENTS WITH CYSTIC FIBROSIS CF AND ACQUIRED PANCREATIC INSUFFICIENCY IS MINIMAL THESE FINDINGS ARE AT VARIANCE WITH OTHER STUDIES AND DESERVE COMMENT IN THE ABSENCE OF FECAL BILE ACID VALUES IN CONTROLS THE AUTHORS CANNOT STATE THAT LEVELS IN CF ARE ONLY TWICE NORMAL VALUES ESPECIALLY SINCE THE PAPERS CITED ON NORMAL BILE ACID EXCRETION REFER TO MEASUREMENTS OBTAINED BY A DIFFERENT TECHNIQUE WE ALSO QUESTION THE VALIDITY OF THE BREATH TEST AS AN INDEX OF BILE ACID MALABSORPTION IN CF OUR RECENT REPORT SHOWS THAT IN 8 OLDER CF MEAN AGE 121 YEARS THE MAGNITUDE OF BILE ACID LOSS IN THE STOOLS WAS COMPARABLE TO THAT OF THE YOUNGER AGE GROUP MEAN AGE 39 YEARS AND THAT THERE WAS NO CORRELATION BETWEEN THE AGE AND THE DEGREE OF BILE ACID LOSS ON THE OTHER HAND WE MUST TAKE ISSUE WITH ROLLER AND KERN WHEN THEY SUGGEST THAT BILE ACID MALABSORPTION IN CF IS PROBABLY NOT CLINICALLY IMPORTANT OUR FINDINGS NOT ONLY BEAR RELEVANCE TO THE INTESTINAL MANIFESTATIONS OF CF AND TO THE INCREASED INCIDENCE OF CHOLELITHIASIS BUT PERHAPS ALSO TO THE EARLY DEPOSITION WITHIN THE INTRAHEPATIC DUCTS OF EOSINOPHILIC MUCUS CONCRETIONS PROPOSED AS THE CAUSE OF BILIARY CIRRHOSIS IN THIS DISEASE\n",
            "[18] \t17.5 \t499 \tPATHOPHYSIOLOGY OF MUCUS SECRETION IN CYSTIC FIBROSIS ABNORMALITY OF MUCUS SECRETION EITHER BIOCHEMICAL OR PHYSICAL HAS LONG BEEN CLAIMED TO BE THE PRIMARY CAUSE OF PULMONARY COMPLICATIONS  OBSTRUCTION AND INFECTION  IN PATIENTS SUFFERING FROM CYSTIC FIBROSIS CF THIS REVIEW WILL DRAW IN LARGE MEASURE ON THE EXPERIENCE OF PROF L REID AND HER RESEARCH TEAM WHO OVER THE LAST 15 YEARS HAVE STUDIED MUCUSSECRETING STRUCTURES AND THEIR SECRETIONS IN THE NORMAL AND DISEASED LUNG FROM VARIOUS ANGLES DEVELOPMENT STRUCTURE AND ULTRASTRUCTURE HISTOCHEMISTRY ORGAN CULTURE BIOCHEMICAL ANALYSIS AND RHEOLOGICAL CHARACTERIZATION\n",
            "[19] \t17.4 \t314 \tRECURRENT ACUTE PANCREATITIS IN PATIENTS WITH CYSTIC FIBROSIS WITH NORMAL PANCREATIC ENZYMES TEN ADOLESCENT AND YOUNG ADULTS WITH CYSTIC FIBROSIS CF HAVE HAD WELLDOCUMENTED RECURRENT ATTACKS OF ACUTE PANCREATITIS THE DIAGNOSIS OF CF IN EACH PATIENT WAS DELAYED BECAUSE THEY DID NOT HAVE PANCREATIC INSUFFICIENCY THE DIAGNOSIS OF CF WAS DOCUMENTED BY THE TYPICAL PULMONARY INVOLVEMENT AND ELEVATED SWEAT SODIUM AND CHLORIDE LEVELS IN ALL CASES AND A POSITIVE FAMILY HISTORY IN SIX OF THE TEN PATIENTS TWO PATIENTS WERE DIAGNOSED AS HAVING ACUTE PANCREATITIS BEFORE THE DIAGNOSIS OF CF WAS MADE THUS INDICATING THAT ACUTE PANCREATITIS MAY BE THE PRESENTING COMPLAINT IN THE YOUNG ADULT WITH CF THE DIAGNOSIS OF ACUTE PANCREATITIS WAS BASED ON THE PRESENCE OF SEVERE ABDOMINAL PAIN USUALLY WITH VOMITING TENDERNESS IN THE MID EPIGASTRIUM ELEVATED SERUM AND URINARY AMYLASE AND SERUM LIPASE ATTACKS WERE PRECIPITATED BY FATTY MEALS ALCOHOL INGESTION POSTCHOLECYSTECTOMY AND TETRACYCLINE ADMINISTRATION IN SOME PATIENTS NO PRECIPITATING EVENT COULD BE ELICITED INTRAVENOUS SECRETIN PANCREOZYMIN STIMULATION TESTS REVEALED A DIMINISHED BICARBONATE SECRETION WITH LITTLE EFFECT ON THE SECRETION OF THE ZYMOGEN ENZYMES A MILD ATTACK OF PANCREATITIS OCCURRED AFTER SECRETINPANCREOZYMIN STIMULATION THE ENDOCRINE PANCREATIC FUNCTION TESTED IN FOUR PATIENTS WAS NORMAL AS REVEALED BY THE GLUCOSE TOLERANCE TESTS AND DETERMINATIONS OF SERUM INSULIN GROWTH HORMONE AND FREE FATTY ACID TRANSDUODENAL PANCREATOGRAMS WERE PERFORMED IN THREE PATIENTS ONE SHOWED A NORMAL PANCREATIC DUCT ONE SHOWED DUCT OBSTRUCTION AND IN THE THIRD PATIENT A BEADY TYPE OF NARROWING WAS FOUND THE SELENOMETHIONINE SE 75 UPTAKE OF THE PANCREAS WAS NOTED ONLY IN THE HEAD OF THE PANCREAS THIS SUGGESTS THAT LOSS OF FUNCTION OCCURS INITIALLY TO A GREATER EXTENT IN THE TAIL AND BODY OF THE PANCREAS THREE PATIENTS DIED AND SHOWED CHARACTERISTIC LESIONS OF CF\n",
            "[20] \t17.3 \t190 \tSTUDIES ON THE SYNTHESIS OF PLASMA MEMBRANE PROTEINS OF FIBROBLASTS FROM PATIENTS WITH CYSTIC FIBROSIS THE CHARACTERISTIC INCREASED SALINITY OF SWEAT AND OTHER ABNORMALITIES OF EXOCRINE SECRETIONS IN PATIENTS WITH CYSTIC FIBROSIS CF SUGGEST THE POSSIBILITY OF A DISTURBED FUNCTIONING OF THE PLASMA MEMBRANE IN THIS DISEASE SEVERAL LINES OF EVIDENCE INDICATE THAT FIBROBLASTS EXPRESS THE PRESENCE OF THE CF GENOTYPE THEREFORE THESE CELLS WERE USED IN AN IN VITRO STUDY DIRECTED AT DETERMINING WHETHER THE MANIFESTATIONS OF CF MIGHT BE RELATED TO AN ALTERATION OF ONE OR MORE OF THE PROTEIN COMPONENTS OF THE PLASMA MEMBRANE IN ORDER TO EVALUATE THE SYNTHESIS OF THESE COMPONENTS GROWING FIBROSBLASTS FROM PATIENTS WITH CF AND NORMAL SUBJECTS WERE BRIEFLY EXPOSED TO EITHER 14C OR 3HLEUCINE THEIR PLASMA MEMBRANES WERE THEN ISOLATED AND SUBJECTED TO ANALYSIS IN A NONDETERGENT ACRYLAMIDE GEL SYSTEM COELECTROPHORESIS OF DIFFERENTIALLY LABELED PREPARATIONS REVEALED THE ABSENCE OF A DETECTABLE ABNORMALITY IN THE SYNTHETIC RATES OF ANY OF THE MORE THAN 30 RESOLVED PROTEIN SPECIES\n",
            "[21] \t16.9 \t997 \tCYSTIC FIBROSIS WITH ACUTE HYPOELECTROLYTEMIA AND METABOLIC ALKALOSIS IN INFANCY WE DESCRIBE TWO INFANTS WITH PREVIOUSLY UNDIAGNOSED CYSTIC FIBROSIS WHO HAD ELECTROLYTE DEPLETION METABOLIC ALKALOSIS AND DEHYDRATION IN THE WINTER AND THREE INFANTS KNOWN TO HAVE CF IN WHOM SIMILAR MANIFESTATIONS DEVELOPED WE CONFIRM PREVIOUS REPORTS THAT SALT DEPLETION AND METABOLIC ALKALOSIS DO OCCUR THROUGHOUT THE YEAR IN THE NORTHERN UNITED STATES AND ENGLAND WHEN METABOLIC ALKALOSIS AND HYPOELECTROLYTEMIA IN INFANCY ARE NOT EXPLAINED ON THE BASIS OF OTHER CLINICAL CONDITIONS CF SHOULD BE SUSPECTED PEDIATRICIANS SHOULD MEASURE SERUM ELECTROLYTE VALUES PROMPTLY AND CONSIDER EARLY PARENTERAL FLUID AND ELECTROLYTE THERAPY AS A PREVENTIVE MEASURE FOR INFANTS WITH CF WITH PERSISTENT VOMITING ANDOR DIARRHEA\n",
            "[22] \t16.9 \t1083 \tEPIDEMIOLOGY OF CYSTIC FIBROSIS A REVIEW THREE MAIN REASONS HAVE BEEN ADVANCED FOR THE DEGREE OF IGNORANCE AND CONFUSION SURROUNDING EPIDEMIOLOGIC MEASURES OF THE INCIDENCE AND PREVALENCE OF CYSTIC FIBROSIS CF RELATIVELY RECENT RECOGNITION OF CF AS A SPECIFIC DISEASE ENTITY WIDE RANGE OF CLINICAL MANIFESTATIONS PRESENTATION AS A MULTISYSTEM DISEASE AND GREAT NATURAL VARIATION IN THE SEVERITY OF INVOLVEMENT OF VARIOUS ORGANS PAST DIFFICULTY IN ESTABLISHING A DIAGNOSIS BASED ON SOUND LABORATORY EVIDENCE THIS BEING LARGELY DUE TO THE LACK OF A SCREENING TEST THAT HAD GAINED WIDE ACCEPTANCE AMONG DIAGNOSTICIANS AND INACCURACIES IN THE PERFORMANCE AND INTERPRETATION OF THE SWEAT TEST IN ADDITION TO THESE FACTORS THERE ARE A NUMBER OF METHODOLOGICAL DEFICIENCIES AND QUESTIONABLE ASSUMPTIONS IN SEVERAL OF THE PAPERS THAT HAVE HERE BEEN REVIEWED IT MAY BE NOTEWORTHY THAT THE TWO SETS OF AUTHORS WHOSE RESEARCH DESIGN MOST CLOSELY MATCHED BEING AIMED AT PROVIDING MULTIPLE ASCERTAINMENT OF CASES AND CROSSCHECKS OF VALIDITY HAVE ARRIVED AT NEARLY THE SAME ESTIMATED INCIDENCE OF THIS PARTICULAR DISORDER 13700 AND 13800 RESPECTIVELY THE ISSUE OF SELECTION AND DIAGNOSTIC CRITERIA IS ONE THAT HAS IMPORTANT IMPLICATIONS FOR EPIDEMIOLOGIC STUDIES OF CYSTIC FIBROSIS PARTICULARLY IN A DISEASE LIKE CF WHERE THE SPECTRUM OF CLINICAL MANIFESTATIONS AND SEVERITY OF INVOLVEMENT IS SO BROAD ESTIMATES OF INCIDENCE WILL VARY ACCORDING TO THE CRITERIA BY WHICH CASES ARE ASCERTAINED AND INCLUDED A GREATER DEGREE OF UNIFORMITY IN STANDARDS THAN HAS BEEN EMPLOYED IN PREVIOUS STUDIES IS NECESSARY BEFORE COMPARISONS CAN MEANINGFULLY BE MADE THERE ARE GOOD GROUNDS FOR REGARDING MOST ESTIMATES OF CF INCIDENCE TO BE MINIMUM CONFIRMED FIGURES AND THIS IS PARTICULARLY SO WHERE THE RESEARCH DESIGN ENSURES THAT MULTIPLE ASCERTAINMENTS OF THE SAME CASE WILL BE IDENTIFIABLE HIGHER ESTIMATES ARE MADE WHERE SEVERAL SOURCES OF ERROR RESPONDENT BIAS GENERALIZATION OF HOSPITAL DATA TO THE WIDER POPULATION MULTIPLE ASCERTAINMENTS OF THE SAME PATIENT ARE NOT RECOGNISED\n",
            "[23] \t16.6 \t1156 \tRECENT RESEARCH IN CYSTIC FIBROSIS THIS REVIEW EMPHASIZES SOME OF THE POSITIVE ACCOMPLISHMENTS OF CYSTIC FIBROSIS RESEARCH SOME OF THE PUZZLES AND SOME OF THE RECENT DEVELOPMENTS THAT HAVE PROMISE ONE OF THE MAJOR UNRESOLVED QUESTIONS IS THE MAINTENANCE OF THIS LETHAL GENE AT SUCH A HIGH FREQUENCY PERHAPS BECAUSE OF A HETEROZYGOTE ADVANTAGE IN THE PAST NO LONGER OPERATIVE AT PRESENT NOTHING IS KNOWN OF THE CHROMOSOMAL LOCALIZATION OF THE TRAIT EXCEPT THAT CHROMOSOMES ARE MORPHOLOGICALLY NORMAL THAT IT IS AUTOSOMAL NOT SEX LINKED AND THAT THERE IS NO CORRELATION WITH BLOOD GROUPS OR MAJOR HLA LOCI ONE OF THE IMPORTANT ACHIEVEMENTS OF THE PAST MANY YEARS IS THAT WE UNDERSTAND RELATIVELY WELL THE PATHOGENESIS OF MOST CLINICAL MANIFESTATIONS OF CF THE AS YET UNKNOWN INHERITED BASIC DEFECT OR METABOLIC ERROR OF CF GIVES RISE TO TWO MAIN ANOMALIES THE ELECTROLYTE DEFECT IN EXOCRINE SWEAT GLANDS AND THE MUCOUS SECRETION ABNORMALITY WHILE THE RESULTS OF TISSUE CULTURE STUDIES OFTEN HAVE BEEN CONFLICTING AND DISPARATE IT DOES SEEM TO BE THE CONSENSUS THAT THE FIBROBLASTS ARE AFFECTED BY THE BASIC METABOLIC ERROR IN SOME MANNER AND THAT THEY RESPOND ABNORMALLY UNDER DIFFERENT EXPERIMENTAL CIRCUMSTANCES VIRTUALLY ALL INVESTIGATORS HAVE FOUND SOME ANOMALIES IN BIOLOGIC FLUIDS OF CF ALTHOUGH USING DIFFERENT APPROACHES AND METHODS AN ABNORMALITY IN THE FUNCTION OF THE AUTONOMIC NERVOUS SYSTEM WHICH IS SO CLOSELY ASSOCIATED WITH THE EXOCRINE GLANDS HAS ALWAYS BEEN AN ATTRACTIVE EXPLANATION FOR THE GENERALIZED EXOCRINOPATHY OF CF THE SEARCH FOR A GENETIC ANIMAL MODEL FOR CF HAS LED TO INTERESTING FINDINGS\n",
            "[24] \t16.5 \t124 \tNUMBER OF OUABAINBINDING SITES IN FIBROBLASTS FROM NORMAL SUBJECTS AND PATIENTS WITH CYSTIC FIBROSIS AUTOSOMAL RECESSIVE DISEASE IS A DEFECT IN THE NET SODIUM TRANSPORT IN THE ECCRINE GLANDS RESULTING IN AN INCREASED CONCENTRATION OF SODIUM IN THE SWEAT BECAUSE OF POSSIBLE COMPLICATIONS IN THE ERYTHROCYTES FROM CF PATIENTS AND SINCE THE ACTIVITY OBSERVED IN A CELL HOMOGENATE MAY NOT EXPRESS THE SITUATION IN THE INTACT CELL WE HAVE LOOKED FOR DIFFERENCES IN THE BINDING OF 3HOUABAIN IN CULTURED NORMAL AND CF HUMAN DIPLOID FIBROBLASTS WE OBSERVED NO APPRECIABLE DIFFERENCES IN THE NUMBER OF OUABAINBINDING SITES BETWEEN NORMAL AND CF CELL STRAINS WE WERE ALSO UNABLE TO OBSERVE ANY DIFFERENCES IN THE KINETICS OF OUABAINBINDING BETWEEN NORMAL AND CF FIBROBLASTS IN KFREE PHOSPHATEBUFFERED SALINE SOLUTION AND THE RESULTS WERE ESSENTIALLY THE SAME AS THOSE SEEN IN HELA CELLS WE OBSERVED NO ALTERATIONS IN THE KINETICS OF BINDING OF OUABAIN NOR ANY ALTERATION IN THE TOTAL NUMBER OF BINDING SITES\n",
            "[25] \t16.4 \t1233 \tIMPLICATIONS OF CYSTIC FIBROSIS FOR HEALTH SERVICES AND THE AFFLICTED PSYCHOSOCIAL LITERATURE ON CYSTIC FIBROSIS CF IS CRITICALLY REVIEWED MAJOR METHODOLOGICAL SHORTCOMINGS INCLUDE THE ANECDOTAL NATURE OF FINDINGS OVEREMPHASIS ON NEGATIVE CONSEQUENCES OF THE DISEASE AND THE LACK OF A SUITABLE THEORETICAL FRAMEWORK AVENUES FOR FUTURE RESEARCH ARE SUGGESTED\n",
            "[26] \t16.4 \t875 \tMUCOUS GLYCOPROTEINS IN CYSTIC FIBROSIS PP 10821 CYSTIC FIBROSIS THE MOST COMMON LETHAL GENETIC TRAIT OF CAUCASIANS CAUSES MUCH OF THE CHRONIC PROGRESSIVE LUNG DISEASE IN CHILDREN AND YOUNG ADULTS IT IS ALSO RESPONSIBLE FOR INTESTINAL OBSTRUCTION AT BIRTH MECONIUM ILEUS PANCREATIC INSUFFICIENCY WITH MALDIGESTION AND FAILURE TO GROW AND OBSTRUCTIVE LIVER DISEASE IN THIS AGE GROUP FURTHERMORE OBLITERATION OF THE VAS DEFERENS CAUSES ASPERMIA AND INFERTILITY IN MOST MALES WITH CF INDIVIDUALS WITH CF SECRETE SWEAT WHICH CONTAINS EXCESSIVE AMOUNTS OF CHLORIDE AND SODIUM DIAGNOSTIC CRITERIA INCLUDE DETECTION OF ELEVATED CHLORIDE LEVELS IN SWEAT OF INDIVIDUALS WITH TYPICAL PULMONARY GASTROINTESTINAL OR GENITAL MANIFESTATIONS OF THE DISEASE THERE ARE SEVERAL WELL DOCUMENTED ALTERATIONS IN THE MUCOUS SECRETIONS OF INDIVIDUALS WITH CYSTIC FIBROSIS ANY OF WHICH ALONE OR IN COMBINATION MAY INTERFERE WITH MUCOUS CLEARANCE FROM THE LUNG OR FROM PASSAGEWAYS OF OTHER ORGANS IT SEEMS CLEAR THAT ADDITIONAL STUDIES TO DEFINE BASIC ASPECTS OF NORMAL MUCOUS BIOCHEMISTRY PHYSIOLOGY AND PHARMACOLOGY MUST PRECEDE OR PARALLEL STUDIES OF CF MUCOUS SECRETIONS IF DATA PERTINENT TO CF PATHOPHYSIOLOGY ARE TO BE GENERATED PARTICULAR NEEDS INCLUDE AN UNDERSTANDING OF THE CHEMICAL DETERMINANTS OF PHYSICAL AND RHEOLOGICAL PROPERTIES OF THESE SECRETIONS AND ELUCIDATION OF MECHANISMS FOR CONTROL OF SULFATED GLYCOPROTEIN BIOSYNTHESIS\n",
            "[27] \t16.4 \t59 \tSERUM ALKALINE PHOSPHATASE IN CYSTIC FIBROSIS INTERPRETATION OF ELEVATED VALUES BASED ON ELECTROPHORETIC ISOENZYME ANALYSES SERA FROM 31 OF 146 PATIENTS WITH CYSTIC FIBROSIS CF CONTAINED LEVELS OF SERUM ALKALINE PHOSPHATASE AP WHICH WERE ELEVATED BY AGERELATED CRITERIA PROMINENT LIVER ISOENZYME BANDS WERE PRESENT AFTER POLYACRYLAMIDE GEL ELECTROPHORESIS OF ALL 31 ABNORMAL SERA LARGER THAN NORMAL AMOUNTS OF BONE AND INTESTINAL AP WERE NOT PRESENT IN THESE SERA THESE FINDINGS INDICATE THAT LIVER ABNORMALITIES CONSISTENTLY ARE RESPONSIBLE FOR ELEVATIONS OF TOTAL AP IN SERA OF PATIENTS WITH CF SEVERAL CAUSES OF HIGH LIVER AP LEVELS IN CF PATIENTS WERE IDENTIFIED CHRONIC HEPATIC CONGESTION DRUG HEPATOTOXICITY OVERT BILIARY CIRRHOSIS AND MOST COMMONLY SUBCLINICAL FOCAL BILIARY CIRRHOSIS\n",
            "[28] \t16.4 \t965 \tHEMORRHAGIC RETINOPATHY IN A PATIENT WITH CYSTIC FIBROSIS A 21YEAROLD WOMAN WITH A HISTORY OF CHRONIC LUNG DISEASE SECONDARY TO CYSTIC FIBROSIS CF DEVELOPED AN ACUTE HEMORRHAGIC RETINOPATHY DURING EXPOSURE TO MODERATELY HIGH ALTITUDE ALTHOUGH RETINAL HEMORRHAGES ARE KNOWN TO OCCUR IN PATIENTS WITH CF WE SPECULATE THAT THE RETINOPATHY IN THIS CASE WAS PARTIALLY RELATED TO ALTITUDINAL CHANGE AND THAT PATIENTS WITH CHRONIC HYPOXEMIA MAY BE PREDISPOSED TO HIGHALTITUDE RETINOPATHY AT MUCH LOWER ALTITUDES\n",
            "[29] \t16.3 \t648 \tDEPRESSION OF ERYTHROPOIESIS PHYSICAL GROWTH AND HAIR GROWTH BY CHLORAMPHENICOL IN A THREEYEAROLD CHILD WITH CYSTIC FIBROSIS IN PATIENTS WITH CYSTIC FIBROSIS CF OF THE PANCREAS OPTIC NEURITIS AND PERIPHERAL NEURITIS HAVE BEEN REPORTED TO FOLLOW TREATMENT WITH CHLORAMPHENICOL THIS TOXIC SEQUEL APPEARS TO BE RELATED TO THE DOSAGE AND DURATION OF THERAPY IN PATIENTS WITH OTHER DISEASES WHO ARE TREATED WITH CHLORAMPHENICOL THE RISK OF DEVASTATING BONE MARROW TOXICITY HAS BEEN ESTIMATED TO RANGE FROM 140000 TO 1100000 WE HAVE FOUND ONLY TWO REPORTS OF PATIENTS WITH CF WHO HAD HEMATOLOGIC COMPLICATIONS AFTER TREATMENT WITH CHLORAMPHENICOL WE HERE REPORT A 3YEAROLD GIRL WHO HAD SELECTIVE DEPRESSION OF THE ERYTHROID BONE MARROW ANOREXIA WEIGHT LOSS TEMPORARY HAIR LOSS AND RETARDATION OF GROWTH AFTER PROLONGED ADMINISTRATION OF CHLORAMPHENICOL\n",
            "[30] \t16.3 \t867 \tRECTAL MUCOSA IN CYSTIC FIBROSIS MORPHOLOGICAL FEATURES BEFORE AND AFTER SHORT TERM ORGAN CULTURE HISTOLOGICAL CHANGES OBSERVED IN THE LARGE INTESTINAL MUCOSA OF CYSTIC FIBROSIS CF PATIENTS INCLUDING CRYPT ENLARGEMENT AS WELL AS INTRACELLULAR AND EXTRACELLULAR ACCUMULATION OF MUCUS HAVE BEEN CONSIDERED BY SOME TO BE USEFUL DIAGNOSTIC SIGNS OF THIS DISEASE THE EXTENT OF THESE CHANGES HOWEVER HAS NOT BEEN EVALUATED QUANTITATIVELY IN THIS STUDY QUANTITATIVE STEREOLOGICAL METHODS WERE APPLIED TO BIOPSIES OF RECTAL MUCOSA FROM 5 CF PATIENTS 5 SIBLING CONTROLS AND 2 NORMAL ADULTS TO MEASURE GOBLET CELL NUMBERS CRYPT LUMINAL VOLUME AND VOLUME OF INTRACELLULAR MUCUS IT WAS FOUND THAT CF CRYPT LUMINA WERE VARIABLY DILATED BUT THAT THE AVERAGE RELATIVE VOLUME OF INTRACELLULAR MUCUS AND THE NUMBERS OF GOBLET CELLS IN CF MUCOSAE WERE COMPARABLE TO THOSE OF SIBLING AND ADULT CONTROLS IN CF BIOPSIES HOWEVER SURFACE COLUMNAR ABSORPTIVE CELLS CONSISTENTLY CONTAINED PUTATIVE LIPID DROPLETS AND RAPIDLY ACCUMULATED ADDITIONAL LARGE LIPID DROPLETS DURING SHORT TERM ORGAN CULTURE LIPID DROPLETS WERE NOT OBSERVED IN THE SAME CELL TYPES OF CONTROL BIOPSIES BEFORE OR AFTER SHORT TERM ORGAN CULTURE\n"
          ]
        }
      ],
      "source": [
        "question = query[14]\n",
        "\n",
        "# Find the top-10 passages for this query\n",
        "results = searcher.search(question, k=30)\n",
        "#print(results)\n",
        "\n",
        "passages_ranked = {}\n",
        "#Print out the top-k retrieved passages\n",
        "print(\"Rank\\tScore\\tId\\tPassage\")\n",
        "for passage_id, passage_rank, passage_score in zip(*results):\n",
        "     print(f\"[{passage_rank}] \\t{passage_score:.1f} \\t{collection['doc_id'][passage_id]} \\t{searcher.collection[passage_id]}\")\n",
        "     passages_ranked[passage_id] = passage_rank"
      ]
    },
    {
      "cell_type": "markdown",
      "source": [
        "Metrics\n"
      ],
      "metadata": {
        "id": "5-xjMCJC25rV"
      }
    },
    {
      "cell_type": "code",
      "source": [
        "f = open(\"Information-Retrieval/Relevant_20\", \"r\")\n",
        "file = f.read().splitlines()\n",
        "relevant_docs = []\n",
        "for line in file:\n",
        "    line=line.split()\n",
        "    list = []\n",
        "    for num in line:\n",
        "        num = int(num)\n",
        "        list.append('doc'+str(num))\n",
        "    relevant_docs.append(list)                  # relevant_docs list includes every line from Relevant_20"
      ],
      "metadata": {
        "id": "5L2ipsgy295T"
      },
      "execution_count": 12,
      "outputs": []
    },
    {
      "cell_type": "markdown",
      "source": [
        "Mean Average Precision"
      ],
      "metadata": {
        "id": "kru4zEeeQ7e3"
      }
    },
    {
      "cell_type": "code",
      "source": [
        "import matplotlib.pyplot as plt\n",
        "import numpy\n",
        "\n",
        "avg_pr_list = []\n",
        "#i=0;\n",
        "for i in range(20):\n",
        "    results = searcher.search(query[i], k=400)\n",
        "    passages_ranked = {}\n",
        "    for passage_id, passage_rank, passage_score in zip(*results):\n",
        "      passages_ranked[passage_id] = passage_rank\n",
        "    precision_at_k = []\n",
        "    recall_at_k = []\n",
        "    true_positives = 0\n",
        "\n",
        "    for key, value in passages_ranked.items():\n",
        "      doc = \"doc\"+str(collection['doc_id'][key])\n",
        "      if(doc in relevant_docs[i]):\n",
        "        #print(doc)\n",
        "        true_positives+=1\n",
        "        #print(value)\n",
        "        precision_at_k.append(true_positives/value)\n",
        "\n",
        "    average_precision = 0\n",
        "    for x in range(len(precision_at_k)):\n",
        "      average_precision += precision_at_k[x]\n",
        "\n",
        "    #print(average_precision)\n",
        "    average_precision = average_precision/len(relevant_docs[i])\n",
        "    print(average_precision)\n",
        "    avg_pr_list.append(average_precision)\n",
        "\n",
        "mean_average_precision = sum(avg_pr_list)/20\n",
        "print(\"Mean Average Precision: \" + str(mean_average_precision))\n",
        "\n",
        "plt.xticks(numpy.arange(len(avg_pr_list)), numpy.arange(1, len(avg_pr_list)+1))\n",
        "ypoints = numpy.array(avg_pr_list)\n",
        "plt.xlabel(\"Query ID\")\n",
        "plt.ylabel(\"Average Precision for colBERT\")\n",
        "plt.plot(ypoints)\n",
        "plt.show()"
      ],
      "metadata": {
        "id": "q5aqzBjO3Fu_",
        "outputId": "45fa0e9b-f710-4314-ca7c-ef7b35c67c0e",
        "colab": {
          "base_uri": "https://localhost:8080/",
          "height": 824
        }
      },
      "execution_count": 17,
      "outputs": [
        {
          "output_type": "stream",
          "name": "stdout",
          "text": [
            "0.25025136218216215\n",
            "0.1275958667167708\n",
            "0.19042972362417085\n",
            "0.2904289240181963\n",
            "0.19663148346453152\n",
            "0.18654405298509594\n",
            "0.09508615757294149\n",
            "0.057845607349380226\n",
            "0.2558358131230472\n",
            "0.30091203317584414\n",
            "0.6061873311125703\n",
            "0.16263126778194076\n",
            "0.12594239063843188\n",
            "0.21404384548037259\n",
            "0.15943431927260845\n",
            "0.22319432312345341\n",
            "0.1053961082824507\n",
            "0.14575299700765537\n",
            "0.07857902536760272\n",
            "0.5313826644821248\n",
            "Mean Average Precision: 0.21520526483806762\n"
          ]
        },
        {
          "output_type": "display_data",
          "data": {
            "text/plain": [
              "<Figure size 640x480 with 1 Axes>"
            ],
            "image/png": "[encoded data removed]"
          },
          "metadata": {}
        }
      ]
    },
    {
      "cell_type": "markdown",
      "source": [
        "Mean Reciprocal Rank"
      ],
      "metadata": {
        "id": "jLngkOhgQ_8e"
      }
    },
    {
      "cell_type": "code",
      "source": [
        "mean_rep_rank = 0\n",
        "for i in range(20):\n",
        "    results = searcher.search(query[i], k=400)\n",
        "    passages_ranked = {}\n",
        "    for passage_id, passage_rank, passage_score in zip(*results):\n",
        "      passages_ranked[passage_id] = passage_rank\n",
        "\n",
        "    for key, value in passages_ranked.items():\n",
        "      doc = \"doc\"+str(collection['doc_id'][key])\n",
        "      if(doc in relevant_docs[i]):\n",
        "            mean_rep_rank += 1/value\n",
        "            break\n",
        "\n",
        "mean_rep_rank = mean_rep_rank/20\n",
        "print(\"Mean Reciprocal Rank:\"+str(mean_rep_rank))\n"
      ],
      "metadata": {
        "id": "NkmKYEBxPpLc",
        "outputId": "cb7de349-ee2e-40a1-c434-7dd25d88bff3",
        "colab": {
          "base_uri": "https://localhost:8080/"
        }
      },
      "execution_count": 20,
      "outputs": [
        {
          "output_type": "stream",
          "name": "stdout",
          "text": [
            "Mean Reciprocal Rank:0.7333333333333333\n"
          ]
        }
      ]
    }
  ],
  "metadata": {
    "accelerator": "GPU",
    "colab": {
      "gpuType": "T4",
      "provenance": [],
      "include_colab_link": true
    },
    "kernelspec": {
      "display_name": "Python 3",
      "name": "python3"
    },
    "language_info": {
      "codemirror_mode": {
        "name": "ipython",
        "version": 3
      },
      "file_extension": ".py",
      "mimetype": "text/x-python",
      "name": "python",
      "nbconvert_exporter": "python",
      "pygments_lexer": "ipython3",
      "version": "3.9.1"
    },
    "widgets": {
      "application/vnd.jupyter.widget-state+json": {
        "4f2ddc4809b2495dadca61e8e87a814b": {
          "model_module": "@jupyter-widgets/controls",
          "model_name": "HBoxModel",
          "model_module_version": "1.5.0",
          "state": {
            "_dom_classes": [],
            "_model_module": "@jupyter-widgets/controls",
            "_model_module_version": "1.5.0",
            "_model_name": "HBoxModel",
            "_view_count": null,
            "_view_module": "@jupyter-widgets/controls",
            "_view_module_version": "1.5.0",
            "_view_name": "HBoxView",
            "box_style": "",
            "children": [
              "IPY_MODEL_4d0c5664c4074bbdaeec40cea7f347b5",
              "IPY_MODEL_fec60dc8d5564ddbb0d5cd941961b2f8",
              "IPY_MODEL_2620ee5cc9654be3b511bedbbbb89115"
            ],
            "layout": "IPY_MODEL_b54d25fa96fe4fa888d74cfc5ffb719f"
          }
        },
        "4d0c5664c4074bbdaeec40cea7f347b5": {
          "model_module": "@jupyter-widgets/controls",
          "model_name": "HTMLModel",
          "model_module_version": "1.5.0",
          "state": {
            "_dom_classes": [],
            "_model_module": "@jupyter-widgets/controls",
            "_model_module_version": "1.5.0",
            "_model_name": "HTMLModel",
            "_view_count": null,
            "_view_module": "@jupyter-widgets/controls",
            "_view_module_version": "1.5.0",
            "_view_name": "HTMLView",
            "description": "",
            "description_tooltip": null,
            "layout": "IPY_MODEL_8e274fda1063421784d07962deada0f9",
            "placeholder": "​",
            "style": "IPY_MODEL_4ea2ce109ce64ca097211ee814e678aa",
            "value": "artifact.metadata: 100%"
          }
        },
        "fec60dc8d5564ddbb0d5cd941961b2f8": {
          "model_module": "@jupyter-widgets/controls",
          "model_name": "FloatProgressModel",
          "model_module_version": "1.5.0",
          "state": {
            "_dom_classes": [],
            "_model_module": "@jupyter-widgets/controls",
            "_model_module_version": "1.5.0",
            "_model_name": "FloatProgressModel",
            "_view_count": null,
            "_view_module": "@jupyter-widgets/controls",
            "_view_module_version": "1.5.0",
            "_view_name": "ProgressView",
            "bar_style": "success",
            "description": "",
            "description_tooltip": null,
            "layout": "IPY_MODEL_4fd93362f4654db4a26693aecbf7400e",
            "max": 1633,
            "min": 0,
            "orientation": "horizontal",
            "style": "IPY_MODEL_25aa382e4b134fe8aad8ceab28425724",
            "value": 1633
          }
        },
        "2620ee5cc9654be3b511bedbbbb89115": {
          "model_module": "@jupyter-widgets/controls",
          "model_name": "HTMLModel",
          "model_module_version": "1.5.0",
          "state": {
            "_dom_classes": [],
            "_model_module": "@jupyter-widgets/controls",
            "_model_module_version": "1.5.0",
            "_model_name": "HTMLModel",
            "_view_count": null,
            "_view_module": "@jupyter-widgets/controls",
            "_view_module_version": "1.5.0",
            "_view_name": "HTMLView",
            "description": "",
            "description_tooltip": null,
            "layout": "IPY_MODEL_3c87addd9c514cfdb7aaa450f56b07cb",
            "placeholder": "​",
            "style": "IPY_MODEL_1f069761d4e94c0691de6b1446afa590",
            "value": " 1.63k/1.63k [00:00&lt;00:00, 40.5kB/s]"
          }
        },
        "b54d25fa96fe4fa888d74cfc5ffb719f": {
          "model_module": "@jupyter-widgets/base",
          "model_name": "LayoutModel",
          "model_module_version": "1.2.0",
          "state": {
            "_model_module": "@jupyter-widgets/base",
            "_model_module_version": "1.2.0",
            "_model_name": "LayoutModel",
            "_view_count": null,
            "_view_module": "@jupyter-widgets/base",
            "_view_module_version": "1.2.0",
            "_view_name": "LayoutView",
            "align_content": null,
            "align_items": null,
            "align_self": null,
            "border": null,
            "bottom": null,
            "display": null,
            "flex": null,
            "flex_flow": null,
            "grid_area": null,
            "grid_auto_columns": null,
            "grid_auto_flow": null,
            "grid_auto_rows": null,
            "grid_column": null,
            "grid_gap": null,
            "grid_row": null,
            "grid_template_areas": null,
            "grid_template_columns": null,
            "grid_template_rows": null,
            "height": null,
            "justify_content": null,
            "justify_items": null,
            "left": null,
            "margin": null,
            "max_height": null,
            "max_width": null,
            "min_height": null,
            "min_width": null,
            "object_fit": null,
            "object_position": null,
            "order": null,
            "overflow": null,
            "overflow_x": null,
            "overflow_y": null,
            "padding": null,
            "right": null,
            "top": null,
            "visibility": null,
            "width": null
          }
        },
        "8e274fda1063421784d07962deada0f9": {
          "model_module": "@jupyter-widgets/base",
          "model_name": "LayoutModel",
          "model_module_version": "1.2.0",
          "state": {
            "_model_module": "@jupyter-widgets/base",
            "_model_module_version": "1.2.0",
            "_model_name": "LayoutModel",
            "_view_count": null,
            "_view_module": "@jupyter-widgets/base",
            "_view_module_version": "1.2.0",
            "_view_name": "LayoutView",
            "align_content": null,
            "align_items": null,
            "align_self": null,
            "border": null,
            "bottom": null,
            "display": null,
            "flex": null,
            "flex_flow": null,
            "grid_area": null,
            "grid_auto_columns": null,
            "grid_auto_flow": null,
            "grid_auto_rows": null,
            "grid_column": null,
            "grid_gap": null,
            "grid_row": null,
            "grid_template_areas": null,
            "grid_template_columns": null,
            "grid_template_rows": null,
            "height": null,
            "justify_content": null,
            "justify_items": null,
            "left": null,
            "margin": null,
            "max_height": null,
            "max_width": null,
            "min_height": null,
            "min_width": null,
            "object_fit": null,
            "object_position": null,
            "order": null,
            "overflow": null,
            "overflow_x": null,
            "overflow_y": null,
            "padding": null,
            "right": null,
            "top": null,
            "visibility": null,
            "width": null
          }
        },
        "4ea2ce109ce64ca097211ee814e678aa": {
          "model_module": "@jupyter-widgets/controls",
          "model_name": "DescriptionStyleModel",
          "model_module_version": "1.5.0",
          "state": {
            "_model_module": "@jupyter-widgets/controls",
            "_model_module_version": "1.5.0",
            "_model_name": "DescriptionStyleModel",
            "_view_count": null,
            "_view_module": "@jupyter-widgets/base",
            "_view_module_version": "1.2.0",
            "_view_name": "StyleView",
            "description_width": ""
          }
        },
        "4fd93362f4654db4a26693aecbf7400e": {
          "model_module": "@jupyter-widgets/base",
          "model_name": "LayoutModel",
          "model_module_version": "1.2.0",
          "state": {
            "_model_module": "@jupyter-widgets/base",
            "_model_module_version": "1.2.0",
            "_model_name": "LayoutModel",
            "_view_count": null,
            "_view_module": "@jupyter-widgets/base",
            "_view_module_version": "1.2.0",
            "_view_name": "LayoutView",
            "align_content": null,
            "align_items": null,
            "align_self": null,
            "border": null,
            "bottom": null,
            "display": null,
            "flex": null,
            "flex_flow": null,
            "grid_area": null,
            "grid_auto_columns": null,
            "grid_auto_flow": null,
            "grid_auto_rows": null,
            "grid_column": null,
            "grid_gap": null,
            "grid_row": null,
            "grid_template_areas": null,
            "grid_template_columns": null,
            "grid_template_rows": null,
            "height": null,
            "justify_content": null,
            "justify_items": null,
            "left": null,
            "margin": null,
            "max_height": null,
            "max_width": null,
            "min_height": null,
            "min_width": null,
            "object_fit": null,
            "object_position": null,
            "order": null,
            "overflow": null,
            "overflow_x": null,
            "overflow_y": null,
            "padding": null,
            "right": null,
            "top": null,
            "visibility": null,
            "width": null
          }
        },
        "25aa382e4b134fe8aad8ceab28425724": {
          "model_module": "@jupyter-widgets/controls",
          "model_name": "ProgressStyleModel",
          "model_module_version": "1.5.0",
          "state": {
            "_model_module": "@jupyter-widgets/controls",
            "_model_module_version": "1.5.0",
            "_model_name": "ProgressStyleModel",
            "_view_count": null,
            "_view_module": "@jupyter-widgets/base",
            "_view_module_version": "1.2.0",
            "_view_name": "StyleView",
            "bar_color": null,
            "description_width": ""
          }
        },
        "3c87addd9c514cfdb7aaa450f56b07cb": {
          "model_module": "@jupyter-widgets/base",
          "model_name": "LayoutModel",
          "model_module_version": "1.2.0",
          "state": {
            "_model_module": "@jupyter-widgets/base",
            "_model_module_version": "1.2.0",
            "_model_name": "LayoutModel",
            "_view_count": null,
            "_view_module": "@jupyter-widgets/base",
            "_view_module_version": "1.2.0",
            "_view_name": "LayoutView",
            "align_content": null,
            "align_items": null,
            "align_self": null,
            "border": null,
            "bottom": null,
            "display": null,
            "flex": null,
            "flex_flow": null,
            "grid_area": null,
            "grid_auto_columns": null,
            "grid_auto_flow": null,
            "grid_auto_rows": null,
            "grid_column": null,
            "grid_gap": null,
            "grid_row": null,
            "grid_template_areas": null,
            "grid_template_columns": null,
            "grid_template_rows": null,
            "height": null,
            "justify_content": null,
            "justify_items": null,
            "left": null,
            "margin": null,
            "max_height": null,
            "max_width": null,
            "min_height": null,
            "min_width": null,
            "object_fit": null,
            "object_position": null,
            "order": null,
            "overflow": null,
            "overflow_x": null,
            "overflow_y": null,
            "padding": null,
            "right": null,
            "top": null,
            "visibility": null,
            "width": null
          }
        },
        "1f069761d4e94c0691de6b1446afa590": {
          "model_module": "@jupyter-widgets/controls",
          "model_name": "DescriptionStyleModel",
          "model_module_version": "1.5.0",
          "state": {
            "_model_module": "@jupyter-widgets/controls",
            "_model_module_version": "1.5.0",
            "_model_name": "DescriptionStyleModel",
            "_view_count": null,
            "_view_module": "@jupyter-widgets/base",
            "_view_module_version": "1.2.0",
            "_view_name": "StyleView",
            "description_width": ""
          }
        }
      }
    }
  },
  "nbformat": 4,
  "nbformat_minor": 0
}